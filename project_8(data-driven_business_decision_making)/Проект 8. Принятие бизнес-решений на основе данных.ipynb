{
 "cells": [
  {
   "cell_type": "markdown",
   "metadata": {
    "toc": true
   },
   "source": [
    "<h1>Содержание<span class=\"tocSkip\"></span></h1>\n",
    "<div class=\"toc\"><ul class=\"toc-item\"><li><ul class=\"toc-item\"><li><ul class=\"toc-item\"><li><ul class=\"toc-item\"><li><span><a href=\"#Анастасия,-привет!\" data-toc-modified-id=\"Анастасия,-привет!-0.0.0.1\">Анастасия, привет!</a></span></li></ul></li><li><span><a href=\"#Комментарий-от-ревьюера\" data-toc-modified-id=\"Комментарий-от-ревьюера-0.0.1\">Комментарий от ревьюера</a></span></li><li><span><a href=\"#Комментарий-от-ревьюера\" data-toc-modified-id=\"Комментарий-от-ревьюера-0.0.2\">Комментарий от ревьюера</a></span></li><li><span><a href=\"#Комментарий-от-ревьюера\" data-toc-modified-id=\"Комментарий-от-ревьюера-0.0.3\">Комментарий от ревьюера</a></span></li><li><span><a href=\"#Комментарий-студента:\" data-toc-modified-id=\"Комментарий-студента:-0.0.4\">Комментарий студента:</a></span></li><li><span><a href=\"#Комментарий-от-ревьюера-v_1\" data-toc-modified-id=\"Комментарий-от-ревьюера-v_1-0.0.5\">Комментарий от ревьюера v_1</a></span></li><li><span><a href=\"#Комментарий-студента:\" data-toc-modified-id=\"Комментарий-студента:-0.0.6\">Комментарий студента:</a></span></li><li><span><a href=\"#Комментарий-от-ревьюера-v_2\" data-toc-modified-id=\"Комментарий-от-ревьюера-v_2-0.0.7\">Комментарий от ревьюера v_2</a></span></li></ul></li></ul></li><li><span><a href=\"#Принятие-решений-в-бизнесе-на-основе-данных\" data-toc-modified-id=\"Принятие-решений-в-бизнесе-на-основе-данных-1\">Принятие решений в бизнесе на основе данных</a></span><ul class=\"toc-item\"><li><ul class=\"toc-item\"><li><span><a href=\"#Комментарий-от-ревьюера-v_1\" data-toc-modified-id=\"Комментарий-от-ревьюера-v_1-1.0.1\">Комментарий от ревьюера v_1</a></span></li></ul></li><li><span><a href=\"#Обзор-данных\" data-toc-modified-id=\"Обзор-данных-1.1\">Обзор данных</a></span><ul class=\"toc-item\"><li><span><a href=\"#Комментарий-от-ревьюера-v_1\" data-toc-modified-id=\"Комментарий-от-ревьюера-v_1-1.1.1\">Комментарий от ревьюера v_1</a></span></li></ul></li><li><span><a href=\"#Предобработка-данных\" data-toc-modified-id=\"Предобработка-данных-1.2\">Предобработка данных</a></span><ul class=\"toc-item\"><li><span><a href=\"#Ошибки-данных\" data-toc-modified-id=\"Ошибки-данных-1.2.1\">Ошибки данных</a></span></li><li><span><a href=\"#Замена-типов-данных\" data-toc-modified-id=\"Замена-типов-данных-1.2.2\">Замена типов данных</a></span></li><li><span><a href=\"#Выводы\" data-toc-modified-id=\"Выводы-1.2.3\">Выводы</a></span></li><li><span><a href=\"#Комментарий-от-ревьюера-v_1\" data-toc-modified-id=\"Комментарий-от-ревьюера-v_1-1.2.4\">Комментарий от ревьюера v_1</a></span></li></ul></li><li><span><a href=\"#Приоритизация-гипотез\" data-toc-modified-id=\"Приоритизация-гипотез-1.3\">Приоритизация гипотез</a></span><ul class=\"toc-item\"><li><span><a href=\"#Фреймворк-ICE-для-приоритизации-гипотез\" data-toc-modified-id=\"Фреймворк-ICE-для-приоритизации-гипотез-1.3.1\">Фреймворк ICE для приоритизации гипотез</a></span></li><li><span><a href=\"#Фреймворк-RICE-для-приоритизации-гипотез\" data-toc-modified-id=\"Фреймворк-RICE-для-приоритизации-гипотез-1.3.2\">Фреймворк RICE для приоритизации гипотез</a></span></li><li><span><a href=\"#Комментарий-от-ревьюера-v_1\" data-toc-modified-id=\"Комментарий-от-ревьюера-v_1-1.3.3\">Комментарий от ревьюера v_1</a></span></li></ul></li><li><span><a href=\"#Анализ-A/B-теста\" data-toc-modified-id=\"Анализ-A/B-теста-1.4\">Анализ A/B-теста</a></span><ul class=\"toc-item\"><li><span><a href=\"#Комментарий-от-ревьюера-v_1\" data-toc-modified-id=\"Комментарий-от-ревьюера-v_1-1.4.1\">Комментарий от ревьюера v_1</a></span></li><li><span><a href=\"#Комментарий-студента:\" data-toc-modified-id=\"Комментарий-студента:-1.4.2\">Комментарий студента:</a></span></li><li><span><a href=\"#Комментарий-от-ревьюера-v_2\" data-toc-modified-id=\"Комментарий-от-ревьюера-v_2-1.4.3\">Комментарий от ревьюера v_2</a></span></li><li><span><a href=\"#График-кумулятивной-выручки-по-группам\" data-toc-modified-id=\"График-кумулятивной-выручки-по-группам-1.4.4\">График кумулятивной выручки по группам</a></span></li><li><span><a href=\"#Комментарий-от-ревьюера-v_1\" data-toc-modified-id=\"Комментарий-от-ревьюера-v_1-1.4.5\">Комментарий от ревьюера v_1</a></span></li><li><span><a href=\"#График-кумулятивного-среднего-чека-по-группам\" data-toc-modified-id=\"График-кумулятивного-среднего-чека-по-группам-1.4.6\">График кумулятивного среднего чека по группам</a></span></li><li><span><a href=\"#Комментарий-от-ревьюера-v_1\" data-toc-modified-id=\"Комментарий-от-ревьюера-v_1-1.4.7\">Комментарий от ревьюера v_1</a></span></li><li><span><a href=\"#График-относительного-изменения-кумулятивного-среднего-чека-группы-B-к-группе-A\" data-toc-modified-id=\"График-относительного-изменения-кумулятивного-среднего-чека-группы-B-к-группе-A-1.4.8\">График относительного изменения кумулятивного среднего чека группы B к группе A</a></span></li><li><span><a href=\"#График-кумулятивной-конверсии-по-группам\" data-toc-modified-id=\"График-кумулятивной-конверсии-по-группам-1.4.9\">График кумулятивной конверсии по группам</a></span></li><li><span><a href=\"#Комментарий-от-ревьюера-v_1\" data-toc-modified-id=\"Комментарий-от-ревьюера-v_1-1.4.10\">Комментарий от ревьюера v_1</a></span></li><li><span><a href=\"#График-относительного-изменения-кумулятивной-конверсии-группы-B-к-группе-A\" data-toc-modified-id=\"График-относительного-изменения-кумулятивной-конверсии-группы-B-к-группе-A-1.4.11\">График относительного изменения кумулятивной конверсии группы B к группе A</a></span></li><li><span><a href=\"#Комментарий-от-ревьюера-v_1\" data-toc-modified-id=\"Комментарий-от-ревьюера-v_1-1.4.12\">Комментарий от ревьюера v_1</a></span></li><li><span><a href=\"#Точечный-график-количества-заказов-по-пользователям\" data-toc-modified-id=\"Точечный-график-количества-заказов-по-пользователям-1.4.13\">Точечный график количества заказов по пользователям</a></span></li><li><span><a href=\"#Перцентили-количества-заказов-на-пользователя\" data-toc-modified-id=\"Перцентили-количества-заказов-на-пользователя-1.4.14\">Перцентили количества заказов на пользователя</a></span></li><li><span><a href=\"#Точечный-график-стоимостей-заказов\" data-toc-modified-id=\"Точечный-график-стоимостей-заказов-1.4.15\">Точечный график стоимостей заказов</a></span></li><li><span><a href=\"#Комментарий-от-ревьюера-v_1\" data-toc-modified-id=\"Комментарий-от-ревьюера-v_1-1.4.16\">Комментарий от ревьюера v_1</a></span></li><li><span><a href=\"#Комментарий-студента:\" data-toc-modified-id=\"Комментарий-студента:-1.4.17\">Комментарий студента:</a></span></li><li><span><a href=\"#Комментарий-от-ревьюера-v_2\" data-toc-modified-id=\"Комментарий-от-ревьюера-v_2-1.4.18\">Комментарий от ревьюера v_2</a></span></li><li><span><a href=\"#Перцентили-стоимости-заказов\" data-toc-modified-id=\"Перцентили-стоимости-заказов-1.4.19\">Перцентили стоимости заказов</a></span></li><li><span><a href=\"#Комментарий-от-ревьюера-v_1\" data-toc-modified-id=\"Комментарий-от-ревьюера-v_1-1.4.20\">Комментарий от ревьюера v_1</a></span></li><li><span><a href=\"#Статистическая-значимость-различий-в-конверсии-между-группами-по-«сырым»-данным\" data-toc-modified-id=\"Статистическая-значимость-различий-в-конверсии-между-группами-по-«сырым»-данным-1.4.21\">Статистическая значимость различий в конверсии между группами по «сырым» данным</a></span></li><li><span><a href=\"#Комментарий-от-ревьюера-v_1\" data-toc-modified-id=\"Комментарий-от-ревьюера-v_1-1.4.22\">Комментарий от ревьюера v_1</a></span></li><li><span><a href=\"#Комментарий-студента:\" data-toc-modified-id=\"Комментарий-студента:-1.4.23\">Комментарий студента:</a></span></li><li><span><a href=\"#Комментарий-от-ревьюера-v_2\" data-toc-modified-id=\"Комментарий-от-ревьюера-v_2-1.4.24\">Комментарий от ревьюера v_2</a></span></li><li><span><a href=\"#Комментарий-от-ревьюера-v_1\" data-toc-modified-id=\"Комментарий-от-ревьюера-v_1-1.4.25\">Комментарий от ревьюера v_1</a></span></li><li><span><a href=\"#Комментарий-от-ревьюера-v_1\" data-toc-modified-id=\"Комментарий-от-ревьюера-v_1-1.4.26\">Комментарий от ревьюера v_1</a></span></li><li><span><a href=\"#Статистическая-значимость-различий-в-среднем-чеке-заказа-между-группами-по-«сырым»-данным\" data-toc-modified-id=\"Статистическая-значимость-различий-в-среднем-чеке-заказа-между-группами-по-«сырым»-данным-1.4.27\">Статистическая значимость различий в среднем чеке заказа между группами по «сырым» данным</a></span></li><li><span><a href=\"#Статистическая-значимость-различий-в-конверсии-между-группами-по-«очищенным»-данным\" data-toc-modified-id=\"Статистическая-значимость-различий-в-конверсии-между-группами-по-«очищенным»-данным-1.4.28\">Статистическая значимость различий в конверсии между группами по «очищенным» данным</a></span></li><li><span><a href=\"#Комментарий-от-ревьюера-v_1\" data-toc-modified-id=\"Комментарий-от-ревьюера-v_1-1.4.29\">Комментарий от ревьюера v_1</a></span></li><li><span><a href=\"#Комментарий-студента:\" data-toc-modified-id=\"Комментарий-студента:-1.4.30\">Комментарий студента:</a></span></li><li><span><a href=\"#Комментарий-от-ревьюера-v_2\" data-toc-modified-id=\"Комментарий-от-ревьюера-v_2-1.4.31\">Комментарий от ревьюера v_2</a></span></li><li><span><a href=\"#Комментарий-от-ревьюера-v_1\" data-toc-modified-id=\"Комментарий-от-ревьюера-v_1-1.4.32\">Комментарий от ревьюера v_1</a></span></li><li><span><a href=\"#Статистическая-значимость-различий--в-среднем-чеке-заказа-между-группами-по-«очищенным»-данным\" data-toc-modified-id=\"Статистическая-значимость-различий--в-среднем-чеке-заказа-между-группами-по-«очищенным»-данным-1.4.33\">Статистическая значимость различий  в среднем чеке заказа между группами по «очищенным» данным</a></span></li><li><span><a href=\"#Комментарий-от-ревьюера-v_1\" data-toc-modified-id=\"Комментарий-от-ревьюера-v_1-1.4.34\">Комментарий от ревьюера v_1</a></span></li><li><span><a href=\"#Выводы\" data-toc-modified-id=\"Выводы-1.4.35\">Выводы</a></span></li><li><span><a href=\"#Комментарий-от-ревьюера-v_1\" data-toc-modified-id=\"Комментарий-от-ревьюера-v_1-1.4.36\">Комментарий от ревьюера v_1</a></span></li><li><span><a href=\"#Комментарий-студента:\" data-toc-modified-id=\"Комментарий-студента:-1.4.37\">Комментарий студента:</a></span></li><li><span><a href=\"#Комментарий-от-ревьюера-v_2\" data-toc-modified-id=\"Комментарий-от-ревьюера-v_2-1.4.38\">Комментарий от ревьюера v_2</a></span></li></ul></li></ul></li></ul></div>"
   ]
  },
  {
   "cell_type": "markdown",
   "metadata": {},
   "source": [
    "# Принятие решений в бизнесе на основе данных"
   ]
  },
  {
   "cell_type": "markdown",
   "metadata": {},
   "source": [
    "**Цель исследования** — приоритизировать гипотезы для увеличения выручки, запустить A/B-тест и проанализировать результаты.\n",
    "\n",
    "**Ход исследования**\n",
    "\n",
    "**Часть 1. Приоритизация гипотез**\n",
    "\n",
    "В файле `/datasets/hypothesis.csv` 9 гипотез по увеличению выручки интернет-магазина с указанными параметрами Reach, Impact, Confidence, Effort.\n",
    "\n",
    "*Задача*\n",
    "- Применить фреймворк `ICE` для приоритизации гипотез. Отсортировать их по убыванию приоритета.\n",
    "- Применить фреймворк `RICE` для приоритизации гипотез. Отсортировать их по убыванию приоритета.\n",
    "- Указать, как изменилась приоритизация гипотез при применении `RICE` вместо `ICE`. Объяснить почему так произошло.\n",
    "\n",
    "**Часть 2. Анализ A/B-теста**\n",
    "\n",
    "Результаты A/B-теста описаны в файлах `/datasets/orders.csv` и `/datasets/visitors.csv`.\n",
    "\n",
    "*Задача*\n",
    "Проанализировать A/B-тест:\n",
    "1. Построить график кумулятивной выручки по группам. Сделать выводы и предположения.\n",
    "2. Построить график кумулятивного среднего чека по группам. Сделать выводы и предположения.\n",
    "3. Построить график относительного изменения кумулятивного среднего чека группы B к группе A. Сделать выводы и предположения.\n",
    "4. Построить график кумулятивной конверсии по группам. Сделать выводы и предположения.\n",
    "5. Построить график относительного изменения кумулятивной конверсии группы B к группе A. Сделать выводы и предположения.\n",
    "6. Построить точечный график количества заказов по пользователям. Сделать выводы и предположения.\n",
    "7. Посчитать 95-й и 99-й перцентили количества заказов на пользователя. Выбрать границу для определения аномальных пользователей.\n",
    "8. Построить точечный график стоимостей заказов. Сделать выводы и предположения.\n",
    "9. Посчитайте 95-й и 99-й перцентили стоимости заказов. Выберите границу для определения аномальных заказов.\n",
    "10. Посчитать статистическую значимость различий в конверсии между группами по «сырым» данным. Сделать выводы и предположения.\n",
    "11. Посчитать статистическую значимость различий в среднем чеке заказа между группами по «сырым» данным. Сделать выводы и предположения.\n",
    "12. Посчитать статистическую значимость различий в конверсии между группами по «очищенным» данным. Сделать выводы и предположения.\n",
    "13. Посчитать статистическую значимость различий в среднем чеке заказа между группами по «очищенным» данным. Сделать выводы и предположения.\n",
    "14. Принять решение по результатам теста и объяснить его: \n",
    "\n",
    "*Варианты решений: 1. Остановить тест, зафиксировать победу одной из групп. 2. Остановить тест, зафиксировать отсутствие различий между группами. 3. Продолжить тест.*"
   ]
  },
  {
   "cell_type": "markdown",
   "metadata": {},
   "source": [
    "## Обзор данных"
   ]
  },
  {
   "cell_type": "markdown",
   "metadata": {},
   "source": [
    "Загружаем библиотеки и пакеты, необходимые для исследования."
   ]
  },
  {
   "cell_type": "code",
   "execution_count": 1,
   "metadata": {},
   "outputs": [],
   "source": [
    "import pandas as pd # импорт библиотеки pandas для работы с таблицами\n",
    "import seaborn as sns # импорт библиотеки seaborn для визуализации данных\n",
    "import matplotlib.pyplot as plt # импорт библиотеки matplotlib.pyplot для продвинутой работы с графиками\n",
    "import numpy as np # импорт библиотеки numpy для работы с высокоуровневыемыми математическими функциями\n",
    "import datetime as dt\n",
    "import scipy.stats as stats\n",
    "\n",
    "# %matplotlib inline\n",
    "\n",
    "# pd.set_option('display.max_columns', 50) # оптимизация отображения данных \n",
    "pd.set_option('display.max_colwidth', None)"
   ]
  },
  {
   "cell_type": "markdown",
   "metadata": {},
   "source": [
    "Распакуем данные пользователей и сохраним в соответствующие датафреймы. Исследуем данные с помощью функции `first_look`."
   ]
  },
  {
   "cell_type": "code",
   "execution_count": 2,
   "metadata": {},
   "outputs": [],
   "source": [
    "# функция получения первичной информации о датафрейме\n",
    "def first_look (df): \n",
    "    print('------------- Первые 5 строк -------------')\n",
    "    display(df.head())\n",
    "    print('')\n",
    "    print('')\n",
    "    print('------------- Общая информация о таблице -------------')\n",
    "    df.info()\n",
    "    print('')\n",
    "    print('')\n",
    "    print('------------- Пропуски -------------')\n",
    "    count = 0\n",
    "    for element in df.columns:\n",
    "        if df[element].isna().sum() > 0:\n",
    "            print(element, ' — ', df[element].isna().sum(), 'пропуска(ов)')\n",
    "            count += 1\n",
    "    if count == 0:\n",
    "        print('Пропусков НЕТ')\n",
    "    print('')\n",
    "    print('')\n",
    "    print('------------- Дубликаты -------------')\n",
    "    if df.duplicated().sum() > 0:\n",
    "        print(df.duplicated().sum(), 'дубликата(ов)')\n",
    "    else:\n",
    "        print('Дубликатов НЕТ')\n",
    "    print('')\n",
    "    print('')\n",
    "#    print('------------- Наиболее популярные уникальные значения -------------')    \n",
    "#    for column in df:\n",
    "#        print(df[column].value_counts())"
   ]
  },
  {
   "cell_type": "markdown",
   "metadata": {},
   "source": [
    "Прочитаем файлы `/datasets/hypothesis.csv`, `/datasets/orders.csv` и `/datasets/visitors.csv` из папки `/datasets` и сохраним их в переменных `df_hypothesis`, `df_orders` и `df_visitors` соответственно:"
   ]
  },
  {
   "cell_type": "code",
   "execution_count": 3,
   "metadata": {},
   "outputs": [],
   "source": [
    "df_hypothesis = pd.read_csv('/datasets/hypothesis.csv', sep=',')\n",
    "df_orders = pd.read_csv('/datasets/orders.csv', sep=',')\n",
    "df_visitors = pd.read_csv('/datasets/visitors.csv', sep=',')"
   ]
  },
  {
   "cell_type": "markdown",
   "metadata": {},
   "source": [
    "Исследуем данные таблиц с помощью функции `first_look`."
   ]
  },
  {
   "cell_type": "code",
   "execution_count": 4,
   "metadata": {},
   "outputs": [
    {
     "name": "stdout",
     "output_type": "stream",
     "text": [
      "------------- Первые 5 строк -------------\n"
     ]
    },
    {
     "data": {
      "text/html": [
       "<div>\n",
       "<style scoped>\n",
       "    .dataframe tbody tr th:only-of-type {\n",
       "        vertical-align: middle;\n",
       "    }\n",
       "\n",
       "    .dataframe tbody tr th {\n",
       "        vertical-align: top;\n",
       "    }\n",
       "\n",
       "    .dataframe thead th {\n",
       "        text-align: right;\n",
       "    }\n",
       "</style>\n",
       "<table border=\"1\" class=\"dataframe\">\n",
       "  <thead>\n",
       "    <tr style=\"text-align: right;\">\n",
       "      <th></th>\n",
       "      <th>Hypothesis</th>\n",
       "      <th>Reach</th>\n",
       "      <th>Impact</th>\n",
       "      <th>Confidence</th>\n",
       "      <th>Efforts</th>\n",
       "    </tr>\n",
       "  </thead>\n",
       "  <tbody>\n",
       "    <tr>\n",
       "      <th>0</th>\n",
       "      <td>Добавить два новых канала привлечения трафика, что позволит привлекать на 30% больше пользователей</td>\n",
       "      <td>3</td>\n",
       "      <td>10</td>\n",
       "      <td>8</td>\n",
       "      <td>6</td>\n",
       "    </tr>\n",
       "    <tr>\n",
       "      <th>1</th>\n",
       "      <td>Запустить собственную службу доставки, что сократит срок доставки заказов</td>\n",
       "      <td>2</td>\n",
       "      <td>5</td>\n",
       "      <td>4</td>\n",
       "      <td>10</td>\n",
       "    </tr>\n",
       "    <tr>\n",
       "      <th>2</th>\n",
       "      <td>Добавить блоки рекомендаций товаров на сайт интернет магазина, чтобы повысить конверсию и средний чек заказа</td>\n",
       "      <td>8</td>\n",
       "      <td>3</td>\n",
       "      <td>7</td>\n",
       "      <td>3</td>\n",
       "    </tr>\n",
       "    <tr>\n",
       "      <th>3</th>\n",
       "      <td>Изменить структура категорий, что увеличит конверсию, т.к. пользователи быстрее найдут нужный товар</td>\n",
       "      <td>8</td>\n",
       "      <td>3</td>\n",
       "      <td>3</td>\n",
       "      <td>8</td>\n",
       "    </tr>\n",
       "    <tr>\n",
       "      <th>4</th>\n",
       "      <td>Изменить цвет фона главной страницы, чтобы увеличить вовлеченность пользователей</td>\n",
       "      <td>3</td>\n",
       "      <td>1</td>\n",
       "      <td>1</td>\n",
       "      <td>1</td>\n",
       "    </tr>\n",
       "  </tbody>\n",
       "</table>\n",
       "</div>"
      ],
      "text/plain": [
       "                                                                                                     Hypothesis  \\\n",
       "0            Добавить два новых канала привлечения трафика, что позволит привлекать на 30% больше пользователей   \n",
       "1                                     Запустить собственную службу доставки, что сократит срок доставки заказов   \n",
       "2  Добавить блоки рекомендаций товаров на сайт интернет магазина, чтобы повысить конверсию и средний чек заказа   \n",
       "3           Изменить структура категорий, что увеличит конверсию, т.к. пользователи быстрее найдут нужный товар   \n",
       "4                              Изменить цвет фона главной страницы, чтобы увеличить вовлеченность пользователей   \n",
       "\n",
       "   Reach  Impact  Confidence  Efforts  \n",
       "0      3      10           8        6  \n",
       "1      2       5           4       10  \n",
       "2      8       3           7        3  \n",
       "3      8       3           3        8  \n",
       "4      3       1           1        1  "
      ]
     },
     "metadata": {},
     "output_type": "display_data"
    },
    {
     "name": "stdout",
     "output_type": "stream",
     "text": [
      "\n",
      "\n",
      "------------- Общая информация о таблице -------------\n",
      "<class 'pandas.core.frame.DataFrame'>\n",
      "RangeIndex: 9 entries, 0 to 8\n",
      "Data columns (total 5 columns):\n",
      " #   Column      Non-Null Count  Dtype \n",
      "---  ------      --------------  ----- \n",
      " 0   Hypothesis  9 non-null      object\n",
      " 1   Reach       9 non-null      int64 \n",
      " 2   Impact      9 non-null      int64 \n",
      " 3   Confidence  9 non-null      int64 \n",
      " 4   Efforts     9 non-null      int64 \n",
      "dtypes: int64(4), object(1)\n",
      "memory usage: 488.0+ bytes\n",
      "\n",
      "\n",
      "------------- Пропуски -------------\n",
      "Пропусков НЕТ\n",
      "\n",
      "\n",
      "------------- Дубликаты -------------\n",
      "Дубликатов НЕТ\n",
      "\n",
      "\n"
     ]
    }
   ],
   "source": [
    "first_look(df_hypothesis)"
   ]
  },
  {
   "cell_type": "markdown",
   "metadata": {},
   "source": [
    "В таблице 5 столбцов. Типы данных в столбцах — `int64(4)`,  `object(1)`.\n",
    "\n",
    "**Согласно документации к данным:**\n",
    "\n",
    "- `Hypothesis` — краткое описание гипотезы;\n",
    "- `Reach` — охват пользователей по 10-балльной шкале;\n",
    "- `Impact` — влияние на пользователей по 10-балльной шкале;\n",
    "- `Confidence` — уверенность в гипотезе по 10-балльной шкале;\n",
    "- `Efforts` — затраты ресурсов на проверку гипотезы по 10-балльной шкале. Чем больше значение Efforts, тем дороже проверка гипотезы.\n",
    "\n",
    "✔️ **Соблюдаются требования к таблице:**\n",
    "- Отсутствуют явные дубликаты;\n",
    "- Отсутствуют пропуски данных.\n",
    "\n",
    "❌ **Были замечены нарушения:**\n",
    "- Нарушения в стилистике названий, необходимо привести к «змеиному_регистру»."
   ]
  },
  {
   "cell_type": "code",
   "execution_count": 5,
   "metadata": {},
   "outputs": [
    {
     "name": "stdout",
     "output_type": "stream",
     "text": [
      "------------- Первые 5 строк -------------\n"
     ]
    },
    {
     "data": {
      "text/html": [
       "<div>\n",
       "<style scoped>\n",
       "    .dataframe tbody tr th:only-of-type {\n",
       "        vertical-align: middle;\n",
       "    }\n",
       "\n",
       "    .dataframe tbody tr th {\n",
       "        vertical-align: top;\n",
       "    }\n",
       "\n",
       "    .dataframe thead th {\n",
       "        text-align: right;\n",
       "    }\n",
       "</style>\n",
       "<table border=\"1\" class=\"dataframe\">\n",
       "  <thead>\n",
       "    <tr style=\"text-align: right;\">\n",
       "      <th></th>\n",
       "      <th>transactionId</th>\n",
       "      <th>visitorId</th>\n",
       "      <th>date</th>\n",
       "      <th>revenue</th>\n",
       "      <th>group</th>\n",
       "    </tr>\n",
       "  </thead>\n",
       "  <tbody>\n",
       "    <tr>\n",
       "      <th>0</th>\n",
       "      <td>3667963787</td>\n",
       "      <td>3312258926</td>\n",
       "      <td>2019-08-15</td>\n",
       "      <td>1650</td>\n",
       "      <td>B</td>\n",
       "    </tr>\n",
       "    <tr>\n",
       "      <th>1</th>\n",
       "      <td>2804400009</td>\n",
       "      <td>3642806036</td>\n",
       "      <td>2019-08-15</td>\n",
       "      <td>730</td>\n",
       "      <td>B</td>\n",
       "    </tr>\n",
       "    <tr>\n",
       "      <th>2</th>\n",
       "      <td>2961555356</td>\n",
       "      <td>4069496402</td>\n",
       "      <td>2019-08-15</td>\n",
       "      <td>400</td>\n",
       "      <td>A</td>\n",
       "    </tr>\n",
       "    <tr>\n",
       "      <th>3</th>\n",
       "      <td>3797467345</td>\n",
       "      <td>1196621759</td>\n",
       "      <td>2019-08-15</td>\n",
       "      <td>9759</td>\n",
       "      <td>B</td>\n",
       "    </tr>\n",
       "    <tr>\n",
       "      <th>4</th>\n",
       "      <td>2282983706</td>\n",
       "      <td>2322279887</td>\n",
       "      <td>2019-08-15</td>\n",
       "      <td>2308</td>\n",
       "      <td>B</td>\n",
       "    </tr>\n",
       "  </tbody>\n",
       "</table>\n",
       "</div>"
      ],
      "text/plain": [
       "   transactionId   visitorId        date  revenue group\n",
       "0     3667963787  3312258926  2019-08-15     1650     B\n",
       "1     2804400009  3642806036  2019-08-15      730     B\n",
       "2     2961555356  4069496402  2019-08-15      400     A\n",
       "3     3797467345  1196621759  2019-08-15     9759     B\n",
       "4     2282983706  2322279887  2019-08-15     2308     B"
      ]
     },
     "metadata": {},
     "output_type": "display_data"
    },
    {
     "name": "stdout",
     "output_type": "stream",
     "text": [
      "\n",
      "\n",
      "------------- Общая информация о таблице -------------\n",
      "<class 'pandas.core.frame.DataFrame'>\n",
      "RangeIndex: 1197 entries, 0 to 1196\n",
      "Data columns (total 5 columns):\n",
      " #   Column         Non-Null Count  Dtype \n",
      "---  ------         --------------  ----- \n",
      " 0   transactionId  1197 non-null   int64 \n",
      " 1   visitorId      1197 non-null   int64 \n",
      " 2   date           1197 non-null   object\n",
      " 3   revenue        1197 non-null   int64 \n",
      " 4   group          1197 non-null   object\n",
      "dtypes: int64(3), object(2)\n",
      "memory usage: 46.9+ KB\n",
      "\n",
      "\n",
      "------------- Пропуски -------------\n",
      "Пропусков НЕТ\n",
      "\n",
      "\n",
      "------------- Дубликаты -------------\n",
      "Дубликатов НЕТ\n",
      "\n",
      "\n"
     ]
    }
   ],
   "source": [
    "first_look(df_orders)"
   ]
  },
  {
   "cell_type": "markdown",
   "metadata": {},
   "source": [
    "В таблице 5 столбцов. Типы данных в столбцах — `int64(3)`,  `object(2)`.\n",
    "\n",
    "**Согласно документации к данным:**\n",
    "\n",
    "- `transactionId` — идентификатор заказа;\n",
    "- `visitorId` — идентификатор пользователя, совершившего заказ;\n",
    "- `date` — дата, когда был совершён заказ;\n",
    "- `revenue` — выручка заказа;\n",
    "- `group` — группа A/B-теста, в которую попал заказ.\n",
    "\n",
    "✔️ **Соблюдаются требования к таблице:**\n",
    "- Отсутствуют явные дубликаты;\n",
    "- Отсутствуют пропуски данных.\n",
    "\n",
    "❌ **Были замечены нарушения:**\n",
    "- Нарушения в стилистике названий, необходимо привести к «змеиному_регистру»;\n",
    "- Потребуется замена типа данных в столбце `date`."
   ]
  },
  {
   "cell_type": "code",
   "execution_count": 6,
   "metadata": {},
   "outputs": [
    {
     "name": "stdout",
     "output_type": "stream",
     "text": [
      "------------- Первые 5 строк -------------\n"
     ]
    },
    {
     "data": {
      "text/html": [
       "<div>\n",
       "<style scoped>\n",
       "    .dataframe tbody tr th:only-of-type {\n",
       "        vertical-align: middle;\n",
       "    }\n",
       "\n",
       "    .dataframe tbody tr th {\n",
       "        vertical-align: top;\n",
       "    }\n",
       "\n",
       "    .dataframe thead th {\n",
       "        text-align: right;\n",
       "    }\n",
       "</style>\n",
       "<table border=\"1\" class=\"dataframe\">\n",
       "  <thead>\n",
       "    <tr style=\"text-align: right;\">\n",
       "      <th></th>\n",
       "      <th>date</th>\n",
       "      <th>group</th>\n",
       "      <th>visitors</th>\n",
       "    </tr>\n",
       "  </thead>\n",
       "  <tbody>\n",
       "    <tr>\n",
       "      <th>0</th>\n",
       "      <td>2019-08-01</td>\n",
       "      <td>A</td>\n",
       "      <td>719</td>\n",
       "    </tr>\n",
       "    <tr>\n",
       "      <th>1</th>\n",
       "      <td>2019-08-02</td>\n",
       "      <td>A</td>\n",
       "      <td>619</td>\n",
       "    </tr>\n",
       "    <tr>\n",
       "      <th>2</th>\n",
       "      <td>2019-08-03</td>\n",
       "      <td>A</td>\n",
       "      <td>507</td>\n",
       "    </tr>\n",
       "    <tr>\n",
       "      <th>3</th>\n",
       "      <td>2019-08-04</td>\n",
       "      <td>A</td>\n",
       "      <td>717</td>\n",
       "    </tr>\n",
       "    <tr>\n",
       "      <th>4</th>\n",
       "      <td>2019-08-05</td>\n",
       "      <td>A</td>\n",
       "      <td>756</td>\n",
       "    </tr>\n",
       "  </tbody>\n",
       "</table>\n",
       "</div>"
      ],
      "text/plain": [
       "         date group  visitors\n",
       "0  2019-08-01     A       719\n",
       "1  2019-08-02     A       619\n",
       "2  2019-08-03     A       507\n",
       "3  2019-08-04     A       717\n",
       "4  2019-08-05     A       756"
      ]
     },
     "metadata": {},
     "output_type": "display_data"
    },
    {
     "name": "stdout",
     "output_type": "stream",
     "text": [
      "\n",
      "\n",
      "------------- Общая информация о таблице -------------\n",
      "<class 'pandas.core.frame.DataFrame'>\n",
      "RangeIndex: 62 entries, 0 to 61\n",
      "Data columns (total 3 columns):\n",
      " #   Column    Non-Null Count  Dtype \n",
      "---  ------    --------------  ----- \n",
      " 0   date      62 non-null     object\n",
      " 1   group     62 non-null     object\n",
      " 2   visitors  62 non-null     int64 \n",
      "dtypes: int64(1), object(2)\n",
      "memory usage: 1.6+ KB\n",
      "\n",
      "\n",
      "------------- Пропуски -------------\n",
      "Пропусков НЕТ\n",
      "\n",
      "\n",
      "------------- Дубликаты -------------\n",
      "Дубликатов НЕТ\n",
      "\n",
      "\n"
     ]
    }
   ],
   "source": [
    "first_look(df_visitors)"
   ]
  },
  {
   "cell_type": "markdown",
   "metadata": {},
   "source": [
    "В таблице 3 столбца. Типы данных в столбцах — `int64(1)`,  `object(2)`.\n",
    "\n",
    "**Согласно документации к данным:**\n",
    "\n",
    "- `date` — дата;\n",
    "- `group` — группа A/B-теста;\n",
    "- `visitors` — количество пользователей в указанную дату в указанной группе A/B-теста\n",
    "\n",
    "✔️ **Соблюдаются требования к таблице:**\n",
    "- Отсутствуют явные дубликаты;\n",
    "- Отсутствуют пропуски данных.\n",
    "\n",
    "❌ **Были замечены нарушения:**\n",
    "- Потребуется замена типа данных в столбце `date`."
   ]
  },
  {
   "cell_type": "markdown",
   "metadata": {},
   "source": [
    "## Предобработка данных"
   ]
  },
  {
   "cell_type": "markdown",
   "metadata": {},
   "source": [
    "### Ошибки данных"
   ]
  },
  {
   "cell_type": "markdown",
   "metadata": {},
   "source": [
    "Приведем названия столбцов к нижнему регистру в таблицах методом `str.lower()`"
   ]
  },
  {
   "cell_type": "code",
   "execution_count": 7,
   "metadata": {},
   "outputs": [],
   "source": [
    "df_hypothesis.columns = df_hypothesis.columns.str.lower()\n",
    "df_orders.columns = df_orders.columns.str.lower()"
   ]
  },
  {
   "cell_type": "markdown",
   "metadata": {},
   "source": [
    "Проверим результат. Для этого выведем на экран названия столбцов:"
   ]
  },
  {
   "cell_type": "code",
   "execution_count": 8,
   "metadata": {},
   "outputs": [
    {
     "data": {
      "text/plain": [
       "Index(['hypothesis', 'reach', 'impact', 'confidence', 'efforts'], dtype='object')"
      ]
     },
     "execution_count": 8,
     "metadata": {},
     "output_type": "execute_result"
    }
   ],
   "source": [
    "df_hypothesis.columns"
   ]
  },
  {
   "cell_type": "code",
   "execution_count": 9,
   "metadata": {},
   "outputs": [
    {
     "data": {
      "text/plain": [
       "Index(['transactionid', 'visitorid', 'date', 'revenue', 'group'], dtype='object')"
      ]
     },
     "execution_count": 9,
     "metadata": {},
     "output_type": "execute_result"
    }
   ],
   "source": [
    "df_orders.columns"
   ]
  },
  {
   "cell_type": "markdown",
   "metadata": {},
   "source": [
    "### Замена типов данных"
   ]
  },
  {
   "cell_type": "markdown",
   "metadata": {},
   "source": [
    "Заменим тип данных в ранее определенных столбцах на `datetime`."
   ]
  },
  {
   "cell_type": "code",
   "execution_count": 10,
   "metadata": {},
   "outputs": [],
   "source": [
    "df_orders['date'] = df_orders['date'].map(lambda x: dt.datetime.strptime(x, '%Y-%m-%d'))\n",
    "df_visitors['date'] = df_visitors['date'].map(lambda x: dt.datetime.strptime(x, '%Y-%m-%d'))"
   ]
  },
  {
   "cell_type": "markdown",
   "metadata": {},
   "source": [
    "Проверим типы данных после изменения:"
   ]
  },
  {
   "cell_type": "code",
   "execution_count": 11,
   "metadata": {},
   "outputs": [
    {
     "name": "stdout",
     "output_type": "stream",
     "text": [
      "<class 'pandas.core.frame.DataFrame'>\n",
      "RangeIndex: 1197 entries, 0 to 1196\n",
      "Data columns (total 5 columns):\n",
      " #   Column         Non-Null Count  Dtype         \n",
      "---  ------         --------------  -----         \n",
      " 0   transactionid  1197 non-null   int64         \n",
      " 1   visitorid      1197 non-null   int64         \n",
      " 2   date           1197 non-null   datetime64[ns]\n",
      " 3   revenue        1197 non-null   int64         \n",
      " 4   group          1197 non-null   object        \n",
      "dtypes: datetime64[ns](1), int64(3), object(1)\n",
      "memory usage: 46.9+ KB\n"
     ]
    }
   ],
   "source": [
    "df_orders.info()"
   ]
  },
  {
   "cell_type": "code",
   "execution_count": 12,
   "metadata": {},
   "outputs": [
    {
     "name": "stdout",
     "output_type": "stream",
     "text": [
      "<class 'pandas.core.frame.DataFrame'>\n",
      "RangeIndex: 62 entries, 0 to 61\n",
      "Data columns (total 3 columns):\n",
      " #   Column    Non-Null Count  Dtype         \n",
      "---  ------    --------------  -----         \n",
      " 0   date      62 non-null     datetime64[ns]\n",
      " 1   group     62 non-null     object        \n",
      " 2   visitors  62 non-null     int64         \n",
      "dtypes: datetime64[ns](1), int64(1), object(1)\n",
      "memory usage: 1.6+ KB\n"
     ]
    }
   ],
   "source": [
    "df_visitors.info()"
   ]
  },
  {
   "cell_type": "markdown",
   "metadata": {},
   "source": [
    "### Выводы"
   ]
  },
  {
   "cell_type": "markdown",
   "metadata": {},
   "source": [
    "В процессе предобработки таблиц мы исправили две проблемы:\n",
    "- Ошибки названий;\n",
    "- Неверные типы данных.\n",
    "\n",
    "Теперь можно перейти к анализу данных."
   ]
  },
  {
   "cell_type": "markdown",
   "metadata": {},
   "source": [
    "## Приоритизация гипотез"
   ]
  },
  {
   "cell_type": "markdown",
   "metadata": {},
   "source": [
    "Отобразим данные таблицы `df_hypothesis` для которой мы будем проводить приоритизацию гипотез."
   ]
  },
  {
   "cell_type": "code",
   "execution_count": 13,
   "metadata": {},
   "outputs": [
    {
     "data": {
      "text/html": [
       "<div>\n",
       "<style scoped>\n",
       "    .dataframe tbody tr th:only-of-type {\n",
       "        vertical-align: middle;\n",
       "    }\n",
       "\n",
       "    .dataframe tbody tr th {\n",
       "        vertical-align: top;\n",
       "    }\n",
       "\n",
       "    .dataframe thead th {\n",
       "        text-align: right;\n",
       "    }\n",
       "</style>\n",
       "<table border=\"1\" class=\"dataframe\">\n",
       "  <thead>\n",
       "    <tr style=\"text-align: right;\">\n",
       "      <th></th>\n",
       "      <th>hypothesis</th>\n",
       "      <th>reach</th>\n",
       "      <th>impact</th>\n",
       "      <th>confidence</th>\n",
       "      <th>efforts</th>\n",
       "    </tr>\n",
       "  </thead>\n",
       "  <tbody>\n",
       "    <tr>\n",
       "      <th>0</th>\n",
       "      <td>Добавить два новых канала привлечения трафика, что позволит привлекать на 30% больше пользователей</td>\n",
       "      <td>3</td>\n",
       "      <td>10</td>\n",
       "      <td>8</td>\n",
       "      <td>6</td>\n",
       "    </tr>\n",
       "    <tr>\n",
       "      <th>1</th>\n",
       "      <td>Запустить собственную службу доставки, что сократит срок доставки заказов</td>\n",
       "      <td>2</td>\n",
       "      <td>5</td>\n",
       "      <td>4</td>\n",
       "      <td>10</td>\n",
       "    </tr>\n",
       "    <tr>\n",
       "      <th>2</th>\n",
       "      <td>Добавить блоки рекомендаций товаров на сайт интернет магазина, чтобы повысить конверсию и средний чек заказа</td>\n",
       "      <td>8</td>\n",
       "      <td>3</td>\n",
       "      <td>7</td>\n",
       "      <td>3</td>\n",
       "    </tr>\n",
       "    <tr>\n",
       "      <th>3</th>\n",
       "      <td>Изменить структура категорий, что увеличит конверсию, т.к. пользователи быстрее найдут нужный товар</td>\n",
       "      <td>8</td>\n",
       "      <td>3</td>\n",
       "      <td>3</td>\n",
       "      <td>8</td>\n",
       "    </tr>\n",
       "    <tr>\n",
       "      <th>4</th>\n",
       "      <td>Изменить цвет фона главной страницы, чтобы увеличить вовлеченность пользователей</td>\n",
       "      <td>3</td>\n",
       "      <td>1</td>\n",
       "      <td>1</td>\n",
       "      <td>1</td>\n",
       "    </tr>\n",
       "    <tr>\n",
       "      <th>5</th>\n",
       "      <td>Добавить страницу отзывов клиентов о магазине, что позволит увеличить количество заказов</td>\n",
       "      <td>3</td>\n",
       "      <td>2</td>\n",
       "      <td>2</td>\n",
       "      <td>3</td>\n",
       "    </tr>\n",
       "    <tr>\n",
       "      <th>6</th>\n",
       "      <td>Показать на главной странице баннеры с актуальными акциями и распродажами, чтобы увеличить конверсию</td>\n",
       "      <td>5</td>\n",
       "      <td>3</td>\n",
       "      <td>8</td>\n",
       "      <td>3</td>\n",
       "    </tr>\n",
       "    <tr>\n",
       "      <th>7</th>\n",
       "      <td>Добавить форму подписки на все основные страницы, чтобы собрать базу клиентов для email-рассылок</td>\n",
       "      <td>10</td>\n",
       "      <td>7</td>\n",
       "      <td>8</td>\n",
       "      <td>5</td>\n",
       "    </tr>\n",
       "    <tr>\n",
       "      <th>8</th>\n",
       "      <td>Запустить акцию, дающую скидку на товар в день рождения</td>\n",
       "      <td>1</td>\n",
       "      <td>9</td>\n",
       "      <td>9</td>\n",
       "      <td>5</td>\n",
       "    </tr>\n",
       "  </tbody>\n",
       "</table>\n",
       "</div>"
      ],
      "text/plain": [
       "                                                                                                     hypothesis  \\\n",
       "0            Добавить два новых канала привлечения трафика, что позволит привлекать на 30% больше пользователей   \n",
       "1                                     Запустить собственную службу доставки, что сократит срок доставки заказов   \n",
       "2  Добавить блоки рекомендаций товаров на сайт интернет магазина, чтобы повысить конверсию и средний чек заказа   \n",
       "3           Изменить структура категорий, что увеличит конверсию, т.к. пользователи быстрее найдут нужный товар   \n",
       "4                              Изменить цвет фона главной страницы, чтобы увеличить вовлеченность пользователей   \n",
       "5                      Добавить страницу отзывов клиентов о магазине, что позволит увеличить количество заказов   \n",
       "6          Показать на главной странице баннеры с актуальными акциями и распродажами, чтобы увеличить конверсию   \n",
       "7              Добавить форму подписки на все основные страницы, чтобы собрать базу клиентов для email-рассылок   \n",
       "8                                                       Запустить акцию, дающую скидку на товар в день рождения   \n",
       "\n",
       "   reach  impact  confidence  efforts  \n",
       "0      3      10           8        6  \n",
       "1      2       5           4       10  \n",
       "2      8       3           7        3  \n",
       "3      8       3           3        8  \n",
       "4      3       1           1        1  \n",
       "5      3       2           2        3  \n",
       "6      5       3           8        3  \n",
       "7     10       7           8        5  \n",
       "8      1       9           9        5  "
      ]
     },
     "execution_count": 13,
     "metadata": {},
     "output_type": "execute_result"
    }
   ],
   "source": [
    "df_hypothesis"
   ]
  },
  {
   "cell_type": "markdown",
   "metadata": {},
   "source": [
    "### Фреймворк ICE для приоритизации гипотез"
   ]
  },
  {
   "cell_type": "markdown",
   "metadata": {},
   "source": [
    "Рассчитаем `ICE` для гипотез. Добавим полученные значения `ICE` к существующей таблице и отсортируем их по убыванию приоритета."
   ]
  },
  {
   "cell_type": "code",
   "execution_count": 14,
   "metadata": {},
   "outputs": [
    {
     "data": {
      "text/html": [
       "<div>\n",
       "<style scoped>\n",
       "    .dataframe tbody tr th:only-of-type {\n",
       "        vertical-align: middle;\n",
       "    }\n",
       "\n",
       "    .dataframe tbody tr th {\n",
       "        vertical-align: top;\n",
       "    }\n",
       "\n",
       "    .dataframe thead th {\n",
       "        text-align: right;\n",
       "    }\n",
       "</style>\n",
       "<table border=\"1\" class=\"dataframe\">\n",
       "  <thead>\n",
       "    <tr style=\"text-align: right;\">\n",
       "      <th></th>\n",
       "      <th>hypothesis</th>\n",
       "      <th>ice</th>\n",
       "    </tr>\n",
       "  </thead>\n",
       "  <tbody>\n",
       "    <tr>\n",
       "      <th>8</th>\n",
       "      <td>Запустить акцию, дающую скидку на товар в день рождения</td>\n",
       "      <td>16.20</td>\n",
       "    </tr>\n",
       "    <tr>\n",
       "      <th>0</th>\n",
       "      <td>Добавить два новых канала привлечения трафика, что позволит привлекать на 30% больше пользователей</td>\n",
       "      <td>13.33</td>\n",
       "    </tr>\n",
       "    <tr>\n",
       "      <th>7</th>\n",
       "      <td>Добавить форму подписки на все основные страницы, чтобы собрать базу клиентов для email-рассылок</td>\n",
       "      <td>11.20</td>\n",
       "    </tr>\n",
       "    <tr>\n",
       "      <th>6</th>\n",
       "      <td>Показать на главной странице баннеры с актуальными акциями и распродажами, чтобы увеличить конверсию</td>\n",
       "      <td>8.00</td>\n",
       "    </tr>\n",
       "    <tr>\n",
       "      <th>2</th>\n",
       "      <td>Добавить блоки рекомендаций товаров на сайт интернет магазина, чтобы повысить конверсию и средний чек заказа</td>\n",
       "      <td>7.00</td>\n",
       "    </tr>\n",
       "    <tr>\n",
       "      <th>1</th>\n",
       "      <td>Запустить собственную службу доставки, что сократит срок доставки заказов</td>\n",
       "      <td>2.00</td>\n",
       "    </tr>\n",
       "    <tr>\n",
       "      <th>5</th>\n",
       "      <td>Добавить страницу отзывов клиентов о магазине, что позволит увеличить количество заказов</td>\n",
       "      <td>1.33</td>\n",
       "    </tr>\n",
       "    <tr>\n",
       "      <th>3</th>\n",
       "      <td>Изменить структура категорий, что увеличит конверсию, т.к. пользователи быстрее найдут нужный товар</td>\n",
       "      <td>1.12</td>\n",
       "    </tr>\n",
       "    <tr>\n",
       "      <th>4</th>\n",
       "      <td>Изменить цвет фона главной страницы, чтобы увеличить вовлеченность пользователей</td>\n",
       "      <td>1.00</td>\n",
       "    </tr>\n",
       "  </tbody>\n",
       "</table>\n",
       "</div>"
      ],
      "text/plain": [
       "                                                                                                     hypothesis  \\\n",
       "8                                                       Запустить акцию, дающую скидку на товар в день рождения   \n",
       "0            Добавить два новых канала привлечения трафика, что позволит привлекать на 30% больше пользователей   \n",
       "7              Добавить форму подписки на все основные страницы, чтобы собрать базу клиентов для email-рассылок   \n",
       "6          Показать на главной странице баннеры с актуальными акциями и распродажами, чтобы увеличить конверсию   \n",
       "2  Добавить блоки рекомендаций товаров на сайт интернет магазина, чтобы повысить конверсию и средний чек заказа   \n",
       "1                                     Запустить собственную службу доставки, что сократит срок доставки заказов   \n",
       "5                      Добавить страницу отзывов клиентов о магазине, что позволит увеличить количество заказов   \n",
       "3           Изменить структура категорий, что увеличит конверсию, т.к. пользователи быстрее найдут нужный товар   \n",
       "4                              Изменить цвет фона главной страницы, чтобы увеличить вовлеченность пользователей   \n",
       "\n",
       "     ice  \n",
       "8  16.20  \n",
       "0  13.33  \n",
       "7  11.20  \n",
       "6   8.00  \n",
       "2   7.00  \n",
       "1   2.00  \n",
       "5   1.33  \n",
       "3   1.12  \n",
       "4   1.00  "
      ]
     },
     "execution_count": 14,
     "metadata": {},
     "output_type": "execute_result"
    }
   ],
   "source": [
    "df_hypothesis['ice'] = ((df_hypothesis['impact'] * df_hypothesis['confidence']) / df_hypothesis['efforts']).round(2)\n",
    "df_hypothesis[['hypothesis', 'ice']].sort_values(by='ice', ascending=False)"
   ]
  },
  {
   "cell_type": "markdown",
   "metadata": {},
   "source": [
    "*Запуск акции, дающий скидку на товар в день рождения* является наиболее перспективной гипотезой."
   ]
  },
  {
   "cell_type": "markdown",
   "metadata": {},
   "source": [
    "### Фреймворк RICE для приоритизации гипотез"
   ]
  },
  {
   "cell_type": "markdown",
   "metadata": {},
   "source": [
    "Рассчитаем `RICE` для гипотез. Добавим полученные значения `RICE` к существующей таблице и отсортируем их по убыванию приоритета."
   ]
  },
  {
   "cell_type": "code",
   "execution_count": 15,
   "metadata": {},
   "outputs": [
    {
     "data": {
      "text/html": [
       "<div>\n",
       "<style scoped>\n",
       "    .dataframe tbody tr th:only-of-type {\n",
       "        vertical-align: middle;\n",
       "    }\n",
       "\n",
       "    .dataframe tbody tr th {\n",
       "        vertical-align: top;\n",
       "    }\n",
       "\n",
       "    .dataframe thead th {\n",
       "        text-align: right;\n",
       "    }\n",
       "</style>\n",
       "<table border=\"1\" class=\"dataframe\">\n",
       "  <thead>\n",
       "    <tr style=\"text-align: right;\">\n",
       "      <th></th>\n",
       "      <th>hypothesis</th>\n",
       "      <th>rice</th>\n",
       "      <th>ice</th>\n",
       "    </tr>\n",
       "  </thead>\n",
       "  <tbody>\n",
       "    <tr>\n",
       "      <th>7</th>\n",
       "      <td>Добавить форму подписки на все основные страницы, чтобы собрать базу клиентов для email-рассылок</td>\n",
       "      <td>112.0</td>\n",
       "      <td>11.20</td>\n",
       "    </tr>\n",
       "    <tr>\n",
       "      <th>2</th>\n",
       "      <td>Добавить блоки рекомендаций товаров на сайт интернет магазина, чтобы повысить конверсию и средний чек заказа</td>\n",
       "      <td>56.0</td>\n",
       "      <td>7.00</td>\n",
       "    </tr>\n",
       "    <tr>\n",
       "      <th>0</th>\n",
       "      <td>Добавить два новых канала привлечения трафика, что позволит привлекать на 30% больше пользователей</td>\n",
       "      <td>40.0</td>\n",
       "      <td>13.33</td>\n",
       "    </tr>\n",
       "    <tr>\n",
       "      <th>6</th>\n",
       "      <td>Показать на главной странице баннеры с актуальными акциями и распродажами, чтобы увеличить конверсию</td>\n",
       "      <td>40.0</td>\n",
       "      <td>8.00</td>\n",
       "    </tr>\n",
       "    <tr>\n",
       "      <th>8</th>\n",
       "      <td>Запустить акцию, дающую скидку на товар в день рождения</td>\n",
       "      <td>16.2</td>\n",
       "      <td>16.20</td>\n",
       "    </tr>\n",
       "    <tr>\n",
       "      <th>3</th>\n",
       "      <td>Изменить структура категорий, что увеличит конверсию, т.к. пользователи быстрее найдут нужный товар</td>\n",
       "      <td>9.0</td>\n",
       "      <td>1.12</td>\n",
       "    </tr>\n",
       "    <tr>\n",
       "      <th>1</th>\n",
       "      <td>Запустить собственную службу доставки, что сократит срок доставки заказов</td>\n",
       "      <td>4.0</td>\n",
       "      <td>2.00</td>\n",
       "    </tr>\n",
       "    <tr>\n",
       "      <th>5</th>\n",
       "      <td>Добавить страницу отзывов клиентов о магазине, что позволит увеличить количество заказов</td>\n",
       "      <td>4.0</td>\n",
       "      <td>1.33</td>\n",
       "    </tr>\n",
       "    <tr>\n",
       "      <th>4</th>\n",
       "      <td>Изменить цвет фона главной страницы, чтобы увеличить вовлеченность пользователей</td>\n",
       "      <td>3.0</td>\n",
       "      <td>1.00</td>\n",
       "    </tr>\n",
       "  </tbody>\n",
       "</table>\n",
       "</div>"
      ],
      "text/plain": [
       "                                                                                                     hypothesis  \\\n",
       "7              Добавить форму подписки на все основные страницы, чтобы собрать базу клиентов для email-рассылок   \n",
       "2  Добавить блоки рекомендаций товаров на сайт интернет магазина, чтобы повысить конверсию и средний чек заказа   \n",
       "0            Добавить два новых канала привлечения трафика, что позволит привлекать на 30% больше пользователей   \n",
       "6          Показать на главной странице баннеры с актуальными акциями и распродажами, чтобы увеличить конверсию   \n",
       "8                                                       Запустить акцию, дающую скидку на товар в день рождения   \n",
       "3           Изменить структура категорий, что увеличит конверсию, т.к. пользователи быстрее найдут нужный товар   \n",
       "1                                     Запустить собственную службу доставки, что сократит срок доставки заказов   \n",
       "5                      Добавить страницу отзывов клиентов о магазине, что позволит увеличить количество заказов   \n",
       "4                              Изменить цвет фона главной страницы, чтобы увеличить вовлеченность пользователей   \n",
       "\n",
       "    rice    ice  \n",
       "7  112.0  11.20  \n",
       "2   56.0   7.00  \n",
       "0   40.0  13.33  \n",
       "6   40.0   8.00  \n",
       "8   16.2  16.20  \n",
       "3    9.0   1.12  \n",
       "1    4.0   2.00  \n",
       "5    4.0   1.33  \n",
       "4    3.0   1.00  "
      ]
     },
     "execution_count": 15,
     "metadata": {},
     "output_type": "execute_result"
    }
   ],
   "source": [
    "df_hypothesis['rice'] = ((df_hypothesis['reach'] * df_hypothesis['impact'] * df_hypothesis['confidence']) / df_hypothesis['efforts']).round(2)\n",
    "df_hypothesis[['hypothesis','rice','ice']].sort_values('rice', ascending = False)"
   ]
  },
  {
   "cell_type": "markdown",
   "metadata": {},
   "source": [
    "По методу `RICE` наиболее перспективная гипотеза - это *добавить форму подписки на все основные страницы, чтобы собрать базу клиентов для email-рассылок*"
   ]
  },
  {
   "cell_type": "markdown",
   "metadata": {},
   "source": [
    "Мы видим как изменилась приоритезация гипотез. Объясняется это учетом охватов пользователей (`reach`) интреннет-магазина в методе `RICE`."
   ]
  },
  {
   "cell_type": "markdown",
   "metadata": {},
   "source": [
    "## Анализ A/B-теста"
   ]
  },
  {
   "cell_type": "markdown",
   "metadata": {},
   "source": [
    "Отобразим данные таблиц `df_orders` и `df_visitors` для которой мы будем проводить A/B-тестирование."
   ]
  },
  {
   "cell_type": "code",
   "execution_count": 16,
   "metadata": {},
   "outputs": [
    {
     "data": {
      "text/html": [
       "<div>\n",
       "<style scoped>\n",
       "    .dataframe tbody tr th:only-of-type {\n",
       "        vertical-align: middle;\n",
       "    }\n",
       "\n",
       "    .dataframe tbody tr th {\n",
       "        vertical-align: top;\n",
       "    }\n",
       "\n",
       "    .dataframe thead th {\n",
       "        text-align: right;\n",
       "    }\n",
       "</style>\n",
       "<table border=\"1\" class=\"dataframe\">\n",
       "  <thead>\n",
       "    <tr style=\"text-align: right;\">\n",
       "      <th></th>\n",
       "      <th>transactionid</th>\n",
       "      <th>visitorid</th>\n",
       "      <th>date</th>\n",
       "      <th>revenue</th>\n",
       "      <th>group</th>\n",
       "    </tr>\n",
       "  </thead>\n",
       "  <tbody>\n",
       "    <tr>\n",
       "      <th>0</th>\n",
       "      <td>3667963787</td>\n",
       "      <td>3312258926</td>\n",
       "      <td>2019-08-15</td>\n",
       "      <td>1650</td>\n",
       "      <td>B</td>\n",
       "    </tr>\n",
       "    <tr>\n",
       "      <th>1</th>\n",
       "      <td>2804400009</td>\n",
       "      <td>3642806036</td>\n",
       "      <td>2019-08-15</td>\n",
       "      <td>730</td>\n",
       "      <td>B</td>\n",
       "    </tr>\n",
       "    <tr>\n",
       "      <th>2</th>\n",
       "      <td>2961555356</td>\n",
       "      <td>4069496402</td>\n",
       "      <td>2019-08-15</td>\n",
       "      <td>400</td>\n",
       "      <td>A</td>\n",
       "    </tr>\n",
       "    <tr>\n",
       "      <th>3</th>\n",
       "      <td>3797467345</td>\n",
       "      <td>1196621759</td>\n",
       "      <td>2019-08-15</td>\n",
       "      <td>9759</td>\n",
       "      <td>B</td>\n",
       "    </tr>\n",
       "    <tr>\n",
       "      <th>4</th>\n",
       "      <td>2282983706</td>\n",
       "      <td>2322279887</td>\n",
       "      <td>2019-08-15</td>\n",
       "      <td>2308</td>\n",
       "      <td>B</td>\n",
       "    </tr>\n",
       "  </tbody>\n",
       "</table>\n",
       "</div>"
      ],
      "text/plain": [
       "   transactionid   visitorid       date  revenue group\n",
       "0     3667963787  3312258926 2019-08-15     1650     B\n",
       "1     2804400009  3642806036 2019-08-15      730     B\n",
       "2     2961555356  4069496402 2019-08-15      400     A\n",
       "3     3797467345  1196621759 2019-08-15     9759     B\n",
       "4     2282983706  2322279887 2019-08-15     2308     B"
      ]
     },
     "execution_count": 16,
     "metadata": {},
     "output_type": "execute_result"
    }
   ],
   "source": [
    "df_orders.head()"
   ]
  },
  {
   "cell_type": "code",
   "execution_count": 17,
   "metadata": {},
   "outputs": [
    {
     "data": {
      "text/html": [
       "<div>\n",
       "<style scoped>\n",
       "    .dataframe tbody tr th:only-of-type {\n",
       "        vertical-align: middle;\n",
       "    }\n",
       "\n",
       "    .dataframe tbody tr th {\n",
       "        vertical-align: top;\n",
       "    }\n",
       "\n",
       "    .dataframe thead th {\n",
       "        text-align: right;\n",
       "    }\n",
       "</style>\n",
       "<table border=\"1\" class=\"dataframe\">\n",
       "  <thead>\n",
       "    <tr style=\"text-align: right;\">\n",
       "      <th></th>\n",
       "      <th>date</th>\n",
       "      <th>group</th>\n",
       "      <th>visitors</th>\n",
       "    </tr>\n",
       "  </thead>\n",
       "  <tbody>\n",
       "    <tr>\n",
       "      <th>0</th>\n",
       "      <td>2019-08-01</td>\n",
       "      <td>A</td>\n",
       "      <td>719</td>\n",
       "    </tr>\n",
       "    <tr>\n",
       "      <th>1</th>\n",
       "      <td>2019-08-02</td>\n",
       "      <td>A</td>\n",
       "      <td>619</td>\n",
       "    </tr>\n",
       "    <tr>\n",
       "      <th>2</th>\n",
       "      <td>2019-08-03</td>\n",
       "      <td>A</td>\n",
       "      <td>507</td>\n",
       "    </tr>\n",
       "    <tr>\n",
       "      <th>3</th>\n",
       "      <td>2019-08-04</td>\n",
       "      <td>A</td>\n",
       "      <td>717</td>\n",
       "    </tr>\n",
       "    <tr>\n",
       "      <th>4</th>\n",
       "      <td>2019-08-05</td>\n",
       "      <td>A</td>\n",
       "      <td>756</td>\n",
       "    </tr>\n",
       "  </tbody>\n",
       "</table>\n",
       "</div>"
      ],
      "text/plain": [
       "        date group  visitors\n",
       "0 2019-08-01     A       719\n",
       "1 2019-08-02     A       619\n",
       "2 2019-08-03     A       507\n",
       "3 2019-08-04     A       717\n",
       "4 2019-08-05     A       756"
      ]
     },
     "execution_count": 17,
     "metadata": {},
     "output_type": "execute_result"
    }
   ],
   "source": [
    "df_visitors.head()"
   ]
  },
  {
   "cell_type": "markdown",
   "metadata": {},
   "source": [
    "### График кумулятивной выручки по группам"
   ]
  },
  {
   "cell_type": "markdown",
   "metadata": {},
   "source": [
    "Создадим массив уникальных пар значений дат и групп методом `drop_duplicates()`:"
   ]
  },
  {
   "cell_type": "code",
   "execution_count": 18,
   "metadata": {},
   "outputs": [],
   "source": [
    "# создаем массив уникальных пар значений дат и групп\n",
    "datesGroups = df_orders[['date','group']].drop_duplicates() "
   ]
  },
  {
   "cell_type": "markdown",
   "metadata": {},
   "source": [
    "Агрегируем значения. Для переменной `ordersAggregated`  вычислим максимальную дату, для группы тоже рассчитаем максимум (и хотя она будет определённой, сделаем это, чтобы столбец `group` не пропал из итогового вывода), найдем число уникальных ID заказов и пользователей. Подсчитаем сумму средних чеков. Применим методы к каждой строке датафрейма: apply(axis=1) и отсортируем результаты по столбцам `date` и `group`."
   ]
  },
  {
   "cell_type": "code",
   "execution_count": 19,
   "metadata": {},
   "outputs": [],
   "source": [
    "# получаем агрегированные кумулятивные по дням данные о заказах \n",
    "ordersAggregated = datesGroups.apply(\n",
    "    lambda x: df_orders[np.logical_and(df_orders['date'] <= x['date'], df_orders['group'] == x['group'])]\\\n",
    "    .agg({'date' : 'max', \n",
    "          'group' : 'max', \n",
    "          'transactionid' : 'nunique', \n",
    "          'visitorid' : 'nunique', \n",
    "          'revenue' : 'sum'}), axis=1).sort_values(by=['date','group'])"
   ]
  },
  {
   "cell_type": "markdown",
   "metadata": {},
   "source": [
    "Аналогично получим агрегированные кумулятивные по дням данные о посетителях интернет-магазина:"
   ]
  },
  {
   "cell_type": "code",
   "execution_count": 20,
   "metadata": {},
   "outputs": [],
   "source": [
    "# получаем агрегированные кумулятивные по дням данные о посетителях интернет-магазина \n",
    "visitorsAggregated = datesGroups.apply(\n",
    "    lambda x: df_visitors[np.logical_and(df_visitors['date'] <= x['date'], df_visitors['group'] == x['group'])]\n",
    "    .agg({'date' : 'max',\n",
    "          'group' : 'max',\n",
    "          'visitors' : 'sum'}), axis=1).sort_values(by=['date','group'])"
   ]
  },
  {
   "cell_type": "markdown",
   "metadata": {},
   "source": [
    "Объединим обе таблицы в одну с понятными названиями столбцов:"
   ]
  },
  {
   "cell_type": "code",
   "execution_count": 21,
   "metadata": {},
   "outputs": [
    {
     "data": {
      "text/html": [
       "<div>\n",
       "<style scoped>\n",
       "    .dataframe tbody tr th:only-of-type {\n",
       "        vertical-align: middle;\n",
       "    }\n",
       "\n",
       "    .dataframe tbody tr th {\n",
       "        vertical-align: top;\n",
       "    }\n",
       "\n",
       "    .dataframe thead th {\n",
       "        text-align: right;\n",
       "    }\n",
       "</style>\n",
       "<table border=\"1\" class=\"dataframe\">\n",
       "  <thead>\n",
       "    <tr style=\"text-align: right;\">\n",
       "      <th></th>\n",
       "      <th>date</th>\n",
       "      <th>group</th>\n",
       "      <th>orders</th>\n",
       "      <th>buyers</th>\n",
       "      <th>revenue</th>\n",
       "      <th>visitors</th>\n",
       "    </tr>\n",
       "  </thead>\n",
       "  <tbody>\n",
       "    <tr>\n",
       "      <th>0</th>\n",
       "      <td>2019-08-01</td>\n",
       "      <td>A</td>\n",
       "      <td>24</td>\n",
       "      <td>20</td>\n",
       "      <td>148579</td>\n",
       "      <td>719</td>\n",
       "    </tr>\n",
       "    <tr>\n",
       "      <th>1</th>\n",
       "      <td>2019-08-01</td>\n",
       "      <td>B</td>\n",
       "      <td>21</td>\n",
       "      <td>20</td>\n",
       "      <td>101217</td>\n",
       "      <td>713</td>\n",
       "    </tr>\n",
       "    <tr>\n",
       "      <th>2</th>\n",
       "      <td>2019-08-02</td>\n",
       "      <td>A</td>\n",
       "      <td>44</td>\n",
       "      <td>38</td>\n",
       "      <td>242401</td>\n",
       "      <td>1338</td>\n",
       "    </tr>\n",
       "    <tr>\n",
       "      <th>3</th>\n",
       "      <td>2019-08-02</td>\n",
       "      <td>B</td>\n",
       "      <td>45</td>\n",
       "      <td>43</td>\n",
       "      <td>266748</td>\n",
       "      <td>1294</td>\n",
       "    </tr>\n",
       "    <tr>\n",
       "      <th>4</th>\n",
       "      <td>2019-08-03</td>\n",
       "      <td>A</td>\n",
       "      <td>68</td>\n",
       "      <td>62</td>\n",
       "      <td>354874</td>\n",
       "      <td>1845</td>\n",
       "    </tr>\n",
       "  </tbody>\n",
       "</table>\n",
       "</div>"
      ],
      "text/plain": [
       "        date group  orders  buyers  revenue  visitors\n",
       "0 2019-08-01     A      24      20   148579       719\n",
       "1 2019-08-01     B      21      20   101217       713\n",
       "2 2019-08-02     A      44      38   242401      1338\n",
       "3 2019-08-02     B      45      43   266748      1294\n",
       "4 2019-08-03     A      68      62   354874      1845"
      ]
     },
     "execution_count": 21,
     "metadata": {},
     "output_type": "execute_result"
    }
   ],
   "source": [
    "# объединяем кумулятивные данные в одной таблице и присваиваем ее столбцам понятные названия\n",
    "cumulativeData = ordersAggregated.merge(visitorsAggregated, left_on=['date', 'group'], right_on=['date', 'group'])\n",
    "cumulativeData.columns = ['date', 'group', 'orders', 'buyers', 'revenue', 'visitors']\n",
    "\n",
    "cumulativeData.head()"
   ]
  },
  {
   "cell_type": "markdown",
   "metadata": {},
   "source": [
    "Построим графики кумулятивной выручки по дням и группам A/B-тестирования:"
   ]
  },
  {
   "cell_type": "code",
   "execution_count": 22,
   "metadata": {},
   "outputs": [
    {
     "data": {
      "image/png": "[encoded data removed]",
      "text/plain": [
       "<Figure size 1080x360 with 1 Axes>"
      ]
     },
     "metadata": {
      "needs_background": "light"
     },
     "output_type": "display_data"
    }
   ],
   "source": [
    "# датафрейм с кумулятивным количеством заказов и кумулятивной выручкой по дням в группе А\n",
    "cumulativeRevenueA = cumulativeData[cumulativeData['group']=='A'][['date','revenue', 'orders']]\n",
    "\n",
    "# датафрейм с кумулятивным количеством заказов и кумулятивной выручкой по дням в группе B\n",
    "cumulativeRevenueB = cumulativeData[cumulativeData['group']=='B'][['date','revenue', 'orders']]\n",
    "\n",
    "plt.subplots(figsize=(15,5))\n",
    "\n",
    "# строим график выручки группы А\n",
    "plt.plot(cumulativeRevenueA['date'], cumulativeRevenueA['revenue'], label='A', color='blue', linewidth=2, alpha=0.5)\n",
    "\n",
    "# строим график выручки группы B\n",
    "plt.plot(cumulativeRevenueB['date'], cumulativeRevenueB['revenue'], label='B', color='green', linewidth=2, alpha=0.5)\n",
    "\n",
    "plt.title('График кумулятивной выручки по дням и группам')\n",
    "plt.xlabel('date')\n",
    "plt.ylabel('revenue')\n",
    "\n",
    "plt.legend()\n",
    "plt.show()"
   ]
  },
  {
   "cell_type": "markdown",
   "metadata": {},
   "source": [
    "На протяжение всего теста мы видим рост выручки в обоих группах. В группе В в периоде между 2019-08-17 и 2019-08-21 наблюдается резкий скачек выручки. Это может быть связано с увеличением числа заказов, либо с увеличением дохода от среднего чека за заказ."
   ]
  },
  {
   "cell_type": "markdown",
   "metadata": {},
   "source": [
    "### График кумулятивного среднего чека по группам"
   ]
  },
  {
   "cell_type": "markdown",
   "metadata": {},
   "source": [
    "Построим графики среднего чека по группам — разделим кумулятивную выручку на кумулятивное число заказов:"
   ]
  },
  {
   "cell_type": "code",
   "execution_count": 23,
   "metadata": {},
   "outputs": [
    {
     "data": {
      "image/png": "[encoded data removed]",
      "text/plain": [
       "<Figure size 1080x360 with 1 Axes>"
      ]
     },
     "metadata": {
      "needs_background": "light"
     },
     "output_type": "display_data"
    }
   ],
   "source": [
    "plt.subplots(figsize=(15,5))\n",
    "plt.plot(cumulativeRevenueA['date'], cumulativeRevenueA['revenue']/cumulativeRevenueA['orders'], label='A', color='blue', linewidth=2, alpha=0.5)\n",
    "plt.plot(cumulativeRevenueB['date'], cumulativeRevenueB['revenue']/cumulativeRevenueB['orders'], label='B', color='green', linewidth=2, alpha=0.5)\n",
    "\n",
    "plt.title('График кумулятивного среднего чека по группам')\n",
    "plt.xlabel('date')\n",
    "plt.ylabel('revenue')\n",
    "\n",
    "plt.legend()\n",
    "plt.show()"
   ]
  },
  {
   "cell_type": "markdown",
   "metadata": {},
   "source": [
    "После выявленного скачка в периоде с 2019-08-17 по 2019-08-21 средний чек для группы B продолжает падать. Вероятно, в группу B попали крупные заказы. "
   ]
  },
  {
   "cell_type": "markdown",
   "metadata": {},
   "source": [
    "### График относительного изменения кумулятивного среднего чека группы B к группе A"
   ]
  },
  {
   "cell_type": "markdown",
   "metadata": {},
   "source": [
    "Построим график относительного различия для среднего чека. Добавим горизонтальную ось методом `axhline()`."
   ]
  },
  {
   "cell_type": "code",
   "execution_count": 24,
   "metadata": {},
   "outputs": [
    {
     "data": {
      "image/png": "[encoded data removed]",
      "text/plain": [
       "<Figure size 1080x360 with 1 Axes>"
      ]
     },
     "metadata": {
      "needs_background": "light"
     },
     "output_type": "display_data"
    }
   ],
   "source": [
    "# собираем данные в одном датафрейме\n",
    "mergedCumulativeRevenue = cumulativeRevenueA.merge(cumulativeRevenueB, left_on='date', right_on='date', how='left', suffixes=['A', 'B'])\n",
    "\n",
    "plt.subplots(figsize=(15,5))\n",
    "# cтроим отношение средних чеков\n",
    "plt.plot(mergedCumulativeRevenue['date'], (mergedCumulativeRevenue['revenueB']/mergedCumulativeRevenue['ordersB'])/(mergedCumulativeRevenue['revenueA']/mergedCumulativeRevenue['ordersA'])-1, color='orange', linewidth=2, alpha=0.5)\n",
    "\n",
    "# добавляем ось X\n",
    "plt.axhline(y=0, color='black', linestyle='--', linewidth=0.5) \n",
    "\n",
    "plt.title('График относительного изменения кумулятивного чека группы В к группе А')\n",
    "plt.xlabel('date')\n",
    "plt.ylabel('revenue')\n",
    "\n",
    "plt.show()"
   ]
  },
  {
   "cell_type": "markdown",
   "metadata": {},
   "source": [
    "На графике мы видим скачки различий между сегментами. Это говорит нам о том, что в тесте присутствуют крупные заказы, либо выбросы."
   ]
  },
  {
   "cell_type": "markdown",
   "metadata": {},
   "source": [
    "### График кумулятивной конверсии по группам"
   ]
  },
  {
   "cell_type": "markdown",
   "metadata": {},
   "source": [
    "Аналогично проанализируем график кумулятивной конверсии."
   ]
  },
  {
   "cell_type": "code",
   "execution_count": 25,
   "metadata": {},
   "outputs": [
    {
     "data": {
      "image/png": "[encoded data removed]",
      "text/plain": [
       "<Figure size 1080x360 with 1 Axes>"
      ]
     },
     "metadata": {
      "needs_background": "light"
     },
     "output_type": "display_data"
    }
   ],
   "source": [
    "# считаем кумулятивную конверсию\n",
    "cumulativeData['conversion'] = cumulativeData['orders']/cumulativeData['visitors']\n",
    "\n",
    "# отделяем данные по группе A\n",
    "cumulativeDataA = cumulativeData[cumulativeData['group']=='A']\n",
    "\n",
    "# отделяем данные по группе B\n",
    "cumulativeDataB = cumulativeData[cumulativeData['group']=='B']\n",
    "\n",
    "plt.subplots(figsize=(15,5))\n",
    "# строим графики\n",
    "plt.plot(cumulativeDataA['date'], cumulativeDataA['conversion'], label='A', color='blue', linewidth=2, alpha=0.5)\n",
    "plt.plot(cumulativeDataB['date'], cumulativeDataB['conversion'], label='B', color='green', linewidth=2, alpha=0.5)\n",
    "\n",
    "plt.legend()\n",
    "\n",
    "plt.title('График кумулятивной конверсии по группам')\n",
    "plt.xlabel('date')\n",
    "plt.ylabel('value')\n",
    "plt.show()"
   ]
  },
  {
   "cell_type": "markdown",
   "metadata": {},
   "source": [
    "Вы видим образование симметричного графика. Группы А и В колебались около одного значения, но затем конверсия группы В вырвалась вперёд и зафиксировалась, а конверсия группы А просела и также зафиксировалась."
   ]
  },
  {
   "cell_type": "markdown",
   "metadata": {},
   "source": [
    "### График относительного изменения кумулятивной конверсии группы B к группе A"
   ]
  },
  {
   "cell_type": "markdown",
   "metadata": {},
   "source": [
    "Построим график относительного различия кумулятивных конверсий:"
   ]
  },
  {
   "cell_type": "code",
   "execution_count": 26,
   "metadata": {},
   "outputs": [
    {
     "data": {
      "image/png": "[encoded data removed]",
      "text/plain": [
       "<Figure size 1080x360 with 1 Axes>"
      ]
     },
     "metadata": {
      "needs_background": "light"
     },
     "output_type": "display_data"
    }
   ],
   "source": [
    "mergedCumulativeConversions = cumulativeDataA[['date','conversion']].merge(cumulativeDataB[['date','conversion']], left_on='date', right_on='date', how='left', suffixes=['A', 'B'])\n",
    "\n",
    "plt.subplots(figsize=(15,5))\n",
    "# строим график\n",
    "plt.plot(mergedCumulativeConversions['date'], mergedCumulativeConversions['conversionB']/mergedCumulativeConversions['conversionA']-1, label=\"Относительный прирост конверсии группы B относительно группы A\", color='orange', linewidth=2, alpha=0.5)\n",
    "\n",
    "plt.axhline(y=0, color='black', linestyle='--', linewidth=0.5)\n",
    "plt.axhline(y=-0.1, color='grey', linestyle='--', linewidth=0.5)\n",
    "\n",
    "plt.legend()\n",
    "\n",
    "plt.title('График относительного изменения кумулятивной конверсии группы В к группе А')\n",
    "plt.xlabel('date')\n",
    "plt.ylabel('value')\n",
    "plt.show()"
   ]
  },
  {
   "cell_type": "markdown",
   "metadata": {},
   "source": [
    "В начале теста группа B значительно проигрывала группе A, затем вырвалась вперёд."
   ]
  },
  {
   "cell_type": "markdown",
   "metadata": {},
   "source": [
    "### Точечный график количества заказов по пользователям"
   ]
  },
  {
   "cell_type": "markdown",
   "metadata": {},
   "source": [
    "Пользователи, совершившие много заказов, влияют на числитель формулы конверсии. Скорее всего, их поведение отличается от нормального. Если речь не идёт об интернет-магазине с регулярным спросом, «обычный» пользователь совершает не больше двух заказов за короткий срок.\n",
    "Подсчитаем количество заказов по пользователям и посмотрим на результат:"
   ]
  },
  {
   "cell_type": "code",
   "execution_count": 27,
   "metadata": {},
   "outputs": [
    {
     "data": {
      "text/html": [
       "<div>\n",
       "<style scoped>\n",
       "    .dataframe tbody tr th:only-of-type {\n",
       "        vertical-align: middle;\n",
       "    }\n",
       "\n",
       "    .dataframe tbody tr th {\n",
       "        vertical-align: top;\n",
       "    }\n",
       "\n",
       "    .dataframe thead th {\n",
       "        text-align: right;\n",
       "    }\n",
       "</style>\n",
       "<table border=\"1\" class=\"dataframe\">\n",
       "  <thead>\n",
       "    <tr style=\"text-align: right;\">\n",
       "      <th></th>\n",
       "      <th>vsitorid</th>\n",
       "      <th>orders</th>\n",
       "    </tr>\n",
       "  </thead>\n",
       "  <tbody>\n",
       "    <tr>\n",
       "      <th>1023</th>\n",
       "      <td>4256040402</td>\n",
       "      <td>11</td>\n",
       "    </tr>\n",
       "    <tr>\n",
       "      <th>591</th>\n",
       "      <td>2458001652</td>\n",
       "      <td>11</td>\n",
       "    </tr>\n",
       "    <tr>\n",
       "      <th>569</th>\n",
       "      <td>2378935119</td>\n",
       "      <td>9</td>\n",
       "    </tr>\n",
       "    <tr>\n",
       "      <th>487</th>\n",
       "      <td>2038680547</td>\n",
       "      <td>8</td>\n",
       "    </tr>\n",
       "    <tr>\n",
       "      <th>44</th>\n",
       "      <td>199603092</td>\n",
       "      <td>5</td>\n",
       "    </tr>\n",
       "    <tr>\n",
       "      <th>744</th>\n",
       "      <td>3062433592</td>\n",
       "      <td>5</td>\n",
       "    </tr>\n",
       "    <tr>\n",
       "      <th>55</th>\n",
       "      <td>237748145</td>\n",
       "      <td>5</td>\n",
       "    </tr>\n",
       "    <tr>\n",
       "      <th>917</th>\n",
       "      <td>3803269165</td>\n",
       "      <td>5</td>\n",
       "    </tr>\n",
       "    <tr>\n",
       "      <th>299</th>\n",
       "      <td>1230306981</td>\n",
       "      <td>5</td>\n",
       "    </tr>\n",
       "    <tr>\n",
       "      <th>897</th>\n",
       "      <td>3717692402</td>\n",
       "      <td>5</td>\n",
       "    </tr>\n",
       "  </tbody>\n",
       "</table>\n",
       "</div>"
      ],
      "text/plain": [
       "        vsitorid  orders\n",
       "1023  4256040402      11\n",
       "591   2458001652      11\n",
       "569   2378935119       9\n",
       "487   2038680547       8\n",
       "44     199603092       5\n",
       "744   3062433592       5\n",
       "55     237748145       5\n",
       "917   3803269165       5\n",
       "299   1230306981       5\n",
       "897   3717692402       5"
      ]
     },
     "execution_count": 27,
     "metadata": {},
     "output_type": "execute_result"
    }
   ],
   "source": [
    "ordersByUsers = (\n",
    "    df_orders.groupby('visitorid', as_index=False)\n",
    "    .agg({'transactionid': pd.Series.nunique})\n",
    ")\n",
    "\n",
    "ordersByUsers.columns = ['vsitorid', 'orders']\n",
    "\n",
    "ordersByUsers.sort_values(by='orders', ascending=False).head(10)"
   ]
  },
  {
   "cell_type": "markdown",
   "metadata": {},
   "source": [
    "Есть пользователи, которые совершали 8, 9 и 11 заказов. Значительно больше, чем обычный пользователь за неделю.\n",
    "Построим гистограмму распределения количества заказов на одного пользователя."
   ]
  },
  {
   "cell_type": "code",
   "execution_count": 28,
   "metadata": {},
   "outputs": [
    {
     "data": {
      "image/png": "[encoded data removed]",
      "text/plain": [
       "<Figure size 1080x360 with 1 Axes>"
      ]
     },
     "metadata": {
      "needs_background": "light"
     },
     "output_type": "display_data"
    }
   ],
   "source": [
    "plt.subplots(figsize=(15,5))\n",
    "plt.hist(ordersByUsers['orders'], color='orange', edgecolor='orange', alpha=0.5)\n",
    "\n",
    "plt.title('График распределения количества заказов на одного пользователя')\n",
    "plt.xlabel('orders')\n",
    "plt.ylabel('value')\n",
    "plt.show()"
   ]
  },
  {
   "cell_type": "markdown",
   "metadata": {},
   "source": [
    "Большинство покупателей заказывали только один раз. Однако доля пользователей с 2-4 заказами тоже значительна."
   ]
  },
  {
   "cell_type": "markdown",
   "metadata": {},
   "source": [
    "Построим точечную диаграмму числа заказов на одного пользователя:"
   ]
  },
  {
   "cell_type": "code",
   "execution_count": 29,
   "metadata": {},
   "outputs": [
    {
     "data": {
      "image/png": "[encoded data removed]",
      "text/plain": [
       "<Figure size 1080x360 with 1 Axes>"
      ]
     },
     "metadata": {
      "needs_background": "light"
     },
     "output_type": "display_data"
    }
   ],
   "source": [
    "x_values = pd.Series(range(0,len(ordersByUsers)))\n",
    "\n",
    "plt.subplots(figsize=(15,5))\n",
    "plt.scatter(x_values, ordersByUsers['orders'], color='orange', alpha=0.2)\n",
    "\n",
    "plt.title('График точечного распределение заказов на одного пользователя')\n",
    "plt.xlabel('value')\n",
    "plt.ylabel('orders')\n",
    "plt.show()"
   ]
  },
  {
   "cell_type": "markdown",
   "metadata": {},
   "source": [
    "Выводы подтверждаются: много пользователей с 2-4 заказами."
   ]
  },
  {
   "cell_type": "markdown",
   "metadata": {},
   "source": [
    "### Перцентили количества заказов на пользователя"
   ]
  },
  {
   "cell_type": "markdown",
   "metadata": {},
   "source": [
    "Посчитаем 95-й и 99-й перцентили количества заказов на одного пользователя:"
   ]
  },
  {
   "cell_type": "code",
   "execution_count": 30,
   "metadata": {},
   "outputs": [
    {
     "data": {
      "text/plain": [
       "array([2., 4.])"
      ]
     },
     "execution_count": 30,
     "metadata": {},
     "output_type": "execute_result"
    }
   ],
   "source": [
    "np.percentile(ordersByUsers['orders'], [95, 99])"
   ]
  },
  {
   "cell_type": "markdown",
   "metadata": {},
   "source": [
    "Заказы, сделанные более 4 раз будем считать выбросами. Присвоим это значение переменной `i`"
   ]
  },
  {
   "cell_type": "code",
   "execution_count": 31,
   "metadata": {},
   "outputs": [],
   "source": [
    "i = np.percentile(ordersByUsers['orders'], [95, 99]).max()"
   ]
  },
  {
   "cell_type": "markdown",
   "metadata": {},
   "source": [
    "### Точечный график стоимостей заказов"
   ]
  },
  {
   "cell_type": "markdown",
   "metadata": {},
   "source": [
    "Изучим точечный график распределения стоимостей заказов:"
   ]
  },
  {
   "cell_type": "code",
   "execution_count": 32,
   "metadata": {},
   "outputs": [
    {
     "data": {
      "image/png": "[encoded data removed]",
      "text/plain": [
       "<Figure size 1080x360 with 1 Axes>"
      ]
     },
     "metadata": {
      "needs_background": "light"
     },
     "output_type": "display_data"
    }
   ],
   "source": [
    "plt.subplots(figsize=(15,5))\n",
    "x_values = pd.Series(range(0,len(df_orders['revenue'])))\n",
    "\n",
    "plt.title('График точечного распределения стоимости заказов на одного пользователя')\n",
    "plt.xlabel('revenue')\n",
    "plt.ylabel('value')\n",
    "plt.scatter(x_values, df_orders['revenue'], color='orange', alpha=0.2) \n",
    "\n",
    "plt.ylim([0.0, 100000]) # ограничение диапазона оси y\n",
    "plt.show()"
   ]
  },
  {
   "cell_type": "markdown",
   "metadata": {},
   "source": [
    "Как и было предположенно ранее, есть немного дорогих заказов. По графику можно выбрать границу аномальных заказов до 10 000 у.е."
   ]
  },
  {
   "cell_type": "markdown",
   "metadata": {},
   "source": [
    "### Перцентили стоимости заказов"
   ]
  },
  {
   "cell_type": "markdown",
   "metadata": {},
   "source": [
    "Определим 95 и 99 перцентили стоимости заказов в выборке:"
   ]
  },
  {
   "cell_type": "code",
   "execution_count": 33,
   "metadata": {},
   "outputs": [
    {
     "data": {
      "text/plain": [
       "array([28000. , 58233.2])"
      ]
     },
     "execution_count": 33,
     "metadata": {},
     "output_type": "execute_result"
    }
   ],
   "source": [
    "np.percentile(df_orders['revenue'], [95, 99])"
   ]
  },
  {
   "cell_type": "markdown",
   "metadata": {},
   "source": [
    "Не более 5% заказов дороже 28 000 у.е. и не более 1% дороже 58 233,2 у.е. 28 000 у.е. будем считать нижней границей. Присвоим это значение переменной `p`"
   ]
  },
  {
   "cell_type": "code",
   "execution_count": 34,
   "metadata": {},
   "outputs": [],
   "source": [
    "p = np.percentile(df_orders['revenue'], [95, 99]).min()"
   ]
  },
  {
   "cell_type": "markdown",
   "metadata": {},
   "source": [
    "### Статистическая значимость различий в конверсии между группами по «сырым» данным"
   ]
  },
  {
   "cell_type": "markdown",
   "metadata": {},
   "source": [
    "Посчитаем статистическую значимость различий в конверсии между группами по «сырым» данным — без удаления аномальных пользователей. Начнём с подготовки данных."
   ]
  },
  {
   "cell_type": "code",
   "execution_count": 35,
   "metadata": {},
   "outputs": [
    {
     "data": {
      "text/html": [
       "<div>\n",
       "<style scoped>\n",
       "    .dataframe tbody tr th:only-of-type {\n",
       "        vertical-align: middle;\n",
       "    }\n",
       "\n",
       "    .dataframe tbody tr th {\n",
       "        vertical-align: top;\n",
       "    }\n",
       "\n",
       "    .dataframe thead th {\n",
       "        text-align: right;\n",
       "    }\n",
       "</style>\n",
       "<table border=\"1\" class=\"dataframe\">\n",
       "  <thead>\n",
       "    <tr style=\"text-align: right;\">\n",
       "      <th></th>\n",
       "      <th>date</th>\n",
       "      <th>ordersPerDateA</th>\n",
       "      <th>revenuePerDateA</th>\n",
       "      <th>ordersPerDateB</th>\n",
       "      <th>revenuePerDateB</th>\n",
       "      <th>ordersCummulativeA</th>\n",
       "      <th>revenueCummulativeA</th>\n",
       "      <th>ordersCummulativeB</th>\n",
       "      <th>revenueCummulativeB</th>\n",
       "      <th>visitorsPerDateA</th>\n",
       "      <th>visitorsPerDateB</th>\n",
       "      <th>visitorsCummulativeA</th>\n",
       "      <th>visitorsCummulativeB</th>\n",
       "    </tr>\n",
       "  </thead>\n",
       "  <tbody>\n",
       "    <tr>\n",
       "      <th>0</th>\n",
       "      <td>2019-08-01</td>\n",
       "      <td>24</td>\n",
       "      <td>148579</td>\n",
       "      <td>21</td>\n",
       "      <td>101217</td>\n",
       "      <td>24</td>\n",
       "      <td>148579</td>\n",
       "      <td>21</td>\n",
       "      <td>101217</td>\n",
       "      <td>719</td>\n",
       "      <td>713</td>\n",
       "      <td>719</td>\n",
       "      <td>713</td>\n",
       "    </tr>\n",
       "    <tr>\n",
       "      <th>1</th>\n",
       "      <td>2019-08-02</td>\n",
       "      <td>20</td>\n",
       "      <td>93822</td>\n",
       "      <td>24</td>\n",
       "      <td>165531</td>\n",
       "      <td>44</td>\n",
       "      <td>242401</td>\n",
       "      <td>45</td>\n",
       "      <td>266748</td>\n",
       "      <td>619</td>\n",
       "      <td>581</td>\n",
       "      <td>1338</td>\n",
       "      <td>1294</td>\n",
       "    </tr>\n",
       "    <tr>\n",
       "      <th>2</th>\n",
       "      <td>2019-08-03</td>\n",
       "      <td>24</td>\n",
       "      <td>112473</td>\n",
       "      <td>16</td>\n",
       "      <td>114248</td>\n",
       "      <td>68</td>\n",
       "      <td>354874</td>\n",
       "      <td>61</td>\n",
       "      <td>380996</td>\n",
       "      <td>507</td>\n",
       "      <td>509</td>\n",
       "      <td>1845</td>\n",
       "      <td>1803</td>\n",
       "    </tr>\n",
       "    <tr>\n",
       "      <th>3</th>\n",
       "      <td>2019-08-04</td>\n",
       "      <td>16</td>\n",
       "      <td>70825</td>\n",
       "      <td>17</td>\n",
       "      <td>108571</td>\n",
       "      <td>84</td>\n",
       "      <td>425699</td>\n",
       "      <td>78</td>\n",
       "      <td>489567</td>\n",
       "      <td>717</td>\n",
       "      <td>770</td>\n",
       "      <td>2562</td>\n",
       "      <td>2573</td>\n",
       "    </tr>\n",
       "    <tr>\n",
       "      <th>4</th>\n",
       "      <td>2019-08-05</td>\n",
       "      <td>25</td>\n",
       "      <td>124218</td>\n",
       "      <td>23</td>\n",
       "      <td>92428</td>\n",
       "      <td>109</td>\n",
       "      <td>549917</td>\n",
       "      <td>101</td>\n",
       "      <td>581995</td>\n",
       "      <td>756</td>\n",
       "      <td>707</td>\n",
       "      <td>3318</td>\n",
       "      <td>3280</td>\n",
       "    </tr>\n",
       "  </tbody>\n",
       "</table>\n",
       "</div>"
      ],
      "text/plain": [
       "        date  ordersPerDateA  revenuePerDateA  ordersPerDateB  \\\n",
       "0 2019-08-01              24           148579              21   \n",
       "1 2019-08-02              20            93822              24   \n",
       "2 2019-08-03              24           112473              16   \n",
       "3 2019-08-04              16            70825              17   \n",
       "4 2019-08-05              25           124218              23   \n",
       "\n",
       "   revenuePerDateB  ordersCummulativeA  revenueCummulativeA  \\\n",
       "0           101217                  24               148579   \n",
       "1           165531                  44               242401   \n",
       "2           114248                  68               354874   \n",
       "3           108571                  84               425699   \n",
       "4            92428                 109               549917   \n",
       "\n",
       "   ordersCummulativeB  revenueCummulativeB  visitorsPerDateA  \\\n",
       "0                  21               101217               719   \n",
       "1                  45               266748               619   \n",
       "2                  61               380996               507   \n",
       "3                  78               489567               717   \n",
       "4                 101               581995               756   \n",
       "\n",
       "   visitorsPerDateB  visitorsCummulativeA  visitorsCummulativeB  \n",
       "0               713                   719                   713  \n",
       "1               581                  1338                  1294  \n",
       "2               509                  1845                  1803  \n",
       "3               770                  2562                  2573  \n",
       "4               707                  3318                  3280  "
      ]
     },
     "execution_count": 35,
     "metadata": {},
     "output_type": "execute_result"
    }
   ],
   "source": [
    "visitorsADaily = df_visitors[df_visitors['group'] == 'A'][['date', 'visitors']]\n",
    "visitorsADaily.columns = ['date', 'visitorsPerDateA']\n",
    "\n",
    "visitorsACummulative = visitorsADaily.apply(\n",
    "    lambda x: visitorsADaily[visitorsADaily['date'] <= x['date']].agg(\n",
    "        {'date': 'max', 'visitorsPerDateA': 'sum'}),axis=1,)\n",
    "\n",
    "visitorsACummulative.columns = ['date', 'visitorsCummulativeA']\n",
    "\n",
    "visitorsBDaily = df_visitors[df_visitors['group'] == 'B'][['date', 'visitors']]\n",
    "visitorsBDaily.columns = ['date', 'visitorsPerDateB']\n",
    "\n",
    "visitorsBCummulative = visitorsBDaily.apply(\n",
    "    lambda x: visitorsBDaily[visitorsBDaily['date'] <= x['date']].agg(\n",
    "        {'date': 'max',\n",
    "         'visitorsPerDateB': 'sum'}), axis=1,)\n",
    "\n",
    "visitorsBCummulative.columns = ['date', 'visitorsCummulativeB']\n",
    "\n",
    "\n",
    "ordersADaily = (\n",
    "    df_orders[df_orders['group'] == 'A'][['date', 'transactionid', 'visitorid', 'revenue']]\n",
    "    .groupby('date', as_index=False)\n",
    "    .agg({'transactionid': pd.Series.nunique, 'revenue': 'sum'}))\n",
    "\n",
    "ordersADaily.columns = ['date', 'ordersPerDateA', 'revenuePerDateA']\n",
    "\n",
    "ordersACummulative = ordersADaily.apply(\n",
    "    lambda x: ordersADaily[ordersADaily['date'] <= x['date']].agg(\n",
    "        {'date': 'max',\n",
    "         'ordersPerDateA': 'sum',\n",
    "         'revenuePerDateA': 'sum'}), axis=1,).sort_values(by=['date'])\n",
    "\n",
    "ordersACummulative.columns = ['date', 'ordersCummulativeA', 'revenueCummulativeA',]\n",
    "\n",
    "ordersBDaily = (\n",
    "    df_orders[df_orders['group'] == 'B'][['date', 'transactionid', 'visitorid', 'revenue']]\n",
    "    .groupby('date', as_index=False)\n",
    "    .agg({'transactionid': pd.Series.nunique, 'revenue': 'sum'}))\n",
    "\n",
    "ordersBDaily.columns = ['date', 'ordersPerDateB', 'revenuePerDateB']\n",
    "\n",
    "ordersBCummulative = ordersBDaily.apply(\n",
    "    lambda x: ordersBDaily[ordersBDaily['date'] <= x['date']].agg(\n",
    "        {'date': 'max',\n",
    "         'ordersPerDateB': 'sum',\n",
    "         'revenuePerDateB': 'sum'}), axis=1,).sort_values(by=['date'])\n",
    "\n",
    "ordersBCummulative.columns = ['date', 'ordersCummulativeB', 'revenueCummulativeB',]\n",
    "\n",
    "df_all = (\n",
    "    ordersADaily.merge(\n",
    "        ordersBDaily, left_on='date', right_on='date', how='left')\n",
    "    .merge(ordersACummulative, left_on='date', right_on='date', how='left')\n",
    "    .merge(ordersBCummulative, left_on='date', right_on='date', how='left')\n",
    "    .merge(visitorsADaily, left_on='date', right_on='date', how='left')\n",
    "    .merge(visitorsBDaily, left_on='date', right_on='date', how='left')\n",
    "    .merge(visitorsACummulative, left_on='date', right_on='date', how='left')\n",
    "    .merge(visitorsBCummulative, left_on='date', right_on='date', how='left')\n",
    ")\n",
    "\n",
    "df_all.head() "
   ]
  },
  {
   "cell_type": "markdown",
   "metadata": {},
   "source": [
    "Посчитаем статистическую значимость различия в конверсии между группами.\n",
    "Создадим переменные `ordersByUsersA` и `ordersByUsersB` со столбцами `visitorid` и `orders`. В них для пользователей, которые заказывали хотя бы 1 раз, укажем число совершённых заказов."
   ]
  },
  {
   "cell_type": "code",
   "execution_count": 36,
   "metadata": {},
   "outputs": [],
   "source": [
    "ordersByUsersA = (df_orders[df_orders['group'] == 'A']\n",
    "    .groupby('visitorid', as_index=False)\n",
    "    .agg({'transactionid': pd.Series.nunique}))\n",
    "\n",
    "ordersByUsersA.columns = ['userId', 'orders']\n",
    "\n",
    "ordersByUsersB = (df_orders[df_orders['group'] == 'B']\n",
    "    .groupby('visitorid', as_index=False)\n",
    "    .agg({'transactionid': pd.Series.nunique}))\n",
    "\n",
    "ordersByUsersB.columns = ['userId', 'orders'] "
   ]
  },
  {
   "cell_type": "markdown",
   "metadata": {},
   "source": [
    "Объявим переменные `sampleA` и `sampleB`, в которых пользователям из разных групп будет соответствовать количество заказов. Тем, кто ничего не заказал, будут соответствовать нули. Это нужно, чтобы подготовить выборки к проверке критерием Манна-Уитни."
   ]
  },
  {
   "cell_type": "code",
   "execution_count": 37,
   "metadata": {},
   "outputs": [],
   "source": [
    "sampleA = pd.concat([ordersByUsersA['orders'],pd.Series(0, index=np.arange(df_all['visitorsPerDateA'].sum() - len(ordersByUsersA['orders'])), name='orders')],axis=0)\n",
    "sampleB = pd.concat([ordersByUsersB['orders'],pd.Series(0, index=np.arange(df_all['visitorsPerDateB'].sum() - len(ordersByUsersB['orders'])), name='orders')],axis=0)"
   ]
  },
  {
   "cell_type": "markdown",
   "metadata": {},
   "source": [
    "Применим критерий и отформатируем p-value, округлив его до трёх знаков после запятой."
   ]
  },
  {
   "cell_type": "markdown",
   "metadata": {},
   "source": [
    "Сформулируем нулевую и альтернативные гипотезы:\n",
    "\n",
    "- **h0** - по \"сырым\" данным статистически значимых различий в конверсии между группами нет;\n",
    "- **h1** - по \"сырым\" данным конверсия пользователей в группах различается.\n",
    "\n",
    "Критический уровень статистической значимости `alpha` = .05"
   ]
  },
  {
   "cell_type": "code",
   "execution_count": 38,
   "metadata": {},
   "outputs": [
    {
     "name": "stdout",
     "output_type": "stream",
     "text": [
      "Значение p-value: 0.017\n",
      "Относительное изменение конверсии группы B к группе А: 0.138\n"
     ]
    }
   ],
   "source": [
    "print(\"Значение p-value:\", \"{0:.3f}\".format(stats.mannwhitneyu(sampleA, sampleB)[1]))\n",
    "print(\"Относительное изменение конверсии группы B к группе А:\", \"{0:.3f}\".format(sampleB.mean() / sampleA.mean() - 1))"
   ]
  },
  {
   "cell_type": "markdown",
   "metadata": {},
   "source": [
    "Значение p-value меньше 0.05. Из этого следует, что нулевую гипотезу о том, что статистически значимых различий в конверсии между группами нет, отвергаем. Следовательно, **по \"сырым\" данным конверсия пользователей в группах различается**.\n",
    "\n",
    "Относительный выигрыш группы B равен 13,8%.\n"
   ]
  },
  {
   "cell_type": "markdown",
   "metadata": {},
   "source": [
    "### Статистическая значимость различий в среднем чеке заказа между группами по «сырым» данным"
   ]
  },
  {
   "cell_type": "markdown",
   "metadata": {},
   "source": [
    "Сформулируем нулевую и альтернативные гипотезы:\n",
    "- **h0** - по \"сырым\" данным статистически значимых различий в среднем чеке между группами нет;\n",
    "- **h1** - по \"сырым\" данным средний чек пользователей в группах различается.\n",
    "\n",
    "Критический уровень статистической значимости `alpha` = .05"
   ]
  },
  {
   "cell_type": "code",
   "execution_count": 39,
   "metadata": {},
   "outputs": [
    {
     "name": "stdout",
     "output_type": "stream",
     "text": [
      "Значение p-value: 0.729\n",
      "Относительное изменение среднего чека группы B к группе А: 0.259\n"
     ]
    }
   ],
   "source": [
    "print(\"Значение p-value:\", '{0:.3f}'.format(stats.mannwhitneyu(df_orders[df_orders['group']=='A']['revenue'], df_orders[df_orders['group']=='B']['revenue'])[1]))\n",
    "print(\"Относительное изменение среднего чека группы B к группе А:\", '{0:.3f}'.format(df_orders[df_orders['group']=='B']['revenue'].mean() / df_orders[df_orders['group']=='A']['revenue'].mean()-1))"
   ]
  },
  {
   "cell_type": "markdown",
   "metadata": {},
   "source": [
    "Значение p-value больше 0.05. Значит принимаем нулевую гипотезу. Следовательно, **по \"сырым\" данным статистически значимых различий в среднем чеке между группами нет**."
   ]
  },
  {
   "cell_type": "markdown",
   "metadata": {},
   "source": [
    "### Статистическая значимость различий в конверсии между группами по «очищенным» данным"
   ]
  },
  {
   "cell_type": "markdown",
   "metadata": {},
   "source": [
    "Сделаем срезы пользователей с числом заказов больше 4 — `usersWithManyOrders` и пользователей, совершивших заказы дороже 28 000 у.е. — `usersWithExpensiveOrders`. Объединим их в таблице `abnormalUsers`. Узнаем, сколько всего аномальных пользователей методом `shape()`."
   ]
  },
  {
   "cell_type": "code",
   "execution_count": 40,
   "metadata": {},
   "outputs": [
    {
     "name": "stdout",
     "output_type": "stream",
     "text": [
      "1099    148427295\n",
      "928     204675465\n",
      "684     358944393\n",
      "648     382846391\n",
      "1189    393266494\n",
      "dtype: int64\n",
      "(59,)\n"
     ]
    }
   ],
   "source": [
    "usersWithManyOrders = pd.concat(\n",
    "    [ordersByUsersA[ordersByUsersA['orders'] > i]['userId'],\n",
    "     ordersByUsersB[ordersByUsersB['orders'] > i]['userId'],], axis=0,)\n",
    "\n",
    "usersWithExpensiveOrders = df_orders[df_orders['revenue'] > p]['visitorid']\n",
    "\n",
    "abnormalUsers = (\n",
    "    pd.concat([usersWithManyOrders, usersWithExpensiveOrders], axis=0)\n",
    "    .drop_duplicates()\n",
    "    .sort_values()\n",
    ")\n",
    "print(abnormalUsers.head())\n",
    "print(abnormalUsers.shape) "
   ]
  },
  {
   "cell_type": "markdown",
   "metadata": {},
   "source": [
    "Всего 59 аномальных пользователей."
   ]
  },
  {
   "cell_type": "markdown",
   "metadata": {},
   "source": [
    "Посчитаем статистическую значимость различий в конверсии между группами теста по очищенным данным. Сначала подготовим выборки количества заказов по пользователям по группам теста:"
   ]
  },
  {
   "cell_type": "code",
   "execution_count": 41,
   "metadata": {},
   "outputs": [],
   "source": [
    "sampleAFiltered = pd.concat(\n",
    "    [ordersByUsersA[np.logical_not(ordersByUsersA['userId'].isin(abnormalUsers))]['orders'],\n",
    "     pd.Series(0, index=np.arange(df_all['visitorsPerDateA'].sum() - len(ordersByUsersA['orders'])), name='orders', ), ], axis=0,)\n",
    "\n",
    "sampleBFiltered = pd.concat(\n",
    "    [ordersByUsersB[np.logical_not(ordersByUsersB['userId'].isin(abnormalUsers))]['orders'],\n",
    "     pd.Series(0, index=np.arange(df_all['visitorsPerDateB'].sum() - len(ordersByUsersB['orders'])), name='orders', ), ], axis=0,) "
   ]
  },
  {
   "cell_type": "markdown",
   "metadata": {},
   "source": [
    "Сформулируем нулевую и альтернативные гипотезы:\n",
    "\n",
    "- **h0** - по \"очищенным\" данным статистически значимых различий в конверсии между группами нет;\n",
    "- **h1** - по \"очищенным\" данным конверсия пользователей в группах различается.\n",
    "\n",
    "Критический уровень статистической значимости `alpha` = .05"
   ]
  },
  {
   "cell_type": "code",
   "execution_count": 42,
   "metadata": {},
   "outputs": [
    {
     "name": "stdout",
     "output_type": "stream",
     "text": [
      "Значение p-value: 0.018\n",
      "Относительное изменение конверсии группы B к группе А: 0.145\n"
     ]
    }
   ],
   "source": [
    "print(\"Значение p-value:\", '{0:.3f}'.format(stats.mannwhitneyu(sampleAFiltered, sampleBFiltered)[1]))\n",
    "print(\"Относительное изменение конверсии группы B к группе А:\", '{0:.3f}'.format(sampleBFiltered.mean()/sampleAFiltered.mean()-1)) "
   ]
  },
  {
   "cell_type": "markdown",
   "metadata": {},
   "source": [
    "Значение p-value меньше 0.05. Из этого следует, что нулевую гипотезу о том, что статистически значимых различий в конверсии между группами нет, отвергаем. Следовательно, **по \"очищенным\" данным конверсия пользователей в группах различается**."
   ]
  },
  {
   "cell_type": "markdown",
   "metadata": {},
   "source": [
    "### Статистическая значимость различий  в среднем чеке заказа между группами по «очищенным» данным"
   ]
  },
  {
   "cell_type": "markdown",
   "metadata": {},
   "source": [
    "Сформулируем нулевую и альтернативные гипотезы:\n",
    "\n",
    "- **h0** - по \"очищенным\" данным статистически значимых различий в среднем чеке между группами нет;\n",
    "- **h1** - по \"очищенным\" данным средний чек пользователей в группах различается.\n",
    "\n",
    "Критический уровень статистической значимости `alpha` = .05"
   ]
  },
  {
   "cell_type": "code",
   "execution_count": 43,
   "metadata": {},
   "outputs": [
    {
     "name": "stdout",
     "output_type": "stream",
     "text": [
      "Значение p-value 0.961\n",
      "Относительное изменение среднего чека группы B к группе А: -0.014\n"
     ]
    }
   ],
   "source": [
    "print(\"Значение p-value\", '{0:.3f}'.format(stats.mannwhitneyu(df_orders[\n",
    "    np.logical_and(df_orders['group'] == 'A', np.logical_not(df_orders['visitorid'].isin(abnormalUsers)),)]['revenue'],df_orders[\n",
    "    np.logical_and(df_orders['group'] == 'B', np.logical_not(df_orders['visitorid'].isin(abnormalUsers)),)]['revenue'],)[1]))\n",
    "\n",
    "print(\"Относительное изменение среднего чека группы B к группе А:\", \"{0:.3f}\".format(df_orders[\n",
    "    np.logical_and(df_orders['group'] == 'B', np.logical_not(df_orders['visitorid'].isin(abnormalUsers)),)]['revenue'].mean() / df_orders[\n",
    "    np.logical_and(df_orders['group'] == 'A', np.logical_not(df_orders['visitorid'].isin(abnormalUsers)),)]['revenue'].mean() - 1)) "
   ]
  },
  {
   "cell_type": "markdown",
   "metadata": {},
   "source": [
    "Значение p-value больше 0.05. Значит принимаем нулевую гипотезу. Следовательно, **по \"очищенным\" данным статистически значимых различий в среднем чеке между группами нет**.\n",
    "Относительное изменение среднего чека изменилось. "
   ]
  },
  {
   "cell_type": "markdown",
   "metadata": {},
   "source": [
    "### Выводы"
   ]
  },
  {
   "cell_type": "markdown",
   "metadata": {},
   "source": [
    "По полученным результатам тест следует остановить и **признать успешным**.\n",
    "\n",
    "Имеющиеся факты:\n",
    "- **Есть статистически значимое различие по конверсии** между группами по «сырым» и по данным после фильтрации аномалий;\n",
    "- **Нет статистически значимого различия по среднему чеку** между группами по «сырым» данным, после фильтрации аномалий видим снижение между сегментами;\n",
    "- График различия конверсии между группами сообщает, что результаты группы B лучше группы A и есть значительной тенденции к улучшению;\n",
    "- График различия среднего чека говорит о том, что результаты группы B значительно лучше результатов группы А."
   ]
  }
 ],
 "metadata": {
  "ExecuteTimeLog": [
   {
    "duration": 2,
    "start_time": "2022-05-19T10:08:57.467Z"
   },
   {
    "duration": 1426,
    "start_time": "2022-05-19T10:28:36.732Z"
   },
   {
    "duration": 6,
    "start_time": "2022-05-19T10:29:35.666Z"
   },
   {
    "duration": 110,
    "start_time": "2022-05-19T10:32:20.621Z"
   },
   {
    "duration": 11,
    "start_time": "2022-05-19T10:32:25.226Z"
   },
   {
    "duration": 11,
    "start_time": "2022-05-19T10:32:32.095Z"
   },
   {
    "duration": 10,
    "start_time": "2022-05-19T10:32:38.695Z"
   },
   {
    "duration": 19,
    "start_time": "2022-05-19T10:33:27.003Z"
   },
   {
    "duration": 21,
    "start_time": "2022-05-19T10:36:59.413Z"
   },
   {
    "duration": 16,
    "start_time": "2022-05-19T10:39:46.744Z"
   },
   {
    "duration": 2,
    "start_time": "2022-05-19T10:42:11.723Z"
   },
   {
    "duration": 108,
    "start_time": "2022-05-19T10:45:24.467Z"
   },
   {
    "duration": 9,
    "start_time": "2022-05-19T10:45:35.370Z"
   },
   {
    "duration": 14,
    "start_time": "2022-05-19T10:46:44.777Z"
   },
   {
    "duration": 8,
    "start_time": "2022-05-19T10:47:14.191Z"
   },
   {
    "duration": 11,
    "start_time": "2022-05-19T10:47:20.654Z"
   },
   {
    "duration": 11,
    "start_time": "2022-05-19T10:47:39.265Z"
   },
   {
    "duration": 4,
    "start_time": "2022-05-19T10:53:26.802Z"
   },
   {
    "duration": 8,
    "start_time": "2022-05-19T10:53:31.803Z"
   },
   {
    "duration": 3,
    "start_time": "2022-05-19T10:54:08.445Z"
   },
   {
    "duration": 4,
    "start_time": "2022-05-19T10:54:36.230Z"
   },
   {
    "duration": 5,
    "start_time": "2022-05-19T10:54:43.470Z"
   },
   {
    "duration": 10,
    "start_time": "2022-05-19T10:58:56.503Z"
   },
   {
    "duration": 13,
    "start_time": "2022-05-19T10:59:05.964Z"
   },
   {
    "duration": 10,
    "start_time": "2022-05-19T10:59:18.570Z"
   },
   {
    "duration": 10,
    "start_time": "2022-05-19T10:59:32.982Z"
   },
   {
    "duration": 2,
    "start_time": "2022-05-19T11:01:47.870Z"
   },
   {
    "duration": 7,
    "start_time": "2022-05-19T11:05:34.357Z"
   },
   {
    "duration": 2,
    "start_time": "2022-05-19T11:06:50.069Z"
   },
   {
    "duration": 264,
    "start_time": "2022-05-19T11:11:23.235Z"
   },
   {
    "duration": 9,
    "start_time": "2022-05-19T11:11:29.773Z"
   },
   {
    "duration": 1046,
    "start_time": "2022-05-19T11:12:54.552Z"
   },
   {
    "duration": 6,
    "start_time": "2022-05-19T11:12:55.600Z"
   },
   {
    "duration": 43,
    "start_time": "2022-05-19T11:12:55.607Z"
   },
   {
    "duration": 26,
    "start_time": "2022-05-19T11:12:55.652Z"
   },
   {
    "duration": 19,
    "start_time": "2022-05-19T11:12:55.679Z"
   },
   {
    "duration": 16,
    "start_time": "2022-05-19T11:12:55.699Z"
   },
   {
    "duration": 4,
    "start_time": "2022-05-19T11:12:55.716Z"
   },
   {
    "duration": 8,
    "start_time": "2022-05-19T11:12:55.721Z"
   },
   {
    "duration": 6,
    "start_time": "2022-05-19T11:12:55.730Z"
   },
   {
    "duration": 12,
    "start_time": "2022-05-19T11:12:55.739Z"
   },
   {
    "duration": 42,
    "start_time": "2022-05-19T11:12:55.753Z"
   },
   {
    "duration": 11,
    "start_time": "2022-05-19T11:12:55.797Z"
   },
   {
    "duration": 9,
    "start_time": "2022-05-19T11:12:55.809Z"
   },
   {
    "duration": 0,
    "start_time": "2022-05-19T11:12:55.819Z"
   },
   {
    "duration": 0,
    "start_time": "2022-05-19T11:12:55.820Z"
   },
   {
    "duration": 7,
    "start_time": "2022-05-19T11:13:03.922Z"
   },
   {
    "duration": 16,
    "start_time": "2022-05-19T11:13:07.318Z"
   },
   {
    "duration": 4,
    "start_time": "2022-05-19T11:14:02.147Z"
   },
   {
    "duration": 1071,
    "start_time": "2022-05-19T11:14:49.650Z"
   },
   {
    "duration": 5,
    "start_time": "2022-05-19T11:14:50.723Z"
   },
   {
    "duration": 45,
    "start_time": "2022-05-19T11:14:50.729Z"
   },
   {
    "duration": 21,
    "start_time": "2022-05-19T11:14:50.776Z"
   },
   {
    "duration": 18,
    "start_time": "2022-05-19T11:14:50.800Z"
   },
   {
    "duration": 16,
    "start_time": "2022-05-19T11:14:50.819Z"
   },
   {
    "duration": 3,
    "start_time": "2022-05-19T11:14:50.836Z"
   },
   {
    "duration": 6,
    "start_time": "2022-05-19T11:14:50.841Z"
   },
   {
    "duration": 10,
    "start_time": "2022-05-19T11:14:50.848Z"
   },
   {
    "duration": 44,
    "start_time": "2022-05-19T11:14:50.860Z"
   },
   {
    "duration": 14,
    "start_time": "2022-05-19T11:14:50.905Z"
   },
   {
    "duration": 11,
    "start_time": "2022-05-19T11:14:50.921Z"
   },
   {
    "duration": 10,
    "start_time": "2022-05-19T11:14:50.934Z"
   },
   {
    "duration": 11,
    "start_time": "2022-05-19T11:14:50.946Z"
   },
   {
    "duration": 424,
    "start_time": "2022-05-19T11:19:27.817Z"
   },
   {
    "duration": 80,
    "start_time": "2022-05-19T11:19:29.984Z"
   },
   {
    "duration": 351,
    "start_time": "2022-05-19T11:19:30.565Z"
   },
   {
    "duration": 6,
    "start_time": "2022-05-19T11:22:25.353Z"
   },
   {
    "duration": 431,
    "start_time": "2022-05-19T11:22:25.772Z"
   },
   {
    "duration": 6,
    "start_time": "2022-05-19T11:23:41.666Z"
   },
   {
    "duration": 197,
    "start_time": "2022-05-19T11:23:42.024Z"
   },
   {
    "duration": 6,
    "start_time": "2022-05-19T11:23:50.976Z"
   },
   {
    "duration": 348,
    "start_time": "2022-05-19T11:23:51.294Z"
   },
   {
    "duration": 8,
    "start_time": "2022-05-19T11:25:13.696Z"
   },
   {
    "duration": 187,
    "start_time": "2022-05-19T11:25:14.240Z"
   },
   {
    "duration": 6,
    "start_time": "2022-05-19T11:25:47.260Z"
   },
   {
    "duration": 367,
    "start_time": "2022-05-19T11:25:47.790Z"
   },
   {
    "duration": 7,
    "start_time": "2022-05-19T11:26:05.310Z"
   },
   {
    "duration": 344,
    "start_time": "2022-05-19T11:26:06.605Z"
   },
   {
    "duration": 11,
    "start_time": "2022-05-19T11:28:07.470Z"
   },
   {
    "duration": 16,
    "start_time": "2022-05-19T11:32:32.951Z"
   },
   {
    "duration": 12,
    "start_time": "2022-05-19T11:32:40.408Z"
   },
   {
    "duration": 12,
    "start_time": "2022-05-19T11:34:32.224Z"
   },
   {
    "duration": 13,
    "start_time": "2022-05-19T11:34:40.921Z"
   },
   {
    "duration": 12,
    "start_time": "2022-05-19T11:39:12.007Z"
   },
   {
    "duration": 13,
    "start_time": "2022-05-19T12:21:32.310Z"
   },
   {
    "duration": 10,
    "start_time": "2022-05-19T12:21:40.102Z"
   },
   {
    "duration": 9,
    "start_time": "2022-05-19T12:21:55.982Z"
   },
   {
    "duration": 11,
    "start_time": "2022-05-19T12:22:01.982Z"
   },
   {
    "duration": 16,
    "start_time": "2022-05-19T12:24:26.421Z"
   },
   {
    "duration": 654,
    "start_time": "2022-05-19T12:26:04.054Z"
   },
   {
    "duration": 7,
    "start_time": "2022-05-19T12:29:29.183Z"
   },
   {
    "duration": 26,
    "start_time": "2022-05-19T12:44:53.599Z"
   },
   {
    "duration": 161,
    "start_time": "2022-05-19T12:45:13.320Z"
   },
   {
    "duration": 175,
    "start_time": "2022-05-19T12:45:13.766Z"
   },
   {
    "duration": 131,
    "start_time": "2022-05-19T12:50:12.404Z"
   },
   {
    "duration": 13,
    "start_time": "2022-05-19T12:51:39.258Z"
   },
   {
    "duration": 187,
    "start_time": "2022-05-19T12:52:25.446Z"
   },
   {
    "duration": 184,
    "start_time": "2022-05-19T12:53:22.920Z"
   },
   {
    "duration": 189,
    "start_time": "2022-05-19T12:54:15.170Z"
   },
   {
    "duration": 199,
    "start_time": "2022-05-19T12:55:21.679Z"
   },
   {
    "duration": 39,
    "start_time": "2022-05-19T12:55:47.482Z"
   },
   {
    "duration": 305,
    "start_time": "2022-05-19T12:56:07.027Z"
   },
   {
    "duration": 237,
    "start_time": "2022-05-19T12:56:29.341Z"
   },
   {
    "duration": 214,
    "start_time": "2022-05-19T12:56:56.658Z"
   },
   {
    "duration": 2,
    "start_time": "2022-05-19T13:02:51.205Z"
   },
   {
    "duration": 211,
    "start_time": "2022-05-19T13:03:42.385Z"
   },
   {
    "duration": 343,
    "start_time": "2022-05-19T13:05:00.427Z"
   },
   {
    "duration": 236,
    "start_time": "2022-05-19T13:06:00.795Z"
   },
   {
    "duration": 238,
    "start_time": "2022-05-19T13:06:15.381Z"
   },
   {
    "duration": 302,
    "start_time": "2022-05-19T13:10:54.251Z"
   },
   {
    "duration": 311,
    "start_time": "2022-05-19T13:11:14.607Z"
   },
   {
    "duration": 397,
    "start_time": "2022-05-19T13:11:58.745Z"
   },
   {
    "duration": 334,
    "start_time": "2022-05-19T13:12:05.095Z"
   },
   {
    "duration": 52,
    "start_time": "2022-05-19T13:17:24.508Z"
   },
   {
    "duration": 240,
    "start_time": "2022-05-19T13:20:03.409Z"
   },
   {
    "duration": 220,
    "start_time": "2022-05-19T13:20:07.749Z"
   },
   {
    "duration": 229,
    "start_time": "2022-05-19T13:20:28.221Z"
   },
   {
    "duration": 245,
    "start_time": "2022-05-19T13:21:08.412Z"
   },
   {
    "duration": 253,
    "start_time": "2022-05-19T13:21:37.826Z"
   },
   {
    "duration": 243,
    "start_time": "2022-05-19T13:21:51.583Z"
   },
   {
    "duration": 381,
    "start_time": "2022-05-19T13:22:30.169Z"
   },
   {
    "duration": 295,
    "start_time": "2022-05-19T13:26:31.030Z"
   },
   {
    "duration": 320,
    "start_time": "2022-05-19T13:26:56.644Z"
   },
   {
    "duration": 320,
    "start_time": "2022-05-19T13:27:54.912Z"
   },
   {
    "duration": 335,
    "start_time": "2022-05-19T13:28:43.830Z"
   },
   {
    "duration": 3,
    "start_time": "2022-05-19T13:33:58.413Z"
   },
   {
    "duration": 10,
    "start_time": "2022-05-19T13:42:26.372Z"
   },
   {
    "duration": 14,
    "start_time": "2022-05-19T13:42:46.522Z"
   },
   {
    "duration": 22,
    "start_time": "2022-05-19T13:42:58.863Z"
   },
   {
    "duration": 149,
    "start_time": "2022-05-19T13:43:07.757Z"
   },
   {
    "duration": 152,
    "start_time": "2022-05-19T13:44:13.813Z"
   },
   {
    "duration": 154,
    "start_time": "2022-05-19T13:46:21.293Z"
   },
   {
    "duration": 152,
    "start_time": "2022-05-19T13:48:11.849Z"
   },
   {
    "duration": 145,
    "start_time": "2022-05-19T13:48:34.458Z"
   },
   {
    "duration": 144,
    "start_time": "2022-05-19T13:49:05.362Z"
   },
   {
    "duration": 145,
    "start_time": "2022-05-19T13:58:51.869Z"
   },
   {
    "duration": 156,
    "start_time": "2022-05-19T13:58:58.652Z"
   },
   {
    "duration": 160,
    "start_time": "2022-05-19T13:59:20.103Z"
   },
   {
    "duration": 158,
    "start_time": "2022-05-19T13:59:34.760Z"
   },
   {
    "duration": 31,
    "start_time": "2022-05-19T14:01:04.426Z"
   },
   {
    "duration": 125,
    "start_time": "2022-05-19T14:01:25.245Z"
   },
   {
    "duration": 269,
    "start_time": "2022-05-19T14:02:05.444Z"
   },
   {
    "duration": 162,
    "start_time": "2022-05-19T14:02:15.856Z"
   },
   {
    "duration": 7,
    "start_time": "2022-05-19T14:05:10.125Z"
   },
   {
    "duration": 5,
    "start_time": "2022-05-19T14:54:18.125Z"
   },
   {
    "duration": 546,
    "start_time": "2022-05-19T15:00:18.421Z"
   },
   {
    "duration": 132,
    "start_time": "2022-05-19T15:00:26.644Z"
   },
   {
    "duration": 172,
    "start_time": "2022-05-19T15:00:35.080Z"
   },
   {
    "duration": 138,
    "start_time": "2022-05-19T15:01:57.580Z"
   },
   {
    "duration": 185,
    "start_time": "2022-05-19T15:02:04.147Z"
   },
   {
    "duration": 175,
    "start_time": "2022-05-19T15:02:10.743Z"
   },
   {
    "duration": 3,
    "start_time": "2022-05-19T15:05:46.383Z"
   },
   {
    "duration": 12,
    "start_time": "2022-05-19T15:07:26.106Z"
   },
   {
    "duration": 7,
    "start_time": "2022-05-19T15:07:31.834Z"
   },
   {
    "duration": 254,
    "start_time": "2022-05-19T15:19:51.790Z"
   },
   {
    "duration": 88,
    "start_time": "2022-05-19T15:23:39.773Z"
   },
   {
    "duration": 166,
    "start_time": "2022-05-19T15:23:47.546Z"
   },
   {
    "duration": 7,
    "start_time": "2022-05-19T15:25:47.692Z"
   },
   {
    "duration": 11,
    "start_time": "2022-05-19T15:29:20.928Z"
   },
   {
    "duration": 5,
    "start_time": "2022-05-19T15:31:08.044Z"
   },
   {
    "duration": 30,
    "start_time": "2022-05-19T15:31:17.428Z"
   },
   {
    "duration": 13,
    "start_time": "2022-05-19T15:37:40.196Z"
   },
   {
    "duration": 16,
    "start_time": "2022-05-19T15:48:11.615Z"
   },
   {
    "duration": 408,
    "start_time": "2022-05-19T15:48:21.558Z"
   },
   {
    "duration": 10,
    "start_time": "2022-05-19T15:48:33.418Z"
   },
   {
    "duration": 9,
    "start_time": "2022-05-19T15:53:16.423Z"
   },
   {
    "duration": 29,
    "start_time": "2022-05-19T15:54:37.844Z"
   },
   {
    "duration": 28,
    "start_time": "2022-05-19T16:02:44.947Z"
   },
   {
    "duration": 16,
    "start_time": "2022-05-19T16:03:14.535Z"
   },
   {
    "duration": 1327,
    "start_time": "2022-05-19T16:08:02.869Z"
   },
   {
    "duration": 6,
    "start_time": "2022-05-19T16:08:04.198Z"
   },
   {
    "duration": 45,
    "start_time": "2022-05-19T16:08:04.206Z"
   },
   {
    "duration": 30,
    "start_time": "2022-05-19T16:08:04.254Z"
   },
   {
    "duration": 24,
    "start_time": "2022-05-19T16:08:04.286Z"
   },
   {
    "duration": 22,
    "start_time": "2022-05-19T16:08:04.312Z"
   },
   {
    "duration": 4,
    "start_time": "2022-05-19T16:08:04.336Z"
   },
   {
    "duration": 10,
    "start_time": "2022-05-19T16:08:04.342Z"
   },
   {
    "duration": 41,
    "start_time": "2022-05-19T16:08:04.354Z"
   },
   {
    "duration": 18,
    "start_time": "2022-05-19T16:08:04.399Z"
   },
   {
    "duration": 18,
    "start_time": "2022-05-19T16:08:04.418Z"
   },
   {
    "duration": 14,
    "start_time": "2022-05-19T16:08:04.438Z"
   },
   {
    "duration": 49,
    "start_time": "2022-05-19T16:08:04.455Z"
   },
   {
    "duration": 16,
    "start_time": "2022-05-19T16:08:04.508Z"
   },
   {
    "duration": 15,
    "start_time": "2022-05-19T16:08:04.526Z"
   },
   {
    "duration": 12,
    "start_time": "2022-05-19T16:08:04.544Z"
   },
   {
    "duration": 10,
    "start_time": "2022-05-19T16:08:04.558Z"
   },
   {
    "duration": 13,
    "start_time": "2022-05-19T16:08:04.594Z"
   },
   {
    "duration": 221,
    "start_time": "2022-05-19T16:08:04.609Z"
   },
   {
    "duration": 143,
    "start_time": "2022-05-19T16:08:04.831Z"
   },
   {
    "duration": 25,
    "start_time": "2022-05-19T16:08:04.976Z"
   },
   {
    "duration": 466,
    "start_time": "2022-05-19T16:08:05.004Z"
   },
   {
    "duration": 250,
    "start_time": "2022-05-19T16:08:05.472Z"
   },
   {
    "duration": 344,
    "start_time": "2022-05-19T16:08:05.724Z"
   },
   {
    "duration": 271,
    "start_time": "2022-05-19T16:08:06.070Z"
   },
   {
    "duration": 385,
    "start_time": "2022-05-19T16:08:06.344Z"
   },
   {
    "duration": 160,
    "start_time": "2022-05-19T16:08:06.731Z"
   },
   {
    "duration": 171,
    "start_time": "2022-05-19T16:08:06.896Z"
   },
   {
    "duration": 172,
    "start_time": "2022-05-19T16:08:07.069Z"
   },
   {
    "duration": 6,
    "start_time": "2022-05-19T16:08:07.244Z"
   },
   {
    "duration": 197,
    "start_time": "2022-05-19T16:08:07.252Z"
   },
   {
    "duration": 6,
    "start_time": "2022-05-19T16:08:07.452Z"
   },
   {
    "duration": 261,
    "start_time": "2022-05-19T16:08:07.460Z"
   },
   {
    "duration": 154,
    "start_time": "2022-05-19T16:08:07.723Z"
   },
   {
    "duration": 14,
    "start_time": "2022-05-19T16:08:07.880Z"
   },
   {
    "duration": 31,
    "start_time": "2022-05-19T16:08:07.896Z"
   },
   {
    "duration": 12,
    "start_time": "2022-05-19T16:08:07.929Z"
   },
   {
    "duration": 10,
    "start_time": "2022-05-19T16:08:07.943Z"
   },
   {
    "duration": 39,
    "start_time": "2022-05-19T16:08:07.955Z"
   },
   {
    "duration": 31,
    "start_time": "2022-05-19T16:08:07.996Z"
   },
   {
    "duration": 23,
    "start_time": "2022-05-19T16:08:08.029Z"
   },
   {
    "duration": 6,
    "start_time": "2022-05-19T16:08:08.055Z"
   },
   {
    "duration": 5,
    "start_time": "2022-05-19T16:18:57.798Z"
   },
   {
    "duration": 24,
    "start_time": "2022-05-19T16:19:02.228Z"
   },
   {
    "duration": 1301,
    "start_time": "2022-05-19T16:19:13.186Z"
   },
   {
    "duration": 9,
    "start_time": "2022-05-19T16:19:14.489Z"
   },
   {
    "duration": 47,
    "start_time": "2022-05-19T16:19:14.500Z"
   },
   {
    "duration": 25,
    "start_time": "2022-05-19T16:19:14.549Z"
   },
   {
    "duration": 21,
    "start_time": "2022-05-19T16:19:14.576Z"
   },
   {
    "duration": 20,
    "start_time": "2022-05-19T16:19:14.599Z"
   },
   {
    "duration": 5,
    "start_time": "2022-05-19T16:19:14.622Z"
   },
   {
    "duration": 6,
    "start_time": "2022-05-19T16:19:14.630Z"
   },
   {
    "duration": 10,
    "start_time": "2022-05-19T16:19:14.638Z"
   },
   {
    "duration": 58,
    "start_time": "2022-05-19T16:19:14.652Z"
   },
   {
    "duration": 19,
    "start_time": "2022-05-19T16:19:14.712Z"
   },
   {
    "duration": 15,
    "start_time": "2022-05-19T16:19:14.734Z"
   },
   {
    "duration": 12,
    "start_time": "2022-05-19T16:19:14.751Z"
   },
   {
    "duration": 32,
    "start_time": "2022-05-19T16:19:14.764Z"
   },
   {
    "duration": 22,
    "start_time": "2022-05-19T16:19:14.799Z"
   },
   {
    "duration": 13,
    "start_time": "2022-05-19T16:19:14.824Z"
   },
   {
    "duration": 15,
    "start_time": "2022-05-19T16:19:14.840Z"
   },
   {
    "duration": 39,
    "start_time": "2022-05-19T16:19:14.857Z"
   },
   {
    "duration": 190,
    "start_time": "2022-05-19T16:19:14.898Z"
   },
   {
    "duration": 151,
    "start_time": "2022-05-19T16:19:15.090Z"
   },
   {
    "duration": 14,
    "start_time": "2022-05-19T16:19:15.243Z"
   },
   {
    "duration": 473,
    "start_time": "2022-05-19T16:19:15.259Z"
   },
   {
    "duration": 250,
    "start_time": "2022-05-19T16:19:15.734Z"
   },
   {
    "duration": 357,
    "start_time": "2022-05-19T16:19:15.986Z"
   },
   {
    "duration": 250,
    "start_time": "2022-05-19T16:19:16.345Z"
   },
   {
    "duration": 359,
    "start_time": "2022-05-19T16:19:16.597Z"
   },
   {
    "duration": 160,
    "start_time": "2022-05-19T16:19:16.958Z"
   },
   {
    "duration": 193,
    "start_time": "2022-05-19T16:19:17.122Z"
   },
   {
    "duration": 180,
    "start_time": "2022-05-19T16:19:17.318Z"
   },
   {
    "duration": 8,
    "start_time": "2022-05-19T16:19:17.501Z"
   },
   {
    "duration": 188,
    "start_time": "2022-05-19T16:19:17.512Z"
   },
   {
    "duration": 6,
    "start_time": "2022-05-19T16:19:17.702Z"
   },
   {
    "duration": 285,
    "start_time": "2022-05-19T16:19:17.710Z"
   },
   {
    "duration": 187,
    "start_time": "2022-05-19T16:19:17.997Z"
   },
   {
    "duration": 11,
    "start_time": "2022-05-19T16:19:18.186Z"
   },
   {
    "duration": 32,
    "start_time": "2022-05-19T16:19:18.198Z"
   },
   {
    "duration": 13,
    "start_time": "2022-05-19T16:19:18.232Z"
   },
   {
    "duration": 11,
    "start_time": "2022-05-19T16:19:18.247Z"
   },
   {
    "duration": 39,
    "start_time": "2022-05-19T16:19:18.260Z"
   },
   {
    "duration": 45,
    "start_time": "2022-05-19T16:19:18.301Z"
   },
   {
    "duration": 15,
    "start_time": "2022-05-19T16:19:18.347Z"
   },
   {
    "duration": 242,
    "start_time": "2022-05-19T16:22:44.110Z"
   },
   {
    "duration": 298,
    "start_time": "2022-05-19T16:23:18.994Z"
   },
   {
    "duration": 229,
    "start_time": "2022-05-19T16:23:47.241Z"
   },
   {
    "duration": 329,
    "start_time": "2022-05-19T16:24:44.821Z"
   },
   {
    "duration": 450,
    "start_time": "2022-05-19T16:25:05.668Z"
   },
   {
    "duration": 320,
    "start_time": "2022-05-19T16:25:21.508Z"
   },
   {
    "duration": 236,
    "start_time": "2022-05-19T16:25:45.342Z"
   },
   {
    "duration": 319,
    "start_time": "2022-05-19T16:26:24.440Z"
   },
   {
    "duration": 358,
    "start_time": "2022-05-19T16:26:44.057Z"
   },
   {
    "duration": 149,
    "start_time": "2022-05-19T16:27:04.642Z"
   },
   {
    "duration": 144,
    "start_time": "2022-05-19T16:27:21.240Z"
   },
   {
    "duration": 148,
    "start_time": "2022-05-19T16:27:41.801Z"
   },
   {
    "duration": 169,
    "start_time": "2022-05-19T16:28:02.009Z"
   },
   {
    "duration": 164,
    "start_time": "2022-05-19T16:28:05.901Z"
   },
   {
    "duration": 164,
    "start_time": "2022-05-19T16:28:13.266Z"
   },
   {
    "duration": 152,
    "start_time": "2022-05-19T16:28:24.407Z"
   },
   {
    "duration": 160,
    "start_time": "2022-05-19T16:28:28.167Z"
   },
   {
    "duration": 301,
    "start_time": "2022-05-19T16:28:48.395Z"
   },
   {
    "duration": 1264,
    "start_time": "2022-05-19T16:30:31.326Z"
   },
   {
    "duration": 6,
    "start_time": "2022-05-19T16:30:32.593Z"
   },
   {
    "duration": 47,
    "start_time": "2022-05-19T16:30:32.600Z"
   },
   {
    "duration": 27,
    "start_time": "2022-05-19T16:30:32.649Z"
   },
   {
    "duration": 21,
    "start_time": "2022-05-19T16:30:32.677Z"
   },
   {
    "duration": 19,
    "start_time": "2022-05-19T16:30:32.700Z"
   },
   {
    "duration": 4,
    "start_time": "2022-05-19T16:30:32.721Z"
   },
   {
    "duration": 8,
    "start_time": "2022-05-19T16:30:32.727Z"
   },
   {
    "duration": 6,
    "start_time": "2022-05-19T16:30:32.737Z"
   },
   {
    "duration": 48,
    "start_time": "2022-05-19T16:30:32.746Z"
   },
   {
    "duration": 12,
    "start_time": "2022-05-19T16:30:32.796Z"
   },
   {
    "duration": 15,
    "start_time": "2022-05-19T16:30:32.809Z"
   },
   {
    "duration": 12,
    "start_time": "2022-05-19T16:30:32.826Z"
   },
   {
    "duration": 15,
    "start_time": "2022-05-19T16:30:32.840Z"
   },
   {
    "duration": 42,
    "start_time": "2022-05-19T16:30:32.857Z"
   },
   {
    "duration": 24,
    "start_time": "2022-05-19T16:30:32.901Z"
   },
   {
    "duration": 17,
    "start_time": "2022-05-19T16:30:32.927Z"
   },
   {
    "duration": 14,
    "start_time": "2022-05-19T16:30:32.945Z"
   },
   {
    "duration": 196,
    "start_time": "2022-05-19T16:30:32.961Z"
   },
   {
    "duration": 150,
    "start_time": "2022-05-19T16:30:33.159Z"
   },
   {
    "duration": 15,
    "start_time": "2022-05-19T16:30:33.311Z"
   },
   {
    "duration": 471,
    "start_time": "2022-05-19T16:30:33.328Z"
   },
   {
    "duration": 259,
    "start_time": "2022-05-19T16:30:33.801Z"
   },
   {
    "duration": 364,
    "start_time": "2022-05-19T16:30:34.062Z"
   },
   {
    "duration": 261,
    "start_time": "2022-05-19T16:30:34.428Z"
   },
   {
    "duration": 358,
    "start_time": "2022-05-19T16:30:34.690Z"
   },
   {
    "duration": 157,
    "start_time": "2022-05-19T16:30:35.050Z"
   },
   {
    "duration": 171,
    "start_time": "2022-05-19T16:30:35.211Z"
   },
   {
    "duration": 174,
    "start_time": "2022-05-19T16:30:35.391Z"
   },
   {
    "duration": 6,
    "start_time": "2022-05-19T16:30:35.568Z"
   },
   {
    "duration": 229,
    "start_time": "2022-05-19T16:30:35.576Z"
   },
   {
    "duration": 7,
    "start_time": "2022-05-19T16:30:35.808Z"
   },
   {
    "duration": 288,
    "start_time": "2022-05-19T16:30:35.817Z"
   },
   {
    "duration": 187,
    "start_time": "2022-05-19T16:30:36.107Z"
   },
   {
    "duration": 9,
    "start_time": "2022-05-19T16:30:36.296Z"
   },
   {
    "duration": 57,
    "start_time": "2022-05-19T16:30:36.308Z"
   },
   {
    "duration": 33,
    "start_time": "2022-05-19T16:30:36.367Z"
   },
   {
    "duration": 14,
    "start_time": "2022-05-19T16:30:36.402Z"
   },
   {
    "duration": 11,
    "start_time": "2022-05-19T16:30:36.419Z"
   },
   {
    "duration": 64,
    "start_time": "2022-05-19T16:30:36.433Z"
   },
   {
    "duration": 16,
    "start_time": "2022-05-19T16:30:36.499Z"
   },
   {
    "duration": 1121,
    "start_time": "2022-05-21T06:48:39.551Z"
   },
   {
    "duration": 5,
    "start_time": "2022-05-21T06:48:40.673Z"
   },
   {
    "duration": 125,
    "start_time": "2022-05-21T06:48:40.680Z"
   },
   {
    "duration": 22,
    "start_time": "2022-05-21T06:48:40.807Z"
   },
   {
    "duration": 99,
    "start_time": "2022-05-21T06:48:40.831Z"
   },
   {
    "duration": 22,
    "start_time": "2022-05-21T06:48:40.931Z"
   },
   {
    "duration": 24,
    "start_time": "2022-05-21T06:48:40.955Z"
   },
   {
    "duration": 17,
    "start_time": "2022-05-21T06:48:40.980Z"
   },
   {
    "duration": 62,
    "start_time": "2022-05-21T06:48:40.998Z"
   },
   {
    "duration": 53,
    "start_time": "2022-05-21T06:48:41.062Z"
   },
   {
    "duration": 35,
    "start_time": "2022-05-21T06:48:41.116Z"
   },
   {
    "duration": 83,
    "start_time": "2022-05-21T06:48:41.152Z"
   },
   {
    "duration": 52,
    "start_time": "2022-05-21T06:48:41.237Z"
   },
   {
    "duration": 44,
    "start_time": "2022-05-21T06:48:41.291Z"
   },
   {
    "duration": 38,
    "start_time": "2022-05-21T06:48:41.337Z"
   },
   {
    "duration": 35,
    "start_time": "2022-05-21T06:48:41.376Z"
   },
   {
    "duration": 70,
    "start_time": "2022-05-21T06:48:41.413Z"
   },
   {
    "duration": 61,
    "start_time": "2022-05-21T06:48:41.485Z"
   },
   {
    "duration": 177,
    "start_time": "2022-05-21T06:48:41.548Z"
   },
   {
    "duration": 116,
    "start_time": "2022-05-21T06:48:41.726Z"
   },
   {
    "duration": 17,
    "start_time": "2022-05-21T06:48:41.844Z"
   },
   {
    "duration": 454,
    "start_time": "2022-05-21T06:48:41.862Z"
   },
   {
    "duration": 213,
    "start_time": "2022-05-21T06:48:42.317Z"
   },
   {
    "duration": 346,
    "start_time": "2022-05-21T06:48:42.532Z"
   },
   {
    "duration": 243,
    "start_time": "2022-05-21T06:48:42.880Z"
   },
   {
    "duration": 357,
    "start_time": "2022-05-21T06:48:43.124Z"
   },
   {
    "duration": 146,
    "start_time": "2022-05-21T06:48:43.482Z"
   },
   {
    "duration": 155,
    "start_time": "2022-05-21T06:48:43.631Z"
   },
   {
    "duration": 157,
    "start_time": "2022-05-21T06:48:43.788Z"
   },
   {
    "duration": 4,
    "start_time": "2022-05-21T06:48:43.952Z"
   },
   {
    "duration": 211,
    "start_time": "2022-05-21T06:48:43.958Z"
   },
   {
    "duration": 6,
    "start_time": "2022-05-21T06:48:44.170Z"
   },
   {
    "duration": 267,
    "start_time": "2022-05-21T06:48:44.178Z"
   },
   {
    "duration": 160,
    "start_time": "2022-05-21T06:48:44.451Z"
   },
   {
    "duration": 6,
    "start_time": "2022-05-21T06:48:44.613Z"
   },
   {
    "duration": 50,
    "start_time": "2022-05-21T06:48:44.621Z"
   },
   {
    "duration": 11,
    "start_time": "2022-05-21T06:48:44.673Z"
   },
   {
    "duration": 66,
    "start_time": "2022-05-21T06:48:44.686Z"
   },
   {
    "duration": 61,
    "start_time": "2022-05-21T06:48:44.754Z"
   },
   {
    "duration": 101,
    "start_time": "2022-05-21T06:48:44.817Z"
   },
   {
    "duration": 14,
    "start_time": "2022-05-21T06:48:44.920Z"
   },
   {
    "duration": 1312,
    "start_time": "2022-05-21T08:38:59.575Z"
   },
   {
    "duration": 8,
    "start_time": "2022-05-21T08:39:00.889Z"
   },
   {
    "duration": 250,
    "start_time": "2022-05-21T08:39:00.899Z"
   },
   {
    "duration": 27,
    "start_time": "2022-05-21T08:39:01.151Z"
   },
   {
    "duration": 24,
    "start_time": "2022-05-21T08:39:01.180Z"
   },
   {
    "duration": 17,
    "start_time": "2022-05-21T08:39:01.205Z"
   },
   {
    "duration": 3,
    "start_time": "2022-05-21T08:39:01.224Z"
   },
   {
    "duration": 6,
    "start_time": "2022-05-21T08:39:01.229Z"
   },
   {
    "duration": 9,
    "start_time": "2022-05-21T08:39:01.237Z"
   },
   {
    "duration": 15,
    "start_time": "2022-05-21T08:39:01.248Z"
   },
   {
    "duration": 33,
    "start_time": "2022-05-21T08:39:01.264Z"
   },
   {
    "duration": 16,
    "start_time": "2022-05-21T08:39:01.299Z"
   },
   {
    "duration": 15,
    "start_time": "2022-05-21T08:39:01.317Z"
   },
   {
    "duration": 17,
    "start_time": "2022-05-21T08:39:01.333Z"
   },
   {
    "duration": 13,
    "start_time": "2022-05-21T08:39:01.352Z"
   },
   {
    "duration": 29,
    "start_time": "2022-05-21T08:39:01.367Z"
   },
   {
    "duration": 14,
    "start_time": "2022-05-21T08:39:01.397Z"
   },
   {
    "duration": 13,
    "start_time": "2022-05-21T08:39:01.412Z"
   },
   {
    "duration": 172,
    "start_time": "2022-05-21T08:39:01.427Z"
   },
   {
    "duration": 128,
    "start_time": "2022-05-21T08:39:01.601Z"
   },
   {
    "duration": 33,
    "start_time": "2022-05-21T08:39:01.731Z"
   },
   {
    "duration": 471,
    "start_time": "2022-05-21T08:39:01.766Z"
   },
   {
    "duration": 214,
    "start_time": "2022-05-21T08:39:02.239Z"
   },
   {
    "duration": 382,
    "start_time": "2022-05-21T08:39:02.455Z"
   },
   {
    "duration": 229,
    "start_time": "2022-05-21T08:39:02.839Z"
   },
   {
    "duration": 380,
    "start_time": "2022-05-21T08:39:03.070Z"
   },
   {
    "duration": 129,
    "start_time": "2022-05-21T08:39:03.452Z"
   },
   {
    "duration": 158,
    "start_time": "2022-05-21T08:39:03.584Z"
   },
   {
    "duration": 156,
    "start_time": "2022-05-21T08:39:03.744Z"
   },
   {
    "duration": 5,
    "start_time": "2022-05-21T08:39:03.901Z"
   },
   {
    "duration": 176,
    "start_time": "2022-05-21T08:39:03.908Z"
   },
   {
    "duration": 12,
    "start_time": "2022-05-21T08:39:04.085Z"
   },
   {
    "duration": 226,
    "start_time": "2022-05-21T08:39:04.099Z"
   },
   {
    "duration": 133,
    "start_time": "2022-05-21T08:39:04.326Z"
   },
   {
    "duration": 6,
    "start_time": "2022-05-21T08:39:04.462Z"
   },
   {
    "duration": 38,
    "start_time": "2022-05-21T08:39:04.469Z"
   },
   {
    "duration": 10,
    "start_time": "2022-05-21T08:39:04.509Z"
   },
   {
    "duration": 8,
    "start_time": "2022-05-21T08:39:04.521Z"
   },
   {
    "duration": 11,
    "start_time": "2022-05-21T08:39:04.531Z"
   },
   {
    "duration": 35,
    "start_time": "2022-05-21T08:39:04.543Z"
   },
   {
    "duration": 25,
    "start_time": "2022-05-21T08:39:04.579Z"
   },
   {
    "duration": 155,
    "start_time": "2022-05-21T08:40:30.034Z"
   },
   {
    "duration": 176,
    "start_time": "2022-05-21T08:40:38.435Z"
   },
   {
    "duration": 180,
    "start_time": "2022-05-21T08:41:35.484Z"
   },
   {
    "duration": 171,
    "start_time": "2022-05-21T08:41:45.062Z"
   },
   {
    "duration": 5,
    "start_time": "2022-05-21T08:43:18.476Z"
   },
   {
    "duration": 231,
    "start_time": "2022-05-21T08:43:36.527Z"
   },
   {
    "duration": 142,
    "start_time": "2022-05-21T08:43:49.277Z"
   },
   {
    "duration": 5,
    "start_time": "2022-05-21T08:44:09.462Z"
   },
   {
    "duration": 133,
    "start_time": "2022-05-21T08:44:27.972Z"
   },
   {
    "duration": 140,
    "start_time": "2022-05-21T08:44:36.808Z"
   },
   {
    "duration": 149,
    "start_time": "2022-05-21T08:44:52.277Z"
   },
   {
    "duration": 161,
    "start_time": "2022-05-21T08:44:56.310Z"
   },
   {
    "duration": 164,
    "start_time": "2022-05-21T08:45:04.012Z"
   },
   {
    "duration": 155,
    "start_time": "2022-05-21T08:45:12.537Z"
   },
   {
    "duration": 191,
    "start_time": "2022-05-21T08:45:15.692Z"
   },
   {
    "duration": 179,
    "start_time": "2022-05-21T08:45:25.418Z"
   },
   {
    "duration": 32,
    "start_time": "2022-05-21T08:46:36.883Z"
   },
   {
    "duration": 156,
    "start_time": "2022-05-21T08:46:41.375Z"
   },
   {
    "duration": 266,
    "start_time": "2022-05-21T08:46:54.036Z"
   },
   {
    "duration": 159,
    "start_time": "2022-05-21T08:47:00.385Z"
   },
   {
    "duration": 162,
    "start_time": "2022-05-21T08:47:13.605Z"
   },
   {
    "duration": 262,
    "start_time": "2022-05-21T08:47:18.937Z"
   },
   {
    "duration": 5,
    "start_time": "2022-05-21T08:53:31.585Z"
   },
   {
    "duration": 5,
    "start_time": "2022-05-21T08:53:44.511Z"
   },
   {
    "duration": 3,
    "start_time": "2022-05-21T08:55:51.678Z"
   },
   {
    "duration": 6,
    "start_time": "2022-05-21T08:55:57.389Z"
   },
   {
    "duration": 4,
    "start_time": "2022-05-21T08:56:14.180Z"
   },
   {
    "duration": 5,
    "start_time": "2022-05-21T08:56:15.289Z"
   },
   {
    "duration": 4,
    "start_time": "2022-05-21T08:57:38.878Z"
   },
   {
    "duration": 9,
    "start_time": "2022-05-21T08:58:10.014Z"
   },
   {
    "duration": 44,
    "start_time": "2022-05-21T09:05:55.803Z"
   },
   {
    "duration": 1122,
    "start_time": "2022-05-21T10:19:47.259Z"
   },
   {
    "duration": 5,
    "start_time": "2022-05-21T10:19:48.383Z"
   },
   {
    "duration": 50,
    "start_time": "2022-05-21T10:19:48.389Z"
   },
   {
    "duration": 23,
    "start_time": "2022-05-21T10:19:48.440Z"
   },
   {
    "duration": 20,
    "start_time": "2022-05-21T10:19:48.465Z"
   },
   {
    "duration": 19,
    "start_time": "2022-05-21T10:19:48.486Z"
   },
   {
    "duration": 4,
    "start_time": "2022-05-21T10:19:48.507Z"
   },
   {
    "duration": 40,
    "start_time": "2022-05-21T10:19:48.513Z"
   },
   {
    "duration": 5,
    "start_time": "2022-05-21T10:19:48.555Z"
   },
   {
    "duration": 28,
    "start_time": "2022-05-21T10:19:48.561Z"
   },
   {
    "duration": 19,
    "start_time": "2022-05-21T10:19:48.591Z"
   },
   {
    "duration": 19,
    "start_time": "2022-05-21T10:19:48.612Z"
   },
   {
    "duration": 20,
    "start_time": "2022-05-21T10:19:48.633Z"
   },
   {
    "duration": 20,
    "start_time": "2022-05-21T10:19:48.656Z"
   },
   {
    "duration": 15,
    "start_time": "2022-05-21T10:19:48.678Z"
   },
   {
    "duration": 17,
    "start_time": "2022-05-21T10:19:48.694Z"
   },
   {
    "duration": 16,
    "start_time": "2022-05-21T10:19:48.712Z"
   },
   {
    "duration": 11,
    "start_time": "2022-05-21T10:19:48.730Z"
   },
   {
    "duration": 166,
    "start_time": "2022-05-21T10:19:48.742Z"
   },
   {
    "duration": 125,
    "start_time": "2022-05-21T10:19:48.910Z"
   },
   {
    "duration": 18,
    "start_time": "2022-05-21T10:19:49.036Z"
   },
   {
    "duration": 714,
    "start_time": "2022-05-21T10:19:49.056Z"
   },
   {
    "duration": 425,
    "start_time": "2022-05-21T10:19:49.772Z"
   },
   {
    "duration": 444,
    "start_time": "2022-05-21T10:19:50.251Z"
   },
   {
    "duration": 423,
    "start_time": "2022-05-21T10:19:50.696Z"
   },
   {
    "duration": 356,
    "start_time": "2022-05-21T10:19:51.120Z"
   },
   {
    "duration": 135,
    "start_time": "2022-05-21T10:19:51.478Z"
   },
   {
    "duration": 151,
    "start_time": "2022-05-21T10:19:51.615Z"
   },
   {
    "duration": 158,
    "start_time": "2022-05-21T10:19:51.768Z"
   },
   {
    "duration": 5,
    "start_time": "2022-05-21T10:19:51.927Z"
   },
   {
    "duration": 23,
    "start_time": "2022-05-21T10:19:51.934Z"
   },
   {
    "duration": 172,
    "start_time": "2022-05-21T10:19:51.958Z"
   },
   {
    "duration": 5,
    "start_time": "2022-05-21T10:19:52.131Z"
   },
   {
    "duration": 12,
    "start_time": "2022-05-21T10:19:52.138Z"
   },
   {
    "duration": 242,
    "start_time": "2022-05-21T10:19:52.152Z"
   },
   {
    "duration": 144,
    "start_time": "2022-05-21T10:19:52.396Z"
   },
   {
    "duration": 13,
    "start_time": "2022-05-21T10:19:52.542Z"
   },
   {
    "duration": 41,
    "start_time": "2022-05-21T10:19:52.557Z"
   },
   {
    "duration": 55,
    "start_time": "2022-05-21T10:19:52.600Z"
   },
   {
    "duration": 10,
    "start_time": "2022-05-21T10:19:52.658Z"
   },
   {
    "duration": 24,
    "start_time": "2022-05-21T10:19:52.671Z"
   },
   {
    "duration": 80,
    "start_time": "2022-05-21T10:19:52.696Z"
   },
   {
    "duration": 14,
    "start_time": "2022-05-21T10:19:52.778Z"
   },
   {
    "duration": 10,
    "start_time": "2022-05-21T10:20:03.173Z"
   },
   {
    "duration": 7,
    "start_time": "2022-05-21T10:20:24.937Z"
   },
   {
    "duration": 11,
    "start_time": "2022-05-21T10:20:38.487Z"
   },
   {
    "duration": 5,
    "start_time": "2022-05-21T10:20:47.260Z"
   },
   {
    "duration": 4,
    "start_time": "2022-05-21T10:20:54.571Z"
   }
  ],
  "kernelspec": {
   "display_name": "Python 3 (ipykernel)",
   "language": "python",
   "name": "python3"
  },
  "language_info": {
   "codemirror_mode": {
    "name": "ipython",
    "version": 3
   },
   "file_extension": ".py",
   "mimetype": "text/x-python",
   "name": "python",
   "nbconvert_exporter": "python",
   "pygments_lexer": "ipython3",
   "version": "3.9.7"
  },
  "toc": {
   "base_numbering": 1,
   "nav_menu": {},
   "number_sections": false,
   "sideBar": true,
   "skip_h1_title": false,
   "title_cell": "Содержание",
   "title_sidebar": "Contents",
   "toc_cell": true,
   "toc_position": {
    "height": "calc(100% - 180px)",
    "left": "10px",
    "top": "150px",
    "width": "302.331px"
   },
   "toc_section_display": true,
   "toc_window_display": true
  }
 },
 "nbformat": 4,
 "nbformat_minor": 2
}
