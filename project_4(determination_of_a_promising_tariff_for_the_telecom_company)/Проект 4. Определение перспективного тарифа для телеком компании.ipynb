{
 "cells": [
  {
   "cell_type": "markdown",
   "id": "9d048e65",
   "metadata": {
    "toc": true
   },
   "source": [
    "<h1>Содержание<span class=\"tocSkip\"></span></h1>\n",
    "<div class=\"toc\"><ul class=\"toc-item\"><li><span><a href=\"#Обзор-данных\" data-toc-modified-id=\"Обзор-данных-1\"><span class=\"toc-item-num\">1&nbsp;&nbsp;</span>Обзор данных</a></span><ul class=\"toc-item\"><li><span><a href=\"#Информация-о-звонках\" data-toc-modified-id=\"Информация-о-звонках-1.1\"><span class=\"toc-item-num\">1.1&nbsp;&nbsp;</span>Информация о звонках</a></span></li><li><span><a href=\"#Информация-об-интернет-сессиях\" data-toc-modified-id=\"Информация-об-интернет-сессиях-1.2\"><span class=\"toc-item-num\">1.2&nbsp;&nbsp;</span>Информация об интернет-сессиях</a></span></li><li><span><a href=\"#Информация-о-сообщениях\" data-toc-modified-id=\"Информация-о-сообщениях-1.3\"><span class=\"toc-item-num\">1.3&nbsp;&nbsp;</span>Информация о сообщениях</a></span></li><li><span><a href=\"#Информация-о-тарифах\" data-toc-modified-id=\"Информация-о-тарифах-1.4\"><span class=\"toc-item-num\">1.4&nbsp;&nbsp;</span>Информация о тарифах</a></span></li><li><span><a href=\"#Информация-о-пользователях\" data-toc-modified-id=\"Информация-о-пользователях-1.5\"><span class=\"toc-item-num\">1.5&nbsp;&nbsp;</span>Информация о пользователях</a></span></li><li><span><a href=\"#Выводы\" data-toc-modified-id=\"Выводы-1.6\"><span class=\"toc-item-num\">1.6&nbsp;&nbsp;</span>Выводы</a></span></li></ul></li><li><span><a href=\"#Предобработка-данных\" data-toc-modified-id=\"Предобработка-данных-2\"><span class=\"toc-item-num\">2&nbsp;&nbsp;</span>Предобработка данных</a></span><ul class=\"toc-item\"><li><span><a href=\"#Ошибки-данных\" data-toc-modified-id=\"Ошибки-данных-2.1\"><span class=\"toc-item-num\">2.1&nbsp;&nbsp;</span>Ошибки данных</a></span></li><li><span><a href=\"#Заполнение-пропусков\" data-toc-modified-id=\"Заполнение-пропусков-2.2\"><span class=\"toc-item-num\">2.2&nbsp;&nbsp;</span>Заполнение пропусков</a></span></li><li><span><a href=\"#Изменение-типов-данных\" data-toc-modified-id=\"Изменение-типов-данных-2.3\"><span class=\"toc-item-num\">2.3&nbsp;&nbsp;</span>Изменение типов данных</a></span></li><li><span><a href=\"#Предобработка-и-объединение-датафреймов\" data-toc-modified-id=\"Предобработка-и-объединение-датафреймов-2.4\"><span class=\"toc-item-num\">2.4&nbsp;&nbsp;</span>Предобработка и объединение датафреймов</a></span></li></ul></li><li><span><a href=\"#Анализ-данных\" data-toc-modified-id=\"Анализ-данных-3\"><span class=\"toc-item-num\">3&nbsp;&nbsp;</span>Анализ данных</a></span><ul class=\"toc-item\"><li><span><a href=\"#Анализ-сделанных-звонков-и-израсходованных-минут\" data-toc-modified-id=\"Анализ-сделанных-звонков-и-израсходованных-минут-3.1\"><span class=\"toc-item-num\">3.1&nbsp;&nbsp;</span>Анализ сделанных звонков и израсходованных минут</a></span></li><li><span><a href=\"#Анализ-отправленных-сообщений\" data-toc-modified-id=\"Анализ-отправленных-сообщений-3.2\"><span class=\"toc-item-num\">3.2&nbsp;&nbsp;</span>Анализ отправленных сообщений</a></span></li><li><span><a href=\"#Анализ-израсходованного-интернет-трафика\" data-toc-modified-id=\"Анализ-израсходованного-интернет-трафика-3.3\"><span class=\"toc-item-num\">3.3&nbsp;&nbsp;</span>Анализ израсходованного интернет-трафика</a></span></li><li><span><a href=\"#Расчет-и-анализ-выручки\" data-toc-modified-id=\"Расчет-и-анализ-выручки-3.4\"><span class=\"toc-item-num\">3.4&nbsp;&nbsp;</span>Расчет и анализ выручки</a></span></li></ul></li><li><span><a href=\"#Проверка-гипотез\" data-toc-modified-id=\"Проверка-гипотез-4\"><span class=\"toc-item-num\">4&nbsp;&nbsp;</span>Проверка гипотез</a></span><ul class=\"toc-item\"><li><span><a href=\"#Средняя-выручка-пользователей-тарифов-«Ultra»-и-«Smart»-различаются\" data-toc-modified-id=\"Средняя-выручка-пользователей-тарифов-«Ultra»-и-«Smart»-различаются-4.1\"><span class=\"toc-item-num\">4.1&nbsp;&nbsp;</span>Средняя выручка пользователей тарифов «Ultra» и «Smart» различаются</a></span></li><li><span><a href=\"#Средняя-выручка-пользователей-из-Москвы-отличается-от-выручки-пользователей-из-других-регионов\" data-toc-modified-id=\"Средняя-выручка-пользователей-из-Москвы-отличается-от-выручки-пользователей-из-других-регионов-4.2\"><span class=\"toc-item-num\">4.2&nbsp;&nbsp;</span>Средняя выручка пользователей из Москвы отличается от выручки пользователей из других регионов</a></span></li></ul></li><li><span><a href=\"#Общий-вывод\" data-toc-modified-id=\"Общий-вывод-5\"><span class=\"toc-item-num\">5&nbsp;&nbsp;</span>Общий вывод</a></span></li></ul></div>"
   ]
  },
  {
   "cell_type": "markdown",
   "id": "1e07f316",
   "metadata": {},
   "source": [
    "# Определение перспективного тарифа для телеком компании"
   ]
  },
  {
   "cell_type": "markdown",
   "id": "058413ac",
   "metadata": {},
   "source": [
    "«Мегалайн» — федеральный оператор сотовой связи. Клиентам предлагают два тарифных плана: «Smart» и «Ultra».\n",
    "Нам предстоит сделать предварительный анализ тарифов на небольшой выборке клиентов. В нашем распоряжении данные 500 пользователей «Мегалайна»: кто они, откуда, каким тарифом пользуются, сколько звонков и сообщений каждый отправил за 2018 год. Нужно проанализировать поведение клиентов и сделать вывод — какой тариф лучше.\n",
    "\n",
    "**Цель исследования** — определить наиболее выгодный тарифный план для корректировки рекламного бюджета на основе данных 500 пользователей «Мегалайна» за 2018 г.\n",
    "\n",
    "А также ответить на вопросы:\n",
    "- Сколько минут разговора, сколько сообщений и какой объём интернет-трафика требуется пользователям каждого тарифа в месяц?\n",
    "- Различаются ли средняя выручка пользователей тарифов «Ultra» и «Smart»?\n",
    "- Есть ли территориальные различия по средней выручке пользователей из Москвы и выручкой пользователей из других регионов?\n",
    "\n",
    "**Описание тарифов**\n",
    "\n",
    "**Тариф «Smart»**\n",
    "1. Ежемесячная плата: 550 рублей\n",
    "2. Включено 500 минут разговора, 50 сообщений и 15 Гб интернет-трафика\n",
    "3. Стоимость услуг сверх тарифного пакета:\n",
    "\t- минута разговора: 3 рубля\n",
    "\t- сообщение: 3 рубля\n",
    "\t- 1 Гб интернет-трафика: 200 рублей\n",
    "\n",
    "**Тариф «Ultra»**\n",
    "1. Ежемесячная плата: 1950 рублей\n",
    "2. Включено 3000 минут разговора, 1000 сообщений и 30 Гб интернет-трафика\n",
    "3. Стоимость услуг сверх тарифного пакета:\n",
    "\t- минута разговора: 1 рубль\n",
    "\t- сообщение: 1 рубль\n",
    "\t- 1 Гб интернет-трафика: 150 рублей\n",
    "\n",
    "*Примечание:\n",
    "«Мегалайн» всегда округляет секунды до минут, а мегабайты — до гигабайт. Каждый звонок округляется отдельно: даже если он длился всего 1 секунду, будет засчитан как 1 минута.\n",
    "Для веб-трафика отдельные сессии не считаются. Вместо этого общая сумма за месяц округляется в бо́льшую сторону. Если абонент использует 1025 мегабайт в этом месяце, с него возьмут плату за 2 гигабайта.*\n",
    "\n",
    "\n",
    "**Ход исследования** — данные 500 пользователей «Мегалайна» содержатся в файлах `/datasets/calls.csv`, `/datasets/internet.csv`, `/datasets/messages.csv`, `/datasets/tariffs.csv` и `/datasets/users.csv`. \n",
    "О качестве данных известно, что в них могут встречаться пропущенные значения, дубликаты и артефакты (аномалии). Поэтому перед проверкой гипотез понадобится обзор данных. Также потребуется замена типа данных и рассчеты дополнительных значений.\n",
    "\n",
    "**Шаг 1. Открыть таблицы и изучить общую информацию о данных**\n",
    "Путь к файлам:\n",
    "- `/datasets/calls.csv` — информация о звонках \n",
    "- `/datasets/internet.csv` — информация об интернет-сессиях \n",
    "- `/datasets/messages.csv` — информация о сообщениях \n",
    "- `/datasets/tariffs.csv` — информация о тарифах\n",
    "- `/datasets/users.csv` — информация о пользователях\n",
    "\n",
    "**Шаг 2. Подготовить данные**\n",
    "- Найти и исправить ошибки в данных, если они есть;\n",
    "- Привести данные к нужным типам.\n",
    "\n",
    "Пояснить какие ошибки были обнаружины и каким методом были исправлены. В данных будут обнаружены звонки с нулевой продолжительностью. Это не ошибка: нулями обозначены пропущенные звонки, поэтому их не нужно удалять.\n",
    "\n",
    "**Шаг 3. Анализ данных**\n",
    "Описать поведение клиентов оператора, исходя из выборки. Ответить на вопросы: *сколько минут разговора, сколько сообщений и какой объём интернет-трафика требуется пользователям каждого тарифа в месяц?* Посчитать среднее количество, дисперсию и стандартное отклонение. Построить гистограммы. Описать распределения.\n",
    "\n",
    "**Шаг 4. Проверить гипотезы**\n",
    "- средняя выручка пользователей тарифов «Ultra» и «Smart» различаются;\n",
    "- средняя выручка пользователей из Москвы отличается от выручки пользователей из других регионов.\n",
    "\n",
    "Пороговое значение `alpha` по умолчанию возьмем `0.05`.\n",
    "\n",
    "Пояснить:\n",
    "- как была сформулирована нулевая и альтернативная гипотезы;\n",
    "- какой критерий был использован для проверки гипотез и почему.\n",
    "\n",
    "**Шаг 5. Написать общий вывод**\n",
    "\n",
    "Оформление: выполнить задание в Jupyter Notebook. Заполнить программный код в ячейках типа code, текстовые пояснения — в ячейках типа markdown. Применить форматирование и заголовки."
   ]
  },
  {
   "cell_type": "markdown",
   "id": "db33bafa",
   "metadata": {},
   "source": [
    "## Обзор данных"
   ]
  },
  {
   "cell_type": "markdown",
   "id": "113266fa",
   "metadata": {},
   "source": [
    "Загружаем библиотеки и пакеты, необходимые для исследования"
   ]
  },
  {
   "cell_type": "code",
   "execution_count": 1,
   "id": "3975e1d8",
   "metadata": {},
   "outputs": [],
   "source": [
    "import pandas as pd # импорт библиотеки pandas для работы с таблицами\n",
    "import seaborn as sns # импорт библиотеки seaborn для визуализации данных\n",
    "import matplotlib.pyplot as plt # импорт библиотеки matplotlib.pyplot для продвинутой работы с графиками\n",
    "from scipy import stats as st # импорт пакета scipy для поиска вероятностей попадания значений в интервалы\n",
    "import numpy as np # импорт библиотеки numpy для работы с высокоуровневыемыми математическими функциями\n",
    "\n",
    "%matplotlib inline\n",
    "\n",
    "pd.options.display.float_format = '{:.3f}'.format"
   ]
  },
  {
   "cell_type": "markdown",
   "id": "a1a509bc",
   "metadata": {},
   "source": [
    "Распакуем данные пользователей и сохраним в соответствующие датафреймы. Исследуем данные с помощью функции `first_look`."
   ]
  },
  {
   "cell_type": "code",
   "execution_count": 2,
   "id": "b91e9b2f",
   "metadata": {},
   "outputs": [],
   "source": [
    "# функция получения первичной информации о датафрейме\n",
    "def first_look (df): \n",
    "    print('------------- Первые 5 строк -------------')\n",
    "    display(df.head())\n",
    "    print('')\n",
    "    print('')\n",
    "    print('------------- Общая информация о таблице -------------')\n",
    "    print(df.info())\n",
    "    print('')\n",
    "    print('')\n",
    "    print('------------- Пропуски -------------')\n",
    "    count = 0\n",
    "    for element in df.columns:\n",
    "        if df[element].isna().sum() > 0:\n",
    "            print(element, ' — ', df[element].isna().sum(), 'пропуска(ов)')\n",
    "            count += 1\n",
    "    if count == 0:\n",
    "        print('Пропусков НЕТ')\n",
    "    print('')\n",
    "    print('')\n",
    "    print('------------- Дубликаты -------------')\n",
    "    if df.duplicated().sum() > 0:\n",
    "        print(df.duplicated().sum(), 'дубликата(ов)')\n",
    "    else:\n",
    "        print('Дубликатов НЕТ')\n",
    "    print('')\n",
    "    print('')\n",
    "    print('------------- Наиболее популярные уникальные значения -------------')    \n",
    "    for column in df:\n",
    "        print(df[column].value_counts())"
   ]
  },
  {
   "cell_type": "markdown",
   "id": "81a88082",
   "metadata": {},
   "source": [
    "### Информация о звонках"
   ]
  },
  {
   "cell_type": "markdown",
   "id": "3865b288",
   "metadata": {},
   "source": [
    "Прочитаем файл `/datasets/calls.csv` из папки `/datasets` и сохраним его в переменной `df_calls`:"
   ]
  },
  {
   "cell_type": "code",
   "execution_count": 3,
   "id": "b82221c9",
   "metadata": {},
   "outputs": [],
   "source": [
    "try:\n",
    "    df_calls = pd.read_csv('C:/Users/ahmis/Documents/GitHub/projects_DA/project_4(determination_of_a_promising_tariff_for_the_telecom_company)/calls.csv', sep=',')\n",
    "except:\n",
    "    df_calls = pd.read_csv('/datasets/calls.csv', sep=',')"
   ]
  },
  {
   "cell_type": "markdown",
   "id": "d1bb9e9d",
   "metadata": {},
   "source": [
    "Исследуем данные таблицы с помощью функции `first_look`."
   ]
  },
  {
   "cell_type": "code",
   "execution_count": 4,
   "id": "04ffb0e2",
   "metadata": {},
   "outputs": [
    {
     "name": "stdout",
     "output_type": "stream",
     "text": [
      "------------- Первые 5 строк -------------\n"
     ]
    },
    {
     "data": {
      "text/html": [
       "<div>\n",
       "<style scoped>\n",
       "    .dataframe tbody tr th:only-of-type {\n",
       "        vertical-align: middle;\n",
       "    }\n",
       "\n",
       "    .dataframe tbody tr th {\n",
       "        vertical-align: top;\n",
       "    }\n",
       "\n",
       "    .dataframe thead th {\n",
       "        text-align: right;\n",
       "    }\n",
       "</style>\n",
       "<table border=\"1\" class=\"dataframe\">\n",
       "  <thead>\n",
       "    <tr style=\"text-align: right;\">\n",
       "      <th></th>\n",
       "      <th>id</th>\n",
       "      <th>call_date</th>\n",
       "      <th>duration</th>\n",
       "      <th>user_id</th>\n",
       "    </tr>\n",
       "  </thead>\n",
       "  <tbody>\n",
       "    <tr>\n",
       "      <th>0</th>\n",
       "      <td>1000_0</td>\n",
       "      <td>2018-07-25</td>\n",
       "      <td>0.000</td>\n",
       "      <td>1000</td>\n",
       "    </tr>\n",
       "    <tr>\n",
       "      <th>1</th>\n",
       "      <td>1000_1</td>\n",
       "      <td>2018-08-17</td>\n",
       "      <td>0.000</td>\n",
       "      <td>1000</td>\n",
       "    </tr>\n",
       "    <tr>\n",
       "      <th>2</th>\n",
       "      <td>1000_2</td>\n",
       "      <td>2018-06-11</td>\n",
       "      <td>2.850</td>\n",
       "      <td>1000</td>\n",
       "    </tr>\n",
       "    <tr>\n",
       "      <th>3</th>\n",
       "      <td>1000_3</td>\n",
       "      <td>2018-09-21</td>\n",
       "      <td>13.800</td>\n",
       "      <td>1000</td>\n",
       "    </tr>\n",
       "    <tr>\n",
       "      <th>4</th>\n",
       "      <td>1000_4</td>\n",
       "      <td>2018-12-15</td>\n",
       "      <td>5.180</td>\n",
       "      <td>1000</td>\n",
       "    </tr>\n",
       "  </tbody>\n",
       "</table>\n",
       "</div>"
      ],
      "text/plain": [
       "       id   call_date  duration  user_id\n",
       "0  1000_0  2018-07-25     0.000     1000\n",
       "1  1000_1  2018-08-17     0.000     1000\n",
       "2  1000_2  2018-06-11     2.850     1000\n",
       "3  1000_3  2018-09-21    13.800     1000\n",
       "4  1000_4  2018-12-15     5.180     1000"
      ]
     },
     "metadata": {},
     "output_type": "display_data"
    },
    {
     "name": "stdout",
     "output_type": "stream",
     "text": [
      "\n",
      "\n",
      "------------- Общая информация о таблице -------------\n",
      "<class 'pandas.core.frame.DataFrame'>\n",
      "RangeIndex: 202607 entries, 0 to 202606\n",
      "Data columns (total 4 columns):\n",
      " #   Column     Non-Null Count   Dtype  \n",
      "---  ------     --------------   -----  \n",
      " 0   id         202607 non-null  object \n",
      " 1   call_date  202607 non-null  object \n",
      " 2   duration   202607 non-null  float64\n",
      " 3   user_id    202607 non-null  int64  \n",
      "dtypes: float64(1), int64(1), object(2)\n",
      "memory usage: 6.2+ MB\n",
      "None\n",
      "\n",
      "\n",
      "------------- Пропуски -------------\n",
      "Пропусков НЕТ\n",
      "\n",
      "\n",
      "------------- Дубликаты -------------\n",
      "Дубликатов НЕТ\n",
      "\n",
      "\n",
      "------------- Наиболее популярные уникальные значения -------------\n",
      "1000_0      1\n",
      "1344_881    1\n",
      "1344_883    1\n",
      "1344_884    1\n",
      "1344_885    1\n",
      "           ..\n",
      "1171_562    1\n",
      "1171_563    1\n",
      "1171_564    1\n",
      "1171_565    1\n",
      "1499_219    1\n",
      "Name: id, Length: 202607, dtype: int64\n",
      "2018-12-31    1435\n",
      "2018-12-29    1202\n",
      "2018-12-30    1192\n",
      "2018-12-22    1158\n",
      "2018-12-26    1149\n",
      "              ... \n",
      "2018-01-05      20\n",
      "2018-01-07      18\n",
      "2018-01-02       9\n",
      "2018-01-03       7\n",
      "2018-01-01       5\n",
      "Name: call_date, Length: 365, dtype: int64\n",
      "0.000     39613\n",
      "4.490       142\n",
      "5.500       142\n",
      "6.150       141\n",
      "6.380       141\n",
      "          ...  \n",
      "26.940        1\n",
      "32.190        1\n",
      "26.320        1\n",
      "27.410        1\n",
      "26.900        1\n",
      "Name: duration, Length: 2871, dtype: int64\n",
      "1377    1760\n",
      "1168    1692\n",
      "1375    1560\n",
      "1453    1440\n",
      "1196    1240\n",
      "        ... \n",
      "1397      33\n",
      "1442      28\n",
      "1373      24\n",
      "1016      20\n",
      "1257      14\n",
      "Name: user_id, Length: 492, dtype: int64\n"
     ]
    }
   ],
   "source": [
    "first_look(df_calls)"
   ]
  },
  {
   "cell_type": "markdown",
   "id": "c3442880",
   "metadata": {},
   "source": [
    "В таблице 4 столбца. Типы данных в столбцах — `float64`(1), `int64`(1), `object`(2).\n",
    "\n",
    "**Согласно документации к данным:**\n",
    "- `id` — уникальный номер звонка\n",
    "- `call_date` — дата звонка\n",
    "- `duration` — длительность звонка в минутах\n",
    "- `user_id` — идентификатор пользователя, сделавшего звонок\n",
    "\n",
    "✔️ **Соблюдаются требования к таблице:**\n",
    "- Столбцы записаны в «змеином_регистре»;\n",
    "- Отсутствуют пропуски;\n",
    "- Отсутствуют дубликаты.\n",
    "\n",
    "❌ **Были замечены нарушения:**\n",
    "- Требуется замена типа данных в столбце `call_date`;\n",
    "- Нулевые значения столбца `duration` — по условию задачи нулями обозначены пропущенные звонки, поэтому их не нужно удалять.\n"
   ]
  },
  {
   "cell_type": "markdown",
   "id": "e590fdfe",
   "metadata": {},
   "source": [
    "### Информация об интернет-сессиях"
   ]
  },
  {
   "cell_type": "markdown",
   "id": "b947caec",
   "metadata": {},
   "source": [
    "Прочитаем файл `/datasets/internet.csv` из папки `/datasets` и сохраним его в переменной `df_internet`:"
   ]
  },
  {
   "cell_type": "code",
   "execution_count": 5,
   "id": "7824c03c",
   "metadata": {},
   "outputs": [],
   "source": [
    "try:\n",
    "    df_internet = pd.read_csv('C:/Users/ahmis/Documents/GitHub/projects_DA/project_4(determination_of_a_promising_tariff_for_the_telecom_company)/internet.csv', sep=',')\n",
    "except:\n",
    "    df_internet = pd.read_csv('/datasets/internet.csv', sep=',')"
   ]
  },
  {
   "cell_type": "markdown",
   "id": "ac258ee8",
   "metadata": {},
   "source": [
    "Исследуем данные таблицы с помощью функции `first_look`."
   ]
  },
  {
   "cell_type": "code",
   "execution_count": 6,
   "id": "9376802d",
   "metadata": {},
   "outputs": [
    {
     "name": "stdout",
     "output_type": "stream",
     "text": [
      "------------- Первые 5 строк -------------\n"
     ]
    },
    {
     "data": {
      "text/html": [
       "<div>\n",
       "<style scoped>\n",
       "    .dataframe tbody tr th:only-of-type {\n",
       "        vertical-align: middle;\n",
       "    }\n",
       "\n",
       "    .dataframe tbody tr th {\n",
       "        vertical-align: top;\n",
       "    }\n",
       "\n",
       "    .dataframe thead th {\n",
       "        text-align: right;\n",
       "    }\n",
       "</style>\n",
       "<table border=\"1\" class=\"dataframe\">\n",
       "  <thead>\n",
       "    <tr style=\"text-align: right;\">\n",
       "      <th></th>\n",
       "      <th>Unnamed: 0</th>\n",
       "      <th>id</th>\n",
       "      <th>mb_used</th>\n",
       "      <th>session_date</th>\n",
       "      <th>user_id</th>\n",
       "    </tr>\n",
       "  </thead>\n",
       "  <tbody>\n",
       "    <tr>\n",
       "      <th>0</th>\n",
       "      <td>0</td>\n",
       "      <td>1000_0</td>\n",
       "      <td>112.950</td>\n",
       "      <td>2018-11-25</td>\n",
       "      <td>1000</td>\n",
       "    </tr>\n",
       "    <tr>\n",
       "      <th>1</th>\n",
       "      <td>1</td>\n",
       "      <td>1000_1</td>\n",
       "      <td>1052.810</td>\n",
       "      <td>2018-09-07</td>\n",
       "      <td>1000</td>\n",
       "    </tr>\n",
       "    <tr>\n",
       "      <th>2</th>\n",
       "      <td>2</td>\n",
       "      <td>1000_2</td>\n",
       "      <td>1197.260</td>\n",
       "      <td>2018-06-25</td>\n",
       "      <td>1000</td>\n",
       "    </tr>\n",
       "    <tr>\n",
       "      <th>3</th>\n",
       "      <td>3</td>\n",
       "      <td>1000_3</td>\n",
       "      <td>550.270</td>\n",
       "      <td>2018-08-22</td>\n",
       "      <td>1000</td>\n",
       "    </tr>\n",
       "    <tr>\n",
       "      <th>4</th>\n",
       "      <td>4</td>\n",
       "      <td>1000_4</td>\n",
       "      <td>302.560</td>\n",
       "      <td>2018-09-24</td>\n",
       "      <td>1000</td>\n",
       "    </tr>\n",
       "  </tbody>\n",
       "</table>\n",
       "</div>"
      ],
      "text/plain": [
       "   Unnamed: 0      id  mb_used session_date  user_id\n",
       "0           0  1000_0  112.950   2018-11-25     1000\n",
       "1           1  1000_1 1052.810   2018-09-07     1000\n",
       "2           2  1000_2 1197.260   2018-06-25     1000\n",
       "3           3  1000_3  550.270   2018-08-22     1000\n",
       "4           4  1000_4  302.560   2018-09-24     1000"
      ]
     },
     "metadata": {},
     "output_type": "display_data"
    },
    {
     "name": "stdout",
     "output_type": "stream",
     "text": [
      "\n",
      "\n",
      "------------- Общая информация о таблице -------------\n",
      "<class 'pandas.core.frame.DataFrame'>\n",
      "RangeIndex: 149396 entries, 0 to 149395\n",
      "Data columns (total 5 columns):\n",
      " #   Column        Non-Null Count   Dtype  \n",
      "---  ------        --------------   -----  \n",
      " 0   Unnamed: 0    149396 non-null  int64  \n",
      " 1   id            149396 non-null  object \n",
      " 2   mb_used       149396 non-null  float64\n",
      " 3   session_date  149396 non-null  object \n",
      " 4   user_id       149396 non-null  int64  \n",
      "dtypes: float64(1), int64(2), object(2)\n",
      "memory usage: 5.7+ MB\n",
      "None\n",
      "\n",
      "\n",
      "------------- Пропуски -------------\n",
      "Пропусков НЕТ\n",
      "\n",
      "\n",
      "------------- Дубликаты -------------\n",
      "Дубликатов НЕТ\n",
      "\n",
      "\n",
      "------------- Наиболее популярные уникальные значения -------------\n",
      "0         1\n",
      "99574     1\n",
      "99594     1\n",
      "99595     1\n",
      "99596     1\n",
      "         ..\n",
      "49798     1\n",
      "49799     1\n",
      "49800     1\n",
      "49801     1\n",
      "149395    1\n",
      "Name: Unnamed: 0, Length: 149396, dtype: int64\n",
      "1000_0      1\n",
      "1333_109    1\n",
      "1334_0      1\n",
      "1334_1      1\n",
      "1334_2      1\n",
      "           ..\n",
      "1172_80     1\n",
      "1172_81     1\n",
      "1172_82     1\n",
      "1172_83     1\n",
      "1499_156    1\n",
      "Name: id, Length: 149396, dtype: int64\n",
      "0.000      19598\n",
      "335.910        9\n",
      "447.300        9\n",
      "197.560        9\n",
      "199.110        8\n",
      "           ...  \n",
      "643.430        1\n",
      "973.040        1\n",
      "834.510        1\n",
      "777.300        1\n",
      "23.720         1\n",
      "Name: mb_used, Length: 70003, dtype: int64\n",
      "2018-12-31    1057\n",
      "2018-12-30     903\n",
      "2018-12-25     859\n",
      "2018-12-26     844\n",
      "2018-12-22     834\n",
      "              ... \n",
      "2018-01-05      14\n",
      "2018-01-04       9\n",
      "2018-01-03       6\n",
      "2018-01-02       3\n",
      "2018-01-01       3\n",
      "Name: session_date, Length: 365, dtype: int64\n",
      "1496    834\n",
      "1227    812\n",
      "1204    789\n",
      "1240    764\n",
      "1251    759\n",
      "       ... \n",
      "1151     35\n",
      "1467     27\n",
      "1343     26\n",
      "1192     22\n",
      "1399      8\n",
      "Name: user_id, Length: 497, dtype: int64\n"
     ]
    }
   ],
   "source": [
    "first_look(df_internet)"
   ]
  },
  {
   "cell_type": "markdown",
   "id": "e22cefff",
   "metadata": {},
   "source": [
    "В таблице 5 столбцов. Типы данных в столбцах — `float64`(1), `int64`(2), `object`(2).\n",
    "\n",
    "**Согласно документации к данным:**\n",
    "- `Unnamed` не упоминается в документации\n",
    "- `id` — уникальный номер сессии\n",
    "- `mb_used` — объём потраченного за сессию интернет-трафика (в мегабайтах)\n",
    "- `session_date` — дата интернет-сессии\n",
    "- `user_id` — идентификатор пользователя\n",
    "\n",
    "✔️ **Соблюдаются требования к таблице:**\n",
    "- Столбцы записаны в «змеином_регистре» (кроме `Unnamed`);\n",
    "- Отсутствуют пропуски;\n",
    "- Отсутствуют дубликаты.\n",
    "\n",
    "❌ **Были замечены нарушения:**\n",
    "- Требуется замена типа данных в столбце `session_date`;\n",
    "- Нулевые значения столбца `mb_used` означают, что пользователь не пользовался интернетом, избавляться от них не нужно;\n",
    "- Солбец `Unnamed` не упоминается в документации, содержит порядковые номера строк начиная с нуля. Исключим его из анализа."
   ]
  },
  {
   "cell_type": "markdown",
   "id": "cd5d622f",
   "metadata": {},
   "source": [
    "### Информация о сообщениях"
   ]
  },
  {
   "cell_type": "markdown",
   "id": "aa1bdd69",
   "metadata": {},
   "source": [
    "Прочитаем файл `/datasets/messages.csv` из папки `/datasets` и сохраним его в переменной `df_messages`:"
   ]
  },
  {
   "cell_type": "code",
   "execution_count": 7,
   "id": "97d54312",
   "metadata": {},
   "outputs": [],
   "source": [
    "try:\n",
    "    df_messages = pd.read_csv('C:/Users/ahmis/Documents/GitHub/projects_DA/project_4(determination_of_a_promising_tariff_for_the_telecom_company)/messages.csv', sep=',')\n",
    "except:\n",
    "    df_messages = pd.read_csv('/datasets/messages.csv', sep=',')"
   ]
  },
  {
   "cell_type": "markdown",
   "id": "46ea9859",
   "metadata": {},
   "source": [
    "Исследуем данные таблицы с помощью функции `first_look`."
   ]
  },
  {
   "cell_type": "code",
   "execution_count": 8,
   "id": "81b013a6",
   "metadata": {},
   "outputs": [
    {
     "name": "stdout",
     "output_type": "stream",
     "text": [
      "------------- Первые 5 строк -------------\n"
     ]
    },
    {
     "data": {
      "text/html": [
       "<div>\n",
       "<style scoped>\n",
       "    .dataframe tbody tr th:only-of-type {\n",
       "        vertical-align: middle;\n",
       "    }\n",
       "\n",
       "    .dataframe tbody tr th {\n",
       "        vertical-align: top;\n",
       "    }\n",
       "\n",
       "    .dataframe thead th {\n",
       "        text-align: right;\n",
       "    }\n",
       "</style>\n",
       "<table border=\"1\" class=\"dataframe\">\n",
       "  <thead>\n",
       "    <tr style=\"text-align: right;\">\n",
       "      <th></th>\n",
       "      <th>id</th>\n",
       "      <th>message_date</th>\n",
       "      <th>user_id</th>\n",
       "    </tr>\n",
       "  </thead>\n",
       "  <tbody>\n",
       "    <tr>\n",
       "      <th>0</th>\n",
       "      <td>1000_0</td>\n",
       "      <td>2018-06-27</td>\n",
       "      <td>1000</td>\n",
       "    </tr>\n",
       "    <tr>\n",
       "      <th>1</th>\n",
       "      <td>1000_1</td>\n",
       "      <td>2018-10-08</td>\n",
       "      <td>1000</td>\n",
       "    </tr>\n",
       "    <tr>\n",
       "      <th>2</th>\n",
       "      <td>1000_2</td>\n",
       "      <td>2018-08-04</td>\n",
       "      <td>1000</td>\n",
       "    </tr>\n",
       "    <tr>\n",
       "      <th>3</th>\n",
       "      <td>1000_3</td>\n",
       "      <td>2018-06-16</td>\n",
       "      <td>1000</td>\n",
       "    </tr>\n",
       "    <tr>\n",
       "      <th>4</th>\n",
       "      <td>1000_4</td>\n",
       "      <td>2018-12-05</td>\n",
       "      <td>1000</td>\n",
       "    </tr>\n",
       "  </tbody>\n",
       "</table>\n",
       "</div>"
      ],
      "text/plain": [
       "       id message_date  user_id\n",
       "0  1000_0   2018-06-27     1000\n",
       "1  1000_1   2018-10-08     1000\n",
       "2  1000_2   2018-08-04     1000\n",
       "3  1000_3   2018-06-16     1000\n",
       "4  1000_4   2018-12-05     1000"
      ]
     },
     "metadata": {},
     "output_type": "display_data"
    },
    {
     "name": "stdout",
     "output_type": "stream",
     "text": [
      "\n",
      "\n",
      "------------- Общая информация о таблице -------------\n",
      "<class 'pandas.core.frame.DataFrame'>\n",
      "RangeIndex: 123036 entries, 0 to 123035\n",
      "Data columns (total 3 columns):\n",
      " #   Column        Non-Null Count   Dtype \n",
      "---  ------        --------------   ----- \n",
      " 0   id            123036 non-null  object\n",
      " 1   message_date  123036 non-null  object\n",
      " 2   user_id       123036 non-null  int64 \n",
      "dtypes: int64(1), object(2)\n",
      "memory usage: 2.8+ MB\n",
      "None\n",
      "\n",
      "\n",
      "------------- Пропуски -------------\n",
      "Пропусков НЕТ\n",
      "\n",
      "\n",
      "------------- Дубликаты -------------\n",
      "Дубликатов НЕТ\n",
      "\n",
      "\n",
      "------------- Наиболее популярные уникальные значения -------------\n",
      "1000_0      1\n",
      "1344_248    1\n",
      "1344_96     1\n",
      "1344_95     1\n",
      "1344_94     1\n",
      "           ..\n",
      "1174_352    1\n",
      "1174_351    1\n",
      "1174_350    1\n",
      "1174_349    1\n",
      "1499_183    1\n",
      "Name: id, Length: 123036, dtype: int64\n",
      "2018-12-31    859\n",
      "2018-12-30    765\n",
      "2018-12-21    712\n",
      "2018-12-29    702\n",
      "2018-12-28    699\n",
      "             ... \n",
      "2018-01-11     12\n",
      "2018-01-05     10\n",
      "2018-01-04     10\n",
      "2018-01-02     10\n",
      "2018-01-03      4\n",
      "Name: message_date, Length: 364, dtype: int64\n",
      "1277    1463\n",
      "1089    1408\n",
      "1231    1384\n",
      "1385    1380\n",
      "1356    1224\n",
      "        ... \n",
      "1389       6\n",
      "1279       5\n",
      "1074       3\n",
      "1159       2\n",
      "1141       1\n",
      "Name: user_id, Length: 426, dtype: int64\n"
     ]
    }
   ],
   "source": [
    "first_look(df_messages)"
   ]
  },
  {
   "cell_type": "markdown",
   "id": "02230122",
   "metadata": {},
   "source": [
    "В таблице 3 столбца. Типы данных в столбцах — `int64`(1), `object`(2).\n",
    "\n",
    "**Согласно документации к данным:**\n",
    "\n",
    "- `id` — уникальный номер сообщения\n",
    "- `message_date` — дата сообщения\n",
    "- `user_id` — идентификатор пользователя, отправившего сообщение\n",
    "\n",
    "✔️ **Соблюдаются требования к таблице:**\n",
    "- Столбцы записаны в «змеином_регистре»;\n",
    "- Отсутствуют пропуски;\n",
    "- Отсутствуют дубликаты.\n",
    "\n",
    "❌ **Были замечены нарушения:**\n",
    "- Требуется замена типа данных в столбце `message_date`."
   ]
  },
  {
   "cell_type": "markdown",
   "id": "9ae3f590",
   "metadata": {},
   "source": [
    "### Информация о тарифах"
   ]
  },
  {
   "cell_type": "markdown",
   "id": "b7a227e5",
   "metadata": {},
   "source": [
    "Прочитаем файл `/datasets/tariffs.csv` из папки `/datasets` и сохраним его в переменной `df_tariffs`:"
   ]
  },
  {
   "cell_type": "code",
   "execution_count": 9,
   "id": "451406c3",
   "metadata": {},
   "outputs": [],
   "source": [
    "try:\n",
    "    df_tariffs = pd.read_csv('C:/Users/ahmis/Documents/GitHub/projects_DA/project_4(determination_of_a_promising_tariff_for_the_telecom_company)/tariffs.csv', sep=',')\n",
    "except:\n",
    "    df_tariffs = pd.read_csv('/datasets/tariffs.csv', sep=',')"
   ]
  },
  {
   "cell_type": "markdown",
   "id": "997714ce",
   "metadata": {},
   "source": [
    "Исследуем данные таблицы с помощью функции `first_look`."
   ]
  },
  {
   "cell_type": "code",
   "execution_count": 10,
   "id": "6c5b4503",
   "metadata": {},
   "outputs": [
    {
     "name": "stdout",
     "output_type": "stream",
     "text": [
      "------------- Первые 5 строк -------------\n"
     ]
    },
    {
     "data": {
      "text/html": [
       "<div>\n",
       "<style scoped>\n",
       "    .dataframe tbody tr th:only-of-type {\n",
       "        vertical-align: middle;\n",
       "    }\n",
       "\n",
       "    .dataframe tbody tr th {\n",
       "        vertical-align: top;\n",
       "    }\n",
       "\n",
       "    .dataframe thead th {\n",
       "        text-align: right;\n",
       "    }\n",
       "</style>\n",
       "<table border=\"1\" class=\"dataframe\">\n",
       "  <thead>\n",
       "    <tr style=\"text-align: right;\">\n",
       "      <th></th>\n",
       "      <th>messages_included</th>\n",
       "      <th>mb_per_month_included</th>\n",
       "      <th>minutes_included</th>\n",
       "      <th>rub_monthly_fee</th>\n",
       "      <th>rub_per_gb</th>\n",
       "      <th>rub_per_message</th>\n",
       "      <th>rub_per_minute</th>\n",
       "      <th>tariff_name</th>\n",
       "    </tr>\n",
       "  </thead>\n",
       "  <tbody>\n",
       "    <tr>\n",
       "      <th>0</th>\n",
       "      <td>50</td>\n",
       "      <td>15360</td>\n",
       "      <td>500</td>\n",
       "      <td>550</td>\n",
       "      <td>200</td>\n",
       "      <td>3</td>\n",
       "      <td>3</td>\n",
       "      <td>smart</td>\n",
       "    </tr>\n",
       "    <tr>\n",
       "      <th>1</th>\n",
       "      <td>1000</td>\n",
       "      <td>30720</td>\n",
       "      <td>3000</td>\n",
       "      <td>1950</td>\n",
       "      <td>150</td>\n",
       "      <td>1</td>\n",
       "      <td>1</td>\n",
       "      <td>ultra</td>\n",
       "    </tr>\n",
       "  </tbody>\n",
       "</table>\n",
       "</div>"
      ],
      "text/plain": [
       "   messages_included  mb_per_month_included  minutes_included  \\\n",
       "0                 50                  15360               500   \n",
       "1               1000                  30720              3000   \n",
       "\n",
       "   rub_monthly_fee  rub_per_gb  rub_per_message  rub_per_minute tariff_name  \n",
       "0              550         200                3               3       smart  \n",
       "1             1950         150                1               1       ultra  "
      ]
     },
     "metadata": {},
     "output_type": "display_data"
    },
    {
     "name": "stdout",
     "output_type": "stream",
     "text": [
      "\n",
      "\n",
      "------------- Общая информация о таблице -------------\n",
      "<class 'pandas.core.frame.DataFrame'>\n",
      "RangeIndex: 2 entries, 0 to 1\n",
      "Data columns (total 8 columns):\n",
      " #   Column                 Non-Null Count  Dtype \n",
      "---  ------                 --------------  ----- \n",
      " 0   messages_included      2 non-null      int64 \n",
      " 1   mb_per_month_included  2 non-null      int64 \n",
      " 2   minutes_included       2 non-null      int64 \n",
      " 3   rub_monthly_fee        2 non-null      int64 \n",
      " 4   rub_per_gb             2 non-null      int64 \n",
      " 5   rub_per_message        2 non-null      int64 \n",
      " 6   rub_per_minute         2 non-null      int64 \n",
      " 7   tariff_name            2 non-null      object\n",
      "dtypes: int64(7), object(1)\n",
      "memory usage: 256.0+ bytes\n",
      "None\n",
      "\n",
      "\n",
      "------------- Пропуски -------------\n",
      "Пропусков НЕТ\n",
      "\n",
      "\n",
      "------------- Дубликаты -------------\n",
      "Дубликатов НЕТ\n",
      "\n",
      "\n",
      "------------- Наиболее популярные уникальные значения -------------\n",
      "50      1\n",
      "1000    1\n",
      "Name: messages_included, dtype: int64\n",
      "15360    1\n",
      "30720    1\n",
      "Name: mb_per_month_included, dtype: int64\n",
      "500     1\n",
      "3000    1\n",
      "Name: minutes_included, dtype: int64\n",
      "550     1\n",
      "1950    1\n",
      "Name: rub_monthly_fee, dtype: int64\n",
      "200    1\n",
      "150    1\n",
      "Name: rub_per_gb, dtype: int64\n",
      "3    1\n",
      "1    1\n",
      "Name: rub_per_message, dtype: int64\n",
      "3    1\n",
      "1    1\n",
      "Name: rub_per_minute, dtype: int64\n",
      "smart    1\n",
      "ultra    1\n",
      "Name: tariff_name, dtype: int64\n"
     ]
    }
   ],
   "source": [
    "first_look(df_tariffs)"
   ]
  },
  {
   "cell_type": "markdown",
   "id": "df1c8db6",
   "metadata": {},
   "source": [
    "В таблице 8 столбцов. Типы данных в столбцах — `int64`(7), `object`(1).\n",
    "\n",
    "**Согласно документации к данным:**\n",
    "\n",
    "- `tariff_name` — название тарифа\n",
    "- `rub_monthly_fee` — ежемесячная абонентская плата в рублях\n",
    "- `minutes_included` — количество минут разговора в месяц, включённых в абонентскую плату\n",
    "- `messages_included` — количество сообщений в месяц, включённых в абонентскую плату\n",
    "- `mb_per_month_included` — объём интернет-трафика, включённого в абонентскую плату (в мегабайтах)\n",
    "- `rub_per_minute` — стоимость минуты разговора сверх тарифного пакета (например, если в тарифе 100 минут разговора в месяц, то со 101 минуты будет взиматься плата)\n",
    "- `rub_per_message` — стоимость отправки сообщения сверх тарифного пакета\n",
    "- `rub_per_gb` — стоимость дополнительного гигабайта интернет-трафика сверх тарифного пакета (1 гигабайт = 1024 мегабайта)\n",
    "\n",
    "✔️ **Соблюдаются требования к таблице:**\n",
    "- Столбцы записаны в «змеином_регистре»;\n",
    "- Отсутствуют пропуски;\n",
    "- Отсутствуют дубликаты."
   ]
  },
  {
   "cell_type": "markdown",
   "id": "bfec755a",
   "metadata": {},
   "source": [
    "### Информация о пользователях"
   ]
  },
  {
   "cell_type": "markdown",
   "id": "dc82e15f",
   "metadata": {},
   "source": [
    "Прочитаем файл `/datasets/users.csv` из папки `/datasets` и сохраним его в переменной `df_users`:"
   ]
  },
  {
   "cell_type": "code",
   "execution_count": 11,
   "id": "14b5e794",
   "metadata": {},
   "outputs": [],
   "source": [
    "try:\n",
    "    df_users = pd.read_csv('C:/Users/ahmis/Documents/GitHub/projects_DA/project_4(determination_of_a_promising_tariff_for_the_telecom_company)/users.csv', sep=',')\n",
    "except:\n",
    "    df_users = pd.read_csv('/datasets/users.csv', sep=',')"
   ]
  },
  {
   "cell_type": "markdown",
   "id": "d29b2650",
   "metadata": {},
   "source": [
    "Исследуем данные таблицы с помощью функции `first_look`."
   ]
  },
  {
   "cell_type": "code",
   "execution_count": 12,
   "id": "61e5e83e",
   "metadata": {},
   "outputs": [
    {
     "name": "stdout",
     "output_type": "stream",
     "text": [
      "------------- Первые 5 строк -------------\n"
     ]
    },
    {
     "data": {
      "text/html": [
       "<div>\n",
       "<style scoped>\n",
       "    .dataframe tbody tr th:only-of-type {\n",
       "        vertical-align: middle;\n",
       "    }\n",
       "\n",
       "    .dataframe tbody tr th {\n",
       "        vertical-align: top;\n",
       "    }\n",
       "\n",
       "    .dataframe thead th {\n",
       "        text-align: right;\n",
       "    }\n",
       "</style>\n",
       "<table border=\"1\" class=\"dataframe\">\n",
       "  <thead>\n",
       "    <tr style=\"text-align: right;\">\n",
       "      <th></th>\n",
       "      <th>user_id</th>\n",
       "      <th>age</th>\n",
       "      <th>churn_date</th>\n",
       "      <th>city</th>\n",
       "      <th>first_name</th>\n",
       "      <th>last_name</th>\n",
       "      <th>reg_date</th>\n",
       "      <th>tariff</th>\n",
       "    </tr>\n",
       "  </thead>\n",
       "  <tbody>\n",
       "    <tr>\n",
       "      <th>0</th>\n",
       "      <td>1000</td>\n",
       "      <td>52</td>\n",
       "      <td>NaN</td>\n",
       "      <td>Краснодар</td>\n",
       "      <td>Рафаил</td>\n",
       "      <td>Верещагин</td>\n",
       "      <td>2018-05-25</td>\n",
       "      <td>ultra</td>\n",
       "    </tr>\n",
       "    <tr>\n",
       "      <th>1</th>\n",
       "      <td>1001</td>\n",
       "      <td>41</td>\n",
       "      <td>NaN</td>\n",
       "      <td>Москва</td>\n",
       "      <td>Иван</td>\n",
       "      <td>Ежов</td>\n",
       "      <td>2018-11-01</td>\n",
       "      <td>smart</td>\n",
       "    </tr>\n",
       "    <tr>\n",
       "      <th>2</th>\n",
       "      <td>1002</td>\n",
       "      <td>59</td>\n",
       "      <td>NaN</td>\n",
       "      <td>Стерлитамак</td>\n",
       "      <td>Евгений</td>\n",
       "      <td>Абрамович</td>\n",
       "      <td>2018-06-17</td>\n",
       "      <td>smart</td>\n",
       "    </tr>\n",
       "    <tr>\n",
       "      <th>3</th>\n",
       "      <td>1003</td>\n",
       "      <td>23</td>\n",
       "      <td>NaN</td>\n",
       "      <td>Москва</td>\n",
       "      <td>Белла</td>\n",
       "      <td>Белякова</td>\n",
       "      <td>2018-08-17</td>\n",
       "      <td>ultra</td>\n",
       "    </tr>\n",
       "    <tr>\n",
       "      <th>4</th>\n",
       "      <td>1004</td>\n",
       "      <td>68</td>\n",
       "      <td>NaN</td>\n",
       "      <td>Новокузнецк</td>\n",
       "      <td>Татьяна</td>\n",
       "      <td>Авдеенко</td>\n",
       "      <td>2018-05-14</td>\n",
       "      <td>ultra</td>\n",
       "    </tr>\n",
       "  </tbody>\n",
       "</table>\n",
       "</div>"
      ],
      "text/plain": [
       "   user_id  age churn_date         city first_name  last_name    reg_date  \\\n",
       "0     1000   52        NaN    Краснодар     Рафаил  Верещагин  2018-05-25   \n",
       "1     1001   41        NaN       Москва       Иван       Ежов  2018-11-01   \n",
       "2     1002   59        NaN  Стерлитамак    Евгений  Абрамович  2018-06-17   \n",
       "3     1003   23        NaN       Москва      Белла   Белякова  2018-08-17   \n",
       "4     1004   68        NaN  Новокузнецк    Татьяна   Авдеенко  2018-05-14   \n",
       "\n",
       "  tariff  \n",
       "0  ultra  \n",
       "1  smart  \n",
       "2  smart  \n",
       "3  ultra  \n",
       "4  ultra  "
      ]
     },
     "metadata": {},
     "output_type": "display_data"
    },
    {
     "name": "stdout",
     "output_type": "stream",
     "text": [
      "\n",
      "\n",
      "------------- Общая информация о таблице -------------\n",
      "<class 'pandas.core.frame.DataFrame'>\n",
      "RangeIndex: 500 entries, 0 to 499\n",
      "Data columns (total 8 columns):\n",
      " #   Column      Non-Null Count  Dtype \n",
      "---  ------      --------------  ----- \n",
      " 0   user_id     500 non-null    int64 \n",
      " 1   age         500 non-null    int64 \n",
      " 2   churn_date  38 non-null     object\n",
      " 3   city        500 non-null    object\n",
      " 4   first_name  500 non-null    object\n",
      " 5   last_name   500 non-null    object\n",
      " 6   reg_date    500 non-null    object\n",
      " 7   tariff      500 non-null    object\n",
      "dtypes: int64(2), object(6)\n",
      "memory usage: 31.4+ KB\n",
      "None\n",
      "\n",
      "\n",
      "------------- Пропуски -------------\n",
      "churn_date  —  462 пропуска(ов)\n",
      "\n",
      "\n",
      "------------- Дубликаты -------------\n",
      "Дубликатов НЕТ\n",
      "\n",
      "\n",
      "------------- Наиболее популярные уникальные значения -------------\n",
      "1000    1\n",
      "1329    1\n",
      "1342    1\n",
      "1341    1\n",
      "1340    1\n",
      "       ..\n",
      "1161    1\n",
      "1160    1\n",
      "1159    1\n",
      "1158    1\n",
      "1499    1\n",
      "Name: user_id, Length: 500, dtype: int64\n",
      "53    14\n",
      "42    14\n",
      "63    13\n",
      "64    13\n",
      "71    13\n",
      "73    12\n",
      "21    12\n",
      "40    12\n",
      "37    11\n",
      "29    11\n",
      "39    11\n",
      "26    11\n",
      "47    11\n",
      "70    10\n",
      "45    10\n",
      "41    10\n",
      "52    10\n",
      "58    10\n",
      "36    10\n",
      "66     9\n",
      "23     9\n",
      "50     9\n",
      "65     9\n",
      "19     9\n",
      "48     9\n",
      "24     9\n",
      "68     9\n",
      "27     9\n",
      "28     9\n",
      "51     9\n",
      "20     9\n",
      "56     9\n",
      "30     9\n",
      "60     8\n",
      "44     8\n",
      "69     8\n",
      "62     8\n",
      "55     8\n",
      "74     7\n",
      "25     7\n",
      "46     7\n",
      "35     7\n",
      "32     7\n",
      "67     7\n",
      "43     7\n",
      "31     7\n",
      "18     6\n",
      "75     6\n",
      "54     6\n",
      "59     6\n",
      "72     5\n",
      "22     5\n",
      "34     5\n",
      "33     5\n",
      "38     5\n",
      "49     4\n",
      "57     4\n",
      "61     3\n",
      "Name: age, dtype: int64\n",
      "2018-12-03    2\n",
      "2018-10-03    2\n",
      "2018-10-14    2\n",
      "2018-12-09    2\n",
      "2018-12-21    2\n",
      "2018-12-30    1\n",
      "2018-10-28    1\n",
      "2018-11-26    1\n",
      "2018-11-27    1\n",
      "2018-11-16    1\n",
      "2018-10-27    1\n",
      "2018-10-05    1\n",
      "2018-09-27    1\n",
      "2018-11-13    1\n",
      "2018-12-25    1\n",
      "2018-12-14    1\n",
      "2018-12-24    1\n",
      "2018-09-26    1\n",
      "2018-11-22    1\n",
      "2018-08-17    1\n",
      "2018-10-04    1\n",
      "2018-09-02    1\n",
      "2018-12-18    1\n",
      "2018-11-30    1\n",
      "2018-12-20    1\n",
      "2018-12-16    1\n",
      "2018-11-07    1\n",
      "2018-12-23    1\n",
      "2018-08-31    1\n",
      "2018-12-26    1\n",
      "2018-12-11    1\n",
      "2018-11-21    1\n",
      "2018-10-25    1\n",
      "Name: churn_date, dtype: int64\n",
      "Москва             99\n",
      "Санкт-Петербург    39\n",
      "Новосибирск        16\n",
      "Омск               14\n",
      "Казань             14\n",
      "                   ..\n",
      "Архангельск         1\n",
      "Иваново             1\n",
      "Нижневартовск       1\n",
      "Химки               1\n",
      "Подольск            1\n",
      "Name: city, Length: 76, dtype: int64\n",
      "Радим      6\n",
      "Леонид     5\n",
      "Пётр       5\n",
      "Андрей     4\n",
      "Адам       4\n",
      "          ..\n",
      "Зинаида    1\n",
      "Глеб       1\n",
      "Роза       1\n",
      "Юзефа      1\n",
      "Трифон     1\n",
      "Name: first_name, Length: 246, dtype: int64\n",
      "Андреенко     5\n",
      "Березина      3\n",
      "Аркадьев      3\n",
      "Булгаков      3\n",
      "Соловьев      3\n",
      "             ..\n",
      "Медведев      1\n",
      "Минаева       1\n",
      "Авдонюшкин    1\n",
      "Андрейчук     1\n",
      "Акимчин       1\n",
      "Name: last_name, Length: 419, dtype: int64\n",
      "2018-05-28    8\n",
      "2018-11-16    5\n",
      "2018-10-05    5\n",
      "2018-04-03    5\n",
      "2018-01-04    5\n",
      "             ..\n",
      "2018-09-20    1\n",
      "2018-04-28    1\n",
      "2018-08-07    1\n",
      "2018-06-18    1\n",
      "2018-04-25    1\n",
      "Name: reg_date, Length: 270, dtype: int64\n",
      "smart    351\n",
      "ultra    149\n",
      "Name: tariff, dtype: int64\n"
     ]
    }
   ],
   "source": [
    "first_look(df_users)"
   ]
  },
  {
   "cell_type": "markdown",
   "id": "2d9b734d",
   "metadata": {},
   "source": [
    "В таблице 8 столбцов. Типы данных в столбцах — `int64`(2), `object`(6).\n",
    "\n",
    "**Согласно документации к данным:**\n",
    "\n",
    "- `user_id` — уникальный идентификатор пользователя\n",
    "- `first_name` — имя пользователя\n",
    "- `last_name` — фамилия пользователя\n",
    "- `age` — возраст пользователя (годы)\n",
    "- `reg_date` — дата подключения тарифа (день, месяц, год)\n",
    "- `churn_date` — дата прекращения пользования тарифом\n",
    "- `city` — город проживания пользователя\n",
    "- `tariff` — название тарифного плана\n",
    "\n",
    "✔️ **Соблюдаются требования к таблице:**\n",
    "- Столбцы записаны в «змеином_регистре»;\n",
    "- Отсутствуют дубликаты.\n",
    "\n",
    "❌ **Были замечены нарушения:**\n",
    "- Пропуски столбца `churn_date` — по условию задачи если значение пропущено, то тариф ещё действовал на момент выгрузки данных;\n",
    "- Требуется замена типа данных в столбцах `reg_date` и `churn_date`."
   ]
  },
  {
   "cell_type": "markdown",
   "id": "9da0e62a",
   "metadata": {},
   "source": [
    "### Выводы"
   ]
  },
  {
   "cell_type": "markdown",
   "id": "48ef25ba",
   "metadata": {},
   "source": [
    "Во всех таблицах данные архива пользователей тарифов телеком компании. Часть таблиц описывает сам тариф, остальные данные рассказывают о клиентах. \n",
    "\n",
    "Предварительно можно утверждать, что данных достаточно для проведения анализа. Но встречаются пропуски в данных, а также были замечены аномалии и неверные типы данных.\n",
    "\n",
    "Чтобы двигаться дальше, нужно устранить проблемы в данных."
   ]
  },
  {
   "cell_type": "markdown",
   "id": "90f8fcd0",
   "metadata": {},
   "source": [
    "## Предобработка данных"
   ]
  },
  {
   "cell_type": "markdown",
   "id": "4e2ac573",
   "metadata": {},
   "source": [
    "### Ошибки данных"
   ]
  },
  {
   "cell_type": "markdown",
   "id": "ce6cd50b",
   "metadata": {},
   "source": [
    "Удалим лишний столбец из таблицы `df_internet`."
   ]
  },
  {
   "cell_type": "code",
   "execution_count": 13,
   "id": "44a99a15",
   "metadata": {},
   "outputs": [],
   "source": [
    "df_internet = df_internet.drop(columns = 'Unnamed: 0') # исключаем из таблицы столбец Unnamed"
   ]
  },
  {
   "cell_type": "markdown",
   "id": "239f8836",
   "metadata": {},
   "source": [
    "Проверим результат. Для этого выведем на экран названия столбцов:"
   ]
  },
  {
   "cell_type": "code",
   "execution_count": 14,
   "id": "5e843280",
   "metadata": {},
   "outputs": [
    {
     "data": {
      "text/plain": [
       "Index(['id', 'mb_used', 'session_date', 'user_id'], dtype='object')"
      ]
     },
     "execution_count": 14,
     "metadata": {},
     "output_type": "execute_result"
    }
   ],
   "source": [
    "df_internet.columns # проверка результатов - перечень названий столбцов"
   ]
  },
  {
   "cell_type": "markdown",
   "id": "3d375c65",
   "metadata": {},
   "source": [
    "### Заполнение пропусков"
   ]
  },
  {
   "cell_type": "markdown",
   "id": "89ce7f36",
   "metadata": {},
   "source": [
    "Ранее мы определили пустые значения столбцов `duration` и `mb_used`. Изучим их более детально, применив функцию `hist_maker`."
   ]
  },
  {
   "cell_type": "code",
   "execution_count": 15,
   "id": "d875b35d",
   "metadata": {},
   "outputs": [],
   "source": [
    "# функция построения графика и анализа столбца\n",
    "def hist_maker(column):\n",
    "    print(column.describe())\n",
    "    plt.figure(figsize=(10,6))\n",
    "    plt.hist(column, bins=30, color='orange', edgecolor='orange', alpha=0.5)\n",
    "    plt.axvline(column.describe()['mean'], color='r', linestyle='dashed', linewidth=3, label='Mean value: {:.2f}'.format(column.describe()['mean']))\n",
    "    plt.axvline(column.describe()['50%'], color='b', linestyle='dotted', linewidth=3, label='Median value: {:.0f}'.format(column.describe()['50%']))\n",
    "    plt.legend()\n",
    "    plt.title('Histogramm {}'.format(column.name))"
   ]
  },
  {
   "cell_type": "code",
   "execution_count": 16,
   "id": "3aa78bcc",
   "metadata": {},
   "outputs": [
    {
     "name": "stdout",
     "output_type": "stream",
     "text": [
      "count   202607.000\n",
      "mean         6.756\n",
      "std          5.843\n",
      "min          0.000\n",
      "25%          1.300\n",
      "50%          6.000\n",
      "75%         10.700\n",
      "max         38.000\n",
      "Name: duration, dtype: float64\n"
     ]
    },
    {
     "data": {
      "image/png": "[encoded data removed]",
      "text/plain": [
       "<Figure size 720x432 with 1 Axes>"
      ]
     },
     "metadata": {
      "needs_background": "light"
     },
     "output_type": "display_data"
    }
   ],
   "source": [
    "hist_maker(df_calls['duration'])"
   ]
  },
  {
   "cell_type": "code",
   "execution_count": 17,
   "id": "e4c638d6",
   "metadata": {},
   "outputs": [
    {
     "name": "stdout",
     "output_type": "stream",
     "text": [
      "count   149396.000\n",
      "mean       370.192\n",
      "std        278.301\n",
      "min          0.000\n",
      "25%        138.188\n",
      "50%        348.015\n",
      "75%        559.553\n",
      "max       1724.830\n",
      "Name: mb_used, dtype: float64\n"
     ]
    },
    {
     "data": {
      "image/png": "[encoded data removed]",
      "text/plain": [
       "<Figure size 720x432 with 1 Axes>"
      ]
     },
     "metadata": {
      "needs_background": "light"
     },
     "output_type": "display_data"
    }
   ],
   "source": [
    "hist_maker(df_internet['mb_used'])"
   ]
  },
  {
   "cell_type": "markdown",
   "id": "7c93cc0e",
   "metadata": {},
   "source": [
    "На графике можно заметить, что нулевые значения выбиваются из общего числа, однако по условию задачи нулями обозначены пропущенные звонки, либо неиспользованный трафик, поэтому их не нужно удалять."
   ]
  },
  {
   "cell_type": "markdown",
   "id": "85a538ea",
   "metadata": {},
   "source": [
    "### Изменение типов данных"
   ]
  },
  {
   "cell_type": "markdown",
   "id": "fbadda19",
   "metadata": {},
   "source": [
    "Ранее мы опеределили столбцы для которых необходима замена типов данных:\n",
    "- `df_calls` → `call_date`\n",
    "- `df_internet` → `session_date`\n",
    "- `df_messages` → `message_date`\n",
    "- `df_users` → `reg_date` и `churn_date`\n",
    "\n",
    "Сохраним новый тип данных в отдельном столбце `month`."
   ]
  },
  {
   "cell_type": "code",
   "execution_count": 18,
   "id": "2c9de446",
   "metadata": {},
   "outputs": [],
   "source": [
    "df_calls['call_date'] = pd.to_datetime(df_calls['call_date'], format='%Y-%m-%d')"
   ]
  },
  {
   "cell_type": "code",
   "execution_count": 19,
   "id": "25314585",
   "metadata": {},
   "outputs": [],
   "source": [
    "df_internet['session_date'] = pd.to_datetime(df_internet['session_date'], format='%Y-%m-%d')"
   ]
  },
  {
   "cell_type": "code",
   "execution_count": 20,
   "id": "6af224c4",
   "metadata": {},
   "outputs": [],
   "source": [
    "df_messages['message_date'] = pd.to_datetime(df_messages['message_date'], format='%Y-%m-%d')"
   ]
  },
  {
   "cell_type": "code",
   "execution_count": 21,
   "id": "b1957c20",
   "metadata": {},
   "outputs": [],
   "source": [
    "df_users['reg_date'] = pd.to_datetime(df_users['reg_date'], format='%Y-%m-%d')"
   ]
  },
  {
   "cell_type": "code",
   "execution_count": 22,
   "id": "f83040bd",
   "metadata": {},
   "outputs": [],
   "source": [
    "df_users['churn_date'] = pd.to_datetime(df_users['churn_date'], format='%Y-%m-%d')"
   ]
  },
  {
   "cell_type": "markdown",
   "id": "e76ab7b6",
   "metadata": {},
   "source": [
    "В условии к задаче упоминается о том, что «Мегалайн» всегда округляет секунды до минут, а мегабайты — до гигабайт. Округлим значения соответствующего столбца и переведем в тип данных `int`.\n",
    "- `df_calls` → `duration`."
   ]
  },
  {
   "cell_type": "code",
   "execution_count": 23,
   "id": "91067ac1",
   "metadata": {},
   "outputs": [],
   "source": [
    "df_calls['duration'] = np.ceil(df_calls['duration']).astype('int')"
   ]
  },
  {
   "cell_type": "markdown",
   "id": "88a51b42",
   "metadata": {},
   "source": [
    "Для расчета мегабайтов нам потребуется значения месяца."
   ]
  },
  {
   "cell_type": "code",
   "execution_count": 24,
   "id": "53ceacec",
   "metadata": {},
   "outputs": [],
   "source": [
    "df_internet['month'] = df_internet['session_date'].astype('datetime64[M]') # добавляем столбец с началом календарного месяца"
   ]
  },
  {
   "cell_type": "markdown",
   "id": "ab3dcc35",
   "metadata": {},
   "source": [
    "Расчитаем помесячное потребление мегабайт для каждого пользователя с помощью сводной таблицы."
   ]
  },
  {
   "cell_type": "code",
   "execution_count": 25,
   "id": "4f57a36b",
   "metadata": {},
   "outputs": [],
   "source": [
    "internet=df_internet.pivot_table(index=['user_id','month'], values='mb_used', aggfunc=['sum'])"
   ]
  },
  {
   "cell_type": "code",
   "execution_count": 26,
   "id": "ab12cdb5",
   "metadata": {},
   "outputs": [],
   "source": [
    "internet.columns=['mb_used']"
   ]
  },
  {
   "cell_type": "markdown",
   "id": "4324e34d",
   "metadata": {},
   "source": [
    "Проверим типы данных после изменения."
   ]
  },
  {
   "cell_type": "code",
   "execution_count": 27,
   "id": "f26e9061",
   "metadata": {},
   "outputs": [
    {
     "name": "stdout",
     "output_type": "stream",
     "text": [
      "<class 'pandas.core.frame.DataFrame'>\n",
      "RangeIndex: 202607 entries, 0 to 202606\n",
      "Data columns (total 4 columns):\n",
      " #   Column     Non-Null Count   Dtype         \n",
      "---  ------     --------------   -----         \n",
      " 0   id         202607 non-null  object        \n",
      " 1   call_date  202607 non-null  datetime64[ns]\n",
      " 2   duration   202607 non-null  int32         \n",
      " 3   user_id    202607 non-null  int64         \n",
      "dtypes: datetime64[ns](1), int32(1), int64(1), object(1)\n",
      "memory usage: 5.4+ MB\n"
     ]
    }
   ],
   "source": [
    "df_calls.info()"
   ]
  },
  {
   "cell_type": "code",
   "execution_count": 28,
   "id": "bc217ee6",
   "metadata": {},
   "outputs": [
    {
     "name": "stdout",
     "output_type": "stream",
     "text": [
      "<class 'pandas.core.frame.DataFrame'>\n",
      "RangeIndex: 149396 entries, 0 to 149395\n",
      "Data columns (total 5 columns):\n",
      " #   Column        Non-Null Count   Dtype         \n",
      "---  ------        --------------   -----         \n",
      " 0   id            149396 non-null  object        \n",
      " 1   mb_used       149396 non-null  float64       \n",
      " 2   session_date  149396 non-null  datetime64[ns]\n",
      " 3   user_id       149396 non-null  int64         \n",
      " 4   month         149396 non-null  datetime64[ns]\n",
      "dtypes: datetime64[ns](2), float64(1), int64(1), object(1)\n",
      "memory usage: 5.7+ MB\n"
     ]
    }
   ],
   "source": [
    "df_internet.info()"
   ]
  },
  {
   "cell_type": "code",
   "execution_count": 29,
   "id": "e7e127a0",
   "metadata": {},
   "outputs": [
    {
     "name": "stdout",
     "output_type": "stream",
     "text": [
      "<class 'pandas.core.frame.DataFrame'>\n",
      "RangeIndex: 123036 entries, 0 to 123035\n",
      "Data columns (total 3 columns):\n",
      " #   Column        Non-Null Count   Dtype         \n",
      "---  ------        --------------   -----         \n",
      " 0   id            123036 non-null  object        \n",
      " 1   message_date  123036 non-null  datetime64[ns]\n",
      " 2   user_id       123036 non-null  int64         \n",
      "dtypes: datetime64[ns](1), int64(1), object(1)\n",
      "memory usage: 2.8+ MB\n"
     ]
    }
   ],
   "source": [
    "df_messages.info()"
   ]
  },
  {
   "cell_type": "code",
   "execution_count": 30,
   "id": "342eac2f",
   "metadata": {},
   "outputs": [
    {
     "name": "stdout",
     "output_type": "stream",
     "text": [
      "<class 'pandas.core.frame.DataFrame'>\n",
      "RangeIndex: 500 entries, 0 to 499\n",
      "Data columns (total 8 columns):\n",
      " #   Column      Non-Null Count  Dtype         \n",
      "---  ------      --------------  -----         \n",
      " 0   user_id     500 non-null    int64         \n",
      " 1   age         500 non-null    int64         \n",
      " 2   churn_date  38 non-null     datetime64[ns]\n",
      " 3   city        500 non-null    object        \n",
      " 4   first_name  500 non-null    object        \n",
      " 5   last_name   500 non-null    object        \n",
      " 6   reg_date    500 non-null    datetime64[ns]\n",
      " 7   tariff      500 non-null    object        \n",
      "dtypes: datetime64[ns](2), int64(2), object(4)\n",
      "memory usage: 31.4+ KB\n"
     ]
    }
   ],
   "source": [
    "df_users.info()"
   ]
  },
  {
   "cell_type": "markdown",
   "id": "9a041ec2",
   "metadata": {},
   "source": [
    "### Предобработка и объединение датафреймов"
   ]
  },
  {
   "cell_type": "markdown",
   "id": "8a5d206f",
   "metadata": {},
   "source": [
    "Для объединения таблиц нам потребуется преобразовать даты в месяца. Добавим соответствующие колонки в таблицы."
   ]
  },
  {
   "cell_type": "code",
   "execution_count": 31,
   "id": "61585da1",
   "metadata": {},
   "outputs": [],
   "source": [
    "df_calls['month'] = df_calls['call_date'].astype('datetime64[M]') # добавляем столбец с началом календарного месяца"
   ]
  },
  {
   "cell_type": "code",
   "execution_count": 32,
   "id": "dd54f98c",
   "metadata": {},
   "outputs": [],
   "source": [
    "df_messages['month'] = df_messages['message_date'].astype('datetime64[M]') # добавляем столбец с началом календарного месяца"
   ]
  },
  {
   "cell_type": "markdown",
   "id": "f43b645f",
   "metadata": {},
   "source": [
    "Переименуем столбец `tariff_name` в таблице `df_tariffs` для удобства объединения датафреймов."
   ]
  },
  {
   "cell_type": "code",
   "execution_count": 33,
   "id": "7c5f33a1",
   "metadata": {},
   "outputs": [],
   "source": [
    "df_tariffs = df_tariffs.rename(columns={'tariff_name':'tariff'}) # переименование столбца"
   ]
  },
  {
   "cell_type": "markdown",
   "id": "6e140b84",
   "metadata": {},
   "source": [
    "Для дальнейшего анализа было бы удобно объединить датафреймы в одну таблицу. Для этого нам потребуется сгруппировать данные по общим ключам."
   ]
  },
  {
   "cell_type": "code",
   "execution_count": 34,
   "id": "1bd6318c",
   "metadata": {},
   "outputs": [],
   "source": [
    "# группировка по звонкам\n",
    "calls = df_calls.groupby(['user_id', 'month']).agg({'duration':'sum', 'id':'count'}).reset_index()"
   ]
  },
  {
   "cell_type": "code",
   "execution_count": 35,
   "id": "ce358f57",
   "metadata": {},
   "outputs": [],
   "source": [
    "# группировка по сообщениям\n",
    "messages = df_messages.groupby(['user_id', 'month']).agg({'id':'count'}).reset_index()"
   ]
  },
  {
   "cell_type": "code",
   "execution_count": 36,
   "id": "2effd8cf",
   "metadata": {},
   "outputs": [],
   "source": [
    "# группировка по интернет-сессиям\n",
    "internet = df_internet.groupby(['user_id', 'month']).agg({'mb_used': 'sum'}).reset_index()"
   ]
  },
  {
   "cell_type": "code",
   "execution_count": 37,
   "id": "172b2e8c",
   "metadata": {},
   "outputs": [],
   "source": [
    "df = calls.merge(\n",
    "    messages, how='outer', on=['user_id', 'month'])"
   ]
  },
  {
   "cell_type": "code",
   "execution_count": 38,
   "id": "8bcab8a3",
   "metadata": {},
   "outputs": [],
   "source": [
    "df = df.merge(\n",
    "    internet, how='left', on=['user_id', 'month'])"
   ]
  },
  {
   "cell_type": "code",
   "execution_count": 39,
   "id": "e7a30a22",
   "metadata": {},
   "outputs": [],
   "source": [
    "df = df.merge(\n",
    "    df_users, how='left', on='user_id')"
   ]
  },
  {
   "cell_type": "code",
   "execution_count": 40,
   "id": "0876ff47",
   "metadata": {},
   "outputs": [],
   "source": [
    "df = df.merge(\n",
    "    df_tariffs, how='left', on='tariff')"
   ]
  },
  {
   "cell_type": "markdown",
   "id": "0afcb83e",
   "metadata": {},
   "source": [
    "Переименуем неочевидные названия столбцов."
   ]
  },
  {
   "cell_type": "code",
   "execution_count": 41,
   "id": "1fc29a0e",
   "metadata": {},
   "outputs": [],
   "source": [
    "df = df.rename(columns={'id_x': 'count_calls','id_y': 'count_messages'}) # переименование столбцов"
   ]
  },
  {
   "cell_type": "markdown",
   "id": "8631f62a",
   "metadata": {},
   "source": [
    "Добавим столбец с порядковыми номерами месяца, где Январь - 1, Февраль - 2, ..., Декабрь - 12."
   ]
  },
  {
   "cell_type": "code",
   "execution_count": 42,
   "id": "590da069",
   "metadata": {},
   "outputs": [],
   "source": [
    "df['month_num'] = pd.DatetimeIndex(df['month']).month # порядковый номер месяца"
   ]
  },
  {
   "cell_type": "markdown",
   "id": "413f0491",
   "metadata": {},
   "source": [
    "Исследуем полученную таблицу с помощью функции `first_look`."
   ]
  },
  {
   "cell_type": "code",
   "execution_count": 43,
   "id": "fc8e3d14",
   "metadata": {},
   "outputs": [
    {
     "name": "stdout",
     "output_type": "stream",
     "text": [
      "------------- Первые 5 строк -------------\n"
     ]
    },
    {
     "data": {
      "text/html": [
       "<div>\n",
       "<style scoped>\n",
       "    .dataframe tbody tr th:only-of-type {\n",
       "        vertical-align: middle;\n",
       "    }\n",
       "\n",
       "    .dataframe tbody tr th {\n",
       "        vertical-align: top;\n",
       "    }\n",
       "\n",
       "    .dataframe thead th {\n",
       "        text-align: right;\n",
       "    }\n",
       "</style>\n",
       "<table border=\"1\" class=\"dataframe\">\n",
       "  <thead>\n",
       "    <tr style=\"text-align: right;\">\n",
       "      <th></th>\n",
       "      <th>user_id</th>\n",
       "      <th>month</th>\n",
       "      <th>duration</th>\n",
       "      <th>count_calls</th>\n",
       "      <th>count_messages</th>\n",
       "      <th>mb_used</th>\n",
       "      <th>age</th>\n",
       "      <th>churn_date</th>\n",
       "      <th>city</th>\n",
       "      <th>first_name</th>\n",
       "      <th>...</th>\n",
       "      <th>reg_date</th>\n",
       "      <th>tariff</th>\n",
       "      <th>messages_included</th>\n",
       "      <th>mb_per_month_included</th>\n",
       "      <th>minutes_included</th>\n",
       "      <th>rub_monthly_fee</th>\n",
       "      <th>rub_per_gb</th>\n",
       "      <th>rub_per_message</th>\n",
       "      <th>rub_per_minute</th>\n",
       "      <th>month_num</th>\n",
       "    </tr>\n",
       "  </thead>\n",
       "  <tbody>\n",
       "    <tr>\n",
       "      <th>0</th>\n",
       "      <td>1000</td>\n",
       "      <td>2018-05-01</td>\n",
       "      <td>159.000</td>\n",
       "      <td>22.000</td>\n",
       "      <td>22.000</td>\n",
       "      <td>2253.490</td>\n",
       "      <td>52</td>\n",
       "      <td>NaT</td>\n",
       "      <td>Краснодар</td>\n",
       "      <td>Рафаил</td>\n",
       "      <td>...</td>\n",
       "      <td>2018-05-25</td>\n",
       "      <td>ultra</td>\n",
       "      <td>1000</td>\n",
       "      <td>30720</td>\n",
       "      <td>3000</td>\n",
       "      <td>1950</td>\n",
       "      <td>150</td>\n",
       "      <td>1</td>\n",
       "      <td>1</td>\n",
       "      <td>5</td>\n",
       "    </tr>\n",
       "    <tr>\n",
       "      <th>1</th>\n",
       "      <td>1000</td>\n",
       "      <td>2018-06-01</td>\n",
       "      <td>172.000</td>\n",
       "      <td>43.000</td>\n",
       "      <td>60.000</td>\n",
       "      <td>23233.770</td>\n",
       "      <td>52</td>\n",
       "      <td>NaT</td>\n",
       "      <td>Краснодар</td>\n",
       "      <td>Рафаил</td>\n",
       "      <td>...</td>\n",
       "      <td>2018-05-25</td>\n",
       "      <td>ultra</td>\n",
       "      <td>1000</td>\n",
       "      <td>30720</td>\n",
       "      <td>3000</td>\n",
       "      <td>1950</td>\n",
       "      <td>150</td>\n",
       "      <td>1</td>\n",
       "      <td>1</td>\n",
       "      <td>6</td>\n",
       "    </tr>\n",
       "    <tr>\n",
       "      <th>2</th>\n",
       "      <td>1000</td>\n",
       "      <td>2018-07-01</td>\n",
       "      <td>340.000</td>\n",
       "      <td>47.000</td>\n",
       "      <td>75.000</td>\n",
       "      <td>14003.640</td>\n",
       "      <td>52</td>\n",
       "      <td>NaT</td>\n",
       "      <td>Краснодар</td>\n",
       "      <td>Рафаил</td>\n",
       "      <td>...</td>\n",
       "      <td>2018-05-25</td>\n",
       "      <td>ultra</td>\n",
       "      <td>1000</td>\n",
       "      <td>30720</td>\n",
       "      <td>3000</td>\n",
       "      <td>1950</td>\n",
       "      <td>150</td>\n",
       "      <td>1</td>\n",
       "      <td>1</td>\n",
       "      <td>7</td>\n",
       "    </tr>\n",
       "    <tr>\n",
       "      <th>3</th>\n",
       "      <td>1000</td>\n",
       "      <td>2018-08-01</td>\n",
       "      <td>408.000</td>\n",
       "      <td>52.000</td>\n",
       "      <td>81.000</td>\n",
       "      <td>14055.930</td>\n",
       "      <td>52</td>\n",
       "      <td>NaT</td>\n",
       "      <td>Краснодар</td>\n",
       "      <td>Рафаил</td>\n",
       "      <td>...</td>\n",
       "      <td>2018-05-25</td>\n",
       "      <td>ultra</td>\n",
       "      <td>1000</td>\n",
       "      <td>30720</td>\n",
       "      <td>3000</td>\n",
       "      <td>1950</td>\n",
       "      <td>150</td>\n",
       "      <td>1</td>\n",
       "      <td>1</td>\n",
       "      <td>8</td>\n",
       "    </tr>\n",
       "    <tr>\n",
       "      <th>4</th>\n",
       "      <td>1000</td>\n",
       "      <td>2018-09-01</td>\n",
       "      <td>466.000</td>\n",
       "      <td>58.000</td>\n",
       "      <td>57.000</td>\n",
       "      <td>14568.910</td>\n",
       "      <td>52</td>\n",
       "      <td>NaT</td>\n",
       "      <td>Краснодар</td>\n",
       "      <td>Рафаил</td>\n",
       "      <td>...</td>\n",
       "      <td>2018-05-25</td>\n",
       "      <td>ultra</td>\n",
       "      <td>1000</td>\n",
       "      <td>30720</td>\n",
       "      <td>3000</td>\n",
       "      <td>1950</td>\n",
       "      <td>150</td>\n",
       "      <td>1</td>\n",
       "      <td>1</td>\n",
       "      <td>9</td>\n",
       "    </tr>\n",
       "  </tbody>\n",
       "</table>\n",
       "<p>5 rows × 21 columns</p>\n",
       "</div>"
      ],
      "text/plain": [
       "   user_id      month  duration  count_calls  count_messages   mb_used  age  \\\n",
       "0     1000 2018-05-01   159.000       22.000          22.000  2253.490   52   \n",
       "1     1000 2018-06-01   172.000       43.000          60.000 23233.770   52   \n",
       "2     1000 2018-07-01   340.000       47.000          75.000 14003.640   52   \n",
       "3     1000 2018-08-01   408.000       52.000          81.000 14055.930   52   \n",
       "4     1000 2018-09-01   466.000       58.000          57.000 14568.910   52   \n",
       "\n",
       "  churn_date       city first_name  ...   reg_date tariff messages_included  \\\n",
       "0        NaT  Краснодар     Рафаил  ... 2018-05-25  ultra              1000   \n",
       "1        NaT  Краснодар     Рафаил  ... 2018-05-25  ultra              1000   \n",
       "2        NaT  Краснодар     Рафаил  ... 2018-05-25  ultra              1000   \n",
       "3        NaT  Краснодар     Рафаил  ... 2018-05-25  ultra              1000   \n",
       "4        NaT  Краснодар     Рафаил  ... 2018-05-25  ultra              1000   \n",
       "\n",
       "   mb_per_month_included  minutes_included  rub_monthly_fee  rub_per_gb  \\\n",
       "0                  30720              3000             1950         150   \n",
       "1                  30720              3000             1950         150   \n",
       "2                  30720              3000             1950         150   \n",
       "3                  30720              3000             1950         150   \n",
       "4                  30720              3000             1950         150   \n",
       "\n",
       "   rub_per_message  rub_per_minute  month_num  \n",
       "0                1               1          5  \n",
       "1                1               1          6  \n",
       "2                1               1          7  \n",
       "3                1               1          8  \n",
       "4                1               1          9  \n",
       "\n",
       "[5 rows x 21 columns]"
      ]
     },
     "metadata": {},
     "output_type": "display_data"
    },
    {
     "name": "stdout",
     "output_type": "stream",
     "text": [
      "\n",
      "\n",
      "------------- Общая информация о таблице -------------\n",
      "<class 'pandas.core.frame.DataFrame'>\n",
      "Int64Index: 3213 entries, 0 to 3212\n",
      "Data columns (total 21 columns):\n",
      " #   Column                 Non-Null Count  Dtype         \n",
      "---  ------                 --------------  -----         \n",
      " 0   user_id                3213 non-null   int64         \n",
      " 1   month                  3213 non-null   datetime64[ns]\n",
      " 2   duration               3174 non-null   float64       \n",
      " 3   count_calls            3174 non-null   float64       \n",
      " 4   count_messages         2717 non-null   float64       \n",
      " 5   mb_used                3202 non-null   float64       \n",
      " 6   age                    3213 non-null   int64         \n",
      " 7   churn_date             187 non-null    datetime64[ns]\n",
      " 8   city                   3213 non-null   object        \n",
      " 9   first_name             3213 non-null   object        \n",
      " 10  last_name              3213 non-null   object        \n",
      " 11  reg_date               3213 non-null   datetime64[ns]\n",
      " 12  tariff                 3213 non-null   object        \n",
      " 13  messages_included      3213 non-null   int64         \n",
      " 14  mb_per_month_included  3213 non-null   int64         \n",
      " 15  minutes_included       3213 non-null   int64         \n",
      " 16  rub_monthly_fee        3213 non-null   int64         \n",
      " 17  rub_per_gb             3213 non-null   int64         \n",
      " 18  rub_per_message        3213 non-null   int64         \n",
      " 19  rub_per_minute         3213 non-null   int64         \n",
      " 20  month_num              3213 non-null   int64         \n",
      "dtypes: datetime64[ns](3), float64(4), int64(10), object(4)\n",
      "memory usage: 552.2+ KB\n",
      "None\n",
      "\n",
      "\n",
      "------------- Пропуски -------------\n",
      "duration  —  39 пропуска(ов)\n",
      "count_calls  —  39 пропуска(ов)\n",
      "count_messages  —  496 пропуска(ов)\n",
      "mb_used  —  11 пропуска(ов)\n",
      "churn_date  —  3026 пропуска(ов)\n",
      "\n",
      "\n",
      "------------- Дубликаты -------------\n",
      "Дубликатов НЕТ\n",
      "\n",
      "\n",
      "------------- Наиболее популярные уникальные значения -------------\n",
      "1135    12\n",
      "1472    12\n",
      "1113    12\n",
      "1282    12\n",
      "1032    12\n",
      "        ..\n",
      "1236     1\n",
      "1074     1\n",
      "1069     1\n",
      "1252     1\n",
      "1368     1\n",
      "Name: user_id, Length: 498, dtype: int64\n",
      "2018-12-01    476\n",
      "2018-11-01    450\n",
      "2018-10-01    417\n",
      "2018-09-01    375\n",
      "2018-08-01    342\n",
      "2018-07-01    292\n",
      "2018-06-01    248\n",
      "2018-05-01    208\n",
      "2018-04-01    166\n",
      "2018-03-01    114\n",
      "2018-02-01     82\n",
      "2018-01-01     43\n",
      "Name: month, dtype: int64\n",
      "401.000     11\n",
      "415.000     11\n",
      "272.000     11\n",
      "437.000     10\n",
      "291.000     10\n",
      "            ..\n",
      "47.000       1\n",
      "1186.000     1\n",
      "1257.000     1\n",
      "1188.000     1\n",
      "1031.000     1\n",
      "Name: duration, Length: 925, dtype: int64\n",
      "69.000     60\n",
      "68.000     49\n",
      "64.000     48\n",
      "77.000     47\n",
      "65.000     47\n",
      "           ..\n",
      "174.000     1\n",
      "177.000     1\n",
      "189.000     1\n",
      "198.000     1\n",
      "244.000     1\n",
      "Name: count_calls, Length: 183, dtype: int64\n",
      "20.000     52\n",
      "6.000      46\n",
      "16.000     45\n",
      "17.000     44\n",
      "30.000     43\n",
      "           ..\n",
      "150.000     1\n",
      "169.000     1\n",
      "172.000     1\n",
      "110.000     1\n",
      "173.000     1\n",
      "Name: count_messages, Length: 179, dtype: int64\n",
      "0.000        2\n",
      "2253.490     1\n",
      "9711.420     1\n",
      "15834.630    1\n",
      "17240.500    1\n",
      "            ..\n",
      "29460.420    1\n",
      "27198.790    1\n",
      "22763.990    1\n",
      "32740.380    1\n",
      "17322.510    1\n",
      "Name: mb_used, Length: 3201, dtype: int64\n",
      "53    107\n",
      "71    106\n",
      "42     97\n",
      "64     97\n",
      "40     80\n",
      "37     80\n",
      "29     80\n",
      "26     78\n",
      "21     76\n",
      "45     73\n",
      "73     72\n",
      "65     71\n",
      "28     71\n",
      "63     70\n",
      "47     70\n",
      "23     68\n",
      "39     63\n",
      "27     63\n",
      "56     62\n",
      "44     60\n",
      "41     60\n",
      "52     59\n",
      "36     59\n",
      "50     58\n",
      "70     57\n",
      "51     57\n",
      "48     57\n",
      "30     56\n",
      "62     55\n",
      "55     52\n",
      "75     51\n",
      "19     51\n",
      "68     50\n",
      "58     50\n",
      "24     50\n",
      "67     49\n",
      "69     49\n",
      "66     49\n",
      "60     48\n",
      "20     47\n",
      "43     45\n",
      "25     44\n",
      "18     42\n",
      "32     41\n",
      "46     39\n",
      "59     38\n",
      "31     38\n",
      "35     37\n",
      "74     34\n",
      "34     32\n",
      "38     31\n",
      "54     31\n",
      "33     28\n",
      "57     28\n",
      "49     27\n",
      "22     25\n",
      "61     23\n",
      "72     22\n",
      "Name: age, dtype: int64\n",
      "2018-10-14    13\n",
      "2018-12-09    12\n",
      "2018-10-03    10\n",
      "2018-12-26    10\n",
      "2018-12-11     9\n",
      "2018-10-27     9\n",
      "2018-08-17     8\n",
      "2018-09-02     8\n",
      "2018-09-26     8\n",
      "2018-08-31     8\n",
      "2018-12-03     8\n",
      "2018-09-27     8\n",
      "2018-11-26     8\n",
      "2018-12-14     6\n",
      "2018-10-05     6\n",
      "2018-12-21     5\n",
      "2018-10-04     5\n",
      "2018-11-13     5\n",
      "2018-11-27     5\n",
      "2018-11-07     5\n",
      "2018-11-21     4\n",
      "2018-10-25     4\n",
      "2018-12-18     3\n",
      "2018-11-22     3\n",
      "2018-10-28     3\n",
      "2018-11-16     3\n",
      "2018-12-24     3\n",
      "2018-11-30     2\n",
      "2018-12-20     2\n",
      "2018-12-16     2\n",
      "2018-12-25     2\n",
      "Name: churn_date, dtype: int64\n",
      "Москва             610\n",
      "Санкт-Петербург    270\n",
      "Новосибирск         98\n",
      "Уфа                 95\n",
      "Краснодар           86\n",
      "                  ... \n",
      "Сургут               6\n",
      "Нижневартовск        6\n",
      "Химки                5\n",
      "Кемерово             5\n",
      "Иваново              2\n",
      "Name: city, Length: 76, dtype: int64\n",
      "Мариетта     39\n",
      "Артём        37\n",
      "Кристина     34\n",
      "Тамара       33\n",
      "Радим        31\n",
      "             ..\n",
      "Карина        1\n",
      "Виолетта      1\n",
      "Станислав     1\n",
      "Эльвира       1\n",
      "Степан        1\n",
      "Name: first_name, Length: 246, dtype: int64\n",
      "Андреенко     35\n",
      "Анищенко      29\n",
      "Березина      29\n",
      "Абашкина      27\n",
      "Алексеенко    24\n",
      "              ..\n",
      "Козлов         1\n",
      "Субботина      1\n",
      "Демидов        1\n",
      "Курочкин       1\n",
      "Алексеева      1\n",
      "Name: last_name, Length: 417, dtype: int64\n",
      "2018-05-28    62\n",
      "2018-01-04    56\n",
      "2018-01-24    48\n",
      "2018-04-03    45\n",
      "2018-02-17    44\n",
      "              ..\n",
      "2018-12-08     1\n",
      "2018-12-17     1\n",
      "2018-12-03     1\n",
      "2018-12-12     1\n",
      "2018-12-30     1\n",
      "Name: reg_date, Length: 269, dtype: int64\n",
      "smart    2229\n",
      "ultra     984\n",
      "Name: tariff, dtype: int64\n",
      "50      2229\n",
      "1000     984\n",
      "Name: messages_included, dtype: int64\n",
      "15360    2229\n",
      "30720     984\n",
      "Name: mb_per_month_included, dtype: int64\n",
      "500     2229\n",
      "3000     984\n",
      "Name: minutes_included, dtype: int64\n",
      "550     2229\n",
      "1950     984\n",
      "Name: rub_monthly_fee, dtype: int64\n",
      "200    2229\n",
      "150     984\n",
      "Name: rub_per_gb, dtype: int64\n",
      "3    2229\n",
      "1     984\n",
      "Name: rub_per_message, dtype: int64\n",
      "3    2229\n",
      "1     984\n",
      "Name: rub_per_minute, dtype: int64\n",
      "12    476\n",
      "11    450\n",
      "10    417\n",
      "9     375\n",
      "8     342\n",
      "7     292\n",
      "6     248\n",
      "5     208\n",
      "4     166\n",
      "3     114\n",
      "2      82\n",
      "1      43\n",
      "Name: month_num, dtype: int64\n"
     ]
    }
   ],
   "source": [
    "first_look(df)"
   ]
  },
  {
   "cell_type": "code",
   "execution_count": 44,
   "id": "7e195b05",
   "metadata": {},
   "outputs": [
    {
     "data": {
      "text/plain": [
       "user_id                 0.000\n",
       "month                   0.000\n",
       "duration                0.012\n",
       "count_calls             0.012\n",
       "count_messages          0.154\n",
       "mb_used                 0.003\n",
       "age                     0.000\n",
       "churn_date              0.942\n",
       "city                    0.000\n",
       "first_name              0.000\n",
       "last_name               0.000\n",
       "reg_date                0.000\n",
       "tariff                  0.000\n",
       "messages_included       0.000\n",
       "mb_per_month_included   0.000\n",
       "minutes_included        0.000\n",
       "rub_monthly_fee         0.000\n",
       "rub_per_gb              0.000\n",
       "rub_per_message         0.000\n",
       "rub_per_minute          0.000\n",
       "month_num               0.000\n",
       "dtype: float64"
      ]
     },
     "execution_count": 44,
     "metadata": {},
     "output_type": "execute_result"
    }
   ],
   "source": [
    "df.isna().mean() # подсчет доли пропущенных значений"
   ]
  },
  {
   "cell_type": "markdown",
   "id": "b4e0656c",
   "metadata": {},
   "source": [
    "После слияния таблиц появились пропуски данных. Отсутствие данных в столбцах `duration`, `mb_used`, `count_calls` и `count_messages`может говорить нам о том, что пользователь не пользовался конкретной услугой. Пустые значения столбца `churn_date` говорят нам о том, что практически 95% пользователей не расторгли договор с оператором и все еще пользуются действующим тарифом.\n",
    "\n",
    "Для последующего анализа можно заменить значения на нулевые."
   ]
  },
  {
   "cell_type": "code",
   "execution_count": 45,
   "id": "51d5b32a",
   "metadata": {},
   "outputs": [],
   "source": [
    "df['duration'] = df['duration'].fillna(0)"
   ]
  },
  {
   "cell_type": "code",
   "execution_count": 46,
   "id": "effa3e95",
   "metadata": {},
   "outputs": [],
   "source": [
    "df['mb_used'] = df['mb_used'].fillna(0)"
   ]
  },
  {
   "cell_type": "code",
   "execution_count": 47,
   "id": "7d4b4ef0",
   "metadata": {},
   "outputs": [],
   "source": [
    "df['count_calls'] = df['count_calls'].fillna(0)"
   ]
  },
  {
   "cell_type": "code",
   "execution_count": 48,
   "id": "78feeea5",
   "metadata": {},
   "outputs": [],
   "source": [
    "df['count_messages'] = df['count_messages'].fillna(0)"
   ]
  },
  {
   "cell_type": "code",
   "execution_count": 49,
   "id": "d5cd1c94",
   "metadata": {},
   "outputs": [],
   "source": [
    "df['churn_date'] = df['churn_date'].fillna(0)"
   ]
  },
  {
   "cell_type": "markdown",
   "id": "bd7d6ddd",
   "metadata": {},
   "source": [
    "Убедимся, что в таблице не осталось пропусков. Для этого посчитаем пропущенные значения."
   ]
  },
  {
   "cell_type": "code",
   "execution_count": 50,
   "id": "c6d7241c",
   "metadata": {},
   "outputs": [
    {
     "data": {
      "text/plain": [
       "user_id                  0\n",
       "month                    0\n",
       "duration                 0\n",
       "count_calls              0\n",
       "count_messages           0\n",
       "mb_used                  0\n",
       "age                      0\n",
       "churn_date               0\n",
       "city                     0\n",
       "first_name               0\n",
       "last_name                0\n",
       "reg_date                 0\n",
       "tariff                   0\n",
       "messages_included        0\n",
       "mb_per_month_included    0\n",
       "minutes_included         0\n",
       "rub_monthly_fee          0\n",
       "rub_per_gb               0\n",
       "rub_per_message          0\n",
       "rub_per_minute           0\n",
       "month_num                0\n",
       "dtype: int64"
      ]
     },
     "execution_count": 50,
     "metadata": {},
     "output_type": "execute_result"
    }
   ],
   "source": [
    "df.isna().sum() # подсчет пропусков"
   ]
  },
  {
   "cell_type": "markdown",
   "id": "279f1f91",
   "metadata": {},
   "source": [
    "## Анализ данных"
   ]
  },
  {
   "cell_type": "markdown",
   "id": "e25e354f",
   "metadata": {},
   "source": [
    "По условию задачи нам необходимо дополнительно рассчитать значения для каждого пользователя:\n",
    " 1. Количество сделанных звонков и израсходованных минут разговора по месяцам;\n",
    " 2. Количество отправленных сообщений по месяцам;\n",
    " 3. Объем израсходованного интернет-трафика по месяцам;\n",
    " 4. Помесячную выручку с каждого пользователя."
   ]
  },
  {
   "cell_type": "markdown",
   "id": "1a6963cc",
   "metadata": {},
   "source": [
    "Для расчетов и анализа воспользуемся функцией `hist_maker_and_table`. Она позволит нам отразить числовое описание данных и построить графики."
   ]
  },
  {
   "cell_type": "code",
   "execution_count": 51,
   "id": "a0596d47",
   "metadata": {},
   "outputs": [],
   "source": [
    "# функция статистической сводки и построения графика\n",
    "def hist_maker_and_table (df, name, x_1_smart, x_2_ultra): # датафрейм, пакет услуг, лимит тарифа smart, лимит тарифа ultra\n",
    "    cd = df.groupby(df.tariff)[name] # группировка по тарифу и критерию\n",
    "    cd_desc = cd.describe(percentiles = [.01,.25,.75,.99])  # статистическая сводка с указанием квартилей\n",
    "    cd_desc['var'] = [np.var(cd.get_group('smart'), ddof=1), np.var(cd.get_group('ultra'), ddof=1)] # нахождение дисперсии\n",
    "    display(cd_desc) # отображение таблицы \n",
    "    smart = df.query('tariff == \"smart\"')[name] # выборка данных по тарифу smart\n",
    "    ultra = df.query('tariff == \"ultra\"')[name] # выборка данных по тарифу ultra\n",
    "    \n",
    "    # построение графика\n",
    "    plt.figure(figsize = (10,6))\n",
    "    plt.hist(smart, bins = 50, color = 'teal', edgecolor = 'grey', alpha = 0.5, label = 'smart', density = False)\n",
    "    plt.hist(ultra, bins = 50, color = 'blue', edgecolor = 'grey', alpha = 0.5,label = 'ultra', density = False)\n",
    "    # отображение средних значений\n",
    "    plt.axvline(cd_desc['mean'][0], color = 'teal', linestyle = 'dashed', linewidth = 3, label =  'mean smart: {:.2f}'.format(cd_desc['mean'][0]))\n",
    "    plt.axvline(cd_desc['mean'][1], color = 'blue', linestyle = 'dashed', linewidth = 3, label = 'mean ultra: {:.2f}'.format(cd_desc['mean'][1]))\n",
    "    # отображение лимита тарифов\n",
    "    plt.axvline(x_1_smart, color  = 'teal', linestyle = 'solid', linewidth = 3, label = 'included in tariff smart')\n",
    "    plt.axvline(x_2_ultra, color = 'blue', linestyle = 'solid', linewidth = 3, label = 'included in tariff ultra')\n",
    "    \n",
    "    plt.legend()\n",
    "    plt.title('Histogramm {}'.format(name))"
   ]
  },
  {
   "cell_type": "markdown",
   "id": "fbe9db2b",
   "metadata": {},
   "source": [
    "Для анализа двух тарифов по каждому месяцу отдельно напишем функцию `hist_maker_and_table_month`."
   ]
  },
  {
   "cell_type": "code",
   "execution_count": 52,
   "id": "73f57bc7",
   "metadata": {},
   "outputs": [],
   "source": [
    "# функция построения графика сравнения тарифов по месяцам\n",
    "def hist_maker_and_table_month(df, name): # датафрейм, пакет услуг, лимит тарифа smart, лимит тарифа ultra\n",
    "    smart = df.query('tariff == \"smart\"').pivot_table(index = 'month_num', values = name, aggfunc = 'mean') # выборка данных по тарифу smart\n",
    "    ultra = df.query('tariff == \"ultra\"').pivot_table(index = 'month_num', values = name, aggfunc = 'mean') # выборка данных по тарифу ultra\n",
    "    \n",
    "    print(f'Сравнение тарифов Ultra и Smart по месяцам ({name})')\n",
    "    \n",
    "    # построение графика    \n",
    "    ax = ultra.plot(y = name,  color  = 'teal', grid = True, figsize = (10,3), style = 'o-', kind = 'bar', label = 'ultra', alpha = 0.5)\n",
    "    smart.plot(y = name, color = 'blue', grid = True, figsize = (10,3), style = 'o-', kind = 'bar', label = 'smart', alpha = 0.3, ax = ax)\n",
    "    plt.show()"
   ]
  },
  {
   "cell_type": "markdown",
   "id": "c6a15eaa",
   "metadata": {},
   "source": [
    "### Анализ сделанных звонков и израсходованных минут"
   ]
  },
  {
   "cell_type": "markdown",
   "id": "f755bc84",
   "metadata": {},
   "source": [
    "Проанализируем сколько минут требуется пользователю в месяц."
   ]
  },
  {
   "cell_type": "code",
   "execution_count": 53,
   "id": "2059b1c2",
   "metadata": {},
   "outputs": [
    {
     "data": {
      "text/html": [
       "<div>\n",
       "<style scoped>\n",
       "    .dataframe tbody tr th:only-of-type {\n",
       "        vertical-align: middle;\n",
       "    }\n",
       "\n",
       "    .dataframe tbody tr th {\n",
       "        vertical-align: top;\n",
       "    }\n",
       "\n",
       "    .dataframe thead th {\n",
       "        text-align: right;\n",
       "    }\n",
       "</style>\n",
       "<table border=\"1\" class=\"dataframe\">\n",
       "  <thead>\n",
       "    <tr style=\"text-align: right;\">\n",
       "      <th></th>\n",
       "      <th>count</th>\n",
       "      <th>mean</th>\n",
       "      <th>std</th>\n",
       "      <th>min</th>\n",
       "      <th>1%</th>\n",
       "      <th>25%</th>\n",
       "      <th>50%</th>\n",
       "      <th>75%</th>\n",
       "      <th>99%</th>\n",
       "      <th>max</th>\n",
       "      <th>var</th>\n",
       "    </tr>\n",
       "    <tr>\n",
       "      <th>tariff</th>\n",
       "      <th></th>\n",
       "      <th></th>\n",
       "      <th></th>\n",
       "      <th></th>\n",
       "      <th></th>\n",
       "      <th></th>\n",
       "      <th></th>\n",
       "      <th></th>\n",
       "      <th></th>\n",
       "      <th></th>\n",
       "      <th></th>\n",
       "    </tr>\n",
       "  </thead>\n",
       "  <tbody>\n",
       "    <tr>\n",
       "      <th>smart</th>\n",
       "      <td>2229.000</td>\n",
       "      <td>417.935</td>\n",
       "      <td>190.314</td>\n",
       "      <td>0.000</td>\n",
       "      <td>15.280</td>\n",
       "      <td>282.000</td>\n",
       "      <td>422.000</td>\n",
       "      <td>545.000</td>\n",
       "      <td>872.720</td>\n",
       "      <td>1435.000</td>\n",
       "      <td>36219.316</td>\n",
       "    </tr>\n",
       "    <tr>\n",
       "      <th>ultra</th>\n",
       "      <td>984.000</td>\n",
       "      <td>527.159</td>\n",
       "      <td>317.323</td>\n",
       "      <td>0.000</td>\n",
       "      <td>0.000</td>\n",
       "      <td>284.750</td>\n",
       "      <td>518.500</td>\n",
       "      <td>752.000</td>\n",
       "      <td>1291.190</td>\n",
       "      <td>1673.000</td>\n",
       "      <td>100693.836</td>\n",
       "    </tr>\n",
       "  </tbody>\n",
       "</table>\n",
       "</div>"
      ],
      "text/plain": [
       "          count    mean     std   min     1%     25%     50%     75%      99%  \\\n",
       "tariff                                                                          \n",
       "smart  2229.000 417.935 190.314 0.000 15.280 282.000 422.000 545.000  872.720   \n",
       "ultra   984.000 527.159 317.323 0.000  0.000 284.750 518.500 752.000 1291.190   \n",
       "\n",
       "            max        var  \n",
       "tariff                      \n",
       "smart  1435.000  36219.316  \n",
       "ultra  1673.000 100693.836  "
      ]
     },
     "metadata": {},
     "output_type": "display_data"
    },
    {
     "data": {
      "image/png": "[encoded data removed]",
      "text/plain": [
       "<Figure size 720x432 with 1 Axes>"
      ]
     },
     "metadata": {
      "needs_background": "light"
     },
     "output_type": "display_data"
    }
   ],
   "source": [
    "hist_maker_and_table(df, 'duration', 500, 3000)"
   ]
  },
  {
   "cell_type": "markdown",
   "id": "0395e816",
   "metadata": {},
   "source": [
    "Мы видим, что пользователи тарифа **Smart** в основном используют 400-450 минут в месяц. Ограничение объясняется лимитом в 500 минут тарифа. Пользователи тарифа **Ultra**  используют более 500 минут в месяц при лимите в 3000 минут."
   ]
  },
  {
   "cell_type": "code",
   "execution_count": 54,
   "id": "62c84c6a",
   "metadata": {
    "scrolled": true
   },
   "outputs": [
    {
     "name": "stdout",
     "output_type": "stream",
     "text": [
      "Сравнение тарифов Ultra и Smart по месяцам (count_calls)\n"
     ]
    },
    {
     "data": {
      "image/png": "[encoded data removed]",
      "text/plain": [
       "<Figure size 720x216 with 1 Axes>"
      ]
     },
     "metadata": {
      "needs_background": "light"
     },
     "output_type": "display_data"
    }
   ],
   "source": [
    "hist_maker_and_table_month(df, 'count_calls')"
   ]
  },
  {
   "cell_type": "markdown",
   "id": "42121fc4",
   "metadata": {},
   "source": [
    "В целом наблюдается плавный рост количества сделанных звонков пользователями двух тарифов. В феврале замечен резкий спад тарифа **Ultra**, возможно это связано с перераспределением пользователей между тарифами."
   ]
  },
  {
   "cell_type": "markdown",
   "id": "104b956a",
   "metadata": {},
   "source": [
    "### Анализ отправленных сообщений"
   ]
  },
  {
   "cell_type": "markdown",
   "id": "5ca64c22",
   "metadata": {},
   "source": [
    "Проанализируем сколько сообщений требуется пользователю в месяц с помощью `hist_maker_and_table`."
   ]
  },
  {
   "cell_type": "code",
   "execution_count": 55,
   "id": "999cf310",
   "metadata": {},
   "outputs": [
    {
     "data": {
      "text/html": [
       "<div>\n",
       "<style scoped>\n",
       "    .dataframe tbody tr th:only-of-type {\n",
       "        vertical-align: middle;\n",
       "    }\n",
       "\n",
       "    .dataframe tbody tr th {\n",
       "        vertical-align: top;\n",
       "    }\n",
       "\n",
       "    .dataframe thead th {\n",
       "        text-align: right;\n",
       "    }\n",
       "</style>\n",
       "<table border=\"1\" class=\"dataframe\">\n",
       "  <thead>\n",
       "    <tr style=\"text-align: right;\">\n",
       "      <th></th>\n",
       "      <th>count</th>\n",
       "      <th>mean</th>\n",
       "      <th>std</th>\n",
       "      <th>min</th>\n",
       "      <th>1%</th>\n",
       "      <th>25%</th>\n",
       "      <th>50%</th>\n",
       "      <th>75%</th>\n",
       "      <th>99%</th>\n",
       "      <th>max</th>\n",
       "      <th>var</th>\n",
       "    </tr>\n",
       "    <tr>\n",
       "      <th>tariff</th>\n",
       "      <th></th>\n",
       "      <th></th>\n",
       "      <th></th>\n",
       "      <th></th>\n",
       "      <th></th>\n",
       "      <th></th>\n",
       "      <th></th>\n",
       "      <th></th>\n",
       "      <th></th>\n",
       "      <th></th>\n",
       "      <th></th>\n",
       "    </tr>\n",
       "  </thead>\n",
       "  <tbody>\n",
       "    <tr>\n",
       "      <th>smart</th>\n",
       "      <td>2229.000</td>\n",
       "      <td>33.384</td>\n",
       "      <td>28.228</td>\n",
       "      <td>0.000</td>\n",
       "      <td>0.000</td>\n",
       "      <td>10.000</td>\n",
       "      <td>28.000</td>\n",
       "      <td>51.000</td>\n",
       "      <td>108.000</td>\n",
       "      <td>143.000</td>\n",
       "      <td>796.813</td>\n",
       "    </tr>\n",
       "    <tr>\n",
       "      <th>ultra</th>\n",
       "      <td>984.000</td>\n",
       "      <td>49.414</td>\n",
       "      <td>47.803</td>\n",
       "      <td>0.000</td>\n",
       "      <td>0.000</td>\n",
       "      <td>6.000</td>\n",
       "      <td>38.000</td>\n",
       "      <td>79.000</td>\n",
       "      <td>183.340</td>\n",
       "      <td>224.000</td>\n",
       "      <td>2285.110</td>\n",
       "    </tr>\n",
       "  </tbody>\n",
       "</table>\n",
       "</div>"
      ],
      "text/plain": [
       "          count   mean    std   min    1%    25%    50%    75%     99%  \\\n",
       "tariff                                                                   \n",
       "smart  2229.000 33.384 28.228 0.000 0.000 10.000 28.000 51.000 108.000   \n",
       "ultra   984.000 49.414 47.803 0.000 0.000  6.000 38.000 79.000 183.340   \n",
       "\n",
       "           max      var  \n",
       "tariff                   \n",
       "smart  143.000  796.813  \n",
       "ultra  224.000 2285.110  "
      ]
     },
     "metadata": {},
     "output_type": "display_data"
    },
    {
     "data": {
      "image/png": "[encoded data removed]",
      "text/plain": [
       "<Figure size 720x432 with 1 Axes>"
      ]
     },
     "metadata": {
      "needs_background": "light"
     },
     "output_type": "display_data"
    }
   ],
   "source": [
    "hist_maker_and_table(df, 'count_messages', 50, 1000)"
   ]
  },
  {
   "cell_type": "markdown",
   "id": "4f9335f6",
   "metadata": {},
   "source": [
    "В том и другом случае пользователям в среднем требуется меньше 50 сообщений в месяц при лимитах 50 на **Smart** и 1000 на **Ultra**."
   ]
  },
  {
   "cell_type": "code",
   "execution_count": 56,
   "id": "bdb5f64e",
   "metadata": {},
   "outputs": [
    {
     "name": "stdout",
     "output_type": "stream",
     "text": [
      "Сравнение тарифов Ultra и Smart по месяцам (count_messages)\n"
     ]
    },
    {
     "data": {
      "image/png": "[encoded data removed]",
      "text/plain": [
       "<Figure size 720x216 with 1 Axes>"
      ]
     },
     "metadata": {
      "needs_background": "light"
     },
     "output_type": "display_data"
    }
   ],
   "source": [
    "hist_maker_and_table_month(df, 'count_messages')"
   ]
  },
  {
   "cell_type": "markdown",
   "id": "28608725",
   "metadata": {},
   "source": [
    "Мы видим рост количества отправленных сообщений пользователей двух тарифов. Однако стоит отметить, что пользователи тарифа **Ultra** значительно повысили число отправленных сообщений ко второй половине года, в то время как **Smart** держат стабильную планку."
   ]
  },
  {
   "cell_type": "markdown",
   "id": "a9e6ab16",
   "metadata": {},
   "source": [
    "### Анализ израсходованного интернет-трафика"
   ]
  },
  {
   "cell_type": "markdown",
   "id": "07f9be8b",
   "metadata": {},
   "source": [
    "Проанализируем объем интернет-трафика пользователей в месяц с помощью `hist_maker_and_table`."
   ]
  },
  {
   "cell_type": "code",
   "execution_count": 57,
   "id": "6c79a28c",
   "metadata": {},
   "outputs": [
    {
     "data": {
      "text/html": [
       "<div>\n",
       "<style scoped>\n",
       "    .dataframe tbody tr th:only-of-type {\n",
       "        vertical-align: middle;\n",
       "    }\n",
       "\n",
       "    .dataframe tbody tr th {\n",
       "        vertical-align: top;\n",
       "    }\n",
       "\n",
       "    .dataframe thead th {\n",
       "        text-align: right;\n",
       "    }\n",
       "</style>\n",
       "<table border=\"1\" class=\"dataframe\">\n",
       "  <thead>\n",
       "    <tr style=\"text-align: right;\">\n",
       "      <th></th>\n",
       "      <th>count</th>\n",
       "      <th>mean</th>\n",
       "      <th>std</th>\n",
       "      <th>min</th>\n",
       "      <th>1%</th>\n",
       "      <th>25%</th>\n",
       "      <th>50%</th>\n",
       "      <th>75%</th>\n",
       "      <th>99%</th>\n",
       "      <th>max</th>\n",
       "      <th>var</th>\n",
       "    </tr>\n",
       "    <tr>\n",
       "      <th>tariff</th>\n",
       "      <th></th>\n",
       "      <th></th>\n",
       "      <th></th>\n",
       "      <th></th>\n",
       "      <th></th>\n",
       "      <th></th>\n",
       "      <th></th>\n",
       "      <th></th>\n",
       "      <th></th>\n",
       "      <th></th>\n",
       "      <th></th>\n",
       "    </tr>\n",
       "  </thead>\n",
       "  <tbody>\n",
       "    <tr>\n",
       "      <th>smart</th>\n",
       "      <td>2229.000</td>\n",
       "      <td>16208.387</td>\n",
       "      <td>5870.477</td>\n",
       "      <td>0.000</td>\n",
       "      <td>1496.038</td>\n",
       "      <td>12643.010</td>\n",
       "      <td>16506.840</td>\n",
       "      <td>20042.930</td>\n",
       "      <td>29693.696</td>\n",
       "      <td>38552.450</td>\n",
       "      <td>34462496.463</td>\n",
       "    </tr>\n",
       "    <tr>\n",
       "      <th>ultra</th>\n",
       "      <td>984.000</td>\n",
       "      <td>19488.051</td>\n",
       "      <td>10074.190</td>\n",
       "      <td>0.000</td>\n",
       "      <td>0.000</td>\n",
       "      <td>11773.260</td>\n",
       "      <td>19311.930</td>\n",
       "      <td>26837.880</td>\n",
       "      <td>43007.173</td>\n",
       "      <td>49745.690</td>\n",
       "      <td>101489302.425</td>\n",
       "    </tr>\n",
       "  </tbody>\n",
       "</table>\n",
       "</div>"
      ],
      "text/plain": [
       "          count      mean       std   min       1%       25%       50%  \\\n",
       "tariff                                                                   \n",
       "smart  2229.000 16208.387  5870.477 0.000 1496.038 12643.010 16506.840   \n",
       "ultra   984.000 19488.051 10074.190 0.000    0.000 11773.260 19311.930   \n",
       "\n",
       "             75%       99%       max           var  \n",
       "tariff                                              \n",
       "smart  20042.930 29693.696 38552.450  34462496.463  \n",
       "ultra  26837.880 43007.173 49745.690 101489302.425  "
      ]
     },
     "metadata": {},
     "output_type": "display_data"
    },
    {
     "data": {
      "image/png": "[encoded data removed]",
      "text/plain": [
       "<Figure size 720x432 with 1 Axes>"
      ]
     },
     "metadata": {
      "needs_background": "light"
     },
     "output_type": "display_data"
    }
   ],
   "source": [
    "hist_maker_and_table(df, 'mb_used', 15360, 30720)"
   ]
  },
  {
   "cell_type": "markdown",
   "id": "643005e3",
   "metadata": {},
   "source": [
    "Пользователям тарифа **Smart** нехватает лимита в 15 гб интернета. В среднем они потребляют около 16 гб. Пользователи тарифа **Ultra** используют 19 гб интернета каждый месяц при лимите в 30 гб. \n",
    "Мы видим что в предложенных тарифах интренет является ключевым пакетом услуг."
   ]
  },
  {
   "cell_type": "code",
   "execution_count": 58,
   "id": "56938b6e",
   "metadata": {},
   "outputs": [
    {
     "name": "stdout",
     "output_type": "stream",
     "text": [
      "Сравнение тарифов Ultra и Smart по месяцам (mb_used)\n"
     ]
    },
    {
     "data": {
      "image/png": "[encoded data removed]",
      "text/plain": [
       "<Figure size 720x216 with 1 Axes>"
      ]
     },
     "metadata": {
      "needs_background": "light"
     },
     "output_type": "display_data"
    }
   ],
   "source": [
    "hist_maker_and_table_month(df, 'mb_used')"
   ]
  },
  {
   "cell_type": "markdown",
   "id": "29a543bb",
   "metadata": {},
   "source": [
    "Наблюдается плавный рост потребляемого интренет-трафика пользователей двух тарифов. В феврале пользователи тарифов **Smart** и **Ultra** использовали примерно одинаковое количество мб."
   ]
  },
  {
   "cell_type": "markdown",
   "id": "94995482",
   "metadata": {},
   "source": [
    "### Расчет и анализ выручки"
   ]
  },
  {
   "cell_type": "markdown",
   "id": "3f4fbe84",
   "metadata": {},
   "source": [
    "Для расчета помесячной выручки для кажого клиента мы воспользуемся специальной функцией `calculate`."
   ]
  },
  {
   "cell_type": "code",
   "execution_count": 59,
   "id": "ff98a701",
   "metadata": {},
   "outputs": [],
   "source": [
    "# функция для расчета месячной выручки для каждого клиента\n",
    "def calculate(row):\n",
    "    fare = row.rub_monthly_fee # ежемесячная абонентская плата в рублях для каждого клиента\n",
    "    if (row.count_messages > row.messages_included): # расчет сообщений\n",
    "        fare += (row.count_messages - row.messages_included) * row.rub_per_message\n",
    "    if (row.duration > row.minutes_included): # расчет минут\n",
    "        fare += (row.duration - row.minutes_included) * row.rub_per_minute\n",
    "    if (row.mb_used > row.mb_per_month_included): # расчет интернета (значения мб округляем, а стоимость 1 гб переводим в стоимость 1 мб)\n",
    "        fare += np.ceil(row.mb_used - row.mb_per_month_included) * (row.rub_per_gb / 1024)\n",
    "    return round(fare,2)"
   ]
  },
  {
   "cell_type": "markdown",
   "id": "d78730a7",
   "metadata": {},
   "source": [
    "Вставим в общую таблицу результаты расчетов в отдельный столбец `monthly_revenue`."
   ]
  },
  {
   "cell_type": "code",
   "execution_count": 60,
   "id": "273915ed",
   "metadata": {},
   "outputs": [],
   "source": [
    "df['monthly_revenue'] = df.apply(calculate, axis = 1)"
   ]
  },
  {
   "cell_type": "code",
   "execution_count": 61,
   "id": "a59ffd93",
   "metadata": {},
   "outputs": [
    {
     "data": {
      "text/html": [
       "<div>\n",
       "<style scoped>\n",
       "    .dataframe tbody tr th:only-of-type {\n",
       "        vertical-align: middle;\n",
       "    }\n",
       "\n",
       "    .dataframe tbody tr th {\n",
       "        vertical-align: top;\n",
       "    }\n",
       "\n",
       "    .dataframe thead th {\n",
       "        text-align: right;\n",
       "    }\n",
       "</style>\n",
       "<table border=\"1\" class=\"dataframe\">\n",
       "  <thead>\n",
       "    <tr style=\"text-align: right;\">\n",
       "      <th></th>\n",
       "      <th>user_id</th>\n",
       "      <th>month</th>\n",
       "      <th>duration</th>\n",
       "      <th>count_calls</th>\n",
       "      <th>count_messages</th>\n",
       "      <th>mb_used</th>\n",
       "      <th>age</th>\n",
       "      <th>churn_date</th>\n",
       "      <th>city</th>\n",
       "      <th>first_name</th>\n",
       "      <th>...</th>\n",
       "      <th>tariff</th>\n",
       "      <th>messages_included</th>\n",
       "      <th>mb_per_month_included</th>\n",
       "      <th>minutes_included</th>\n",
       "      <th>rub_monthly_fee</th>\n",
       "      <th>rub_per_gb</th>\n",
       "      <th>rub_per_message</th>\n",
       "      <th>rub_per_minute</th>\n",
       "      <th>month_num</th>\n",
       "      <th>monthly_revenue</th>\n",
       "    </tr>\n",
       "  </thead>\n",
       "  <tbody>\n",
       "    <tr>\n",
       "      <th>0</th>\n",
       "      <td>1000</td>\n",
       "      <td>2018-05-01</td>\n",
       "      <td>159.000</td>\n",
       "      <td>22.000</td>\n",
       "      <td>22.000</td>\n",
       "      <td>2253.490</td>\n",
       "      <td>52</td>\n",
       "      <td>0</td>\n",
       "      <td>Краснодар</td>\n",
       "      <td>Рафаил</td>\n",
       "      <td>...</td>\n",
       "      <td>ultra</td>\n",
       "      <td>1000</td>\n",
       "      <td>30720</td>\n",
       "      <td>3000</td>\n",
       "      <td>1950</td>\n",
       "      <td>150</td>\n",
       "      <td>1</td>\n",
       "      <td>1</td>\n",
       "      <td>5</td>\n",
       "      <td>1950.000</td>\n",
       "    </tr>\n",
       "    <tr>\n",
       "      <th>1</th>\n",
       "      <td>1000</td>\n",
       "      <td>2018-06-01</td>\n",
       "      <td>172.000</td>\n",
       "      <td>43.000</td>\n",
       "      <td>60.000</td>\n",
       "      <td>23233.770</td>\n",
       "      <td>52</td>\n",
       "      <td>0</td>\n",
       "      <td>Краснодар</td>\n",
       "      <td>Рафаил</td>\n",
       "      <td>...</td>\n",
       "      <td>ultra</td>\n",
       "      <td>1000</td>\n",
       "      <td>30720</td>\n",
       "      <td>3000</td>\n",
       "      <td>1950</td>\n",
       "      <td>150</td>\n",
       "      <td>1</td>\n",
       "      <td>1</td>\n",
       "      <td>6</td>\n",
       "      <td>1950.000</td>\n",
       "    </tr>\n",
       "    <tr>\n",
       "      <th>2</th>\n",
       "      <td>1000</td>\n",
       "      <td>2018-07-01</td>\n",
       "      <td>340.000</td>\n",
       "      <td>47.000</td>\n",
       "      <td>75.000</td>\n",
       "      <td>14003.640</td>\n",
       "      <td>52</td>\n",
       "      <td>0</td>\n",
       "      <td>Краснодар</td>\n",
       "      <td>Рафаил</td>\n",
       "      <td>...</td>\n",
       "      <td>ultra</td>\n",
       "      <td>1000</td>\n",
       "      <td>30720</td>\n",
       "      <td>3000</td>\n",
       "      <td>1950</td>\n",
       "      <td>150</td>\n",
       "      <td>1</td>\n",
       "      <td>1</td>\n",
       "      <td>7</td>\n",
       "      <td>1950.000</td>\n",
       "    </tr>\n",
       "    <tr>\n",
       "      <th>3</th>\n",
       "      <td>1000</td>\n",
       "      <td>2018-08-01</td>\n",
       "      <td>408.000</td>\n",
       "      <td>52.000</td>\n",
       "      <td>81.000</td>\n",
       "      <td>14055.930</td>\n",
       "      <td>52</td>\n",
       "      <td>0</td>\n",
       "      <td>Краснодар</td>\n",
       "      <td>Рафаил</td>\n",
       "      <td>...</td>\n",
       "      <td>ultra</td>\n",
       "      <td>1000</td>\n",
       "      <td>30720</td>\n",
       "      <td>3000</td>\n",
       "      <td>1950</td>\n",
       "      <td>150</td>\n",
       "      <td>1</td>\n",
       "      <td>1</td>\n",
       "      <td>8</td>\n",
       "      <td>1950.000</td>\n",
       "    </tr>\n",
       "    <tr>\n",
       "      <th>4</th>\n",
       "      <td>1000</td>\n",
       "      <td>2018-09-01</td>\n",
       "      <td>466.000</td>\n",
       "      <td>58.000</td>\n",
       "      <td>57.000</td>\n",
       "      <td>14568.910</td>\n",
       "      <td>52</td>\n",
       "      <td>0</td>\n",
       "      <td>Краснодар</td>\n",
       "      <td>Рафаил</td>\n",
       "      <td>...</td>\n",
       "      <td>ultra</td>\n",
       "      <td>1000</td>\n",
       "      <td>30720</td>\n",
       "      <td>3000</td>\n",
       "      <td>1950</td>\n",
       "      <td>150</td>\n",
       "      <td>1</td>\n",
       "      <td>1</td>\n",
       "      <td>9</td>\n",
       "      <td>1950.000</td>\n",
       "    </tr>\n",
       "    <tr>\n",
       "      <th>...</th>\n",
       "      <td>...</td>\n",
       "      <td>...</td>\n",
       "      <td>...</td>\n",
       "      <td>...</td>\n",
       "      <td>...</td>\n",
       "      <td>...</td>\n",
       "      <td>...</td>\n",
       "      <td>...</td>\n",
       "      <td>...</td>\n",
       "      <td>...</td>\n",
       "      <td>...</td>\n",
       "      <td>...</td>\n",
       "      <td>...</td>\n",
       "      <td>...</td>\n",
       "      <td>...</td>\n",
       "      <td>...</td>\n",
       "      <td>...</td>\n",
       "      <td>...</td>\n",
       "      <td>...</td>\n",
       "      <td>...</td>\n",
       "      <td>...</td>\n",
       "    </tr>\n",
       "    <tr>\n",
       "      <th>3208</th>\n",
       "      <td>1489</td>\n",
       "      <td>2018-08-01</td>\n",
       "      <td>0.000</td>\n",
       "      <td>0.000</td>\n",
       "      <td>17.000</td>\n",
       "      <td>11050.560</td>\n",
       "      <td>35</td>\n",
       "      <td>0</td>\n",
       "      <td>Санкт-Петербург</td>\n",
       "      <td>Павел</td>\n",
       "      <td>...</td>\n",
       "      <td>smart</td>\n",
       "      <td>50</td>\n",
       "      <td>15360</td>\n",
       "      <td>500</td>\n",
       "      <td>550</td>\n",
       "      <td>200</td>\n",
       "      <td>3</td>\n",
       "      <td>3</td>\n",
       "      <td>8</td>\n",
       "      <td>550.000</td>\n",
       "    </tr>\n",
       "    <tr>\n",
       "      <th>3209</th>\n",
       "      <td>1489</td>\n",
       "      <td>2018-09-01</td>\n",
       "      <td>0.000</td>\n",
       "      <td>0.000</td>\n",
       "      <td>32.000</td>\n",
       "      <td>17206.300</td>\n",
       "      <td>35</td>\n",
       "      <td>0</td>\n",
       "      <td>Санкт-Петербург</td>\n",
       "      <td>Павел</td>\n",
       "      <td>...</td>\n",
       "      <td>smart</td>\n",
       "      <td>50</td>\n",
       "      <td>15360</td>\n",
       "      <td>500</td>\n",
       "      <td>550</td>\n",
       "      <td>200</td>\n",
       "      <td>3</td>\n",
       "      <td>3</td>\n",
       "      <td>9</td>\n",
       "      <td>910.740</td>\n",
       "    </tr>\n",
       "    <tr>\n",
       "      <th>3210</th>\n",
       "      <td>1489</td>\n",
       "      <td>2018-10-01</td>\n",
       "      <td>0.000</td>\n",
       "      <td>0.000</td>\n",
       "      <td>21.000</td>\n",
       "      <td>19559.440</td>\n",
       "      <td>35</td>\n",
       "      <td>0</td>\n",
       "      <td>Санкт-Петербург</td>\n",
       "      <td>Павел</td>\n",
       "      <td>...</td>\n",
       "      <td>smart</td>\n",
       "      <td>50</td>\n",
       "      <td>15360</td>\n",
       "      <td>500</td>\n",
       "      <td>550</td>\n",
       "      <td>200</td>\n",
       "      <td>3</td>\n",
       "      <td>3</td>\n",
       "      <td>10</td>\n",
       "      <td>1370.310</td>\n",
       "    </tr>\n",
       "    <tr>\n",
       "      <th>3211</th>\n",
       "      <td>1489</td>\n",
       "      <td>2018-11-01</td>\n",
       "      <td>0.000</td>\n",
       "      <td>0.000</td>\n",
       "      <td>20.000</td>\n",
       "      <td>17491.560</td>\n",
       "      <td>35</td>\n",
       "      <td>0</td>\n",
       "      <td>Санкт-Петербург</td>\n",
       "      <td>Павел</td>\n",
       "      <td>...</td>\n",
       "      <td>smart</td>\n",
       "      <td>50</td>\n",
       "      <td>15360</td>\n",
       "      <td>500</td>\n",
       "      <td>550</td>\n",
       "      <td>200</td>\n",
       "      <td>3</td>\n",
       "      <td>3</td>\n",
       "      <td>11</td>\n",
       "      <td>966.410</td>\n",
       "    </tr>\n",
       "    <tr>\n",
       "      <th>3212</th>\n",
       "      <td>1489</td>\n",
       "      <td>2018-12-01</td>\n",
       "      <td>0.000</td>\n",
       "      <td>0.000</td>\n",
       "      <td>35.000</td>\n",
       "      <td>17322.510</td>\n",
       "      <td>35</td>\n",
       "      <td>0</td>\n",
       "      <td>Санкт-Петербург</td>\n",
       "      <td>Павел</td>\n",
       "      <td>...</td>\n",
       "      <td>smart</td>\n",
       "      <td>50</td>\n",
       "      <td>15360</td>\n",
       "      <td>500</td>\n",
       "      <td>550</td>\n",
       "      <td>200</td>\n",
       "      <td>3</td>\n",
       "      <td>3</td>\n",
       "      <td>12</td>\n",
       "      <td>933.400</td>\n",
       "    </tr>\n",
       "  </tbody>\n",
       "</table>\n",
       "<p>3213 rows × 22 columns</p>\n",
       "</div>"
      ],
      "text/plain": [
       "      user_id      month  duration  count_calls  count_messages   mb_used  \\\n",
       "0        1000 2018-05-01   159.000       22.000          22.000  2253.490   \n",
       "1        1000 2018-06-01   172.000       43.000          60.000 23233.770   \n",
       "2        1000 2018-07-01   340.000       47.000          75.000 14003.640   \n",
       "3        1000 2018-08-01   408.000       52.000          81.000 14055.930   \n",
       "4        1000 2018-09-01   466.000       58.000          57.000 14568.910   \n",
       "...       ...        ...       ...          ...             ...       ...   \n",
       "3208     1489 2018-08-01     0.000        0.000          17.000 11050.560   \n",
       "3209     1489 2018-09-01     0.000        0.000          32.000 17206.300   \n",
       "3210     1489 2018-10-01     0.000        0.000          21.000 19559.440   \n",
       "3211     1489 2018-11-01     0.000        0.000          20.000 17491.560   \n",
       "3212     1489 2018-12-01     0.000        0.000          35.000 17322.510   \n",
       "\n",
       "      age churn_date             city first_name  ... tariff  \\\n",
       "0      52          0        Краснодар     Рафаил  ...  ultra   \n",
       "1      52          0        Краснодар     Рафаил  ...  ultra   \n",
       "2      52          0        Краснодар     Рафаил  ...  ultra   \n",
       "3      52          0        Краснодар     Рафаил  ...  ultra   \n",
       "4      52          0        Краснодар     Рафаил  ...  ultra   \n",
       "...   ...        ...              ...        ...  ...    ...   \n",
       "3208   35          0  Санкт-Петербург      Павел  ...  smart   \n",
       "3209   35          0  Санкт-Петербург      Павел  ...  smart   \n",
       "3210   35          0  Санкт-Петербург      Павел  ...  smart   \n",
       "3211   35          0  Санкт-Петербург      Павел  ...  smart   \n",
       "3212   35          0  Санкт-Петербург      Павел  ...  smart   \n",
       "\n",
       "     messages_included mb_per_month_included  minutes_included  \\\n",
       "0                 1000                 30720              3000   \n",
       "1                 1000                 30720              3000   \n",
       "2                 1000                 30720              3000   \n",
       "3                 1000                 30720              3000   \n",
       "4                 1000                 30720              3000   \n",
       "...                ...                   ...               ...   \n",
       "3208                50                 15360               500   \n",
       "3209                50                 15360               500   \n",
       "3210                50                 15360               500   \n",
       "3211                50                 15360               500   \n",
       "3212                50                 15360               500   \n",
       "\n",
       "      rub_monthly_fee  rub_per_gb  rub_per_message  rub_per_minute  month_num  \\\n",
       "0                1950         150                1               1          5   \n",
       "1                1950         150                1               1          6   \n",
       "2                1950         150                1               1          7   \n",
       "3                1950         150                1               1          8   \n",
       "4                1950         150                1               1          9   \n",
       "...               ...         ...              ...             ...        ...   \n",
       "3208              550         200                3               3          8   \n",
       "3209              550         200                3               3          9   \n",
       "3210              550         200                3               3         10   \n",
       "3211              550         200                3               3         11   \n",
       "3212              550         200                3               3         12   \n",
       "\n",
       "      monthly_revenue  \n",
       "0            1950.000  \n",
       "1            1950.000  \n",
       "2            1950.000  \n",
       "3            1950.000  \n",
       "4            1950.000  \n",
       "...               ...  \n",
       "3208          550.000  \n",
       "3209          910.740  \n",
       "3210         1370.310  \n",
       "3211          966.410  \n",
       "3212          933.400  \n",
       "\n",
       "[3213 rows x 22 columns]"
      ]
     },
     "execution_count": 61,
     "metadata": {},
     "output_type": "execute_result"
    }
   ],
   "source": [
    "df"
   ]
  },
  {
   "cell_type": "markdown",
   "id": "5e95a9d8",
   "metadata": {},
   "source": [
    "Проанализируем полученные данные по выручке, используя метод `pivot_table`."
   ]
  },
  {
   "cell_type": "code",
   "execution_count": 62,
   "id": "1cffd5ba",
   "metadata": {},
   "outputs": [
    {
     "data": {
      "text/html": [
       "<div>\n",
       "<style scoped>\n",
       "    .dataframe tbody tr th:only-of-type {\n",
       "        vertical-align: middle;\n",
       "    }\n",
       "\n",
       "    .dataframe tbody tr th {\n",
       "        vertical-align: top;\n",
       "    }\n",
       "\n",
       "    .dataframe thead tr th {\n",
       "        text-align: left;\n",
       "    }\n",
       "\n",
       "    .dataframe thead tr:last-of-type th {\n",
       "        text-align: right;\n",
       "    }\n",
       "</style>\n",
       "<table border=\"1\" class=\"dataframe\">\n",
       "  <thead>\n",
       "    <tr>\n",
       "      <th></th>\n",
       "      <th>count</th>\n",
       "      <th>mean</th>\n",
       "      <th>median</th>\n",
       "      <th>var</th>\n",
       "      <th>std</th>\n",
       "    </tr>\n",
       "    <tr>\n",
       "      <th></th>\n",
       "      <th>monthly_revenue</th>\n",
       "      <th>monthly_revenue</th>\n",
       "      <th>monthly_revenue</th>\n",
       "      <th>monthly_revenue</th>\n",
       "      <th>monthly_revenue</th>\n",
       "    </tr>\n",
       "    <tr>\n",
       "      <th>tariff</th>\n",
       "      <th></th>\n",
       "      <th></th>\n",
       "      <th></th>\n",
       "      <th></th>\n",
       "      <th></th>\n",
       "    </tr>\n",
       "  </thead>\n",
       "  <tbody>\n",
       "    <tr>\n",
       "      <th>smart</th>\n",
       "      <td>2229</td>\n",
       "      <td>1230.498</td>\n",
       "      <td>958.000</td>\n",
       "      <td>617404.885</td>\n",
       "      <td>785.751</td>\n",
       "    </tr>\n",
       "    <tr>\n",
       "      <th>ultra</th>\n",
       "      <td>984</td>\n",
       "      <td>2059.991</td>\n",
       "      <td>1950.000</td>\n",
       "      <td>126069.508</td>\n",
       "      <td>355.063</td>\n",
       "    </tr>\n",
       "  </tbody>\n",
       "</table>\n",
       "</div>"
      ],
      "text/plain": [
       "                 count            mean          median             var  \\\n",
       "       monthly_revenue monthly_revenue monthly_revenue monthly_revenue   \n",
       "tariff                                                                   \n",
       "smart             2229        1230.498         958.000      617404.885   \n",
       "ultra              984        2059.991        1950.000      126069.508   \n",
       "\n",
       "                   std  \n",
       "       monthly_revenue  \n",
       "tariff                  \n",
       "smart          785.751  \n",
       "ultra          355.063  "
      ]
     },
     "execution_count": 62,
     "metadata": {},
     "output_type": "execute_result"
    }
   ],
   "source": [
    "df.pivot_table(index = ['tariff'], values = 'monthly_revenue', aggfunc = ['count', 'mean', 'median', np.var, np.std])"
   ]
  },
  {
   "cell_type": "code",
   "execution_count": 63,
   "id": "c8672baf",
   "metadata": {},
   "outputs": [
    {
     "name": "stdout",
     "output_type": "stream",
     "text": [
      "Сравнение тарифов Ultra и Smart по месяцам (monthly_revenue)\n"
     ]
    },
    {
     "data": {
      "image/png": "[encoded data removed]",
      "text/plain": [
       "<Figure size 720x216 with 1 Axes>"
      ]
     },
     "metadata": {
      "needs_background": "light"
     },
     "output_type": "display_data"
    }
   ],
   "source": [
    "hist_maker_and_table_month(df, 'monthly_revenue')"
   ]
  },
  {
   "cell_type": "markdown",
   "id": "6e11f014",
   "metadata": {},
   "source": [
    "Таким образом можно сделать вывод, что выручка с каждого пользователя тарифа **Smart** составляет около 1000 - 1300 руб., значение колеблется из-за потребления интернет-трафика. У пользователей тарифа **Ultra** выручка составляет около 2000 руб."
   ]
  },
  {
   "cell_type": "markdown",
   "id": "d1ea0d96",
   "metadata": {},
   "source": [
    "## Проверка гипотез"
   ]
  },
  {
   "cell_type": "markdown",
   "id": "e5500df6",
   "metadata": {},
   "source": [
    "- средняя выручка пользователей тарифов «Ultra» и «Smart» различаются;\n",
    "- средняя выручка пользователей из Москвы отличается от выручки пользователей из других регионов.\n",
    "\n",
    "Пороговое значение `alpha` по умолчанию возьмем `0.05`.\n",
    "\n",
    "Пояснить:\n",
    "- как была сформулирована нулевая и альтернативная гипотезы;\n",
    "- какой критерий был использован для проверки гипотез и почему."
   ]
  },
  {
   "cell_type": "markdown",
   "id": "2e227067",
   "metadata": {},
   "source": [
    "### Средняя выручка пользователей тарифов «Ultra» и «Smart» различаются"
   ]
  },
  {
   "cell_type": "markdown",
   "id": "022efac2",
   "metadata": {},
   "source": [
    "Проверим первую гипотезу — *cредняя выручка пользователей тарифов **Ultra** и **Smart** различаются*.\n",
    "\n",
    "Для этого сформулируем нулевую и альтернативную гипотезы:\n",
    "- **Н0** — Средняя выручка пользователей тарифов Ultra и Smart **не равны**, т.е. средние значения не равны. \n",
    "- **Н1** — Средняя выручка пользователей тарифов Ultra и Smart **равны**, т.е. средние значения равны.\n",
    "\n",
    "Критический уровень статистической значимости `alpha` = .05"
   ]
  },
  {
   "cell_type": "code",
   "execution_count": 64,
   "id": "56a91be5",
   "metadata": {},
   "outputs": [
    {
     "name": "stdout",
     "output_type": "stream",
     "text": [
      "p-значение:  2.8839263560859613e-192\n",
      "Опровергнуть нулевую гипотезу нельзя\n"
     ]
    }
   ],
   "source": [
    "ultra = df[df['tariff'] == 'ultra']['monthly_revenue'] \n",
    "smart = df[df['tariff'] == 'smart']['monthly_revenue'] \n",
    "results = st.ttest_ind(ultra, smart)\n",
    "alpha = 0.05\n",
    "\n",
    "print('p-значение: ', results.pvalue)\n",
    "if results.pvalue > alpha:\n",
    "    print('Принимаем альтернативную гипотезу')\n",
    "else:\n",
    "    print('Опровергнуть нулевую гипотезу нельзя')"
   ]
  },
  {
   "cell_type": "markdown",
   "id": "a90ab5b9",
   "metadata": {},
   "source": [
    "Для выбранного уровня значимости опровергнуть нулевую гипотизу нельзя. Можно сделать вывод, что средняя выручка пользователей тарифов **Ultra** и **Smart** различаются."
   ]
  },
  {
   "cell_type": "markdown",
   "id": "85da83e4",
   "metadata": {},
   "source": [
    "### Средняя выручка пользователей из Москвы отличается от выручки пользователей из других регионов"
   ]
  },
  {
   "cell_type": "markdown",
   "id": "b53aa026",
   "metadata": {},
   "source": [
    "Проверим вторую гипотезу — *cредняя выручка пользователей из Москвы отличается от выручки пользователей из других регионов*.\n",
    "\n",
    "Для этого сформулируем нулевую и альтернативную гипотезы:\n",
    "- **Н0** — Средняя выручка пользователей из Москвы **отличается** от выручки пользователей из других регионов, т.е. значения не равны.\n",
    "- **Н1** — Средняя выручка пользователей из Москвы **не отличается** от выручки пользователей из других регионов, т.е. значения равны.\n",
    "\n",
    "Критический уровень статистической значимости `alpha` = .05"
   ]
  },
  {
   "cell_type": "code",
   "execution_count": 65,
   "id": "70297eb3",
   "metadata": {},
   "outputs": [
    {
     "name": "stdout",
     "output_type": "stream",
     "text": [
      "p-значение:  0.48309584948950124\n",
      "Опровергнуть нулевую гипотезу нельзя\n"
     ]
    }
   ],
   "source": [
    "moscow = df.query('city == \"Москва\"')['monthly_revenue']\n",
    "other_city = df.query('city != \"Москва\"')['monthly_revenue']\n",
    "results = st.ttest_ind(moscow, other_city)\n",
    "alpha = 0.05\n",
    "\n",
    "print('p-значение: ', results.pvalue)\n",
    "if results.pvalue < alpha:\n",
    "    print('Принимаем альтернативную гипотезу')\n",
    "else:\n",
    "    print('Опровергнуть нулевую гипотезу нельзя')"
   ]
  },
  {
   "cell_type": "markdown",
   "id": "d86e6eb4",
   "metadata": {},
   "source": [
    "Для выбранного уровня значимости опровергнуть нулевую гипотизу нельзя. Средняя выручка пользователей из Москвы действительно отличается от выручки пользователей из других регионов."
   ]
  },
  {
   "cell_type": "markdown",
   "id": "2db99723",
   "metadata": {},
   "source": [
    "В потверждение этой гипотизы изучим топ городов по выручке, с помощью функции `top_city`. Она позволяет отсортировать города в порядке убывания, либо возрастания по выбранному критерию."
   ]
  },
  {
   "cell_type": "code",
   "execution_count": 66,
   "id": "998f204c",
   "metadata": {},
   "outputs": [],
   "source": [
    "# функция для определения ТОПа городов\n",
    "def top_city(name, sort, top): # критерий отбора, вариант сортировки, сколько вывести городов\n",
    "\n",
    "    city_indication = df.groupby('city')[name].sum() # суммируем значения по городам\n",
    "    city_sorted = city_indication.sort_values(ascending = sort) # сортируем значения\n",
    "    return city_sorted[:top]"
   ]
  },
  {
   "cell_type": "code",
   "execution_count": 67,
   "id": "4d8cf31f",
   "metadata": {},
   "outputs": [
    {
     "data": {
      "image/png": "[encoded data removed]",
      "text/plain": [
       "<Figure size 1440x360 with 1 Axes>"
      ]
     },
     "metadata": {},
     "output_type": "display_data"
    }
   ],
   "source": [
    "top_city('monthly_revenue', False, 5).plot(y = 'user_id', kind='pie', autopct='%1.1f%%', figsize=(20,5))\n",
    "plt.show()"
   ]
  },
  {
   "cell_type": "markdown",
   "id": "4583c1af",
   "metadata": {},
   "source": [
    "Мы видим, что выручка Москвы составляет наибольший процент, и больше выручки всех остальных регионов в совокупности на 1,5%."
   ]
  },
  {
   "cell_type": "markdown",
   "id": "69300ced",
   "metadata": {},
   "source": [
    "## Общий вывод"
   ]
  },
  {
   "cell_type": "markdown",
   "id": "c13b00b2",
   "metadata": {},
   "source": [
    "Мы провели предобработку данных и изучили данные по клиентам:\n",
    "\n",
    "- Пользователи тарифа Smart в основном используют 400-450 минут в месяц. Ограничение объясняется лимитом в 500 минут тарифа. Пользователи тарифа Ultra используют более 500 минут в месяц при лимите в 3000 минут.\n",
    "- В том и другом случае пользователям в среднем требуется меньше 50 сообщений в месяц при лимитах 50 на Smart и 1000 на Ultra.\n",
    "- Пользователям тарифа Smart нехватает лимита в 15 гб интернета. В среднем они потребляют около 16 гб. Пользователи тарифа Ultra используют 19 гб интернета каждый месяц при лимите в 30 гб.\n",
    "- Интернет является наиболее потребляемым пакетом услуг на обоих тарифах.\n",
    "- Выручка с каждого пользователя тарифа Smart составляет около 1000 - 1300 руб. при ежемесячной плате в 550 руб., значение колеблется из-за потребления интернет-трафика. У пользователей тарифа Ultra выручка составляет около 2000 руб. при ежемесячной плате в 1950 руб.\n",
    "\n",
    "В целом наблюдается стабильный рост потребления пакетов услуг тарифов за исключением февральских показателей - они значительно ниже по всем направлениям.\n",
    "\n",
    "Обе гипотезы потвердились:\n",
    "- Средняя выручка пользователей тарифов Ultra и Smart различаются.\n",
    "- Средняя выручка пользователей из Москвы отличается от выручки пользователей из других регионов.\n",
    "\n",
    "**Какой тариф лучше?**\n",
    "\n",
    "Тариф Smart является наиболее перспективным, поскольку пользователи потребляют примерно одинаковое количество пакетов услуг и их значения близки к лимитам тарифа Smart, хотя и выбиваются по интернет-трафику.\n",
    "\n",
    "Компании «Мегалайн» рекомендуется рассмотреть промежуточные решения между двумя тарифами, которые бы позволили пользователям оптимально пользоваться услугами связи без доп. переплат. В качестве примера можно рассмотреть сборные пакеты услуг с индивидуальной настройкой количества минут, сообщений и гигабайт. Либо создания нового тарифа Smart-Ultra с бо́льшим объемом интернет-трафика."
   ]
  }
 ],
 "metadata": {
  "kernelspec": {
   "display_name": "Python 3 (ipykernel)",
   "language": "python",
   "name": "python3"
  },
  "language_info": {
   "codemirror_mode": {
    "name": "ipython",
    "version": 3
   },
   "file_extension": ".py",
   "mimetype": "text/x-python",
   "name": "python",
   "nbconvert_exporter": "python",
   "pygments_lexer": "ipython3",
   "version": "3.9.7"
  },
  "toc": {
   "base_numbering": 1,
   "nav_menu": {},
   "number_sections": true,
   "sideBar": true,
   "skip_h1_title": true,
   "title_cell": "Содержание",
   "title_sidebar": "Contents",
   "toc_cell": true,
   "toc_position": {
    "height": "calc(100% - 180px)",
    "left": "10px",
    "top": "150px",
    "width": "263px"
   },
   "toc_section_display": true,
   "toc_window_display": true
  }
 },
 "nbformat": 4,
 "nbformat_minor": 5
}
