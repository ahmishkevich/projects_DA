{
 "cells": [
  {
   "cell_type": "markdown",
   "id": "24a5cf94",
   "metadata": {
    "toc": true
   },
   "source": [
    "<h1>Содержание<span class=\"tocSkip\"></span></h1>\n",
    "<div class=\"toc\"><ul class=\"toc-item\"><li><span><a href=\"#Обзор-данных\" data-toc-modified-id=\"Обзор-данных-1\"><span class=\"toc-item-num\">1&nbsp;&nbsp;</span>Обзор данных</a></span><ul class=\"toc-item\"><li><span><a href=\"#Импорт-библиотек\" data-toc-modified-id=\"Импорт-библиотек-1.1\"><span class=\"toc-item-num\">1.1&nbsp;&nbsp;</span>Импорт библиотек</a></span></li><li><span><a href=\"#Импорт-данных-и-создание-DataFrame\" data-toc-modified-id=\"Импорт-данных-и-создание-DataFrame-1.2\"><span class=\"toc-item-num\">1.2&nbsp;&nbsp;</span>Импорт данных и создание DataFrame</a></span></li><li><span><a href=\"#Функции-для-расчетов-и-анализа\" data-toc-modified-id=\"Функции-для-расчетов-и-анализа-1.3\"><span class=\"toc-item-num\">1.3&nbsp;&nbsp;</span>Функции для расчетов и анализа</a></span><ul class=\"toc-item\"><li><span><a href=\"#Функция-первичного-анализа-данных-(first_look)\" data-toc-modified-id=\"Функция-первичного-анализа-данных-(first_look)-1.3.1\"><span class=\"toc-item-num\">1.3.1&nbsp;&nbsp;</span>Функция первичного анализа данных (first_look)</a></span></li><li><span><a href=\"#Функция-построения-графика-(hist_maker)\" data-toc-modified-id=\"Функция-построения-графика-(hist_maker)-1.3.2\"><span class=\"toc-item-num\">1.3.2&nbsp;&nbsp;</span>Функция построения графика (hist_maker)</a></span></li><li><span><a href=\"#Функция-построения-графика-(hist_maker_platforms)\" data-toc-modified-id=\"Функция-построения-графика-(hist_maker_platforms)-1.3.3\"><span class=\"toc-item-num\">1.3.3&nbsp;&nbsp;</span>Функция построения графика (hist_maker_platforms)</a></span></li><li><span><a href=\"#Функция-построения-графика-(hist_maker_plot)\" data-toc-modified-id=\"Функция-построения-графика-(hist_maker_plot)-1.3.4\"><span class=\"toc-item-num\">1.3.4&nbsp;&nbsp;</span>Функция построения графика (hist_maker_plot)</a></span></li></ul></li><li><span><a href=\"#Обзор-данных\" data-toc-modified-id=\"Обзор-данных-1.4\"><span class=\"toc-item-num\">1.4&nbsp;&nbsp;</span>Обзор данных</a></span></li><li><span><a href=\"#Выводы\" data-toc-modified-id=\"Выводы-1.5\"><span class=\"toc-item-num\">1.5&nbsp;&nbsp;</span>Выводы</a></span></li></ul></li><li><span><a href=\"#Предобработка-данных\" data-toc-modified-id=\"Предобработка-данных-2\"><span class=\"toc-item-num\">2&nbsp;&nbsp;</span>Предобработка данных</a></span><ul class=\"toc-item\"><li><span><a href=\"#Ошибки-данных\" data-toc-modified-id=\"Ошибки-данных-2.1\"><span class=\"toc-item-num\">2.1&nbsp;&nbsp;</span>Ошибки данных</a></span></li><li><span><a href=\"#Заполнение-пропусков\" data-toc-modified-id=\"Заполнение-пропусков-2.2\"><span class=\"toc-item-num\">2.2&nbsp;&nbsp;</span>Заполнение пропусков</a></span></li><li><span><a href=\"#Изменение-типов-данных\" data-toc-modified-id=\"Изменение-типов-данных-2.3\"><span class=\"toc-item-num\">2.3&nbsp;&nbsp;</span>Изменение типов данных</a></span></li><li><span><a href=\"#Дополнительные-расчеты\" data-toc-modified-id=\"Дополнительные-расчеты-2.4\"><span class=\"toc-item-num\">2.4&nbsp;&nbsp;</span>Дополнительные расчеты</a></span></li><li><span><a href=\"#Выводы-по-предобработке-данных\" data-toc-modified-id=\"Выводы-по-предобработке-данных-2.5\"><span class=\"toc-item-num\">2.5&nbsp;&nbsp;</span>Выводы по предобработке данных</a></span></li></ul></li><li><span><a href=\"#Анализ-данных\" data-toc-modified-id=\"Анализ-данных-3\"><span class=\"toc-item-num\">3&nbsp;&nbsp;</span>Анализ данных</a></span><ul class=\"toc-item\"><li><span><a href=\"#Анализ-выпущенных-игр-в-разные-годы\" data-toc-modified-id=\"Анализ-выпущенных-игр-в-разные-годы-3.1\"><span class=\"toc-item-num\">3.1&nbsp;&nbsp;</span>Анализ выпущенных игр в разные годы</a></span></li><li><span><a href=\"#Анализ-продаж-по-платформам\" data-toc-modified-id=\"Анализ-продаж-по-платформам-3.2\"><span class=\"toc-item-num\">3.2&nbsp;&nbsp;</span>Анализ продаж по платформам</a></span></li><li><span><a href=\"#Анализ-влияния-отзывов-на-продажи\" data-toc-modified-id=\"Анализ-влияния-отзывов-на-продажи-3.3\"><span class=\"toc-item-num\">3.3&nbsp;&nbsp;</span>Анализ влияния отзывов на продажи</a></span></li><li><span><a href=\"#Анализ-жанров-игр\" data-toc-modified-id=\"Анализ-жанров-игр-3.4\"><span class=\"toc-item-num\">3.4&nbsp;&nbsp;</span>Анализ жанров игр</a></span></li><li><span><a href=\"#Выводы-по-анализу-данных\" data-toc-modified-id=\"Выводы-по-анализу-данных-3.5\"><span class=\"toc-item-num\">3.5&nbsp;&nbsp;</span>Выводы по анализу данных</a></span></li></ul></li><li><span><a href=\"#Портрет-пользователя-каждого-региона\" data-toc-modified-id=\"Портрет-пользователя-каждого-региона-4\"><span class=\"toc-item-num\">4&nbsp;&nbsp;</span>Портрет пользователя каждого региона</a></span><ul class=\"toc-item\"><li><span><a href=\"#Топ-5-платформ-среди-пользователей-каждого-региона\" data-toc-modified-id=\"Топ-5-платформ-среди-пользователей-каждого-региона-4.1\"><span class=\"toc-item-num\">4.1&nbsp;&nbsp;</span>Топ-5 платформ среди пользователей каждого региона</a></span></li><li><span><a href=\"#Топ-5-жанров-игр-среди-пользователей-каждого-региона\" data-toc-modified-id=\"Топ-5-жанров-игр-среди-пользователей-каждого-региона-4.2\"><span class=\"toc-item-num\">4.2&nbsp;&nbsp;</span>Топ-5 жанров игр среди пользователей каждого региона</a></span></li><li><span><a href=\"#Рейтинги-популярных-игр-пользователей-каждого-региона\" data-toc-modified-id=\"Рейтинги-популярных-игр-пользователей-каждого-региона-4.3\"><span class=\"toc-item-num\">4.3&nbsp;&nbsp;</span>Рейтинги популярных игр пользователей каждого региона</a></span></li><li><span><a href=\"#Выводы-по-анализу-портрета-пользователя-каждого-региона\" data-toc-modified-id=\"Выводы-по-анализу-портрета-пользователя-каждого-региона-4.4\"><span class=\"toc-item-num\">4.4&nbsp;&nbsp;</span>Выводы по анализу портрета пользователя каждого региона</a></span></li></ul></li><li><span><a href=\"#Проверка-гипотез\" data-toc-modified-id=\"Проверка-гипотез-5\"><span class=\"toc-item-num\">5&nbsp;&nbsp;</span>Проверка гипотез</a></span><ul class=\"toc-item\"><li><span><a href=\"#Средние-пользовательские-рейтинги-платформ-Xbox-One-и-PC-одинаковые\" data-toc-modified-id=\"Средние-пользовательские-рейтинги-платформ-Xbox-One-и-PC-одинаковые-5.1\"><span class=\"toc-item-num\">5.1&nbsp;&nbsp;</span>Средние пользовательские рейтинги платформ Xbox One и PC одинаковые</a></span></li><li><span><a href=\"#Средние-пользовательские-рейтинги-жанров-Action-и-Sports-разные\" data-toc-modified-id=\"Средние-пользовательские-рейтинги-жанров-Action-и-Sports-разные-5.2\"><span class=\"toc-item-num\">5.2&nbsp;&nbsp;</span>Средние пользовательские рейтинги жанров Action и Sports разные</a></span></li></ul></li><li><span><a href=\"#Общий-вывод\" data-toc-modified-id=\"Общий-вывод-6\"><span class=\"toc-item-num\">6&nbsp;&nbsp;</span>Общий вывод</a></span></li></ul></div>"
   ]
  },
  {
   "cell_type": "markdown",
   "id": "4ebecd85",
   "metadata": {},
   "source": [
    "# Изучение закономерностей, определяющих успешность игр"
   ]
  },
  {
   "cell_type": "markdown",
   "id": "d64c7b9b",
   "metadata": {},
   "source": [
    "**Описание проекта**\n",
    "\n",
    "Выявлены параметры, определяющие успешность игры в разных регионах мира. На основании этого подготовлен отчет для магазина компьютерных игр для планирования рекламных кампаний. Проведена предобработка данных, анализ. Выбран актуальный период для анализа. Составлены портреты пользователей каждого региона. \n",
    "\n",
    "Проверены гипотезы: \n",
    "- средние пользовательские рейтинги платформ Xbox One и PC одинаковые;\n",
    "- средние пользовательские рейтинги жанров Action и Sports разные.\n",
    "\n",
    "При анализе использовал критерий Стьюдента для независимых выборок.\n",
    "\n",
    "**Задачи проекта**\n",
    "\n",
    "Используя исторические данные о продажах компьютерных игр, оценки пользователей и экспертов, жанры и платформы, выявить закономерности, определяющие успешность игры\n",
    "\n",
    "**Тэги**\n",
    "\n",
    "`обработка данных`, `histogram`, `boxplot`, `статистический тест`, `критерий Стьюдента`, `piechart`"
   ]
  },
  {
   "cell_type": "markdown",
   "id": "3732edb8",
   "metadata": {},
   "source": [
    "## Обзор данных"
   ]
  },
  {
   "cell_type": "markdown",
   "id": "36c87270",
   "metadata": {},
   "source": [
    "### Импорт библиотек"
   ]
  },
  {
   "cell_type": "markdown",
   "id": "77146a78",
   "metadata": {},
   "source": [
    "Загружаем библиотеки и пакеты, необходимые для исследования."
   ]
  },
  {
   "cell_type": "code",
   "execution_count": 1,
   "id": "6e299d37",
   "metadata": {},
   "outputs": [],
   "source": [
    "import pandas as pd # импорт библиотеки pandas для работы с таблицами\n",
    "import seaborn as sns # импорт библиотеки seaborn для визуализации данных\n",
    "import matplotlib.pyplot as plt # импорт библиотеки matplotlib.pyplot для продвинутой работы с графиками\n",
    "from scipy import stats as st # импорт пакета scipy для поиска вероятностей попадания значений в интервалы\n",
    "import numpy as np # импорт библиотеки numpy для работы с высокоуровневыемыми математическими функциями\n",
    "from IPython.display import Image # Библиотека для отображения картинок\n",
    "import os # импорт библиотеки для работы с установленной ОС, а также файловой системой ПК\n",
    "\n",
    "# оптимизация отображения\n",
    "%matplotlib inline\n",
    "\n",
    "pd.set_option('display.max_columns', 50) # оптимизация отображения данных "
   ]
  },
  {
   "cell_type": "markdown",
   "id": "270b9f26",
   "metadata": {},
   "source": [
    "### Импорт данных и создание DataFrame"
   ]
  },
  {
   "cell_type": "markdown",
   "id": "8ce3f66d",
   "metadata": {},
   "source": [
    "Прочитаем файл `/datasets/games.csv` из папки `/datasets` и сохраним его в переменной `df`:"
   ]
  },
  {
   "cell_type": "code",
   "execution_count": 2,
   "id": "f4ca4497",
   "metadata": {},
   "outputs": [],
   "source": [
    "pth1 = 'C:/Users/ahmis/Documents/GitHub/projects_DA/project_5(games)/games.csv'\n",
    "pth2 = '/datasets/games.csv'\n",
    "\n",
    "if os.path.exists(pth1):\n",
    "  df = pd.read_csv(pth1, delimiter=',')\n",
    "elif os.path.exists(pth2):\n",
    "  df = pd.read_csv(pth2, delimiter=',')\n",
    "else:\n",
    "    print('Something is wrong')"
   ]
  },
  {
   "cell_type": "markdown",
   "id": "a9239d93",
   "metadata": {},
   "source": [
    "### Функции для расчетов и анализа"
   ]
  },
  {
   "cell_type": "markdown",
   "id": "51aca58b",
   "metadata": {},
   "source": [
    "#### Функция первичного анализа данных (first_look)"
   ]
  },
  {
   "cell_type": "code",
   "execution_count": 3,
   "id": "510beb51",
   "metadata": {},
   "outputs": [],
   "source": [
    "# оформление и разделители\n",
    "frame = 40*'*' # рамка таблицы\n",
    "sep = '\\n' # разделитель\n",
    "\n",
    "# функция получения первичной информации о датафрейме\n",
    "def first_look (df): \n",
    "    print('{}\\nПервые 5 строк\\n{}'.format(frame,frame))\n",
    "    display(df.head())\n",
    "    print(sep)\n",
    "\n",
    "    \n",
    "#    print('{}\\nПоследние 5 строк\\n{}'.format(frame,frame))\n",
    "#    display(df.tail())\n",
    "#    print(sep)\n",
    "    \n",
    "    \n",
    "    print('{}\\nОбщая информация о таблице\\n{}'.format(frame,frame))\n",
    "    df.info()\n",
    "    print(sep)\n",
    "\n",
    "    \n",
    "    print('{}\\nПропуски\\n{}'.format(frame,frame))\n",
    "    count = 0\n",
    "    for element in df.columns:\n",
    "        if df[element].isna().sum() > 0:\n",
    "            print(element, ' — ', df[element].isna().sum(), 'пропуска(ов)')\n",
    "            count += 1\n",
    "    if count == 0:\n",
    "        print('Пропусков НЕТ')\n",
    "    print(sep)\n",
    "    \n",
    "    \n",
    "    print('{}\\nДубликаты\\n{}'.format(frame,frame))\n",
    "    if df.duplicated().sum() > 0:\n",
    "        print(df.duplicated().sum(), 'дубликата(ов)')\n",
    "    else:\n",
    "        print('Дубликатов НЕТ')\n",
    "    print(sep)\n",
    "\n",
    "    \n",
    "#    print('{}\\nНаиболее популярные уникальные значения\\n{}'.format(frame,frame))    \n",
    "#    for column in df:\n",
    "#        print(df[column].value_counts()\n",
    "#              .sort_index(ascending=False)\n",
    "#              .sort_values(ascending=False))"
   ]
  },
  {
   "cell_type": "markdown",
   "id": "01425b18",
   "metadata": {},
   "source": [
    "#### Функция построения графика (hist_maker)"
   ]
  },
  {
   "cell_type": "code",
   "execution_count": 4,
   "id": "5118b096",
   "metadata": {},
   "outputs": [],
   "source": [
    "# функция построения графика\n",
    "def hist_maker(column, func, y='name'): # столбец, функция, критерий (по умолчанию 'name')\n",
    "    df_to_plot = df.groupby(column)[y] # группировка по столбцу и критерию\n",
    "    df_to_plot_desc = df_to_plot.describe(percentiles = [.01,.25,.75,.99])  # статистическая сводка с указанием квартилей\n",
    "    display(df_to_plot_desc) # отображение таблицы \n",
    "    if func == 'count':\n",
    "        df_to_plot_calculated = df_to_plot.count()\n",
    "        figsize = (15,5)\n",
    "        plot = df_to_plot_calculated.plot(color='teal', alpha=0.5, kind='bar', y=y, figsize=figsize, ec='black')\n",
    "        \n",
    "    elif func == 'sum':\n",
    "        df_to_plot_calculated = df_to_plot.sum().sort_values()\n",
    "        figsize = (15,10)\n",
    "        plot = df_to_plot_calculated.plot(color='teal', alpha=0.5, kind='barh', y=y, figsize=figsize, ec='black')\n",
    "    \n",
    "    plt.legend()"
   ]
  },
  {
   "cell_type": "markdown",
   "id": "2bd2b3b9",
   "metadata": {},
   "source": [
    "#### Функция построения графика (hist_maker_platforms)"
   ]
  },
  {
   "cell_type": "code",
   "execution_count": 5,
   "id": "2f973647",
   "metadata": {},
   "outputs": [],
   "source": [
    "# функция построения графика\n",
    "def hist_maker_platforms(platforms=None, query=None): # платформы, выборка (по умолчанию необязательные)\n",
    "    ax = plt.gca() # определитель осей\n",
    "    legend_list = [] # лист легенды\n",
    "    \n",
    "    # если нет выборки\n",
    "    if query == None:\n",
    "        if platforms == None:\n",
    "            platforms = df['platform'].unique()\n",
    "        else:\n",
    "            platforms = platforms    \n",
    "    # если выборка задана\n",
    "    else:\n",
    "        platforms = df.query(query)['platform'].unique()\n",
    "    \n",
    "    # прогоняем значения платформ\n",
    "    for platform in platforms:\n",
    "        if query == None:\n",
    "            df_to_plot = df.query('platform == @platform')\n",
    "        else:\n",
    "            df_to_plot = df.query('platform == @platform').query(query)\n",
    "        lines = df_to_plot.groupby('year_of_release')['total_sales'].sum().plot(x='year_of_release', y='total_sales',\n",
    "                                                                    grid=True, style='o-', kind='line', alpha=0.5,\n",
    "                                                                    linewidth=3, ax=ax, label=platform, figsize=(15,5))\n",
    "        legend_list.append(platform) # добавление значений в лист легенды\n",
    "    \n",
    "    ax.set_xlabel('')\n",
    "    ax.legend(legend_list) # отображение легенды"
   ]
  },
  {
   "cell_type": "markdown",
   "id": "e97e8597",
   "metadata": {},
   "source": [
    "#### Функция построения графика (hist_maker_plot)"
   ]
  },
  {
   "cell_type": "code",
   "execution_count": 6,
   "id": "0a7cfd87",
   "metadata": {},
   "outputs": [],
   "source": [
    "# функция построения графика\n",
    "def hist_maker_plot(groupby, region_sales, sort, ax): # столбец группировки, регион продажи, сортировка, порядок графика\n",
    "    # группировка и создание сводной таблицы\n",
    "    sales_groupby = top_df.groupby(groupby)[region_sales].sum().reset_index().sort_values(by=region_sales, ascending=sort)[:5]\n",
    "    \n",
    "    # построение графика\n",
    "    plot = sns.barplot(x=sales_groupby[groupby], y=sales_groupby[region_sales], color='teal', alpha=0.5, ec='black', ax=axes[ax])\n",
    "    \n",
    "    # добавление процентов на график\n",
    "    total = sum(top_df[region_sales]) # расчет общих продаж региона\n",
    "    for p in plot.patches: # цикл для каждого столбца графика\n",
    "        width = p.get_width() # ширина\n",
    "        height = p.get_height() # высота\n",
    "        x, y = p.get_xy()\n",
    "        percentage = '{:.1f}%'.format(100 * p.get_height() / total) # расчет процентов\n",
    "        \n",
    "        plot.annotate(percentage, (x + width / 2, y + height * 1.01), ha='center') # размещение процентов\n",
    "    \n",
    "    plt.ylabel(region_sales)\n",
    "    plot.set_xlabel('')"
   ]
  },
  {
   "cell_type": "markdown",
   "id": "912001f9",
   "metadata": {},
   "source": [
    "### Обзор данных"
   ]
  },
  {
   "cell_type": "markdown",
   "id": "c1637617",
   "metadata": {},
   "source": [
    "Исследуем данные таблицы с помощью функции `first_look`."
   ]
  },
  {
   "cell_type": "code",
   "execution_count": 7,
   "id": "5ec80081",
   "metadata": {
    "scrolled": true
   },
   "outputs": [
    {
     "name": "stdout",
     "output_type": "stream",
     "text": [
      "****************************************\n",
      "Первые 5 строк\n",
      "****************************************\n"
     ]
    },
    {
     "data": {
      "text/html": [
       "<div>\n",
       "<style scoped>\n",
       "    .dataframe tbody tr th:only-of-type {\n",
       "        vertical-align: middle;\n",
       "    }\n",
       "\n",
       "    .dataframe tbody tr th {\n",
       "        vertical-align: top;\n",
       "    }\n",
       "\n",
       "    .dataframe thead th {\n",
       "        text-align: right;\n",
       "    }\n",
       "</style>\n",
       "<table border=\"1\" class=\"dataframe\">\n",
       "  <thead>\n",
       "    <tr style=\"text-align: right;\">\n",
       "      <th></th>\n",
       "      <th>Name</th>\n",
       "      <th>Platform</th>\n",
       "      <th>Year_of_Release</th>\n",
       "      <th>Genre</th>\n",
       "      <th>NA_sales</th>\n",
       "      <th>EU_sales</th>\n",
       "      <th>JP_sales</th>\n",
       "      <th>Other_sales</th>\n",
       "      <th>Critic_Score</th>\n",
       "      <th>User_Score</th>\n",
       "      <th>Rating</th>\n",
       "    </tr>\n",
       "  </thead>\n",
       "  <tbody>\n",
       "    <tr>\n",
       "      <th>0</th>\n",
       "      <td>Wii Sports</td>\n",
       "      <td>Wii</td>\n",
       "      <td>2006.0</td>\n",
       "      <td>Sports</td>\n",
       "      <td>41.36</td>\n",
       "      <td>28.96</td>\n",
       "      <td>3.77</td>\n",
       "      <td>8.45</td>\n",
       "      <td>76.0</td>\n",
       "      <td>8</td>\n",
       "      <td>E</td>\n",
       "    </tr>\n",
       "    <tr>\n",
       "      <th>1</th>\n",
       "      <td>Super Mario Bros.</td>\n",
       "      <td>NES</td>\n",
       "      <td>1985.0</td>\n",
       "      <td>Platform</td>\n",
       "      <td>29.08</td>\n",
       "      <td>3.58</td>\n",
       "      <td>6.81</td>\n",
       "      <td>0.77</td>\n",
       "      <td>NaN</td>\n",
       "      <td>NaN</td>\n",
       "      <td>NaN</td>\n",
       "    </tr>\n",
       "    <tr>\n",
       "      <th>2</th>\n",
       "      <td>Mario Kart Wii</td>\n",
       "      <td>Wii</td>\n",
       "      <td>2008.0</td>\n",
       "      <td>Racing</td>\n",
       "      <td>15.68</td>\n",
       "      <td>12.76</td>\n",
       "      <td>3.79</td>\n",
       "      <td>3.29</td>\n",
       "      <td>82.0</td>\n",
       "      <td>8.3</td>\n",
       "      <td>E</td>\n",
       "    </tr>\n",
       "    <tr>\n",
       "      <th>3</th>\n",
       "      <td>Wii Sports Resort</td>\n",
       "      <td>Wii</td>\n",
       "      <td>2009.0</td>\n",
       "      <td>Sports</td>\n",
       "      <td>15.61</td>\n",
       "      <td>10.93</td>\n",
       "      <td>3.28</td>\n",
       "      <td>2.95</td>\n",
       "      <td>80.0</td>\n",
       "      <td>8</td>\n",
       "      <td>E</td>\n",
       "    </tr>\n",
       "    <tr>\n",
       "      <th>4</th>\n",
       "      <td>Pokemon Red/Pokemon Blue</td>\n",
       "      <td>GB</td>\n",
       "      <td>1996.0</td>\n",
       "      <td>Role-Playing</td>\n",
       "      <td>11.27</td>\n",
       "      <td>8.89</td>\n",
       "      <td>10.22</td>\n",
       "      <td>1.00</td>\n",
       "      <td>NaN</td>\n",
       "      <td>NaN</td>\n",
       "      <td>NaN</td>\n",
       "    </tr>\n",
       "  </tbody>\n",
       "</table>\n",
       "</div>"
      ],
      "text/plain": [
       "                       Name Platform  Year_of_Release         Genre  NA_sales  \\\n",
       "0                Wii Sports      Wii           2006.0        Sports     41.36   \n",
       "1         Super Mario Bros.      NES           1985.0      Platform     29.08   \n",
       "2            Mario Kart Wii      Wii           2008.0        Racing     15.68   \n",
       "3         Wii Sports Resort      Wii           2009.0        Sports     15.61   \n",
       "4  Pokemon Red/Pokemon Blue       GB           1996.0  Role-Playing     11.27   \n",
       "\n",
       "   EU_sales  JP_sales  Other_sales  Critic_Score User_Score Rating  \n",
       "0     28.96      3.77         8.45          76.0          8      E  \n",
       "1      3.58      6.81         0.77           NaN        NaN    NaN  \n",
       "2     12.76      3.79         3.29          82.0        8.3      E  \n",
       "3     10.93      3.28         2.95          80.0          8      E  \n",
       "4      8.89     10.22         1.00           NaN        NaN    NaN  "
      ]
     },
     "metadata": {},
     "output_type": "display_data"
    },
    {
     "name": "stdout",
     "output_type": "stream",
     "text": [
      "\n",
      "\n",
      "****************************************\n",
      "Общая информация о таблице\n",
      "****************************************\n",
      "<class 'pandas.core.frame.DataFrame'>\n",
      "RangeIndex: 16715 entries, 0 to 16714\n",
      "Data columns (total 11 columns):\n",
      " #   Column           Non-Null Count  Dtype  \n",
      "---  ------           --------------  -----  \n",
      " 0   Name             16713 non-null  object \n",
      " 1   Platform         16715 non-null  object \n",
      " 2   Year_of_Release  16446 non-null  float64\n",
      " 3   Genre            16713 non-null  object \n",
      " 4   NA_sales         16715 non-null  float64\n",
      " 5   EU_sales         16715 non-null  float64\n",
      " 6   JP_sales         16715 non-null  float64\n",
      " 7   Other_sales      16715 non-null  float64\n",
      " 8   Critic_Score     8137 non-null   float64\n",
      " 9   User_Score       10014 non-null  object \n",
      " 10  Rating           9949 non-null   object \n",
      "dtypes: float64(6), object(5)\n",
      "memory usage: 1.4+ MB\n",
      "\n",
      "\n",
      "****************************************\n",
      "Пропуски\n",
      "****************************************\n",
      "Name  —  2 пропуска(ов)\n",
      "Year_of_Release  —  269 пропуска(ов)\n",
      "Genre  —  2 пропуска(ов)\n",
      "Critic_Score  —  8578 пропуска(ов)\n",
      "User_Score  —  6701 пропуска(ов)\n",
      "Rating  —  6766 пропуска(ов)\n",
      "\n",
      "\n",
      "****************************************\n",
      "Дубликаты\n",
      "****************************************\n",
      "Дубликатов НЕТ\n",
      "\n",
      "\n"
     ]
    }
   ],
   "source": [
    "first_look(df)"
   ]
  },
  {
   "cell_type": "markdown",
   "id": "c31dbad3",
   "metadata": {},
   "source": [
    "В таблице 11 столбцов. Типы данных в столбцах — `float64`(6), `object`(5).\n",
    "\n",
    "**Согласно документации к данным:**\n",
    "- `Name` — название игры\n",
    "- `Platform` — платформа\n",
    "- `Year_of_Release` — год выпуска\n",
    "- `Genre` — жанр игры\n",
    "- `NA_sales` — продажи в Северной Америке (миллионы проданных копий)\n",
    "- `EU_sales` — продажи в Европе (миллионы проданных копий)\n",
    "- `JP_sales` — продажи в Японии (миллионы проданных копий)\n",
    "- `Other_sales` — продажи в других странах (миллионы проданных копий)\n",
    "- `Critic_Score` — оценка критиков (максимум 100)\n",
    "- `User_Score` — оценка пользователей (максимум 10)\n",
    "- `Rating` — рейтинг от организации ESRB (англ. Entertainment Software Rating Board). Эта ассоциация определяет рейтинг компьютерных игр и присваивает им подходящую возрастную категорию.\n",
    "\n",
    "✔️ **Соблюдаются требования к таблице:**\n",
    "- Отсутствуют явные дубликаты.\n",
    "\n",
    "❌ **Были замечены нарушения:**\n",
    "- Нарушения в стилистике названий, необходимо привести к «змеиному_регистру»;\n",
    "- Значения столбца `User_Score` **tbd** (англ. To Be Determined) встречается в 2424 случаях. Эта аббревиатура дословно означает   «подлежит определению». Данная игра еще не оценивалась по тем или иным причинам. Заменим эти значения на **-1**;\n",
    "- В столбце `Rating` встречается рейтинг «K-A» — это устаревшая версия рейтинга «E». Заменим значения на корректные;\n",
    "- В столбцах встречаются пропуски данных:\n",
    "    1. `Name` — 2 пропуска. Исключим из выборки, поскольку нет возможности определить значения;\n",
    "    2. `Year_of_Release`— 269 пропусков. Нужно учитывать, что одна и та же игра может выходить в разные года для разных платформ;\n",
    "    3. `Genre` — 2 пропуска. Вероятная связь с пропусками `Name` исключим из выборки;\n",
    "    4. `Critic_Score` — 8578 пропусков. Вероятно эти игры не оценивались критиками на момент их выхода (но я бы уточнила эту информацию у первоисточника). Заполнение пустых значений средним или медианой исказит результаты анализа для каждого жанра в отдельности. И поскольку мы не можем оставлять их пустыми, поставим этим играм рейтинг **-1**. Это будет их отличать от остального рейтинга игр;\n",
    "    5. `User_Score` — 6701 пропусков. Аналогично предыдущему выводу, мы заменим пропуски пользовательского рейтинга значением **-1**;\n",
    "    6. `Rating` —  6766 пропусков. Заменим отсутствующие значения рейтинга от организации **ESRB** на **NO_ESRB**.\n",
    "\n",
    "*Стоит отметить, что дословно утверждать о причинах пропусков не предсталяется возможным, т.к. мы не обладаем информацией какие столбцы заполнялись на основе технических подсчетов и формул (ошибки переноса), а какие человеком (человеческий фактор).*\n",
    "\n",
    "- Требуется замена типа данных в столбцах `Year_of_Release`, `Critic_Score` и `User_Score`."
   ]
  },
  {
   "cell_type": "markdown",
   "id": "8a7d5ee1",
   "metadata": {},
   "source": [
    "### Выводы"
   ]
  },
  {
   "cell_type": "markdown",
   "id": "9b20bbfc",
   "metadata": {},
   "source": [
    "В каждой строке таблицы — данные по играм. Часть колонок описывает саму игру и ее рейтинг, остальные данные рассказывают о ее продажах среди пользователей. Данные представлены за период 1980 по 2016 гг.\n",
    "\n",
    "Предварительно можно утверждать, что, данных достаточно для проведения анализа. Но встречаются нарушения стиля в названиях столбцов, пропуски в данных, а также были замечены аномалии и неверные типы данных.\n",
    "\n",
    "Чтобы двигаться дальше, нужно устранить проблемы в данных."
   ]
  },
  {
   "cell_type": "markdown",
   "id": "652c6438",
   "metadata": {},
   "source": [
    "## Предобработка данных"
   ]
  },
  {
   "cell_type": "markdown",
   "id": "ae3157f2",
   "metadata": {},
   "source": [
    "### Ошибки данных"
   ]
  },
  {
   "cell_type": "markdown",
   "id": "6ff56ab6",
   "metadata": {},
   "source": [
    "Исправим название столбцов методом `rename()`.\n",
    "- `Name` → `name`\n",
    "- `Platform` → `platform`\n",
    "- `Year_of_Release` → `year_of_release`\n",
    "- `Genre` → `genre`\n",
    "- `NA_sales` → `na_sales`\n",
    "- `EU_sales` → `eu_sales`\n",
    "- `JP_sales` → `jp_sales`\n",
    "- `Other_sales` → `other_sales`\n",
    "- `Critic_Score` → `critic_score`\n",
    "- `User_Score` → `user_score`\n",
    "- `Rating` → `rating`"
   ]
  },
  {
   "cell_type": "code",
   "execution_count": 8,
   "id": "2c8c93ab",
   "metadata": {},
   "outputs": [],
   "source": [
    "df.columns = df.columns.str.lower()"
   ]
  },
  {
   "cell_type": "markdown",
   "id": "288187d7",
   "metadata": {},
   "source": [
    "Проверим результат. Для этого выведем на экран названия столбцов:"
   ]
  },
  {
   "cell_type": "code",
   "execution_count": 9,
   "id": "788d6571",
   "metadata": {},
   "outputs": [
    {
     "data": {
      "text/plain": [
       "Index(['name', 'platform', 'year_of_release', 'genre', 'na_sales', 'eu_sales',\n",
       "       'jp_sales', 'other_sales', 'critic_score', 'user_score', 'rating'],\n",
       "      dtype='object')"
      ]
     },
     "execution_count": 9,
     "metadata": {},
     "output_type": "execute_result"
    }
   ],
   "source": [
    "df.columns # проверка результатов - перечень названий столбцов"
   ]
  },
  {
   "cell_type": "markdown",
   "id": "fdbde9d3",
   "metadata": {},
   "source": [
    "Заменим невыставленный рейтинг столбца `user_score` на нулевой `tbd` → `-1`."
   ]
  },
  {
   "cell_type": "code",
   "execution_count": 10,
   "id": "56324e96",
   "metadata": {},
   "outputs": [],
   "source": [
    "df['user_score'] = df['user_score'].str.replace('tbd', '-1') # замена значений"
   ]
  },
  {
   "cell_type": "markdown",
   "id": "676af663",
   "metadata": {},
   "source": [
    "Проверим работу кода, вызвав уникальные значения столбца `user_score`."
   ]
  },
  {
   "cell_type": "code",
   "execution_count": 11,
   "id": "c5feb15c",
   "metadata": {},
   "outputs": [
    {
     "data": {
      "text/plain": [
       "array(['-1', '0', '0.2', '0.3', '0.5', '0.6', '0.7', '0.9', '1', '1.1',\n",
       "       '1.2', '1.3', '1.4', '1.5', '1.6', '1.7', '1.8', '1.9', '2', '2.1',\n",
       "       '2.2', '2.3', '2.4', '2.5', '2.6', '2.7', '2.8', '2.9', '3', '3.1',\n",
       "       '3.2', '3.3', '3.4', '3.5', '3.6', '3.7', '3.8', '3.9', '4', '4.1',\n",
       "       '4.2', '4.3', '4.4', '4.5', '4.6', '4.7', '4.8', '4.9', '5', '5.1',\n",
       "       '5.2', '5.3', '5.4', '5.5', '5.6', '5.7', '5.8', '5.9', '6', '6.1',\n",
       "       '6.2', '6.3', '6.4', '6.5', '6.6', '6.7', '6.8', '6.9', '7', '7.1',\n",
       "       '7.2', '7.3', '7.4', '7.5', '7.6', '7.7', '7.8', '7.9', '8', '8.1',\n",
       "       '8.2', '8.3', '8.4', '8.5', '8.6', '8.7', '8.8', '8.9', '9', '9.1',\n",
       "       '9.2', '9.3', '9.4', '9.5', '9.6', '9.7', nan], dtype=object)"
      ]
     },
     "execution_count": 11,
     "metadata": {},
     "output_type": "execute_result"
    }
   ],
   "source": [
    "df['user_score'].sort_values().unique()"
   ]
  },
  {
   "cell_type": "markdown",
   "id": "9de025e9",
   "metadata": {},
   "source": [
    "Заменим устаревший рейтинг столбца `rating` на корректный `K-A` → `E`."
   ]
  },
  {
   "cell_type": "code",
   "execution_count": 12,
   "id": "6bc2767d",
   "metadata": {},
   "outputs": [],
   "source": [
    "df['rating'] = df['rating'].str.replace('K-A', 'E') # замена значений"
   ]
  },
  {
   "cell_type": "markdown",
   "id": "7c41741e",
   "metadata": {},
   "source": [
    "Проверим работу кода, вызвав уникальные значения столбца `rating`."
   ]
  },
  {
   "cell_type": "code",
   "execution_count": 13,
   "id": "066be093",
   "metadata": {},
   "outputs": [
    {
     "data": {
      "text/plain": [
       "array(['AO', 'E', 'E10+', 'EC', 'M', 'RP', 'T', nan], dtype=object)"
      ]
     },
     "execution_count": 13,
     "metadata": {},
     "output_type": "execute_result"
    }
   ],
   "source": [
    "df['rating'].sort_values().unique()"
   ]
  },
  {
   "cell_type": "markdown",
   "id": "ea399abe",
   "metadata": {},
   "source": [
    "### Заполнение пропусков"
   ]
  },
  {
   "cell_type": "markdown",
   "id": "29366eb6",
   "metadata": {},
   "source": [
    "Посмотрим на пустые значения столбцов `name` и `genre`."
   ]
  },
  {
   "cell_type": "code",
   "execution_count": 14,
   "id": "51cd4a66",
   "metadata": {},
   "outputs": [
    {
     "data": {
      "text/html": [
       "<div>\n",
       "<style scoped>\n",
       "    .dataframe tbody tr th:only-of-type {\n",
       "        vertical-align: middle;\n",
       "    }\n",
       "\n",
       "    .dataframe tbody tr th {\n",
       "        vertical-align: top;\n",
       "    }\n",
       "\n",
       "    .dataframe thead th {\n",
       "        text-align: right;\n",
       "    }\n",
       "</style>\n",
       "<table border=\"1\" class=\"dataframe\">\n",
       "  <thead>\n",
       "    <tr style=\"text-align: right;\">\n",
       "      <th></th>\n",
       "      <th>name</th>\n",
       "      <th>platform</th>\n",
       "      <th>year_of_release</th>\n",
       "      <th>genre</th>\n",
       "      <th>na_sales</th>\n",
       "      <th>eu_sales</th>\n",
       "      <th>jp_sales</th>\n",
       "      <th>other_sales</th>\n",
       "      <th>critic_score</th>\n",
       "      <th>user_score</th>\n",
       "      <th>rating</th>\n",
       "    </tr>\n",
       "  </thead>\n",
       "  <tbody>\n",
       "    <tr>\n",
       "      <th>659</th>\n",
       "      <td>NaN</td>\n",
       "      <td>GEN</td>\n",
       "      <td>1993.0</td>\n",
       "      <td>NaN</td>\n",
       "      <td>1.78</td>\n",
       "      <td>0.53</td>\n",
       "      <td>0.00</td>\n",
       "      <td>0.08</td>\n",
       "      <td>NaN</td>\n",
       "      <td>NaN</td>\n",
       "      <td>NaN</td>\n",
       "    </tr>\n",
       "    <tr>\n",
       "      <th>14244</th>\n",
       "      <td>NaN</td>\n",
       "      <td>GEN</td>\n",
       "      <td>1993.0</td>\n",
       "      <td>NaN</td>\n",
       "      <td>0.00</td>\n",
       "      <td>0.00</td>\n",
       "      <td>0.03</td>\n",
       "      <td>0.00</td>\n",
       "      <td>NaN</td>\n",
       "      <td>NaN</td>\n",
       "      <td>NaN</td>\n",
       "    </tr>\n",
       "  </tbody>\n",
       "</table>\n",
       "</div>"
      ],
      "text/plain": [
       "      name platform  year_of_release genre  na_sales  eu_sales  jp_sales  \\\n",
       "659    NaN      GEN           1993.0   NaN      1.78      0.53      0.00   \n",
       "14244  NaN      GEN           1993.0   NaN      0.00      0.00      0.03   \n",
       "\n",
       "       other_sales  critic_score user_score rating  \n",
       "659           0.08           NaN        NaN    NaN  \n",
       "14244         0.00           NaN        NaN    NaN  "
      ]
     },
     "execution_count": 14,
     "metadata": {},
     "output_type": "execute_result"
    }
   ],
   "source": [
    "df.query('name != name and genre != genre')"
   ]
  },
  {
   "cell_type": "markdown",
   "id": "bf6187cb",
   "metadata": {},
   "source": [
    "Избавимся от пустых значений в силу их неопределенности и неинформативности."
   ]
  },
  {
   "cell_type": "code",
   "execution_count": 15,
   "id": "4e819282",
   "metadata": {},
   "outputs": [],
   "source": [
    "df = df.dropna(subset=['name', 'genre'])"
   ]
  },
  {
   "cell_type": "markdown",
   "id": "3d03c668",
   "metadata": {},
   "source": [
    "Определим долю пропущенных значений среди всех данных. Для этого достаточно двух методов pandas:"
   ]
  },
  {
   "cell_type": "code",
   "execution_count": 16,
   "id": "e80c46a2",
   "metadata": {},
   "outputs": [
    {
     "data": {
      "text/plain": [
       "name               0.000000\n",
       "platform           0.000000\n",
       "year_of_release    0.016095\n",
       "genre              0.000000\n",
       "na_sales           0.000000\n",
       "eu_sales           0.000000\n",
       "jp_sales           0.000000\n",
       "other_sales        0.000000\n",
       "critic_score       0.513133\n",
       "user_score         0.400826\n",
       "rating             0.404715\n",
       "dtype: float64"
      ]
     },
     "execution_count": 16,
     "metadata": {},
     "output_type": "execute_result"
    }
   ],
   "source": [
    "df.isna().mean() # подсчет доли пропущенных значений"
   ]
  },
  {
   "cell_type": "markdown",
   "id": "153a2c8b",
   "metadata": {},
   "source": [
    "Пропуски в столбце `year_of_release` занимают 1,6% от общей выборки и могут быть по двум причинам:\n",
    "1. Игра еще не вышла и неизвестно когда она выйдет;\n",
    "2. Игра вышла, но при переносе информации произошла ошибка.\n",
    "\n",
    "В силу немногочисленности пропусков - сделаем исключение из выборки."
   ]
  },
  {
   "cell_type": "code",
   "execution_count": 17,
   "id": "c1269102",
   "metadata": {},
   "outputs": [],
   "source": [
    "df = df.dropna(subset=['year_of_release'])"
   ]
  },
  {
   "cell_type": "markdown",
   "id": "1ecc96c4",
   "metadata": {},
   "source": [
    "Убедимся, что пустых значений не осталось:"
   ]
  },
  {
   "cell_type": "code",
   "execution_count": 18,
   "id": "29905653",
   "metadata": {
    "scrolled": false
   },
   "outputs": [
    {
     "data": {
      "text/plain": [
       "array([1980., 1981., 1982., 1983., 1984., 1985., 1986., 1987., 1988.,\n",
       "       1989., 1990., 1991., 1992., 1993., 1994., 1995., 1996., 1997.,\n",
       "       1998., 1999., 2000., 2001., 2002., 2003., 2004., 2005., 2006.,\n",
       "       2007., 2008., 2009., 2010., 2011., 2012., 2013., 2014., 2015.,\n",
       "       2016.])"
      ]
     },
     "execution_count": 18,
     "metadata": {},
     "output_type": "execute_result"
    }
   ],
   "source": [
    "df['year_of_release'].sort_values().unique()"
   ]
  },
  {
   "cell_type": "markdown",
   "id": "1c0d673d",
   "metadata": {},
   "source": [
    "В столбце `rating` отображены значения рейтинга от организации **ESRB**. Пропуски составляют около 40%. Возможно на каких то платформах рейтинг еще не выставлен, либо по каким-то причинам не выставляется вовсе. Стоит также заметить, что рейтинг **ESRB** популярен в Северной Америке, в то время как в Европе отдают предпочтение **PEGI**, а в Японии — **CERO**. Вообще в каждом регионе, у каждой компании могут быть свои рейтинги помимо общепринятых. Поэтому причину пропусков стоило бы уточнить у первоисточника таблицы. В рамках нашей задачи заменим отсутствующие значения на `NO_ESRB`."
   ]
  },
  {
   "cell_type": "code",
   "execution_count": 19,
   "id": "7a71059d",
   "metadata": {},
   "outputs": [],
   "source": [
    "df['rating'] = df['rating'].fillna('NO_ESRB')"
   ]
  },
  {
   "cell_type": "markdown",
   "id": "320bbfcb",
   "metadata": {},
   "source": [
    "В столбцах `critic_score` и `user_score` около 50% и 40% пропусков. Вероятно эти игры не оценивались, либо при переносе данных произошла ошибка. Заполнение пустых значений средним или медианой исказит результаты анализа для каждого жанра в отдельности. И поскольку мы не можем оставлять их пустыми, поставим этим играм рейтинг `-1`. Это будет их отличать от остального рейтинга игр."
   ]
  },
  {
   "cell_type": "code",
   "execution_count": 20,
   "id": "a5beec37",
   "metadata": {},
   "outputs": [],
   "source": [
    "df['critic_score'] = df['critic_score'].fillna(-1)"
   ]
  },
  {
   "cell_type": "code",
   "execution_count": 21,
   "id": "65887f0f",
   "metadata": {},
   "outputs": [],
   "source": [
    "df['user_score'] = df['user_score'].fillna(-1)"
   ]
  },
  {
   "cell_type": "markdown",
   "id": "f817d46d",
   "metadata": {},
   "source": [
    "Убедимся, что в таблице не осталось пропусков. Для этого посчитаем пропущенные значения."
   ]
  },
  {
   "cell_type": "code",
   "execution_count": 22,
   "id": "849d77c1",
   "metadata": {},
   "outputs": [
    {
     "data": {
      "text/plain": [
       "name               0\n",
       "platform           0\n",
       "year_of_release    0\n",
       "genre              0\n",
       "na_sales           0\n",
       "eu_sales           0\n",
       "jp_sales           0\n",
       "other_sales        0\n",
       "critic_score       0\n",
       "user_score         0\n",
       "rating             0\n",
       "dtype: int64"
      ]
     },
     "execution_count": 22,
     "metadata": {},
     "output_type": "execute_result"
    }
   ],
   "source": [
    "df.isna().sum() # подсчет пропусков"
   ]
  },
  {
   "cell_type": "markdown",
   "id": "da51aca0",
   "metadata": {},
   "source": [
    "### Изменение типов данных"
   ]
  },
  {
   "cell_type": "markdown",
   "id": "52d57bbe",
   "metadata": {},
   "source": [
    "Ранее мы опеределили столбцы для которых необходима замена типов данных:\n",
    "- `year_of_release`\n",
    "- `critic_score`\n",
    "- `user_score`"
   ]
  },
  {
   "cell_type": "code",
   "execution_count": 23,
   "id": "07b96b2c",
   "metadata": {},
   "outputs": [],
   "source": [
    "df['year_of_release'] = pd.to_datetime(df['year_of_release'], format='%Y').dt.year"
   ]
  },
  {
   "cell_type": "code",
   "execution_count": 24,
   "id": "cbed29f9",
   "metadata": {},
   "outputs": [],
   "source": [
    "df['critic_score'] = df['critic_score'].astype('float')"
   ]
  },
  {
   "cell_type": "code",
   "execution_count": 25,
   "id": "8b8a2cea",
   "metadata": {},
   "outputs": [],
   "source": [
    "df['user_score'] = df['user_score'].astype('float')"
   ]
  },
  {
   "cell_type": "markdown",
   "id": "53462066",
   "metadata": {},
   "source": [
    "Проверим типы данных после изменения."
   ]
  },
  {
   "cell_type": "code",
   "execution_count": 26,
   "id": "a185a7f1",
   "metadata": {},
   "outputs": [
    {
     "name": "stdout",
     "output_type": "stream",
     "text": [
      "<class 'pandas.core.frame.DataFrame'>\n",
      "Int64Index: 16444 entries, 0 to 16714\n",
      "Data columns (total 11 columns):\n",
      " #   Column           Non-Null Count  Dtype  \n",
      "---  ------           --------------  -----  \n",
      " 0   name             16444 non-null  object \n",
      " 1   platform         16444 non-null  object \n",
      " 2   year_of_release  16444 non-null  int64  \n",
      " 3   genre            16444 non-null  object \n",
      " 4   na_sales         16444 non-null  float64\n",
      " 5   eu_sales         16444 non-null  float64\n",
      " 6   jp_sales         16444 non-null  float64\n",
      " 7   other_sales      16444 non-null  float64\n",
      " 8   critic_score     16444 non-null  float64\n",
      " 9   user_score       16444 non-null  float64\n",
      " 10  rating           16444 non-null  object \n",
      "dtypes: float64(6), int64(1), object(4)\n",
      "memory usage: 1.5+ MB\n"
     ]
    }
   ],
   "source": [
    "df.info()"
   ]
  },
  {
   "cell_type": "markdown",
   "id": "590d1dc7",
   "metadata": {},
   "source": [
    "### Дополнительные расчеты"
   ]
  },
  {
   "cell_type": "markdown",
   "id": "3cd1823a",
   "metadata": {},
   "source": [
    "Посчитаем глобальные продажи во всех регионах и запишем их в отдельный столбец."
   ]
  },
  {
   "cell_type": "code",
   "execution_count": 27,
   "id": "cf702d33",
   "metadata": {},
   "outputs": [],
   "source": [
    "df['total_sales'] = df[['na_sales','eu_sales','jp_sales', 'other_sales']].sum(axis=1)"
   ]
  },
  {
   "cell_type": "markdown",
   "id": "3643a63c",
   "metadata": {},
   "source": [
    "Исследуем полученную таблицу с помощью функции `first_look`."
   ]
  },
  {
   "cell_type": "code",
   "execution_count": 28,
   "id": "f6748ad5",
   "metadata": {
    "scrolled": true
   },
   "outputs": [
    {
     "name": "stdout",
     "output_type": "stream",
     "text": [
      "****************************************\n",
      "Первые 5 строк\n",
      "****************************************\n"
     ]
    },
    {
     "data": {
      "text/html": [
       "<div>\n",
       "<style scoped>\n",
       "    .dataframe tbody tr th:only-of-type {\n",
       "        vertical-align: middle;\n",
       "    }\n",
       "\n",
       "    .dataframe tbody tr th {\n",
       "        vertical-align: top;\n",
       "    }\n",
       "\n",
       "    .dataframe thead th {\n",
       "        text-align: right;\n",
       "    }\n",
       "</style>\n",
       "<table border=\"1\" class=\"dataframe\">\n",
       "  <thead>\n",
       "    <tr style=\"text-align: right;\">\n",
       "      <th></th>\n",
       "      <th>name</th>\n",
       "      <th>platform</th>\n",
       "      <th>year_of_release</th>\n",
       "      <th>genre</th>\n",
       "      <th>na_sales</th>\n",
       "      <th>eu_sales</th>\n",
       "      <th>jp_sales</th>\n",
       "      <th>other_sales</th>\n",
       "      <th>critic_score</th>\n",
       "      <th>user_score</th>\n",
       "      <th>rating</th>\n",
       "      <th>total_sales</th>\n",
       "    </tr>\n",
       "  </thead>\n",
       "  <tbody>\n",
       "    <tr>\n",
       "      <th>0</th>\n",
       "      <td>Wii Sports</td>\n",
       "      <td>Wii</td>\n",
       "      <td>2006</td>\n",
       "      <td>Sports</td>\n",
       "      <td>41.36</td>\n",
       "      <td>28.96</td>\n",
       "      <td>3.77</td>\n",
       "      <td>8.45</td>\n",
       "      <td>76.0</td>\n",
       "      <td>8.0</td>\n",
       "      <td>E</td>\n",
       "      <td>82.54</td>\n",
       "    </tr>\n",
       "    <tr>\n",
       "      <th>1</th>\n",
       "      <td>Super Mario Bros.</td>\n",
       "      <td>NES</td>\n",
       "      <td>1985</td>\n",
       "      <td>Platform</td>\n",
       "      <td>29.08</td>\n",
       "      <td>3.58</td>\n",
       "      <td>6.81</td>\n",
       "      <td>0.77</td>\n",
       "      <td>-1.0</td>\n",
       "      <td>-1.0</td>\n",
       "      <td>NO_ESRB</td>\n",
       "      <td>40.24</td>\n",
       "    </tr>\n",
       "    <tr>\n",
       "      <th>2</th>\n",
       "      <td>Mario Kart Wii</td>\n",
       "      <td>Wii</td>\n",
       "      <td>2008</td>\n",
       "      <td>Racing</td>\n",
       "      <td>15.68</td>\n",
       "      <td>12.76</td>\n",
       "      <td>3.79</td>\n",
       "      <td>3.29</td>\n",
       "      <td>82.0</td>\n",
       "      <td>8.3</td>\n",
       "      <td>E</td>\n",
       "      <td>35.52</td>\n",
       "    </tr>\n",
       "    <tr>\n",
       "      <th>3</th>\n",
       "      <td>Wii Sports Resort</td>\n",
       "      <td>Wii</td>\n",
       "      <td>2009</td>\n",
       "      <td>Sports</td>\n",
       "      <td>15.61</td>\n",
       "      <td>10.93</td>\n",
       "      <td>3.28</td>\n",
       "      <td>2.95</td>\n",
       "      <td>80.0</td>\n",
       "      <td>8.0</td>\n",
       "      <td>E</td>\n",
       "      <td>32.77</td>\n",
       "    </tr>\n",
       "    <tr>\n",
       "      <th>4</th>\n",
       "      <td>Pokemon Red/Pokemon Blue</td>\n",
       "      <td>GB</td>\n",
       "      <td>1996</td>\n",
       "      <td>Role-Playing</td>\n",
       "      <td>11.27</td>\n",
       "      <td>8.89</td>\n",
       "      <td>10.22</td>\n",
       "      <td>1.00</td>\n",
       "      <td>-1.0</td>\n",
       "      <td>-1.0</td>\n",
       "      <td>NO_ESRB</td>\n",
       "      <td>31.38</td>\n",
       "    </tr>\n",
       "  </tbody>\n",
       "</table>\n",
       "</div>"
      ],
      "text/plain": [
       "                       name platform  year_of_release         genre  na_sales  \\\n",
       "0                Wii Sports      Wii             2006        Sports     41.36   \n",
       "1         Super Mario Bros.      NES             1985      Platform     29.08   \n",
       "2            Mario Kart Wii      Wii             2008        Racing     15.68   \n",
       "3         Wii Sports Resort      Wii             2009        Sports     15.61   \n",
       "4  Pokemon Red/Pokemon Blue       GB             1996  Role-Playing     11.27   \n",
       "\n",
       "   eu_sales  jp_sales  other_sales  critic_score  user_score   rating  \\\n",
       "0     28.96      3.77         8.45          76.0         8.0        E   \n",
       "1      3.58      6.81         0.77          -1.0        -1.0  NO_ESRB   \n",
       "2     12.76      3.79         3.29          82.0         8.3        E   \n",
       "3     10.93      3.28         2.95          80.0         8.0        E   \n",
       "4      8.89     10.22         1.00          -1.0        -1.0  NO_ESRB   \n",
       "\n",
       "   total_sales  \n",
       "0        82.54  \n",
       "1        40.24  \n",
       "2        35.52  \n",
       "3        32.77  \n",
       "4        31.38  "
      ]
     },
     "metadata": {},
     "output_type": "display_data"
    },
    {
     "name": "stdout",
     "output_type": "stream",
     "text": [
      "\n",
      "\n",
      "****************************************\n",
      "Общая информация о таблице\n",
      "****************************************\n",
      "<class 'pandas.core.frame.DataFrame'>\n",
      "Int64Index: 16444 entries, 0 to 16714\n",
      "Data columns (total 12 columns):\n",
      " #   Column           Non-Null Count  Dtype  \n",
      "---  ------           --------------  -----  \n",
      " 0   name             16444 non-null  object \n",
      " 1   platform         16444 non-null  object \n",
      " 2   year_of_release  16444 non-null  int64  \n",
      " 3   genre            16444 non-null  object \n",
      " 4   na_sales         16444 non-null  float64\n",
      " 5   eu_sales         16444 non-null  float64\n",
      " 6   jp_sales         16444 non-null  float64\n",
      " 7   other_sales      16444 non-null  float64\n",
      " 8   critic_score     16444 non-null  float64\n",
      " 9   user_score       16444 non-null  float64\n",
      " 10  rating           16444 non-null  object \n",
      " 11  total_sales      16444 non-null  float64\n",
      "dtypes: float64(7), int64(1), object(4)\n",
      "memory usage: 1.6+ MB\n",
      "\n",
      "\n",
      "****************************************\n",
      "Пропуски\n",
      "****************************************\n",
      "Пропусков НЕТ\n",
      "\n",
      "\n",
      "****************************************\n",
      "Дубликаты\n",
      "****************************************\n",
      "Дубликатов НЕТ\n",
      "\n",
      "\n"
     ]
    }
   ],
   "source": [
    "first_look(df)"
   ]
  },
  {
   "cell_type": "markdown",
   "id": "96bd7088",
   "metadata": {},
   "source": [
    "### Выводы по предобработке данных"
   ]
  },
  {
   "cell_type": "markdown",
   "id": "6a59916f",
   "metadata": {},
   "source": [
    "Предобработка обнаружила 3 проблемы в данных, которые мы в процессе исправили:\n",
    "\n",
    "- Ошибки названий;\n",
    "- Пропущенные значения;\n",
    "- Неверные типы данных.\n",
    "\n",
    "Кроме этого мы провели дополнительные расчеты по глобальным продажам во всех регионах, что существенно упростит дальнейший анализ и поможет найти ответы на поставленные вопросы.\n",
    "\n",
    "Теперь можно перейти к анализу данных."
   ]
  },
  {
   "cell_type": "markdown",
   "id": "baf8db54",
   "metadata": {},
   "source": [
    "## Анализ данных"
   ]
  },
  {
   "cell_type": "markdown",
   "id": "75bd5fdc",
   "metadata": {},
   "source": [
    "Для дальнейшего анализа воспользуемся функцией `hist_maker`. Она позволит нам визуализировать данные с помощью графиков."
   ]
  },
  {
   "cell_type": "markdown",
   "id": "6eb06a19",
   "metadata": {},
   "source": [
    "### Анализ выпущенных игр в разные годы"
   ]
  },
  {
   "cell_type": "markdown",
   "id": "c2863a3f",
   "metadata": {},
   "source": [
    "Изучим данные по выпущенным играм в каждый год с помощью функции `hist_maker`."
   ]
  },
  {
   "cell_type": "code",
   "execution_count": 29,
   "id": "fdb54fa0",
   "metadata": {},
   "outputs": [
    {
     "data": {
      "text/html": [
       "<div>\n",
       "<style scoped>\n",
       "    .dataframe tbody tr th:only-of-type {\n",
       "        vertical-align: middle;\n",
       "    }\n",
       "\n",
       "    .dataframe tbody tr th {\n",
       "        vertical-align: top;\n",
       "    }\n",
       "\n",
       "    .dataframe thead th {\n",
       "        text-align: right;\n",
       "    }\n",
       "</style>\n",
       "<table border=\"1\" class=\"dataframe\">\n",
       "  <thead>\n",
       "    <tr style=\"text-align: right;\">\n",
       "      <th></th>\n",
       "      <th>count</th>\n",
       "      <th>unique</th>\n",
       "      <th>top</th>\n",
       "      <th>freq</th>\n",
       "    </tr>\n",
       "    <tr>\n",
       "      <th>year_of_release</th>\n",
       "      <th></th>\n",
       "      <th></th>\n",
       "      <th></th>\n",
       "      <th></th>\n",
       "    </tr>\n",
       "  </thead>\n",
       "  <tbody>\n",
       "    <tr>\n",
       "      <th>1980</th>\n",
       "      <td>9</td>\n",
       "      <td>9</td>\n",
       "      <td>Asteroids</td>\n",
       "      <td>1</td>\n",
       "    </tr>\n",
       "    <tr>\n",
       "      <th>1981</th>\n",
       "      <td>46</td>\n",
       "      <td>46</td>\n",
       "      <td>Pitfall!</td>\n",
       "      <td>1</td>\n",
       "    </tr>\n",
       "    <tr>\n",
       "      <th>1982</th>\n",
       "      <td>36</td>\n",
       "      <td>36</td>\n",
       "      <td>Pac-Man</td>\n",
       "      <td>1</td>\n",
       "    </tr>\n",
       "    <tr>\n",
       "      <th>1983</th>\n",
       "      <td>17</td>\n",
       "      <td>17</td>\n",
       "      <td>Baseball</td>\n",
       "      <td>1</td>\n",
       "    </tr>\n",
       "    <tr>\n",
       "      <th>1984</th>\n",
       "      <td>14</td>\n",
       "      <td>14</td>\n",
       "      <td>Duck Hunt</td>\n",
       "      <td>1</td>\n",
       "    </tr>\n",
       "    <tr>\n",
       "      <th>1985</th>\n",
       "      <td>14</td>\n",
       "      <td>14</td>\n",
       "      <td>Super Mario Bros.</td>\n",
       "      <td>1</td>\n",
       "    </tr>\n",
       "    <tr>\n",
       "      <th>1986</th>\n",
       "      <td>21</td>\n",
       "      <td>21</td>\n",
       "      <td>The Legend of Zelda</td>\n",
       "      <td>1</td>\n",
       "    </tr>\n",
       "    <tr>\n",
       "      <th>1987</th>\n",
       "      <td>16</td>\n",
       "      <td>16</td>\n",
       "      <td>Zelda II: The Adventure of Link</td>\n",
       "      <td>1</td>\n",
       "    </tr>\n",
       "    <tr>\n",
       "      <th>1988</th>\n",
       "      <td>15</td>\n",
       "      <td>15</td>\n",
       "      <td>Super Mario Bros. 3</td>\n",
       "      <td>1</td>\n",
       "    </tr>\n",
       "    <tr>\n",
       "      <th>1989</th>\n",
       "      <td>17</td>\n",
       "      <td>17</td>\n",
       "      <td>Tetris</td>\n",
       "      <td>1</td>\n",
       "    </tr>\n",
       "    <tr>\n",
       "      <th>1990</th>\n",
       "      <td>16</td>\n",
       "      <td>16</td>\n",
       "      <td>Super Mario World</td>\n",
       "      <td>1</td>\n",
       "    </tr>\n",
       "    <tr>\n",
       "      <th>1991</th>\n",
       "      <td>41</td>\n",
       "      <td>40</td>\n",
       "      <td>Yoshi</td>\n",
       "      <td>2</td>\n",
       "    </tr>\n",
       "    <tr>\n",
       "      <th>1992</th>\n",
       "      <td>43</td>\n",
       "      <td>41</td>\n",
       "      <td>Teenage Mutant Ninja Turtles: Tournament Fighters</td>\n",
       "      <td>2</td>\n",
       "    </tr>\n",
       "    <tr>\n",
       "      <th>1993</th>\n",
       "      <td>60</td>\n",
       "      <td>59</td>\n",
       "      <td>Super Street Fighter II</td>\n",
       "      <td>2</td>\n",
       "    </tr>\n",
       "    <tr>\n",
       "      <th>1994</th>\n",
       "      <td>121</td>\n",
       "      <td>117</td>\n",
       "      <td>Theme Park</td>\n",
       "      <td>2</td>\n",
       "    </tr>\n",
       "    <tr>\n",
       "      <th>1995</th>\n",
       "      <td>219</td>\n",
       "      <td>215</td>\n",
       "      <td>Detana TwinBee Yahho! Deluxe Pack</td>\n",
       "      <td>2</td>\n",
       "    </tr>\n",
       "    <tr>\n",
       "      <th>1996</th>\n",
       "      <td>263</td>\n",
       "      <td>258</td>\n",
       "      <td>Tokimeki Memorial: Taisen Pazurudama</td>\n",
       "      <td>2</td>\n",
       "    </tr>\n",
       "    <tr>\n",
       "      <th>1997</th>\n",
       "      <td>289</td>\n",
       "      <td>282</td>\n",
       "      <td>Mortal Kombat Mythologies: Sub-Zero</td>\n",
       "      <td>2</td>\n",
       "    </tr>\n",
       "    <tr>\n",
       "      <th>1998</th>\n",
       "      <td>379</td>\n",
       "      <td>364</td>\n",
       "      <td>The King of Fighters '97</td>\n",
       "      <td>2</td>\n",
       "    </tr>\n",
       "    <tr>\n",
       "      <th>1999</th>\n",
       "      <td>338</td>\n",
       "      <td>326</td>\n",
       "      <td>Hot Wheels Turbo Racing</td>\n",
       "      <td>2</td>\n",
       "    </tr>\n",
       "    <tr>\n",
       "      <th>2000</th>\n",
       "      <td>350</td>\n",
       "      <td>325</td>\n",
       "      <td>Madden NFL 2001</td>\n",
       "      <td>3</td>\n",
       "    </tr>\n",
       "    <tr>\n",
       "      <th>2001</th>\n",
       "      <td>482</td>\n",
       "      <td>428</td>\n",
       "      <td>Madden NFL 2002</td>\n",
       "      <td>5</td>\n",
       "    </tr>\n",
       "    <tr>\n",
       "      <th>2002</th>\n",
       "      <td>829</td>\n",
       "      <td>631</td>\n",
       "      <td>Harry Potter and the Chamber of Secrets</td>\n",
       "      <td>6</td>\n",
       "    </tr>\n",
       "    <tr>\n",
       "      <th>2003</th>\n",
       "      <td>775</td>\n",
       "      <td>546</td>\n",
       "      <td>Need for Speed Underground</td>\n",
       "      <td>5</td>\n",
       "    </tr>\n",
       "    <tr>\n",
       "      <th>2004</th>\n",
       "      <td>762</td>\n",
       "      <td>550</td>\n",
       "      <td>Spider-Man 2</td>\n",
       "      <td>5</td>\n",
       "    </tr>\n",
       "    <tr>\n",
       "      <th>2005</th>\n",
       "      <td>939</td>\n",
       "      <td>657</td>\n",
       "      <td>Need for Speed: Most Wanted</td>\n",
       "      <td>7</td>\n",
       "    </tr>\n",
       "    <tr>\n",
       "      <th>2006</th>\n",
       "      <td>1006</td>\n",
       "      <td>773</td>\n",
       "      <td>Cars</td>\n",
       "      <td>8</td>\n",
       "    </tr>\n",
       "    <tr>\n",
       "      <th>2007</th>\n",
       "      <td>1197</td>\n",
       "      <td>884</td>\n",
       "      <td>Ratatouille</td>\n",
       "      <td>9</td>\n",
       "    </tr>\n",
       "    <tr>\n",
       "      <th>2008</th>\n",
       "      <td>1427</td>\n",
       "      <td>1039</td>\n",
       "      <td>Wall-E</td>\n",
       "      <td>7</td>\n",
       "    </tr>\n",
       "    <tr>\n",
       "      <th>2009</th>\n",
       "      <td>1426</td>\n",
       "      <td>1001</td>\n",
       "      <td>Harry Potter and the Half-Blood Prince</td>\n",
       "      <td>7</td>\n",
       "    </tr>\n",
       "    <tr>\n",
       "      <th>2010</th>\n",
       "      <td>1255</td>\n",
       "      <td>900</td>\n",
       "      <td>FIFA Soccer 11</td>\n",
       "      <td>7</td>\n",
       "    </tr>\n",
       "    <tr>\n",
       "      <th>2011</th>\n",
       "      <td>1136</td>\n",
       "      <td>779</td>\n",
       "      <td>Major League Baseball 2K11</td>\n",
       "      <td>7</td>\n",
       "    </tr>\n",
       "    <tr>\n",
       "      <th>2012</th>\n",
       "      <td>653</td>\n",
       "      <td>446</td>\n",
       "      <td>FIFA Soccer 13</td>\n",
       "      <td>8</td>\n",
       "    </tr>\n",
       "    <tr>\n",
       "      <th>2013</th>\n",
       "      <td>544</td>\n",
       "      <td>335</td>\n",
       "      <td>LEGO Marvel Super Heroes</td>\n",
       "      <td>9</td>\n",
       "    </tr>\n",
       "    <tr>\n",
       "      <th>2014</th>\n",
       "      <td>581</td>\n",
       "      <td>319</td>\n",
       "      <td>The LEGO Movie Videogame</td>\n",
       "      <td>8</td>\n",
       "    </tr>\n",
       "    <tr>\n",
       "      <th>2015</th>\n",
       "      <td>606</td>\n",
       "      <td>362</td>\n",
       "      <td>LEGO Jurassic World</td>\n",
       "      <td>8</td>\n",
       "    </tr>\n",
       "    <tr>\n",
       "      <th>2016</th>\n",
       "      <td>502</td>\n",
       "      <td>297</td>\n",
       "      <td>LEGO Marvel's Avengers</td>\n",
       "      <td>7</td>\n",
       "    </tr>\n",
       "  </tbody>\n",
       "</table>\n",
       "</div>"
      ],
      "text/plain": [
       "                count unique  \\\n",
       "year_of_release                \n",
       "1980                9      9   \n",
       "1981               46     46   \n",
       "1982               36     36   \n",
       "1983               17     17   \n",
       "1984               14     14   \n",
       "1985               14     14   \n",
       "1986               21     21   \n",
       "1987               16     16   \n",
       "1988               15     15   \n",
       "1989               17     17   \n",
       "1990               16     16   \n",
       "1991               41     40   \n",
       "1992               43     41   \n",
       "1993               60     59   \n",
       "1994              121    117   \n",
       "1995              219    215   \n",
       "1996              263    258   \n",
       "1997              289    282   \n",
       "1998              379    364   \n",
       "1999              338    326   \n",
       "2000              350    325   \n",
       "2001              482    428   \n",
       "2002              829    631   \n",
       "2003              775    546   \n",
       "2004              762    550   \n",
       "2005              939    657   \n",
       "2006             1006    773   \n",
       "2007             1197    884   \n",
       "2008             1427   1039   \n",
       "2009             1426   1001   \n",
       "2010             1255    900   \n",
       "2011             1136    779   \n",
       "2012              653    446   \n",
       "2013              544    335   \n",
       "2014              581    319   \n",
       "2015              606    362   \n",
       "2016              502    297   \n",
       "\n",
       "                                                               top freq  \n",
       "year_of_release                                                          \n",
       "1980                                                     Asteroids    1  \n",
       "1981                                                      Pitfall!    1  \n",
       "1982                                                       Pac-Man    1  \n",
       "1983                                                      Baseball    1  \n",
       "1984                                                     Duck Hunt    1  \n",
       "1985                                             Super Mario Bros.    1  \n",
       "1986                                           The Legend of Zelda    1  \n",
       "1987                               Zelda II: The Adventure of Link    1  \n",
       "1988                                           Super Mario Bros. 3    1  \n",
       "1989                                                        Tetris    1  \n",
       "1990                                             Super Mario World    1  \n",
       "1991                                                         Yoshi    2  \n",
       "1992             Teenage Mutant Ninja Turtles: Tournament Fighters    2  \n",
       "1993                                       Super Street Fighter II    2  \n",
       "1994                                                    Theme Park    2  \n",
       "1995                             Detana TwinBee Yahho! Deluxe Pack    2  \n",
       "1996                          Tokimeki Memorial: Taisen Pazurudama    2  \n",
       "1997                           Mortal Kombat Mythologies: Sub-Zero    2  \n",
       "1998                                      The King of Fighters '97    2  \n",
       "1999                                       Hot Wheels Turbo Racing    2  \n",
       "2000                                               Madden NFL 2001    3  \n",
       "2001                                               Madden NFL 2002    5  \n",
       "2002                       Harry Potter and the Chamber of Secrets    6  \n",
       "2003                                    Need for Speed Underground    5  \n",
       "2004                                                  Spider-Man 2    5  \n",
       "2005                                   Need for Speed: Most Wanted    7  \n",
       "2006                                                          Cars    8  \n",
       "2007                                                   Ratatouille    9  \n",
       "2008                                                        Wall-E    7  \n",
       "2009                        Harry Potter and the Half-Blood Prince    7  \n",
       "2010                                                FIFA Soccer 11    7  \n",
       "2011                                    Major League Baseball 2K11    7  \n",
       "2012                                                FIFA Soccer 13    8  \n",
       "2013                                      LEGO Marvel Super Heroes    9  \n",
       "2014                                      The LEGO Movie Videogame    8  \n",
       "2015                                           LEGO Jurassic World    8  \n",
       "2016                                        LEGO Marvel's Avengers    7  "
      ]
     },
     "metadata": {},
     "output_type": "display_data"
    },
    {
     "data": {
      "image/png": "[encoded data removed]",
      "text/plain": [
       "<Figure size 1080x360 with 1 Axes>"
      ]
     },
     "metadata": {
      "needs_background": "light"
     },
     "output_type": "display_data"
    }
   ],
   "source": [
    "hist_maker('year_of_release', 'count')"
   ]
  },
  {
   "cell_type": "markdown",
   "id": "97168703",
   "metadata": {},
   "source": [
    "Мы видим, что с момента выхода первых игр в 1980 году и до 2008 года наблюдался стабильный рост производства игр, а начиная с 2009 года наблюдается спад. Частично можно это связать с развитием социальных сетей, интернет-пространств. Кроме того игры с годами стали сложнее и масштабнее и требуют больших трудозатрат на производство, и, как следствие, больше времени на разработку."
   ]
  },
  {
   "cell_type": "code",
   "execution_count": 30,
   "id": "95279f45",
   "metadata": {
    "scrolled": true
   },
   "outputs": [
    {
     "data": {
      "text/html": [
       "<img src=\"https://i.pinimg.com/originals/11/84/ca/1184ca744027d697454a5979afc18f73.png\" width=\"500\"/>"
      ],
      "text/plain": [
       "<IPython.core.display.Image object>"
      ]
     },
     "metadata": {},
     "output_type": "display_data"
    }
   ],
   "source": [
    "display(Image(url='https://i.pinimg.com/originals/11/84/ca/1184ca744027d697454a5979afc18f73.png', width = 500))"
   ]
  },
  {
   "cell_type": "markdown",
   "id": "33f8e919",
   "metadata": {},
   "source": [
    "**Важны ли данные за все периоды?** Определенно да. Главная цель нашего анализа выявить закономерности, влияющие на успешность игры. Развитие игровой индустрии во многом задавалось на ранних годах производства. В последующие годы мы видим совершенствование, но не создание принципиально новых продуктов.\n",
    "Старые игры безусловно уступают современным по части графики и масштабности, но все еще могут соревноваться по оптимизации, диалогам, сюжету, критическому мышлению~~, никаких микротранзакций и платных DLC~~ :)"
   ]
  },
  {
   "cell_type": "markdown",
   "id": "ef9e5352",
   "metadata": {},
   "source": [
    "Поэтому стоит обратить внимание на наиболее продаваемые игры каждого года."
   ]
  },
  {
   "cell_type": "code",
   "execution_count": 31,
   "id": "0fd94da3",
   "metadata": {},
   "outputs": [
    {
     "data": {
      "text/html": [
       "<div>\n",
       "<style scoped>\n",
       "    .dataframe tbody tr th:only-of-type {\n",
       "        vertical-align: middle;\n",
       "    }\n",
       "\n",
       "    .dataframe tbody tr th {\n",
       "        vertical-align: top;\n",
       "    }\n",
       "\n",
       "    .dataframe thead th {\n",
       "        text-align: right;\n",
       "    }\n",
       "</style>\n",
       "<table border=\"1\" class=\"dataframe\">\n",
       "  <thead>\n",
       "    <tr style=\"text-align: right;\">\n",
       "      <th></th>\n",
       "      <th>name</th>\n",
       "      <th>platform</th>\n",
       "      <th>year_of_release</th>\n",
       "      <th>genre</th>\n",
       "      <th>na_sales</th>\n",
       "      <th>eu_sales</th>\n",
       "      <th>jp_sales</th>\n",
       "      <th>other_sales</th>\n",
       "      <th>critic_score</th>\n",
       "      <th>user_score</th>\n",
       "      <th>rating</th>\n",
       "      <th>total_sales</th>\n",
       "    </tr>\n",
       "  </thead>\n",
       "  <tbody>\n",
       "    <tr>\n",
       "      <th>262</th>\n",
       "      <td>Asteroids</td>\n",
       "      <td>2600</td>\n",
       "      <td>1980</td>\n",
       "      <td>Shooter</td>\n",
       "      <td>4.00</td>\n",
       "      <td>0.26</td>\n",
       "      <td>0.00</td>\n",
       "      <td>0.05</td>\n",
       "      <td>-1.0</td>\n",
       "      <td>-1.0</td>\n",
       "      <td>NO_ESRB</td>\n",
       "      <td>4.31</td>\n",
       "    </tr>\n",
       "    <tr>\n",
       "      <th>240</th>\n",
       "      <td>Pitfall!</td>\n",
       "      <td>2600</td>\n",
       "      <td>1981</td>\n",
       "      <td>Platform</td>\n",
       "      <td>4.21</td>\n",
       "      <td>0.24</td>\n",
       "      <td>0.00</td>\n",
       "      <td>0.05</td>\n",
       "      <td>-1.0</td>\n",
       "      <td>-1.0</td>\n",
       "      <td>NO_ESRB</td>\n",
       "      <td>4.50</td>\n",
       "    </tr>\n",
       "    <tr>\n",
       "      <th>89</th>\n",
       "      <td>Pac-Man</td>\n",
       "      <td>2600</td>\n",
       "      <td>1982</td>\n",
       "      <td>Puzzle</td>\n",
       "      <td>7.28</td>\n",
       "      <td>0.45</td>\n",
       "      <td>0.00</td>\n",
       "      <td>0.08</td>\n",
       "      <td>-1.0</td>\n",
       "      <td>-1.0</td>\n",
       "      <td>NO_ESRB</td>\n",
       "      <td>7.81</td>\n",
       "    </tr>\n",
       "    <tr>\n",
       "      <th>426</th>\n",
       "      <td>Baseball</td>\n",
       "      <td>NES</td>\n",
       "      <td>1983</td>\n",
       "      <td>Sports</td>\n",
       "      <td>0.73</td>\n",
       "      <td>0.10</td>\n",
       "      <td>2.35</td>\n",
       "      <td>0.02</td>\n",
       "      <td>-1.0</td>\n",
       "      <td>-1.0</td>\n",
       "      <td>NO_ESRB</td>\n",
       "      <td>3.20</td>\n",
       "    </tr>\n",
       "    <tr>\n",
       "      <th>9</th>\n",
       "      <td>Duck Hunt</td>\n",
       "      <td>NES</td>\n",
       "      <td>1984</td>\n",
       "      <td>Shooter</td>\n",
       "      <td>26.93</td>\n",
       "      <td>0.63</td>\n",
       "      <td>0.28</td>\n",
       "      <td>0.47</td>\n",
       "      <td>-1.0</td>\n",
       "      <td>-1.0</td>\n",
       "      <td>NO_ESRB</td>\n",
       "      <td>28.31</td>\n",
       "    </tr>\n",
       "    <tr>\n",
       "      <th>1</th>\n",
       "      <td>Super Mario Bros.</td>\n",
       "      <td>NES</td>\n",
       "      <td>1985</td>\n",
       "      <td>Platform</td>\n",
       "      <td>29.08</td>\n",
       "      <td>3.58</td>\n",
       "      <td>6.81</td>\n",
       "      <td>0.77</td>\n",
       "      <td>-1.0</td>\n",
       "      <td>-1.0</td>\n",
       "      <td>NO_ESRB</td>\n",
       "      <td>40.24</td>\n",
       "    </tr>\n",
       "    <tr>\n",
       "      <th>124</th>\n",
       "      <td>The Legend of Zelda</td>\n",
       "      <td>NES</td>\n",
       "      <td>1986</td>\n",
       "      <td>Action</td>\n",
       "      <td>3.74</td>\n",
       "      <td>0.93</td>\n",
       "      <td>1.69</td>\n",
       "      <td>0.14</td>\n",
       "      <td>-1.0</td>\n",
       "      <td>-1.0</td>\n",
       "      <td>NO_ESRB</td>\n",
       "      <td>6.50</td>\n",
       "    </tr>\n",
       "    <tr>\n",
       "      <th>252</th>\n",
       "      <td>Zelda II: The Adventure of Link</td>\n",
       "      <td>NES</td>\n",
       "      <td>1987</td>\n",
       "      <td>Adventure</td>\n",
       "      <td>2.19</td>\n",
       "      <td>0.50</td>\n",
       "      <td>1.61</td>\n",
       "      <td>0.08</td>\n",
       "      <td>-1.0</td>\n",
       "      <td>-1.0</td>\n",
       "      <td>NO_ESRB</td>\n",
       "      <td>4.38</td>\n",
       "    </tr>\n",
       "    <tr>\n",
       "      <th>22</th>\n",
       "      <td>Super Mario Bros. 3</td>\n",
       "      <td>NES</td>\n",
       "      <td>1988</td>\n",
       "      <td>Platform</td>\n",
       "      <td>9.54</td>\n",
       "      <td>3.44</td>\n",
       "      <td>3.84</td>\n",
       "      <td>0.46</td>\n",
       "      <td>-1.0</td>\n",
       "      <td>-1.0</td>\n",
       "      <td>NO_ESRB</td>\n",
       "      <td>17.28</td>\n",
       "    </tr>\n",
       "    <tr>\n",
       "      <th>5</th>\n",
       "      <td>Tetris</td>\n",
       "      <td>GB</td>\n",
       "      <td>1989</td>\n",
       "      <td>Puzzle</td>\n",
       "      <td>23.20</td>\n",
       "      <td>2.26</td>\n",
       "      <td>4.22</td>\n",
       "      <td>0.58</td>\n",
       "      <td>-1.0</td>\n",
       "      <td>-1.0</td>\n",
       "      <td>NO_ESRB</td>\n",
       "      <td>30.26</td>\n",
       "    </tr>\n",
       "    <tr>\n",
       "      <th>18</th>\n",
       "      <td>Super Mario World</td>\n",
       "      <td>SNES</td>\n",
       "      <td>1990</td>\n",
       "      <td>Platform</td>\n",
       "      <td>12.78</td>\n",
       "      <td>3.75</td>\n",
       "      <td>3.54</td>\n",
       "      <td>0.55</td>\n",
       "      <td>-1.0</td>\n",
       "      <td>-1.0</td>\n",
       "      <td>NO_ESRB</td>\n",
       "      <td>20.62</td>\n",
       "    </tr>\n",
       "    <tr>\n",
       "      <th>232</th>\n",
       "      <td>The Legend of Zelda: A Link to the Past</td>\n",
       "      <td>SNES</td>\n",
       "      <td>1991</td>\n",
       "      <td>Action</td>\n",
       "      <td>2.42</td>\n",
       "      <td>0.91</td>\n",
       "      <td>1.15</td>\n",
       "      <td>0.13</td>\n",
       "      <td>-1.0</td>\n",
       "      <td>-1.0</td>\n",
       "      <td>NO_ESRB</td>\n",
       "      <td>4.61</td>\n",
       "    </tr>\n",
       "    <tr>\n",
       "      <th>50</th>\n",
       "      <td>Super Mario Land 2: 6 Golden Coins</td>\n",
       "      <td>GB</td>\n",
       "      <td>1992</td>\n",
       "      <td>Adventure</td>\n",
       "      <td>6.16</td>\n",
       "      <td>2.04</td>\n",
       "      <td>2.69</td>\n",
       "      <td>0.29</td>\n",
       "      <td>-1.0</td>\n",
       "      <td>-1.0</td>\n",
       "      <td>NO_ESRB</td>\n",
       "      <td>11.18</td>\n",
       "    </tr>\n",
       "    <tr>\n",
       "      <th>56</th>\n",
       "      <td>Super Mario All-Stars</td>\n",
       "      <td>SNES</td>\n",
       "      <td>1993</td>\n",
       "      <td>Platform</td>\n",
       "      <td>5.99</td>\n",
       "      <td>2.15</td>\n",
       "      <td>2.12</td>\n",
       "      <td>0.29</td>\n",
       "      <td>-1.0</td>\n",
       "      <td>-1.0</td>\n",
       "      <td>NO_ESRB</td>\n",
       "      <td>10.55</td>\n",
       "    </tr>\n",
       "    <tr>\n",
       "      <th>71</th>\n",
       "      <td>Donkey Kong Country</td>\n",
       "      <td>SNES</td>\n",
       "      <td>1994</td>\n",
       "      <td>Platform</td>\n",
       "      <td>4.36</td>\n",
       "      <td>1.71</td>\n",
       "      <td>3.00</td>\n",
       "      <td>0.23</td>\n",
       "      <td>-1.0</td>\n",
       "      <td>-1.0</td>\n",
       "      <td>NO_ESRB</td>\n",
       "      <td>9.30</td>\n",
       "    </tr>\n",
       "    <tr>\n",
       "      <th>191</th>\n",
       "      <td>Donkey Kong Country 2: Diddy's Kong Quest</td>\n",
       "      <td>SNES</td>\n",
       "      <td>1995</td>\n",
       "      <td>Platform</td>\n",
       "      <td>2.10</td>\n",
       "      <td>0.74</td>\n",
       "      <td>2.20</td>\n",
       "      <td>0.11</td>\n",
       "      <td>-1.0</td>\n",
       "      <td>-1.0</td>\n",
       "      <td>NO_ESRB</td>\n",
       "      <td>5.15</td>\n",
       "    </tr>\n",
       "    <tr>\n",
       "      <th>4</th>\n",
       "      <td>Pokemon Red/Pokemon Blue</td>\n",
       "      <td>GB</td>\n",
       "      <td>1996</td>\n",
       "      <td>Role-Playing</td>\n",
       "      <td>11.27</td>\n",
       "      <td>8.89</td>\n",
       "      <td>10.22</td>\n",
       "      <td>1.00</td>\n",
       "      <td>-1.0</td>\n",
       "      <td>-1.0</td>\n",
       "      <td>NO_ESRB</td>\n",
       "      <td>31.38</td>\n",
       "    </tr>\n",
       "    <tr>\n",
       "      <th>52</th>\n",
       "      <td>Gran Turismo</td>\n",
       "      <td>PS</td>\n",
       "      <td>1997</td>\n",
       "      <td>Racing</td>\n",
       "      <td>4.02</td>\n",
       "      <td>3.87</td>\n",
       "      <td>2.54</td>\n",
       "      <td>0.52</td>\n",
       "      <td>96.0</td>\n",
       "      <td>8.7</td>\n",
       "      <td>E</td>\n",
       "      <td>10.95</td>\n",
       "    </tr>\n",
       "    <tr>\n",
       "      <th>30</th>\n",
       "      <td>Pokémon Yellow: Special Pikachu Edition</td>\n",
       "      <td>GB</td>\n",
       "      <td>1998</td>\n",
       "      <td>Role-Playing</td>\n",
       "      <td>5.89</td>\n",
       "      <td>5.04</td>\n",
       "      <td>3.12</td>\n",
       "      <td>0.59</td>\n",
       "      <td>-1.0</td>\n",
       "      <td>-1.0</td>\n",
       "      <td>NO_ESRB</td>\n",
       "      <td>14.64</td>\n",
       "    </tr>\n",
       "    <tr>\n",
       "      <th>12</th>\n",
       "      <td>Pokemon Gold/Pokemon Silver</td>\n",
       "      <td>GB</td>\n",
       "      <td>1999</td>\n",
       "      <td>Role-Playing</td>\n",
       "      <td>9.00</td>\n",
       "      <td>6.18</td>\n",
       "      <td>7.20</td>\n",
       "      <td>0.71</td>\n",
       "      <td>-1.0</td>\n",
       "      <td>-1.0</td>\n",
       "      <td>NO_ESRB</td>\n",
       "      <td>23.09</td>\n",
       "    </tr>\n",
       "    <tr>\n",
       "      <th>133</th>\n",
       "      <td>Pokémon Crystal Version</td>\n",
       "      <td>GB</td>\n",
       "      <td>2000</td>\n",
       "      <td>Role-Playing</td>\n",
       "      <td>2.55</td>\n",
       "      <td>1.56</td>\n",
       "      <td>1.29</td>\n",
       "      <td>0.99</td>\n",
       "      <td>-1.0</td>\n",
       "      <td>-1.0</td>\n",
       "      <td>NO_ESRB</td>\n",
       "      <td>6.39</td>\n",
       "    </tr>\n",
       "    <tr>\n",
       "      <th>28</th>\n",
       "      <td>Gran Turismo 3: A-Spec</td>\n",
       "      <td>PS2</td>\n",
       "      <td>2001</td>\n",
       "      <td>Racing</td>\n",
       "      <td>6.85</td>\n",
       "      <td>5.09</td>\n",
       "      <td>1.87</td>\n",
       "      <td>1.16</td>\n",
       "      <td>95.0</td>\n",
       "      <td>8.4</td>\n",
       "      <td>E</td>\n",
       "      <td>14.97</td>\n",
       "    </tr>\n",
       "    <tr>\n",
       "      <th>24</th>\n",
       "      <td>Grand Theft Auto: Vice City</td>\n",
       "      <td>PS2</td>\n",
       "      <td>2002</td>\n",
       "      <td>Action</td>\n",
       "      <td>8.41</td>\n",
       "      <td>5.49</td>\n",
       "      <td>0.47</td>\n",
       "      <td>1.78</td>\n",
       "      <td>95.0</td>\n",
       "      <td>8.7</td>\n",
       "      <td>M</td>\n",
       "      <td>16.15</td>\n",
       "    </tr>\n",
       "    <tr>\n",
       "      <th>102</th>\n",
       "      <td>Need for Speed Underground</td>\n",
       "      <td>PS2</td>\n",
       "      <td>2003</td>\n",
       "      <td>Racing</td>\n",
       "      <td>3.27</td>\n",
       "      <td>2.83</td>\n",
       "      <td>0.08</td>\n",
       "      <td>1.02</td>\n",
       "      <td>85.0</td>\n",
       "      <td>8.6</td>\n",
       "      <td>E</td>\n",
       "      <td>7.20</td>\n",
       "    </tr>\n",
       "    <tr>\n",
       "      <th>17</th>\n",
       "      <td>Grand Theft Auto: San Andreas</td>\n",
       "      <td>PS2</td>\n",
       "      <td>2004</td>\n",
       "      <td>Action</td>\n",
       "      <td>9.43</td>\n",
       "      <td>0.40</td>\n",
       "      <td>0.41</td>\n",
       "      <td>10.57</td>\n",
       "      <td>95.0</td>\n",
       "      <td>9.0</td>\n",
       "      <td>M</td>\n",
       "      <td>20.81</td>\n",
       "    </tr>\n",
       "    <tr>\n",
       "      <th>10</th>\n",
       "      <td>Nintendogs</td>\n",
       "      <td>DS</td>\n",
       "      <td>2005</td>\n",
       "      <td>Simulation</td>\n",
       "      <td>9.05</td>\n",
       "      <td>10.95</td>\n",
       "      <td>1.93</td>\n",
       "      <td>2.74</td>\n",
       "      <td>-1.0</td>\n",
       "      <td>-1.0</td>\n",
       "      <td>NO_ESRB</td>\n",
       "      <td>24.67</td>\n",
       "    </tr>\n",
       "    <tr>\n",
       "      <th>0</th>\n",
       "      <td>Wii Sports</td>\n",
       "      <td>Wii</td>\n",
       "      <td>2006</td>\n",
       "      <td>Sports</td>\n",
       "      <td>41.36</td>\n",
       "      <td>28.96</td>\n",
       "      <td>3.77</td>\n",
       "      <td>8.45</td>\n",
       "      <td>76.0</td>\n",
       "      <td>8.0</td>\n",
       "      <td>E</td>\n",
       "      <td>82.54</td>\n",
       "    </tr>\n",
       "    <tr>\n",
       "      <th>13</th>\n",
       "      <td>Wii Fit</td>\n",
       "      <td>Wii</td>\n",
       "      <td>2007</td>\n",
       "      <td>Sports</td>\n",
       "      <td>8.92</td>\n",
       "      <td>8.03</td>\n",
       "      <td>3.60</td>\n",
       "      <td>2.15</td>\n",
       "      <td>80.0</td>\n",
       "      <td>7.7</td>\n",
       "      <td>E</td>\n",
       "      <td>22.70</td>\n",
       "    </tr>\n",
       "    <tr>\n",
       "      <th>2</th>\n",
       "      <td>Mario Kart Wii</td>\n",
       "      <td>Wii</td>\n",
       "      <td>2008</td>\n",
       "      <td>Racing</td>\n",
       "      <td>15.68</td>\n",
       "      <td>12.76</td>\n",
       "      <td>3.79</td>\n",
       "      <td>3.29</td>\n",
       "      <td>82.0</td>\n",
       "      <td>8.3</td>\n",
       "      <td>E</td>\n",
       "      <td>35.52</td>\n",
       "    </tr>\n",
       "    <tr>\n",
       "      <th>3</th>\n",
       "      <td>Wii Sports Resort</td>\n",
       "      <td>Wii</td>\n",
       "      <td>2009</td>\n",
       "      <td>Sports</td>\n",
       "      <td>15.61</td>\n",
       "      <td>10.93</td>\n",
       "      <td>3.28</td>\n",
       "      <td>2.95</td>\n",
       "      <td>80.0</td>\n",
       "      <td>8.0</td>\n",
       "      <td>E</td>\n",
       "      <td>32.77</td>\n",
       "    </tr>\n",
       "    <tr>\n",
       "      <th>14</th>\n",
       "      <td>Kinect Adventures!</td>\n",
       "      <td>X360</td>\n",
       "      <td>2010</td>\n",
       "      <td>Misc</td>\n",
       "      <td>15.00</td>\n",
       "      <td>4.89</td>\n",
       "      <td>0.24</td>\n",
       "      <td>1.69</td>\n",
       "      <td>61.0</td>\n",
       "      <td>6.3</td>\n",
       "      <td>E</td>\n",
       "      <td>21.82</td>\n",
       "    </tr>\n",
       "    <tr>\n",
       "      <th>29</th>\n",
       "      <td>Call of Duty: Modern Warfare 3</td>\n",
       "      <td>X360</td>\n",
       "      <td>2011</td>\n",
       "      <td>Shooter</td>\n",
       "      <td>9.04</td>\n",
       "      <td>4.24</td>\n",
       "      <td>0.13</td>\n",
       "      <td>1.32</td>\n",
       "      <td>88.0</td>\n",
       "      <td>3.4</td>\n",
       "      <td>M</td>\n",
       "      <td>14.73</td>\n",
       "    </tr>\n",
       "    <tr>\n",
       "      <th>34</th>\n",
       "      <td>Call of Duty: Black Ops II</td>\n",
       "      <td>PS3</td>\n",
       "      <td>2012</td>\n",
       "      <td>Shooter</td>\n",
       "      <td>4.99</td>\n",
       "      <td>5.73</td>\n",
       "      <td>0.65</td>\n",
       "      <td>2.42</td>\n",
       "      <td>83.0</td>\n",
       "      <td>5.3</td>\n",
       "      <td>M</td>\n",
       "      <td>13.79</td>\n",
       "    </tr>\n",
       "    <tr>\n",
       "      <th>16</th>\n",
       "      <td>Grand Theft Auto V</td>\n",
       "      <td>PS3</td>\n",
       "      <td>2013</td>\n",
       "      <td>Action</td>\n",
       "      <td>7.02</td>\n",
       "      <td>9.09</td>\n",
       "      <td>0.98</td>\n",
       "      <td>3.96</td>\n",
       "      <td>97.0</td>\n",
       "      <td>8.2</td>\n",
       "      <td>M</td>\n",
       "      <td>21.05</td>\n",
       "    </tr>\n",
       "    <tr>\n",
       "      <th>42</th>\n",
       "      <td>Grand Theft Auto V</td>\n",
       "      <td>PS4</td>\n",
       "      <td>2014</td>\n",
       "      <td>Action</td>\n",
       "      <td>3.96</td>\n",
       "      <td>6.31</td>\n",
       "      <td>0.38</td>\n",
       "      <td>1.97</td>\n",
       "      <td>97.0</td>\n",
       "      <td>8.3</td>\n",
       "      <td>M</td>\n",
       "      <td>12.62</td>\n",
       "    </tr>\n",
       "    <tr>\n",
       "      <th>31</th>\n",
       "      <td>Call of Duty: Black Ops 3</td>\n",
       "      <td>PS4</td>\n",
       "      <td>2015</td>\n",
       "      <td>Shooter</td>\n",
       "      <td>6.03</td>\n",
       "      <td>5.86</td>\n",
       "      <td>0.36</td>\n",
       "      <td>2.38</td>\n",
       "      <td>-1.0</td>\n",
       "      <td>-1.0</td>\n",
       "      <td>NO_ESRB</td>\n",
       "      <td>14.63</td>\n",
       "    </tr>\n",
       "    <tr>\n",
       "      <th>94</th>\n",
       "      <td>FIFA 17</td>\n",
       "      <td>PS4</td>\n",
       "      <td>2016</td>\n",
       "      <td>Sports</td>\n",
       "      <td>0.66</td>\n",
       "      <td>5.75</td>\n",
       "      <td>0.08</td>\n",
       "      <td>1.11</td>\n",
       "      <td>85.0</td>\n",
       "      <td>5.0</td>\n",
       "      <td>E</td>\n",
       "      <td>7.60</td>\n",
       "    </tr>\n",
       "  </tbody>\n",
       "</table>\n",
       "</div>"
      ],
      "text/plain": [
       "                                          name platform  year_of_release  \\\n",
       "262                                  Asteroids     2600             1980   \n",
       "240                                   Pitfall!     2600             1981   \n",
       "89                                     Pac-Man     2600             1982   \n",
       "426                                   Baseball      NES             1983   \n",
       "9                                    Duck Hunt      NES             1984   \n",
       "1                            Super Mario Bros.      NES             1985   \n",
       "124                        The Legend of Zelda      NES             1986   \n",
       "252            Zelda II: The Adventure of Link      NES             1987   \n",
       "22                         Super Mario Bros. 3      NES             1988   \n",
       "5                                       Tetris       GB             1989   \n",
       "18                           Super Mario World     SNES             1990   \n",
       "232    The Legend of Zelda: A Link to the Past     SNES             1991   \n",
       "50          Super Mario Land 2: 6 Golden Coins       GB             1992   \n",
       "56                       Super Mario All-Stars     SNES             1993   \n",
       "71                         Donkey Kong Country     SNES             1994   \n",
       "191  Donkey Kong Country 2: Diddy's Kong Quest     SNES             1995   \n",
       "4                     Pokemon Red/Pokemon Blue       GB             1996   \n",
       "52                                Gran Turismo       PS             1997   \n",
       "30     Pokémon Yellow: Special Pikachu Edition       GB             1998   \n",
       "12                 Pokemon Gold/Pokemon Silver       GB             1999   \n",
       "133                    Pokémon Crystal Version       GB             2000   \n",
       "28                      Gran Turismo 3: A-Spec      PS2             2001   \n",
       "24                 Grand Theft Auto: Vice City      PS2             2002   \n",
       "102                 Need for Speed Underground      PS2             2003   \n",
       "17               Grand Theft Auto: San Andreas      PS2             2004   \n",
       "10                                  Nintendogs       DS             2005   \n",
       "0                                   Wii Sports      Wii             2006   \n",
       "13                                     Wii Fit      Wii             2007   \n",
       "2                               Mario Kart Wii      Wii             2008   \n",
       "3                            Wii Sports Resort      Wii             2009   \n",
       "14                          Kinect Adventures!     X360             2010   \n",
       "29              Call of Duty: Modern Warfare 3     X360             2011   \n",
       "34                  Call of Duty: Black Ops II      PS3             2012   \n",
       "16                          Grand Theft Auto V      PS3             2013   \n",
       "42                          Grand Theft Auto V      PS4             2014   \n",
       "31                   Call of Duty: Black Ops 3      PS4             2015   \n",
       "94                                     FIFA 17      PS4             2016   \n",
       "\n",
       "            genre  na_sales  eu_sales  jp_sales  other_sales  critic_score  \\\n",
       "262       Shooter      4.00      0.26      0.00         0.05          -1.0   \n",
       "240      Platform      4.21      0.24      0.00         0.05          -1.0   \n",
       "89         Puzzle      7.28      0.45      0.00         0.08          -1.0   \n",
       "426        Sports      0.73      0.10      2.35         0.02          -1.0   \n",
       "9         Shooter     26.93      0.63      0.28         0.47          -1.0   \n",
       "1        Platform     29.08      3.58      6.81         0.77          -1.0   \n",
       "124        Action      3.74      0.93      1.69         0.14          -1.0   \n",
       "252     Adventure      2.19      0.50      1.61         0.08          -1.0   \n",
       "22       Platform      9.54      3.44      3.84         0.46          -1.0   \n",
       "5          Puzzle     23.20      2.26      4.22         0.58          -1.0   \n",
       "18       Platform     12.78      3.75      3.54         0.55          -1.0   \n",
       "232        Action      2.42      0.91      1.15         0.13          -1.0   \n",
       "50      Adventure      6.16      2.04      2.69         0.29          -1.0   \n",
       "56       Platform      5.99      2.15      2.12         0.29          -1.0   \n",
       "71       Platform      4.36      1.71      3.00         0.23          -1.0   \n",
       "191      Platform      2.10      0.74      2.20         0.11          -1.0   \n",
       "4    Role-Playing     11.27      8.89     10.22         1.00          -1.0   \n",
       "52         Racing      4.02      3.87      2.54         0.52          96.0   \n",
       "30   Role-Playing      5.89      5.04      3.12         0.59          -1.0   \n",
       "12   Role-Playing      9.00      6.18      7.20         0.71          -1.0   \n",
       "133  Role-Playing      2.55      1.56      1.29         0.99          -1.0   \n",
       "28         Racing      6.85      5.09      1.87         1.16          95.0   \n",
       "24         Action      8.41      5.49      0.47         1.78          95.0   \n",
       "102        Racing      3.27      2.83      0.08         1.02          85.0   \n",
       "17         Action      9.43      0.40      0.41        10.57          95.0   \n",
       "10     Simulation      9.05     10.95      1.93         2.74          -1.0   \n",
       "0          Sports     41.36     28.96      3.77         8.45          76.0   \n",
       "13         Sports      8.92      8.03      3.60         2.15          80.0   \n",
       "2          Racing     15.68     12.76      3.79         3.29          82.0   \n",
       "3          Sports     15.61     10.93      3.28         2.95          80.0   \n",
       "14           Misc     15.00      4.89      0.24         1.69          61.0   \n",
       "29        Shooter      9.04      4.24      0.13         1.32          88.0   \n",
       "34        Shooter      4.99      5.73      0.65         2.42          83.0   \n",
       "16         Action      7.02      9.09      0.98         3.96          97.0   \n",
       "42         Action      3.96      6.31      0.38         1.97          97.0   \n",
       "31        Shooter      6.03      5.86      0.36         2.38          -1.0   \n",
       "94         Sports      0.66      5.75      0.08         1.11          85.0   \n",
       "\n",
       "     user_score   rating  total_sales  \n",
       "262        -1.0  NO_ESRB         4.31  \n",
       "240        -1.0  NO_ESRB         4.50  \n",
       "89         -1.0  NO_ESRB         7.81  \n",
       "426        -1.0  NO_ESRB         3.20  \n",
       "9          -1.0  NO_ESRB        28.31  \n",
       "1          -1.0  NO_ESRB        40.24  \n",
       "124        -1.0  NO_ESRB         6.50  \n",
       "252        -1.0  NO_ESRB         4.38  \n",
       "22         -1.0  NO_ESRB        17.28  \n",
       "5          -1.0  NO_ESRB        30.26  \n",
       "18         -1.0  NO_ESRB        20.62  \n",
       "232        -1.0  NO_ESRB         4.61  \n",
       "50         -1.0  NO_ESRB        11.18  \n",
       "56         -1.0  NO_ESRB        10.55  \n",
       "71         -1.0  NO_ESRB         9.30  \n",
       "191        -1.0  NO_ESRB         5.15  \n",
       "4          -1.0  NO_ESRB        31.38  \n",
       "52          8.7        E        10.95  \n",
       "30         -1.0  NO_ESRB        14.64  \n",
       "12         -1.0  NO_ESRB        23.09  \n",
       "133        -1.0  NO_ESRB         6.39  \n",
       "28          8.4        E        14.97  \n",
       "24          8.7        M        16.15  \n",
       "102         8.6        E         7.20  \n",
       "17          9.0        M        20.81  \n",
       "10         -1.0  NO_ESRB        24.67  \n",
       "0           8.0        E        82.54  \n",
       "13          7.7        E        22.70  \n",
       "2           8.3        E        35.52  \n",
       "3           8.0        E        32.77  \n",
       "14          6.3        E        21.82  \n",
       "29          3.4        M        14.73  \n",
       "34          5.3        M        13.79  \n",
       "16          8.2        M        21.05  \n",
       "42          8.3        M        12.62  \n",
       "31         -1.0  NO_ESRB        14.63  \n",
       "94          5.0        E         7.60  "
      ]
     },
     "execution_count": 31,
     "metadata": {},
     "output_type": "execute_result"
    }
   ],
   "source": [
    "df.loc[df.groupby('year_of_release')['total_sales'].idxmax()]"
   ]
  },
  {
   "cell_type": "markdown",
   "id": "30fd6b45",
   "metadata": {},
   "source": [
    "### Анализ продаж по платформам"
   ]
  },
  {
   "cell_type": "markdown",
   "id": "9cec87b8",
   "metadata": {},
   "source": [
    "Сначала построим общий график всех продаж на платформах с помощью функции `hist_maker`."
   ]
  },
  {
   "cell_type": "code",
   "execution_count": 32,
   "id": "b4d0201e",
   "metadata": {},
   "outputs": [
    {
     "data": {
      "text/html": [
       "<div>\n",
       "<style scoped>\n",
       "    .dataframe tbody tr th:only-of-type {\n",
       "        vertical-align: middle;\n",
       "    }\n",
       "\n",
       "    .dataframe tbody tr th {\n",
       "        vertical-align: top;\n",
       "    }\n",
       "\n",
       "    .dataframe thead th {\n",
       "        text-align: right;\n",
       "    }\n",
       "</style>\n",
       "<table border=\"1\" class=\"dataframe\">\n",
       "  <thead>\n",
       "    <tr style=\"text-align: right;\">\n",
       "      <th></th>\n",
       "      <th>count</th>\n",
       "      <th>mean</th>\n",
       "      <th>std</th>\n",
       "      <th>min</th>\n",
       "      <th>1%</th>\n",
       "      <th>25%</th>\n",
       "      <th>50%</th>\n",
       "      <th>75%</th>\n",
       "      <th>99%</th>\n",
       "      <th>max</th>\n",
       "    </tr>\n",
       "    <tr>\n",
       "      <th>platform</th>\n",
       "      <th></th>\n",
       "      <th></th>\n",
       "      <th></th>\n",
       "      <th></th>\n",
       "      <th></th>\n",
       "      <th></th>\n",
       "      <th></th>\n",
       "      <th></th>\n",
       "      <th></th>\n",
       "      <th></th>\n",
       "    </tr>\n",
       "  </thead>\n",
       "  <tbody>\n",
       "    <tr>\n",
       "      <th>2600</th>\n",
       "      <td>116.0</td>\n",
       "      <td>0.745517</td>\n",
       "      <td>0.956160</td>\n",
       "      <td>0.07</td>\n",
       "      <td>0.0790</td>\n",
       "      <td>0.3075</td>\n",
       "      <td>0.480</td>\n",
       "      <td>0.7800</td>\n",
       "      <td>4.4715</td>\n",
       "      <td>7.81</td>\n",
       "    </tr>\n",
       "    <tr>\n",
       "      <th>3DO</th>\n",
       "      <td>3.0</td>\n",
       "      <td>0.033333</td>\n",
       "      <td>0.023094</td>\n",
       "      <td>0.02</td>\n",
       "      <td>0.0200</td>\n",
       "      <td>0.0200</td>\n",
       "      <td>0.020</td>\n",
       "      <td>0.0400</td>\n",
       "      <td>0.0592</td>\n",
       "      <td>0.06</td>\n",
       "    </tr>\n",
       "    <tr>\n",
       "      <th>3DS</th>\n",
       "      <td>512.0</td>\n",
       "      <td>0.503535</td>\n",
       "      <td>1.441271</td>\n",
       "      <td>0.01</td>\n",
       "      <td>0.0100</td>\n",
       "      <td>0.0500</td>\n",
       "      <td>0.120</td>\n",
       "      <td>0.3325</td>\n",
       "      <td>8.9918</td>\n",
       "      <td>14.60</td>\n",
       "    </tr>\n",
       "    <tr>\n",
       "      <th>DC</th>\n",
       "      <td>52.0</td>\n",
       "      <td>0.306731</td>\n",
       "      <td>0.468660</td>\n",
       "      <td>0.02</td>\n",
       "      <td>0.0302</td>\n",
       "      <td>0.0775</td>\n",
       "      <td>0.135</td>\n",
       "      <td>0.2975</td>\n",
       "      <td>2.1040</td>\n",
       "      <td>2.41</td>\n",
       "    </tr>\n",
       "    <tr>\n",
       "      <th>DS</th>\n",
       "      <td>2121.0</td>\n",
       "      <td>0.378491</td>\n",
       "      <td>1.436042</td>\n",
       "      <td>0.01</td>\n",
       "      <td>0.0100</td>\n",
       "      <td>0.0500</td>\n",
       "      <td>0.110</td>\n",
       "      <td>0.2700</td>\n",
       "      <td>3.9240</td>\n",
       "      <td>29.80</td>\n",
       "    </tr>\n",
       "    <tr>\n",
       "      <th>GB</th>\n",
       "      <td>97.0</td>\n",
       "      <td>2.622990</td>\n",
       "      <td>5.390925</td>\n",
       "      <td>0.06</td>\n",
       "      <td>0.0696</td>\n",
       "      <td>0.3000</td>\n",
       "      <td>1.180</td>\n",
       "      <td>2.1800</td>\n",
       "      <td>30.3048</td>\n",
       "      <td>31.38</td>\n",
       "    </tr>\n",
       "    <tr>\n",
       "      <th>GBA</th>\n",
       "      <td>811.0</td>\n",
       "      <td>0.385795</td>\n",
       "      <td>0.899654</td>\n",
       "      <td>0.01</td>\n",
       "      <td>0.0100</td>\n",
       "      <td>0.0550</td>\n",
       "      <td>0.160</td>\n",
       "      <td>0.3900</td>\n",
       "      <td>2.9370</td>\n",
       "      <td>15.84</td>\n",
       "    </tr>\n",
       "    <tr>\n",
       "      <th>GC</th>\n",
       "      <td>542.0</td>\n",
       "      <td>0.362970</td>\n",
       "      <td>0.693974</td>\n",
       "      <td>0.01</td>\n",
       "      <td>0.0100</td>\n",
       "      <td>0.0600</td>\n",
       "      <td>0.150</td>\n",
       "      <td>0.3675</td>\n",
       "      <td>3.0206</td>\n",
       "      <td>7.06</td>\n",
       "    </tr>\n",
       "    <tr>\n",
       "      <th>GEN</th>\n",
       "      <td>27.0</td>\n",
       "      <td>1.050000</td>\n",
       "      <td>1.490041</td>\n",
       "      <td>0.03</td>\n",
       "      <td>0.0326</td>\n",
       "      <td>0.0700</td>\n",
       "      <td>0.150</td>\n",
       "      <td>1.7050</td>\n",
       "      <td>5.5806</td>\n",
       "      <td>6.02</td>\n",
       "    </tr>\n",
       "    <tr>\n",
       "      <th>GG</th>\n",
       "      <td>1.0</td>\n",
       "      <td>0.040000</td>\n",
       "      <td>NaN</td>\n",
       "      <td>0.04</td>\n",
       "      <td>0.0400</td>\n",
       "      <td>0.0400</td>\n",
       "      <td>0.040</td>\n",
       "      <td>0.0400</td>\n",
       "      <td>0.0400</td>\n",
       "      <td>0.04</td>\n",
       "    </tr>\n",
       "    <tr>\n",
       "      <th>N64</th>\n",
       "      <td>316.0</td>\n",
       "      <td>0.689905</td>\n",
       "      <td>1.322189</td>\n",
       "      <td>0.01</td>\n",
       "      <td>0.0215</td>\n",
       "      <td>0.1300</td>\n",
       "      <td>0.270</td>\n",
       "      <td>0.6000</td>\n",
       "      <td>7.2940</td>\n",
       "      <td>11.90</td>\n",
       "    </tr>\n",
       "    <tr>\n",
       "      <th>NES</th>\n",
       "      <td>98.0</td>\n",
       "      <td>2.561735</td>\n",
       "      <td>5.108012</td>\n",
       "      <td>0.06</td>\n",
       "      <td>0.0697</td>\n",
       "      <td>1.0000</td>\n",
       "      <td>1.375</td>\n",
       "      <td>2.2225</td>\n",
       "      <td>28.6679</td>\n",
       "      <td>40.24</td>\n",
       "    </tr>\n",
       "    <tr>\n",
       "      <th>NG</th>\n",
       "      <td>12.0</td>\n",
       "      <td>0.120000</td>\n",
       "      <td>0.082241</td>\n",
       "      <td>0.02</td>\n",
       "      <td>0.0211</td>\n",
       "      <td>0.0550</td>\n",
       "      <td>0.100</td>\n",
       "      <td>0.2000</td>\n",
       "      <td>0.2478</td>\n",
       "      <td>0.25</td>\n",
       "    </tr>\n",
       "    <tr>\n",
       "      <th>PC</th>\n",
       "      <td>957.0</td>\n",
       "      <td>0.267252</td>\n",
       "      <td>0.679745</td>\n",
       "      <td>0.01</td>\n",
       "      <td>0.0100</td>\n",
       "      <td>0.0200</td>\n",
       "      <td>0.050</td>\n",
       "      <td>0.1700</td>\n",
       "      <td>3.6760</td>\n",
       "      <td>8.01</td>\n",
       "    </tr>\n",
       "    <tr>\n",
       "      <th>PCFX</th>\n",
       "      <td>1.0</td>\n",
       "      <td>0.030000</td>\n",
       "      <td>NaN</td>\n",
       "      <td>0.03</td>\n",
       "      <td>0.0300</td>\n",
       "      <td>0.0300</td>\n",
       "      <td>0.030</td>\n",
       "      <td>0.0300</td>\n",
       "      <td>0.0300</td>\n",
       "      <td>0.03</td>\n",
       "    </tr>\n",
       "    <tr>\n",
       "      <th>PS</th>\n",
       "      <td>1190.0</td>\n",
       "      <td>0.611412</td>\n",
       "      <td>1.056807</td>\n",
       "      <td>0.01</td>\n",
       "      <td>0.0200</td>\n",
       "      <td>0.1100</td>\n",
       "      <td>0.260</td>\n",
       "      <td>0.6600</td>\n",
       "      <td>5.3573</td>\n",
       "      <td>10.95</td>\n",
       "    </tr>\n",
       "    <tr>\n",
       "      <th>PS2</th>\n",
       "      <td>2127.0</td>\n",
       "      <td>0.579953</td>\n",
       "      <td>1.138461</td>\n",
       "      <td>0.00</td>\n",
       "      <td>0.0100</td>\n",
       "      <td>0.0800</td>\n",
       "      <td>0.230</td>\n",
       "      <td>0.5600</td>\n",
       "      <td>4.5196</td>\n",
       "      <td>20.81</td>\n",
       "    </tr>\n",
       "    <tr>\n",
       "      <th>PS3</th>\n",
       "      <td>1306.0</td>\n",
       "      <td>0.713124</td>\n",
       "      <td>1.403065</td>\n",
       "      <td>0.00</td>\n",
       "      <td>0.0100</td>\n",
       "      <td>0.1100</td>\n",
       "      <td>0.280</td>\n",
       "      <td>0.7600</td>\n",
       "      <td>6.6320</td>\n",
       "      <td>21.05</td>\n",
       "    </tr>\n",
       "    <tr>\n",
       "      <th>PS4</th>\n",
       "      <td>392.0</td>\n",
       "      <td>0.801378</td>\n",
       "      <td>1.609456</td>\n",
       "      <td>0.01</td>\n",
       "      <td>0.0100</td>\n",
       "      <td>0.0600</td>\n",
       "      <td>0.200</td>\n",
       "      <td>0.7300</td>\n",
       "      <td>7.6888</td>\n",
       "      <td>14.63</td>\n",
       "    </tr>\n",
       "    <tr>\n",
       "      <th>PSP</th>\n",
       "      <td>1193.0</td>\n",
       "      <td>0.242691</td>\n",
       "      <td>0.522019</td>\n",
       "      <td>0.01</td>\n",
       "      <td>0.0100</td>\n",
       "      <td>0.0300</td>\n",
       "      <td>0.090</td>\n",
       "      <td>0.2300</td>\n",
       "      <td>2.5732</td>\n",
       "      <td>7.68</td>\n",
       "    </tr>\n",
       "    <tr>\n",
       "      <th>PSV</th>\n",
       "      <td>429.0</td>\n",
       "      <td>0.125431</td>\n",
       "      <td>0.212341</td>\n",
       "      <td>0.01</td>\n",
       "      <td>0.0100</td>\n",
       "      <td>0.0200</td>\n",
       "      <td>0.050</td>\n",
       "      <td>0.1300</td>\n",
       "      <td>1.2136</td>\n",
       "      <td>1.96</td>\n",
       "    </tr>\n",
       "    <tr>\n",
       "      <th>SAT</th>\n",
       "      <td>173.0</td>\n",
       "      <td>0.194162</td>\n",
       "      <td>0.218092</td>\n",
       "      <td>0.02</td>\n",
       "      <td>0.0200</td>\n",
       "      <td>0.0800</td>\n",
       "      <td>0.120</td>\n",
       "      <td>0.2600</td>\n",
       "      <td>1.1024</td>\n",
       "      <td>1.93</td>\n",
       "    </tr>\n",
       "    <tr>\n",
       "      <th>SCD</th>\n",
       "      <td>6.0</td>\n",
       "      <td>0.310000</td>\n",
       "      <td>0.584055</td>\n",
       "      <td>0.04</td>\n",
       "      <td>0.0405</td>\n",
       "      <td>0.0525</td>\n",
       "      <td>0.065</td>\n",
       "      <td>0.1225</td>\n",
       "      <td>1.4320</td>\n",
       "      <td>1.50</td>\n",
       "    </tr>\n",
       "    <tr>\n",
       "      <th>SNES</th>\n",
       "      <td>239.0</td>\n",
       "      <td>0.836987</td>\n",
       "      <td>1.869469</td>\n",
       "      <td>0.01</td>\n",
       "      <td>0.0200</td>\n",
       "      <td>0.1350</td>\n",
       "      <td>0.320</td>\n",
       "      <td>0.7050</td>\n",
       "      <td>9.0986</td>\n",
       "      <td>20.62</td>\n",
       "    </tr>\n",
       "    <tr>\n",
       "      <th>TG16</th>\n",
       "      <td>2.0</td>\n",
       "      <td>0.080000</td>\n",
       "      <td>0.084853</td>\n",
       "      <td>0.02</td>\n",
       "      <td>0.0212</td>\n",
       "      <td>0.0500</td>\n",
       "      <td>0.080</td>\n",
       "      <td>0.1100</td>\n",
       "      <td>0.1388</td>\n",
       "      <td>0.14</td>\n",
       "    </tr>\n",
       "    <tr>\n",
       "      <th>WS</th>\n",
       "      <td>6.0</td>\n",
       "      <td>0.236667</td>\n",
       "      <td>0.159457</td>\n",
       "      <td>0.03</td>\n",
       "      <td>0.0370</td>\n",
       "      <td>0.1725</td>\n",
       "      <td>0.215</td>\n",
       "      <td>0.2725</td>\n",
       "      <td>0.4985</td>\n",
       "      <td>0.51</td>\n",
       "    </tr>\n",
       "    <tr>\n",
       "      <th>Wii</th>\n",
       "      <td>1286.0</td>\n",
       "      <td>0.692986</td>\n",
       "      <td>3.165022</td>\n",
       "      <td>0.01</td>\n",
       "      <td>0.0100</td>\n",
       "      <td>0.0900</td>\n",
       "      <td>0.190</td>\n",
       "      <td>0.4875</td>\n",
       "      <td>8.0390</td>\n",
       "      <td>82.54</td>\n",
       "    </tr>\n",
       "    <tr>\n",
       "      <th>WiiU</th>\n",
       "      <td>147.0</td>\n",
       "      <td>0.559116</td>\n",
       "      <td>1.058836</td>\n",
       "      <td>0.01</td>\n",
       "      <td>0.0100</td>\n",
       "      <td>0.0800</td>\n",
       "      <td>0.220</td>\n",
       "      <td>0.5250</td>\n",
       "      <td>5.0644</td>\n",
       "      <td>7.09</td>\n",
       "    </tr>\n",
       "    <tr>\n",
       "      <th>X360</th>\n",
       "      <td>1232.0</td>\n",
       "      <td>0.780227</td>\n",
       "      <td>1.632122</td>\n",
       "      <td>0.01</td>\n",
       "      <td>0.0100</td>\n",
       "      <td>0.1100</td>\n",
       "      <td>0.280</td>\n",
       "      <td>0.7700</td>\n",
       "      <td>9.0591</td>\n",
       "      <td>21.82</td>\n",
       "    </tr>\n",
       "    <tr>\n",
       "      <th>XB</th>\n",
       "      <td>803.0</td>\n",
       "      <td>0.313288</td>\n",
       "      <td>0.539309</td>\n",
       "      <td>0.01</td>\n",
       "      <td>0.0100</td>\n",
       "      <td>0.0600</td>\n",
       "      <td>0.150</td>\n",
       "      <td>0.3400</td>\n",
       "      <td>2.1194</td>\n",
       "      <td>8.48</td>\n",
       "    </tr>\n",
       "    <tr>\n",
       "      <th>XOne</th>\n",
       "      <td>247.0</td>\n",
       "      <td>0.645020</td>\n",
       "      <td>1.036139</td>\n",
       "      <td>0.01</td>\n",
       "      <td>0.0100</td>\n",
       "      <td>0.0600</td>\n",
       "      <td>0.220</td>\n",
       "      <td>0.6850</td>\n",
       "      <td>4.9058</td>\n",
       "      <td>7.39</td>\n",
       "    </tr>\n",
       "  </tbody>\n",
       "</table>\n",
       "</div>"
      ],
      "text/plain": [
       "           count      mean       std   min      1%     25%    50%     75%  \\\n",
       "platform                                                                    \n",
       "2600       116.0  0.745517  0.956160  0.07  0.0790  0.3075  0.480  0.7800   \n",
       "3DO          3.0  0.033333  0.023094  0.02  0.0200  0.0200  0.020  0.0400   \n",
       "3DS        512.0  0.503535  1.441271  0.01  0.0100  0.0500  0.120  0.3325   \n",
       "DC          52.0  0.306731  0.468660  0.02  0.0302  0.0775  0.135  0.2975   \n",
       "DS        2121.0  0.378491  1.436042  0.01  0.0100  0.0500  0.110  0.2700   \n",
       "GB          97.0  2.622990  5.390925  0.06  0.0696  0.3000  1.180  2.1800   \n",
       "GBA        811.0  0.385795  0.899654  0.01  0.0100  0.0550  0.160  0.3900   \n",
       "GC         542.0  0.362970  0.693974  0.01  0.0100  0.0600  0.150  0.3675   \n",
       "GEN         27.0  1.050000  1.490041  0.03  0.0326  0.0700  0.150  1.7050   \n",
       "GG           1.0  0.040000       NaN  0.04  0.0400  0.0400  0.040  0.0400   \n",
       "N64        316.0  0.689905  1.322189  0.01  0.0215  0.1300  0.270  0.6000   \n",
       "NES         98.0  2.561735  5.108012  0.06  0.0697  1.0000  1.375  2.2225   \n",
       "NG          12.0  0.120000  0.082241  0.02  0.0211  0.0550  0.100  0.2000   \n",
       "PC         957.0  0.267252  0.679745  0.01  0.0100  0.0200  0.050  0.1700   \n",
       "PCFX         1.0  0.030000       NaN  0.03  0.0300  0.0300  0.030  0.0300   \n",
       "PS        1190.0  0.611412  1.056807  0.01  0.0200  0.1100  0.260  0.6600   \n",
       "PS2       2127.0  0.579953  1.138461  0.00  0.0100  0.0800  0.230  0.5600   \n",
       "PS3       1306.0  0.713124  1.403065  0.00  0.0100  0.1100  0.280  0.7600   \n",
       "PS4        392.0  0.801378  1.609456  0.01  0.0100  0.0600  0.200  0.7300   \n",
       "PSP       1193.0  0.242691  0.522019  0.01  0.0100  0.0300  0.090  0.2300   \n",
       "PSV        429.0  0.125431  0.212341  0.01  0.0100  0.0200  0.050  0.1300   \n",
       "SAT        173.0  0.194162  0.218092  0.02  0.0200  0.0800  0.120  0.2600   \n",
       "SCD          6.0  0.310000  0.584055  0.04  0.0405  0.0525  0.065  0.1225   \n",
       "SNES       239.0  0.836987  1.869469  0.01  0.0200  0.1350  0.320  0.7050   \n",
       "TG16         2.0  0.080000  0.084853  0.02  0.0212  0.0500  0.080  0.1100   \n",
       "WS           6.0  0.236667  0.159457  0.03  0.0370  0.1725  0.215  0.2725   \n",
       "Wii       1286.0  0.692986  3.165022  0.01  0.0100  0.0900  0.190  0.4875   \n",
       "WiiU       147.0  0.559116  1.058836  0.01  0.0100  0.0800  0.220  0.5250   \n",
       "X360      1232.0  0.780227  1.632122  0.01  0.0100  0.1100  0.280  0.7700   \n",
       "XB         803.0  0.313288  0.539309  0.01  0.0100  0.0600  0.150  0.3400   \n",
       "XOne       247.0  0.645020  1.036139  0.01  0.0100  0.0600  0.220  0.6850   \n",
       "\n",
       "              99%    max  \n",
       "platform                  \n",
       "2600       4.4715   7.81  \n",
       "3DO        0.0592   0.06  \n",
       "3DS        8.9918  14.60  \n",
       "DC         2.1040   2.41  \n",
       "DS         3.9240  29.80  \n",
       "GB        30.3048  31.38  \n",
       "GBA        2.9370  15.84  \n",
       "GC         3.0206   7.06  \n",
       "GEN        5.5806   6.02  \n",
       "GG         0.0400   0.04  \n",
       "N64        7.2940  11.90  \n",
       "NES       28.6679  40.24  \n",
       "NG         0.2478   0.25  \n",
       "PC         3.6760   8.01  \n",
       "PCFX       0.0300   0.03  \n",
       "PS         5.3573  10.95  \n",
       "PS2        4.5196  20.81  \n",
       "PS3        6.6320  21.05  \n",
       "PS4        7.6888  14.63  \n",
       "PSP        2.5732   7.68  \n",
       "PSV        1.2136   1.96  \n",
       "SAT        1.1024   1.93  \n",
       "SCD        1.4320   1.50  \n",
       "SNES       9.0986  20.62  \n",
       "TG16       0.1388   0.14  \n",
       "WS         0.4985   0.51  \n",
       "Wii        8.0390  82.54  \n",
       "WiiU       5.0644   7.09  \n",
       "X360       9.0591  21.82  \n",
       "XB         2.1194   8.48  \n",
       "XOne       4.9058   7.39  "
      ]
     },
     "metadata": {},
     "output_type": "display_data"
    },
    {
     "data": {
      "image/png": "[encoded data removed]",
      "text/plain": [
       "<Figure size 1080x720 with 1 Axes>"
      ]
     },
     "metadata": {
      "needs_background": "light"
     },
     "output_type": "display_data"
    }
   ],
   "source": [
    "hist_maker('platform', 'sum', 'total_sales')"
   ]
  },
  {
   "cell_type": "markdown",
   "id": "46c69e04",
   "metadata": {},
   "source": [
    "Данные отражают общие продажи игр на представленных платформах. Мы видим, что значительное преимущество по продажам за все года принадлежит **PS2**. Выходит, что это наиболее популярная платформа игр своего времени."
   ]
  },
  {
   "cell_type": "markdown",
   "id": "6dd63630",
   "metadata": {},
   "source": [
    "Теперь отберем топ-10 платформ по общим продажам в переменную `top_10` и проанализируем продажи по годам."
   ]
  },
  {
   "cell_type": "code",
   "execution_count": 33,
   "id": "e779ccaf",
   "metadata": {},
   "outputs": [],
   "source": [
    "top_10 = df.groupby('platform')['total_sales'].sum().to_frame('total_sales').sort_values(by='total_sales', ascending=False).head(10)"
   ]
  },
  {
   "cell_type": "code",
   "execution_count": 34,
   "id": "2c46b2bc",
   "metadata": {},
   "outputs": [
    {
     "data": {
      "image/png": "[encoded data removed]",
      "text/plain": [
       "<Figure size 720x360 with 1 Axes>"
      ]
     },
     "metadata": {
      "needs_background": "light"
     },
     "output_type": "display_data"
    }
   ],
   "source": [
    "top_10.plot(kind='bar', color='teal', alpha=0.5, figsize=(10,5), ec='black')\n",
    "plt.show()"
   ]
  },
  {
   "cell_type": "markdown",
   "id": "216268ec",
   "metadata": {},
   "source": [
    "Отобразим в сводной таблице как изменялись продажи на топовых платформах на протяжении всего периода времени."
   ]
  },
  {
   "cell_type": "code",
   "execution_count": 35,
   "id": "8f4940f2",
   "metadata": {},
   "outputs": [
    {
     "data": {
      "text/html": [
       "<div>\n",
       "<style scoped>\n",
       "    .dataframe tbody tr th:only-of-type {\n",
       "        vertical-align: middle;\n",
       "    }\n",
       "\n",
       "    .dataframe tbody tr th {\n",
       "        vertical-align: top;\n",
       "    }\n",
       "\n",
       "    .dataframe thead th {\n",
       "        text-align: right;\n",
       "    }\n",
       "</style>\n",
       "<table border=\"1\" class=\"dataframe\">\n",
       "  <thead>\n",
       "    <tr style=\"text-align: right;\">\n",
       "      <th>year_of_release</th>\n",
       "      <th>1980</th>\n",
       "      <th>1981</th>\n",
       "      <th>1982</th>\n",
       "      <th>1983</th>\n",
       "      <th>1984</th>\n",
       "      <th>1985</th>\n",
       "      <th>1986</th>\n",
       "      <th>1987</th>\n",
       "      <th>1988</th>\n",
       "      <th>1989</th>\n",
       "      <th>1990</th>\n",
       "      <th>1991</th>\n",
       "      <th>1992</th>\n",
       "      <th>1993</th>\n",
       "      <th>1994</th>\n",
       "      <th>1995</th>\n",
       "      <th>1996</th>\n",
       "      <th>1997</th>\n",
       "      <th>1998</th>\n",
       "      <th>1999</th>\n",
       "      <th>2000</th>\n",
       "      <th>2001</th>\n",
       "      <th>2002</th>\n",
       "      <th>2003</th>\n",
       "      <th>2004</th>\n",
       "      <th>2005</th>\n",
       "      <th>2006</th>\n",
       "      <th>2007</th>\n",
       "      <th>2008</th>\n",
       "      <th>2009</th>\n",
       "      <th>2010</th>\n",
       "      <th>2011</th>\n",
       "      <th>2012</th>\n",
       "      <th>2013</th>\n",
       "      <th>2014</th>\n",
       "      <th>2015</th>\n",
       "      <th>2016</th>\n",
       "    </tr>\n",
       "    <tr>\n",
       "      <th>platform</th>\n",
       "      <th></th>\n",
       "      <th></th>\n",
       "      <th></th>\n",
       "      <th></th>\n",
       "      <th></th>\n",
       "      <th></th>\n",
       "      <th></th>\n",
       "      <th></th>\n",
       "      <th></th>\n",
       "      <th></th>\n",
       "      <th></th>\n",
       "      <th></th>\n",
       "      <th></th>\n",
       "      <th></th>\n",
       "      <th></th>\n",
       "      <th></th>\n",
       "      <th></th>\n",
       "      <th></th>\n",
       "      <th></th>\n",
       "      <th></th>\n",
       "      <th></th>\n",
       "      <th></th>\n",
       "      <th></th>\n",
       "      <th></th>\n",
       "      <th></th>\n",
       "      <th></th>\n",
       "      <th></th>\n",
       "      <th></th>\n",
       "      <th></th>\n",
       "      <th></th>\n",
       "      <th></th>\n",
       "      <th></th>\n",
       "      <th></th>\n",
       "      <th></th>\n",
       "      <th></th>\n",
       "      <th></th>\n",
       "      <th></th>\n",
       "    </tr>\n",
       "  </thead>\n",
       "  <tbody>\n",
       "    <tr>\n",
       "      <th>3DS</th>\n",
       "      <td>NaN</td>\n",
       "      <td>NaN</td>\n",
       "      <td>NaN</td>\n",
       "      <td>NaN</td>\n",
       "      <td>NaN</td>\n",
       "      <td>NaN</td>\n",
       "      <td>NaN</td>\n",
       "      <td>NaN</td>\n",
       "      <td>NaN</td>\n",
       "      <td>NaN</td>\n",
       "      <td>NaN</td>\n",
       "      <td>NaN</td>\n",
       "      <td>NaN</td>\n",
       "      <td>NaN</td>\n",
       "      <td>NaN</td>\n",
       "      <td>NaN</td>\n",
       "      <td>NaN</td>\n",
       "      <td>NaN</td>\n",
       "      <td>NaN</td>\n",
       "      <td>NaN</td>\n",
       "      <td>NaN</td>\n",
       "      <td>NaN</td>\n",
       "      <td>NaN</td>\n",
       "      <td>NaN</td>\n",
       "      <td>NaN</td>\n",
       "      <td>NaN</td>\n",
       "      <td>NaN</td>\n",
       "      <td>NaN</td>\n",
       "      <td>NaN</td>\n",
       "      <td>NaN</td>\n",
       "      <td>NaN</td>\n",
       "      <td>63.20</td>\n",
       "      <td>51.36</td>\n",
       "      <td>56.57</td>\n",
       "      <td>43.76</td>\n",
       "      <td>27.78</td>\n",
       "      <td>15.14</td>\n",
       "    </tr>\n",
       "    <tr>\n",
       "      <th>DS</th>\n",
       "      <td>NaN</td>\n",
       "      <td>NaN</td>\n",
       "      <td>NaN</td>\n",
       "      <td>NaN</td>\n",
       "      <td>NaN</td>\n",
       "      <td>0.02</td>\n",
       "      <td>NaN</td>\n",
       "      <td>NaN</td>\n",
       "      <td>NaN</td>\n",
       "      <td>NaN</td>\n",
       "      <td>NaN</td>\n",
       "      <td>NaN</td>\n",
       "      <td>NaN</td>\n",
       "      <td>NaN</td>\n",
       "      <td>NaN</td>\n",
       "      <td>NaN</td>\n",
       "      <td>NaN</td>\n",
       "      <td>NaN</td>\n",
       "      <td>NaN</td>\n",
       "      <td>NaN</td>\n",
       "      <td>NaN</td>\n",
       "      <td>NaN</td>\n",
       "      <td>NaN</td>\n",
       "      <td>NaN</td>\n",
       "      <td>17.27</td>\n",
       "      <td>130.14</td>\n",
       "      <td>119.81</td>\n",
       "      <td>146.94</td>\n",
       "      <td>145.31</td>\n",
       "      <td>119.54</td>\n",
       "      <td>85.02</td>\n",
       "      <td>26.18</td>\n",
       "      <td>11.01</td>\n",
       "      <td>1.54</td>\n",
       "      <td>NaN</td>\n",
       "      <td>NaN</td>\n",
       "      <td>NaN</td>\n",
       "    </tr>\n",
       "    <tr>\n",
       "      <th>GBA</th>\n",
       "      <td>NaN</td>\n",
       "      <td>NaN</td>\n",
       "      <td>NaN</td>\n",
       "      <td>NaN</td>\n",
       "      <td>NaN</td>\n",
       "      <td>NaN</td>\n",
       "      <td>NaN</td>\n",
       "      <td>NaN</td>\n",
       "      <td>NaN</td>\n",
       "      <td>NaN</td>\n",
       "      <td>NaN</td>\n",
       "      <td>NaN</td>\n",
       "      <td>NaN</td>\n",
       "      <td>NaN</td>\n",
       "      <td>NaN</td>\n",
       "      <td>NaN</td>\n",
       "      <td>NaN</td>\n",
       "      <td>NaN</td>\n",
       "      <td>NaN</td>\n",
       "      <td>NaN</td>\n",
       "      <td>0.07</td>\n",
       "      <td>61.53</td>\n",
       "      <td>74.16</td>\n",
       "      <td>56.67</td>\n",
       "      <td>77.91</td>\n",
       "      <td>33.86</td>\n",
       "      <td>5.28</td>\n",
       "      <td>3.40</td>\n",
       "      <td>NaN</td>\n",
       "      <td>NaN</td>\n",
       "      <td>NaN</td>\n",
       "      <td>NaN</td>\n",
       "      <td>NaN</td>\n",
       "      <td>NaN</td>\n",
       "      <td>NaN</td>\n",
       "      <td>NaN</td>\n",
       "      <td>NaN</td>\n",
       "    </tr>\n",
       "    <tr>\n",
       "      <th>PS</th>\n",
       "      <td>NaN</td>\n",
       "      <td>NaN</td>\n",
       "      <td>NaN</td>\n",
       "      <td>NaN</td>\n",
       "      <td>NaN</td>\n",
       "      <td>NaN</td>\n",
       "      <td>NaN</td>\n",
       "      <td>NaN</td>\n",
       "      <td>NaN</td>\n",
       "      <td>NaN</td>\n",
       "      <td>NaN</td>\n",
       "      <td>NaN</td>\n",
       "      <td>NaN</td>\n",
       "      <td>NaN</td>\n",
       "      <td>6.03</td>\n",
       "      <td>35.96</td>\n",
       "      <td>94.7</td>\n",
       "      <td>136.17</td>\n",
       "      <td>169.49</td>\n",
       "      <td>144.53</td>\n",
       "      <td>96.37</td>\n",
       "      <td>35.59</td>\n",
       "      <td>6.67</td>\n",
       "      <td>2.07</td>\n",
       "      <td>NaN</td>\n",
       "      <td>NaN</td>\n",
       "      <td>NaN</td>\n",
       "      <td>NaN</td>\n",
       "      <td>NaN</td>\n",
       "      <td>NaN</td>\n",
       "      <td>NaN</td>\n",
       "      <td>NaN</td>\n",
       "      <td>NaN</td>\n",
       "      <td>NaN</td>\n",
       "      <td>NaN</td>\n",
       "      <td>NaN</td>\n",
       "      <td>NaN</td>\n",
       "    </tr>\n",
       "    <tr>\n",
       "      <th>PS2</th>\n",
       "      <td>NaN</td>\n",
       "      <td>NaN</td>\n",
       "      <td>NaN</td>\n",
       "      <td>NaN</td>\n",
       "      <td>NaN</td>\n",
       "      <td>NaN</td>\n",
       "      <td>NaN</td>\n",
       "      <td>NaN</td>\n",
       "      <td>NaN</td>\n",
       "      <td>NaN</td>\n",
       "      <td>NaN</td>\n",
       "      <td>NaN</td>\n",
       "      <td>NaN</td>\n",
       "      <td>NaN</td>\n",
       "      <td>NaN</td>\n",
       "      <td>NaN</td>\n",
       "      <td>NaN</td>\n",
       "      <td>NaN</td>\n",
       "      <td>NaN</td>\n",
       "      <td>NaN</td>\n",
       "      <td>39.17</td>\n",
       "      <td>166.43</td>\n",
       "      <td>205.38</td>\n",
       "      <td>184.31</td>\n",
       "      <td>211.81</td>\n",
       "      <td>160.66</td>\n",
       "      <td>103.42</td>\n",
       "      <td>75.99</td>\n",
       "      <td>53.90</td>\n",
       "      <td>26.40</td>\n",
       "      <td>5.64</td>\n",
       "      <td>0.45</td>\n",
       "      <td>NaN</td>\n",
       "      <td>NaN</td>\n",
       "      <td>NaN</td>\n",
       "      <td>NaN</td>\n",
       "      <td>NaN</td>\n",
       "    </tr>\n",
       "    <tr>\n",
       "      <th>PS3</th>\n",
       "      <td>NaN</td>\n",
       "      <td>NaN</td>\n",
       "      <td>NaN</td>\n",
       "      <td>NaN</td>\n",
       "      <td>NaN</td>\n",
       "      <td>NaN</td>\n",
       "      <td>NaN</td>\n",
       "      <td>NaN</td>\n",
       "      <td>NaN</td>\n",
       "      <td>NaN</td>\n",
       "      <td>NaN</td>\n",
       "      <td>NaN</td>\n",
       "      <td>NaN</td>\n",
       "      <td>NaN</td>\n",
       "      <td>NaN</td>\n",
       "      <td>NaN</td>\n",
       "      <td>NaN</td>\n",
       "      <td>NaN</td>\n",
       "      <td>NaN</td>\n",
       "      <td>NaN</td>\n",
       "      <td>NaN</td>\n",
       "      <td>NaN</td>\n",
       "      <td>NaN</td>\n",
       "      <td>NaN</td>\n",
       "      <td>NaN</td>\n",
       "      <td>NaN</td>\n",
       "      <td>20.96</td>\n",
       "      <td>73.19</td>\n",
       "      <td>118.52</td>\n",
       "      <td>130.93</td>\n",
       "      <td>142.17</td>\n",
       "      <td>156.78</td>\n",
       "      <td>107.36</td>\n",
       "      <td>113.25</td>\n",
       "      <td>47.76</td>\n",
       "      <td>16.82</td>\n",
       "      <td>3.60</td>\n",
       "    </tr>\n",
       "    <tr>\n",
       "      <th>PS4</th>\n",
       "      <td>NaN</td>\n",
       "      <td>NaN</td>\n",
       "      <td>NaN</td>\n",
       "      <td>NaN</td>\n",
       "      <td>NaN</td>\n",
       "      <td>NaN</td>\n",
       "      <td>NaN</td>\n",
       "      <td>NaN</td>\n",
       "      <td>NaN</td>\n",
       "      <td>NaN</td>\n",
       "      <td>NaN</td>\n",
       "      <td>NaN</td>\n",
       "      <td>NaN</td>\n",
       "      <td>NaN</td>\n",
       "      <td>NaN</td>\n",
       "      <td>NaN</td>\n",
       "      <td>NaN</td>\n",
       "      <td>NaN</td>\n",
       "      <td>NaN</td>\n",
       "      <td>NaN</td>\n",
       "      <td>NaN</td>\n",
       "      <td>NaN</td>\n",
       "      <td>NaN</td>\n",
       "      <td>NaN</td>\n",
       "      <td>NaN</td>\n",
       "      <td>NaN</td>\n",
       "      <td>NaN</td>\n",
       "      <td>NaN</td>\n",
       "      <td>NaN</td>\n",
       "      <td>NaN</td>\n",
       "      <td>NaN</td>\n",
       "      <td>NaN</td>\n",
       "      <td>NaN</td>\n",
       "      <td>25.99</td>\n",
       "      <td>100.00</td>\n",
       "      <td>118.90</td>\n",
       "      <td>69.25</td>\n",
       "    </tr>\n",
       "    <tr>\n",
       "      <th>PSP</th>\n",
       "      <td>NaN</td>\n",
       "      <td>NaN</td>\n",
       "      <td>NaN</td>\n",
       "      <td>NaN</td>\n",
       "      <td>NaN</td>\n",
       "      <td>NaN</td>\n",
       "      <td>NaN</td>\n",
       "      <td>NaN</td>\n",
       "      <td>NaN</td>\n",
       "      <td>NaN</td>\n",
       "      <td>NaN</td>\n",
       "      <td>NaN</td>\n",
       "      <td>NaN</td>\n",
       "      <td>NaN</td>\n",
       "      <td>NaN</td>\n",
       "      <td>NaN</td>\n",
       "      <td>NaN</td>\n",
       "      <td>NaN</td>\n",
       "      <td>NaN</td>\n",
       "      <td>NaN</td>\n",
       "      <td>NaN</td>\n",
       "      <td>NaN</td>\n",
       "      <td>NaN</td>\n",
       "      <td>NaN</td>\n",
       "      <td>7.06</td>\n",
       "      <td>43.84</td>\n",
       "      <td>55.32</td>\n",
       "      <td>46.93</td>\n",
       "      <td>34.55</td>\n",
       "      <td>37.78</td>\n",
       "      <td>35.04</td>\n",
       "      <td>17.82</td>\n",
       "      <td>7.69</td>\n",
       "      <td>3.14</td>\n",
       "      <td>0.24</td>\n",
       "      <td>0.12</td>\n",
       "      <td>NaN</td>\n",
       "    </tr>\n",
       "    <tr>\n",
       "      <th>Wii</th>\n",
       "      <td>NaN</td>\n",
       "      <td>NaN</td>\n",
       "      <td>NaN</td>\n",
       "      <td>NaN</td>\n",
       "      <td>NaN</td>\n",
       "      <td>NaN</td>\n",
       "      <td>NaN</td>\n",
       "      <td>NaN</td>\n",
       "      <td>NaN</td>\n",
       "      <td>NaN</td>\n",
       "      <td>NaN</td>\n",
       "      <td>NaN</td>\n",
       "      <td>NaN</td>\n",
       "      <td>NaN</td>\n",
       "      <td>NaN</td>\n",
       "      <td>NaN</td>\n",
       "      <td>NaN</td>\n",
       "      <td>NaN</td>\n",
       "      <td>NaN</td>\n",
       "      <td>NaN</td>\n",
       "      <td>NaN</td>\n",
       "      <td>NaN</td>\n",
       "      <td>NaN</td>\n",
       "      <td>NaN</td>\n",
       "      <td>NaN</td>\n",
       "      <td>NaN</td>\n",
       "      <td>137.15</td>\n",
       "      <td>152.77</td>\n",
       "      <td>171.32</td>\n",
       "      <td>206.97</td>\n",
       "      <td>127.95</td>\n",
       "      <td>59.65</td>\n",
       "      <td>21.71</td>\n",
       "      <td>8.59</td>\n",
       "      <td>3.75</td>\n",
       "      <td>1.14</td>\n",
       "      <td>0.18</td>\n",
       "    </tr>\n",
       "    <tr>\n",
       "      <th>X360</th>\n",
       "      <td>NaN</td>\n",
       "      <td>NaN</td>\n",
       "      <td>NaN</td>\n",
       "      <td>NaN</td>\n",
       "      <td>NaN</td>\n",
       "      <td>NaN</td>\n",
       "      <td>NaN</td>\n",
       "      <td>NaN</td>\n",
       "      <td>NaN</td>\n",
       "      <td>NaN</td>\n",
       "      <td>NaN</td>\n",
       "      <td>NaN</td>\n",
       "      <td>NaN</td>\n",
       "      <td>NaN</td>\n",
       "      <td>NaN</td>\n",
       "      <td>NaN</td>\n",
       "      <td>NaN</td>\n",
       "      <td>NaN</td>\n",
       "      <td>NaN</td>\n",
       "      <td>NaN</td>\n",
       "      <td>NaN</td>\n",
       "      <td>NaN</td>\n",
       "      <td>NaN</td>\n",
       "      <td>NaN</td>\n",
       "      <td>NaN</td>\n",
       "      <td>8.25</td>\n",
       "      <td>51.62</td>\n",
       "      <td>95.41</td>\n",
       "      <td>135.26</td>\n",
       "      <td>120.29</td>\n",
       "      <td>170.03</td>\n",
       "      <td>143.84</td>\n",
       "      <td>99.74</td>\n",
       "      <td>88.58</td>\n",
       "      <td>34.74</td>\n",
       "      <td>11.96</td>\n",
       "      <td>1.52</td>\n",
       "    </tr>\n",
       "  </tbody>\n",
       "</table>\n",
       "</div>"
      ],
      "text/plain": [
       "year_of_release  1980  1981  1982  1983  1984  1985  1986  1987  1988  1989  \\\n",
       "platform                                                                      \n",
       "3DS               NaN   NaN   NaN   NaN   NaN   NaN   NaN   NaN   NaN   NaN   \n",
       "DS                NaN   NaN   NaN   NaN   NaN  0.02   NaN   NaN   NaN   NaN   \n",
       "GBA               NaN   NaN   NaN   NaN   NaN   NaN   NaN   NaN   NaN   NaN   \n",
       "PS                NaN   NaN   NaN   NaN   NaN   NaN   NaN   NaN   NaN   NaN   \n",
       "PS2               NaN   NaN   NaN   NaN   NaN   NaN   NaN   NaN   NaN   NaN   \n",
       "PS3               NaN   NaN   NaN   NaN   NaN   NaN   NaN   NaN   NaN   NaN   \n",
       "PS4               NaN   NaN   NaN   NaN   NaN   NaN   NaN   NaN   NaN   NaN   \n",
       "PSP               NaN   NaN   NaN   NaN   NaN   NaN   NaN   NaN   NaN   NaN   \n",
       "Wii               NaN   NaN   NaN   NaN   NaN   NaN   NaN   NaN   NaN   NaN   \n",
       "X360              NaN   NaN   NaN   NaN   NaN   NaN   NaN   NaN   NaN   NaN   \n",
       "\n",
       "year_of_release  1990  1991  1992  1993  1994   1995  1996    1997    1998  \\\n",
       "platform                                                                     \n",
       "3DS               NaN   NaN   NaN   NaN   NaN    NaN   NaN     NaN     NaN   \n",
       "DS                NaN   NaN   NaN   NaN   NaN    NaN   NaN     NaN     NaN   \n",
       "GBA               NaN   NaN   NaN   NaN   NaN    NaN   NaN     NaN     NaN   \n",
       "PS                NaN   NaN   NaN   NaN  6.03  35.96  94.7  136.17  169.49   \n",
       "PS2               NaN   NaN   NaN   NaN   NaN    NaN   NaN     NaN     NaN   \n",
       "PS3               NaN   NaN   NaN   NaN   NaN    NaN   NaN     NaN     NaN   \n",
       "PS4               NaN   NaN   NaN   NaN   NaN    NaN   NaN     NaN     NaN   \n",
       "PSP               NaN   NaN   NaN   NaN   NaN    NaN   NaN     NaN     NaN   \n",
       "Wii               NaN   NaN   NaN   NaN   NaN    NaN   NaN     NaN     NaN   \n",
       "X360              NaN   NaN   NaN   NaN   NaN    NaN   NaN     NaN     NaN   \n",
       "\n",
       "year_of_release    1999   2000    2001    2002    2003    2004    2005  \\\n",
       "platform                                                                 \n",
       "3DS                 NaN    NaN     NaN     NaN     NaN     NaN     NaN   \n",
       "DS                  NaN    NaN     NaN     NaN     NaN   17.27  130.14   \n",
       "GBA                 NaN   0.07   61.53   74.16   56.67   77.91   33.86   \n",
       "PS               144.53  96.37   35.59    6.67    2.07     NaN     NaN   \n",
       "PS2                 NaN  39.17  166.43  205.38  184.31  211.81  160.66   \n",
       "PS3                 NaN    NaN     NaN     NaN     NaN     NaN     NaN   \n",
       "PS4                 NaN    NaN     NaN     NaN     NaN     NaN     NaN   \n",
       "PSP                 NaN    NaN     NaN     NaN     NaN    7.06   43.84   \n",
       "Wii                 NaN    NaN     NaN     NaN     NaN     NaN     NaN   \n",
       "X360                NaN    NaN     NaN     NaN     NaN     NaN    8.25   \n",
       "\n",
       "year_of_release    2006    2007    2008    2009    2010    2011    2012  \\\n",
       "platform                                                                  \n",
       "3DS                 NaN     NaN     NaN     NaN     NaN   63.20   51.36   \n",
       "DS               119.81  146.94  145.31  119.54   85.02   26.18   11.01   \n",
       "GBA                5.28    3.40     NaN     NaN     NaN     NaN     NaN   \n",
       "PS                  NaN     NaN     NaN     NaN     NaN     NaN     NaN   \n",
       "PS2              103.42   75.99   53.90   26.40    5.64    0.45     NaN   \n",
       "PS3               20.96   73.19  118.52  130.93  142.17  156.78  107.36   \n",
       "PS4                 NaN     NaN     NaN     NaN     NaN     NaN     NaN   \n",
       "PSP               55.32   46.93   34.55   37.78   35.04   17.82    7.69   \n",
       "Wii              137.15  152.77  171.32  206.97  127.95   59.65   21.71   \n",
       "X360              51.62   95.41  135.26  120.29  170.03  143.84   99.74   \n",
       "\n",
       "year_of_release    2013    2014    2015   2016  \n",
       "platform                                        \n",
       "3DS               56.57   43.76   27.78  15.14  \n",
       "DS                 1.54     NaN     NaN    NaN  \n",
       "GBA                 NaN     NaN     NaN    NaN  \n",
       "PS                  NaN     NaN     NaN    NaN  \n",
       "PS2                 NaN     NaN     NaN    NaN  \n",
       "PS3              113.25   47.76   16.82   3.60  \n",
       "PS4               25.99  100.00  118.90  69.25  \n",
       "PSP                3.14    0.24    0.12    NaN  \n",
       "Wii                8.59    3.75    1.14   0.18  \n",
       "X360              88.58   34.74   11.96   1.52  "
      ]
     },
     "execution_count": 35,
     "metadata": {},
     "output_type": "execute_result"
    }
   ],
   "source": [
    "df.pivot_table(index='platform', values='total_sales', columns='year_of_release', aggfunc='sum').query('index in @top_10.index')"
   ]
  },
  {
   "cell_type": "markdown",
   "id": "30d7d66d",
   "metadata": {},
   "source": [
    "Для отображения данных по продажам воспользуемся функцией `hist_maker_platforms`."
   ]
  },
  {
   "cell_type": "code",
   "execution_count": 36,
   "id": "7f160f01",
   "metadata": {},
   "outputs": [
    {
     "data": {
      "image/png": "[encoded data removed]",
      "text/plain": [
       "<Figure size 1080x360 with 1 Axes>"
      ]
     },
     "metadata": {
      "needs_background": "light"
     },
     "output_type": "display_data"
    }
   ],
   "source": [
    "hist_maker_platforms(platforms=list(top_10.index))"
   ]
  },
  {
   "cell_type": "markdown",
   "id": "3fbb612b",
   "metadata": {},
   "source": [
    "Можно заметить следующие закономерности:\n",
    "- В среднем цикл жизни платформы составляет до 10 лет;\n",
    "- Платформы с длительным циклом жизни имеют меньшие глобальные продажи;\n",
    "- Начиная с 2005 года появляются бо́льшее количество платформ;\n",
    "- Платформы PS сменяют одну за другой и набирают наибольшие продажи, в то время как платформа PC стабильна на протяжении всего периода."
   ]
  },
  {
   "cell_type": "markdown",
   "id": "b5fdc405",
   "metadata": {},
   "source": [
    "Рассмотрим как изменилась ситуация среди топовых прощадок за последние 5 лет более детально. \n",
    "\n",
    "*Будем считать это актуальным периодом, поскольку в среднем жизненный цикл платформ около 10 лет, а пиковые значения приходятся на середину цикла.*"
   ]
  },
  {
   "cell_type": "code",
   "execution_count": 37,
   "id": "87b75ed7",
   "metadata": {},
   "outputs": [
    {
     "data": {
      "image/png": "[encoded data removed]",
      "text/plain": [
       "<Figure size 1080x360 with 1 Axes>"
      ]
     },
     "metadata": {
      "needs_background": "light"
     },
     "output_type": "display_data"
    }
   ],
   "source": [
    "hist_maker_platforms(query='year_of_release > 2011')"
   ]
  },
  {
   "cell_type": "markdown",
   "id": "f949736c",
   "metadata": {},
   "source": [
    "Мы видим, что продажи лидируют на платформе PS4, в то время как устаревшие ее аналоги стремительно выходят из оборота.\n",
    "XOne и 3DS (Nintendo) разделяют второе и третье места по общим продажам, а остальные платформы держатся сравнительно на одном уровне."
   ]
  },
  {
   "cell_type": "markdown",
   "id": "1d2d6728",
   "metadata": {},
   "source": [
    "Построим график «ящик с усами» по глобальным продажам игр в разбивке по топ-3 платформам. "
   ]
  },
  {
   "cell_type": "code",
   "execution_count": 38,
   "id": "d1337ed1",
   "metadata": {},
   "outputs": [],
   "source": [
    "top_3 = ['PS4', 'XOne', '3DS'] # выборка платформ"
   ]
  },
  {
   "cell_type": "markdown",
   "id": "91b5bff4",
   "metadata": {},
   "source": [
    "Для дальнейшего анализа введем новую переменную `top_df` в ней будет содержаться `df` за последние 5 лет (актуальный период)."
   ]
  },
  {
   "cell_type": "code",
   "execution_count": 39,
   "id": "280d3785",
   "metadata": {},
   "outputs": [],
   "source": [
    "top_df = df.query('year_of_release > 2011')"
   ]
  },
  {
   "cell_type": "code",
   "execution_count": 40,
   "id": "091d7a6f",
   "metadata": {},
   "outputs": [
    {
     "name": "stdout",
     "output_type": "stream",
     "text": [
      "Глобальные продажи по платформам: ['PS4', 'XOne', '3DS']\n"
     ]
    },
    {
     "data": {
      "image/png": "[encoded data removed]",
      "text/plain": [
       "<Figure size 1080x360 with 2 Axes>"
      ]
     },
     "metadata": {
      "needs_background": "light"
     },
     "output_type": "display_data"
    }
   ],
   "source": [
    "# график «ящик с усами» по глобальным продажам игр\n",
    "print(f'Глобальные продажи по платформам: {top_3}')\n",
    "plt.figure(figsize=(15, 5))\n",
    "\n",
    "# график в масштабах\n",
    "sns.boxplot(data = top_df.query('platform == @top_3'), x='total_sales', y='platform', boxprops=dict(alpha=0.5), ax = plt.subplot(1,2,1))\n",
    "plt.ylim(-1, 3)\n",
    "sns.boxplot(data = top_df.query('platform == @top_3'), x='total_sales', y='platform', boxprops=dict(alpha=0.5), ax = plt.subplot(1,2,2))\n",
    "plt.xlim(0, 1,5)\n",
    "\n",
    "plt.show()"
   ]
  },
  {
   "cell_type": "markdown",
   "id": "33b5a5dc",
   "metadata": {},
   "source": [
    "Выбросы на графике отображают наиболее популярные игры - их покупают чаще всего. У 3DS и PS4 их значительно больше, чем у XOne.\n",
    "Но по продажам 3DS значительно отстает от своих конкурентов."
   ]
  },
  {
   "cell_type": "markdown",
   "id": "e95ce5a6",
   "metadata": {},
   "source": [
    "### Анализ влияния отзывов на продажи"
   ]
  },
  {
   "cell_type": "markdown",
   "id": "0444fba3",
   "metadata": {},
   "source": [
    "Рассмотрим как влияют на продажи отзывы пользователей и критиков на примере топ-3 платформ. Построим диаграмму рассеяния и посчитаем корреляцию между отзывами и продажами с помощью цикла."
   ]
  },
  {
   "cell_type": "code",
   "execution_count": 41,
   "id": "d47f4f8a",
   "metadata": {},
   "outputs": [
    {
     "name": "stdout",
     "output_type": "stream",
     "text": [
      "------------- Платформа PS4 -------------\n"
     ]
    },
    {
     "data": {
      "text/html": [
       "<div>\n",
       "<style scoped>\n",
       "    .dataframe tbody tr th:only-of-type {\n",
       "        vertical-align: middle;\n",
       "    }\n",
       "\n",
       "    .dataframe tbody tr th {\n",
       "        vertical-align: top;\n",
       "    }\n",
       "\n",
       "    .dataframe thead th {\n",
       "        text-align: right;\n",
       "    }\n",
       "</style>\n",
       "<table border=\"1\" class=\"dataframe\">\n",
       "  <thead>\n",
       "    <tr style=\"text-align: right;\">\n",
       "      <th></th>\n",
       "      <th>total_sales</th>\n",
       "      <th>user_score</th>\n",
       "      <th>critic_score</th>\n",
       "    </tr>\n",
       "  </thead>\n",
       "  <tbody>\n",
       "    <tr>\n",
       "      <th>total_sales</th>\n",
       "      <td>1.000000</td>\n",
       "      <td>-0.033625</td>\n",
       "      <td>0.405895</td>\n",
       "    </tr>\n",
       "    <tr>\n",
       "      <th>user_score</th>\n",
       "      <td>-0.033625</td>\n",
       "      <td>1.000000</td>\n",
       "      <td>0.557654</td>\n",
       "    </tr>\n",
       "    <tr>\n",
       "      <th>critic_score</th>\n",
       "      <td>0.405895</td>\n",
       "      <td>0.557654</td>\n",
       "      <td>1.000000</td>\n",
       "    </tr>\n",
       "  </tbody>\n",
       "</table>\n",
       "</div>"
      ],
      "text/plain": [
       "              total_sales  user_score  critic_score\n",
       "total_sales      1.000000   -0.033625      0.405895\n",
       "user_score      -0.033625    1.000000      0.557654\n",
       "critic_score     0.405895    0.557654      1.000000"
      ]
     },
     "metadata": {},
     "output_type": "display_data"
    },
    {
     "data": {
      "image/png": "[encoded data removed]",
      "text/plain": [
       "<Figure size 1080x360 with 2 Axes>"
      ]
     },
     "metadata": {
      "needs_background": "light"
     },
     "output_type": "display_data"
    },
    {
     "name": "stdout",
     "output_type": "stream",
     "text": [
      "------------- Платформа XOne -------------\n"
     ]
    },
    {
     "data": {
      "text/html": [
       "<div>\n",
       "<style scoped>\n",
       "    .dataframe tbody tr th:only-of-type {\n",
       "        vertical-align: middle;\n",
       "    }\n",
       "\n",
       "    .dataframe tbody tr th {\n",
       "        vertical-align: top;\n",
       "    }\n",
       "\n",
       "    .dataframe thead th {\n",
       "        text-align: right;\n",
       "    }\n",
       "</style>\n",
       "<table border=\"1\" class=\"dataframe\">\n",
       "  <thead>\n",
       "    <tr style=\"text-align: right;\">\n",
       "      <th></th>\n",
       "      <th>total_sales</th>\n",
       "      <th>user_score</th>\n",
       "      <th>critic_score</th>\n",
       "    </tr>\n",
       "  </thead>\n",
       "  <tbody>\n",
       "    <tr>\n",
       "      <th>total_sales</th>\n",
       "      <td>1.000000</td>\n",
       "      <td>-0.094003</td>\n",
       "      <td>0.410422</td>\n",
       "    </tr>\n",
       "    <tr>\n",
       "      <th>user_score</th>\n",
       "      <td>-0.094003</td>\n",
       "      <td>1.000000</td>\n",
       "      <td>0.472462</td>\n",
       "    </tr>\n",
       "    <tr>\n",
       "      <th>critic_score</th>\n",
       "      <td>0.410422</td>\n",
       "      <td>0.472462</td>\n",
       "      <td>1.000000</td>\n",
       "    </tr>\n",
       "  </tbody>\n",
       "</table>\n",
       "</div>"
      ],
      "text/plain": [
       "              total_sales  user_score  critic_score\n",
       "total_sales      1.000000   -0.094003      0.410422\n",
       "user_score      -0.094003    1.000000      0.472462\n",
       "critic_score     0.410422    0.472462      1.000000"
      ]
     },
     "metadata": {},
     "output_type": "display_data"
    },
    {
     "data": {
      "image/png": "[encoded data removed]",
      "text/plain": [
       "<Figure size 1080x360 with 2 Axes>"
      ]
     },
     "metadata": {
      "needs_background": "light"
     },
     "output_type": "display_data"
    },
    {
     "name": "stdout",
     "output_type": "stream",
     "text": [
      "------------- Платформа 3DS -------------\n"
     ]
    },
    {
     "data": {
      "text/html": [
       "<div>\n",
       "<style scoped>\n",
       "    .dataframe tbody tr th:only-of-type {\n",
       "        vertical-align: middle;\n",
       "    }\n",
       "\n",
       "    .dataframe tbody tr th {\n",
       "        vertical-align: top;\n",
       "    }\n",
       "\n",
       "    .dataframe thead th {\n",
       "        text-align: right;\n",
       "    }\n",
       "</style>\n",
       "<table border=\"1\" class=\"dataframe\">\n",
       "  <thead>\n",
       "    <tr style=\"text-align: right;\">\n",
       "      <th></th>\n",
       "      <th>total_sales</th>\n",
       "      <th>user_score</th>\n",
       "      <th>critic_score</th>\n",
       "    </tr>\n",
       "  </thead>\n",
       "  <tbody>\n",
       "    <tr>\n",
       "      <th>total_sales</th>\n",
       "      <td>1.000000</td>\n",
       "      <td>0.201813</td>\n",
       "      <td>0.310553</td>\n",
       "    </tr>\n",
       "    <tr>\n",
       "      <th>user_score</th>\n",
       "      <td>0.201813</td>\n",
       "      <td>1.000000</td>\n",
       "      <td>0.722762</td>\n",
       "    </tr>\n",
       "    <tr>\n",
       "      <th>critic_score</th>\n",
       "      <td>0.310553</td>\n",
       "      <td>0.722762</td>\n",
       "      <td>1.000000</td>\n",
       "    </tr>\n",
       "  </tbody>\n",
       "</table>\n",
       "</div>"
      ],
      "text/plain": [
       "              total_sales  user_score  critic_score\n",
       "total_sales      1.000000    0.201813      0.310553\n",
       "user_score       0.201813    1.000000      0.722762\n",
       "critic_score     0.310553    0.722762      1.000000"
      ]
     },
     "metadata": {},
     "output_type": "display_data"
    },
    {
     "data": {
      "image/png": "[encoded data removed]",
      "text/plain": [
       "<Figure size 1080x360 with 2 Axes>"
      ]
     },
     "metadata": {
      "needs_background": "light"
     },
     "output_type": "display_data"
    }
   ],
   "source": [
    "# цикл построения диаграммы рассеяния\n",
    "for platform_corr in top_3:\n",
    "    \n",
    "    # коэффициент корреляции Пирсона \n",
    "    i = [platform_corr]\n",
    "    print(f'------------- Платформа {platform_corr} -------------')\n",
    "    display(top_df.query('platform == @i and user_score != -1 and critic_score != -1')[['total_sales', 'user_score', 'critic_score']].corr())\n",
    "    \n",
    "    # построение диаграмм рассеяния\n",
    "    plt.figure(figsize=(15, 5))\n",
    "    top_df.query('platform == @i and user_score != -1').plot(x='user_score', y='total_sales', kind='scatter', grid=True, style='o', alpha=0.5, ax = plt.subplot(1,2,1))\n",
    "    top_df.query('platform == @i and critic_score != -1').plot(x='critic_score', y='total_sales', kind='scatter', grid=True, style='o', alpha=0.5, ax = plt.subplot(1,2,2))\n",
    "\n",
    "    plt.show()"
   ]
  },
  {
   "cell_type": "markdown",
   "id": "da8dce0e",
   "metadata": {},
   "source": [
    "На основе полученных данных мы можем сделать вывод, что оценка критиков влияет глобальные продажи игр на платформах. Корреляция положительна, что значит чем выше отзыв — тем больше продажи. Больше всего зависимости выражены на платформах PS4 и XOne.\n",
    "\n",
    "Стоит также отметить, что и отзывы между критиками и пользователями значительно совпадают. По этому критерию лидируют 3DS и PS4."
   ]
  },
  {
   "cell_type": "markdown",
   "id": "703ddd51",
   "metadata": {},
   "source": [
    "### Анализ жанров игр"
   ]
  },
  {
   "cell_type": "markdown",
   "id": "3ef8b9fd",
   "metadata": {},
   "source": [
    "Посмотрим на общее распределение игр по жанрам с помощью круговой диаграммы."
   ]
  },
  {
   "cell_type": "code",
   "execution_count": 42,
   "id": "3eee219f",
   "metadata": {},
   "outputs": [
    {
     "data": {
      "image/png": "[encoded data removed]",
      "text/plain": [
       "<Figure size 432x720 with 1 Axes>"
      ]
     },
     "metadata": {},
     "output_type": "display_data"
    }
   ],
   "source": [
    "plt.subplots(figsize=(6, 10))\n",
    "plt.pie(top_df['genre'].value_counts(normalize=True), labels=top_df['genre'].value_counts().index, autopct='%1.1f%%', wedgeprops={'alpha':0.5})\n",
    "\n",
    "plt.title('genre')\n",
    "plt.show()"
   ]
  },
  {
   "cell_type": "markdown",
   "id": "ed808116",
   "metadata": {},
   "source": [
    "Всего 12 жанров. Из всех представленных игр, наибольшее число составляют жанры `Action` (экшен), `Role-Playing` (ролевая игра) и `Adventure` (приключения).\n",
    "Наименьшее число составляют `Puzzle` (пазлы), `Strategy` (стратегия) и `Simulation` (симулятор)."
   ]
  },
  {
   "cell_type": "markdown",
   "id": "2d115e44",
   "metadata": {},
   "source": [
    "Задействуем функцию `hist_maker_plot`, которая позволит нам сгруппировать данные по таблице по заданным параметрам, провести сортировку и построить график."
   ]
  },
  {
   "cell_type": "markdown",
   "id": "8db651d8",
   "metadata": {},
   "source": [
    "Рассмотрим графики глобальных продаж игр по жанрам с наименьшей и наибольшей доходностью."
   ]
  },
  {
   "cell_type": "code",
   "execution_count": 43,
   "id": "8cf456e7",
   "metadata": {},
   "outputs": [
    {
     "data": {
      "image/png": "[encoded data removed]",
      "text/plain": [
       "<Figure size 1080x360 with 2 Axes>"
      ]
     },
     "metadata": {
      "needs_background": "light"
     },
     "output_type": "display_data"
    }
   ],
   "source": [
    "fig, axes = plt.subplots(1, 2, figsize=(15,5))\n",
    "hist_maker_plot('genre', 'total_sales', False, 0)\n",
    "hist_maker_plot('genre', 'total_sales', True, 1)"
   ]
  },
  {
   "cell_type": "code",
   "execution_count": 44,
   "id": "0735b0bc",
   "metadata": {},
   "outputs": [
    {
     "data": {
      "image/png": "[encoded data removed]",
      "text/plain": [
       "<Figure size 1080x360 with 1 Axes>"
      ]
     },
     "metadata": {
      "needs_background": "light"
     },
     "output_type": "display_data"
    }
   ],
   "source": [
    "# группировка и создание сводной таблицы\n",
    "sales_by_genre = top_df.groupby(['genre'])['total_sales'].median().reset_index().sort_values(by='total_sales', ascending=False)\n",
    "# построение графика\n",
    "plt.figure(figsize=(15, 5))\n",
    "sns.barplot(x=sales_by_genre['genre'], y=sales_by_genre['total_sales'], color='teal', alpha=0.5, ec='black')\n",
    "\n",
    "plt.ylabel('Медианы продаж')\n",
    "plt.tight_layout()"
   ]
  },
  {
   "cell_type": "markdown",
   "id": "29919d84",
   "metadata": {},
   "source": [
    "### Выводы по анализу данных"
   ]
  },
  {
   "cell_type": "markdown",
   "id": "d33188d4",
   "metadata": {},
   "source": [
    "С момента выхода первых игр в 1980 году и до 2008 года наблюдался стабильный рост производства. Наибольшее количество выпущенных игр за год составило 1441 шт. (2008 год). После, начиная с 2009 года наблюдается спад. Частично можно это связать с развитием социальных сетей, интернет-пространств. Кроме того игры с годами стали сложнее и масштабнее и требуют больших трудозатрат на производство, и, как следствие, больше времени на разработку.\n",
    "\n",
    "Платформы для игр в среднем живут около 10 лет, после чего на смену приходят более новые версии. Пиковые продажи игр приходятся на середину цикла жизни платформы, что определяет актуальный период в 5 лет. Объясняется это так же развитием игровой индустрии. Платформы с более длительным циклом, такие как PC имеют меньшие глобальные продажи, однако большую постоянность. Бесспорным лидером продаж остаются платформы PS. Так, за 2016 год PS4 собрала порядка 70 млн. проданных копий игр.\n",
    "\n",
    "На продажи игр среди топовых платформ в значительной мере влияют отзывы критиков, а те в свою очередь во многом сходятся с отзывами пользователей. Наиболее ярковыраженная зависимость прослеживается у PS4 и XOne.\n",
    "\n",
    "Самыми прибыльными жанрами среди всех пользователей являются `Shooter` (шутер), `Sports` (спорт) и `Platform` (платформер). Это также потверждают наиболее продаваемые игры последних лет — все они выпущенны в этих жанрах. Причем `Action` лидирует со значительным отрывом (около 1,7 млн копий). Наиболее низкие продажи у `Puzzle` (пазлы).\n"
   ]
  },
  {
   "cell_type": "markdown",
   "id": "bd6284f4",
   "metadata": {},
   "source": [
    "## Портрет пользователя каждого региона"
   ]
  },
  {
   "cell_type": "markdown",
   "id": "b34e608c",
   "metadata": {},
   "source": [
    "Составим портрет пользователя для каждого региона. Всего их представленно три:\n",
    "- `na_sales` — продажи в Северной Америке (миллионы проданных копий)\n",
    "- `eu_sales` — продажи в Европе (миллионы проданных копий)\n",
    "- `jp_sales` — продажи в Японии (миллионы проданных копий)"
   ]
  },
  {
   "cell_type": "markdown",
   "id": "5c5b192d",
   "metadata": {},
   "source": [
    "### Топ-5 платформ среди пользователей каждого региона"
   ]
  },
  {
   "cell_type": "markdown",
   "id": "80e53c0f",
   "metadata": {},
   "source": [
    "Определим топ-5 наиболее популярных платформ в каждом регионе с помощью функции `hist_maker_plot`."
   ]
  },
  {
   "cell_type": "code",
   "execution_count": 45,
   "id": "859e0a4b",
   "metadata": {},
   "outputs": [
    {
     "data": {
      "image/png": "[encoded data removed]",
      "text/plain": [
       "<Figure size 1080x360 with 3 Axes>"
      ]
     },
     "metadata": {
      "needs_background": "light"
     },
     "output_type": "display_data"
    }
   ],
   "source": [
    "fig, axes = plt.subplots(1, 3, figsize=(15,5))\n",
    "hist_maker_plot('platform', 'na_sales', False, 0)\n",
    "hist_maker_plot('platform', 'eu_sales', False, 1)\n",
    "hist_maker_plot('platform', 'jp_sales', False, 2)"
   ]
  },
  {
   "cell_type": "markdown",
   "id": "eafe840a",
   "metadata": {},
   "source": [
    "Среди топа платформ в каждом регионе лидируют серии PS.\n",
    "В Северной Америке с преимуществом лидирует X360, а в Европе PS4.\n",
    "На рынке Японии ведущим лидером является 3DS.\n",
    "\n",
    "Также заметим, что Северная Америка лидирует по передовым платформам, а в Японии пользуются популярностью портативные консоли."
   ]
  },
  {
   "cell_type": "markdown",
   "id": "8e88ad02",
   "metadata": {},
   "source": [
    "### Топ-5 жанров игр среди пользователей каждого региона"
   ]
  },
  {
   "cell_type": "markdown",
   "id": "fe6448ae",
   "metadata": {},
   "source": [
    "Рассмотрим наиболее прибыльные жанры игр."
   ]
  },
  {
   "cell_type": "code",
   "execution_count": 46,
   "id": "a492e36d",
   "metadata": {
    "scrolled": true
   },
   "outputs": [
    {
     "data": {
      "image/png": "[encoded data removed]",
      "text/plain": [
       "<Figure size 1080x360 with 3 Axes>"
      ]
     },
     "metadata": {
      "needs_background": "light"
     },
     "output_type": "display_data"
    }
   ],
   "source": [
    "fig, axes = plt.subplots(1, 3, figsize=(15,5))\n",
    "hist_maker_plot('genre', 'na_sales', False, 0)\n",
    "hist_maker_plot('genre', 'eu_sales', False, 1)\n",
    "hist_maker_plot('genre', 'jp_sales', False, 2)"
   ]
  },
  {
   "cell_type": "markdown",
   "id": "5c195323",
   "metadata": {},
   "source": [
    "Мы можем заметить, что наибольшие продажи происходят на рынке Северной Америки.\n",
    "\n",
    "Западные страны отдают предпочтение таким жанрам, как `Action` (экшен), `Sports` (спорт), `Shooter` (шутер), в то время как на азиатском рынке значительно лидирует `Role-Playing` (ролевая игра)."
   ]
  },
  {
   "cell_type": "markdown",
   "id": "11cf7061",
   "metadata": {},
   "source": [
    "Рассмотрим жанры игр с наименьшими продажами."
   ]
  },
  {
   "cell_type": "code",
   "execution_count": 47,
   "id": "5700feba",
   "metadata": {
    "scrolled": false
   },
   "outputs": [
    {
     "data": {
      "image/png": "[encoded data removed]",
      "text/plain": [
       "<Figure size 1080x360 with 3 Axes>"
      ]
     },
     "metadata": {
      "needs_background": "light"
     },
     "output_type": "display_data"
    }
   ],
   "source": [
    "fig, axes = plt.subplots(1, 3, figsize=(15,5))\n",
    "hist_maker_plot('genre', 'na_sales', True, 0)\n",
    "hist_maker_plot('genre', 'eu_sales', True, 1)\n",
    "hist_maker_plot('genre', 'jp_sales', True, 2)"
   ]
  },
  {
   "cell_type": "markdown",
   "id": "e3ef1e48",
   "metadata": {},
   "source": [
    "Жанр `Puzzle` самый непопулярный среди всех регионов. В Северной Америке и Европе игры жанра `Strategy` (стратегия) занимают второе место по непопулярности, а в Японии с небольшим отрывом это место занимает `Racing` (гонки)."
   ]
  },
  {
   "cell_type": "markdown",
   "id": "a8b782fc",
   "metadata": {},
   "source": [
    "### Рейтинги популярных игр пользователей каждого региона"
   ]
  },
  {
   "cell_type": "markdown",
   "id": "3f505e82",
   "metadata": {},
   "source": [
    "Посмотрим как влияет рейтинг **ESRB** на продажи в отдельном регионе.\n",
    "Напомним, что это ассоциация, определяющая возрастной рейтинг компьютерных игр. Она оценивает игровой контент и присваивает ему подходящую возрастную категорию, например, «Для взрослых», «Для детей младшего возраста» или «Для подростков»."
   ]
  },
  {
   "cell_type": "code",
   "execution_count": 48,
   "id": "0eae171c",
   "metadata": {},
   "outputs": [
    {
     "data": {
      "image/png": "[encoded data removed]",
      "text/plain": [
       "<Figure size 1080x360 with 3 Axes>"
      ]
     },
     "metadata": {
      "needs_background": "light"
     },
     "output_type": "display_data"
    }
   ],
   "source": [
    "fig, axes = plt.subplots(1, 3, figsize=(15,5))\n",
    "hist_maker_plot('rating', 'na_sales', False, 0)\n",
    "hist_maker_plot('rating', 'eu_sales', False, 1)\n",
    "hist_maker_plot('rating', 'jp_sales', False, 2)"
   ]
  },
  {
   "cell_type": "markdown",
   "id": "08e462b9",
   "metadata": {},
   "source": [
    "На рынках Северной Америки и Европы наибольшую популярность имеют игры рейтинга **М** — это зрелые игры. Игры с этим рейтингом считаются подходящими только для тех, кто старше 17 лет. Они могут содержать интенсивное насилие, сильный сексуальный контент, наготу и непрекращающиеся сильные выражения. Некоторые магазины не продают такие игры несовершеннолетним, но это не является юридическим стандартом. \n",
    "\n",
    "На рынке Японии со значительным отрывом мы видим отсутствие рейтинга. Как было сказано ранее, это может быть связано с тем,  что у них есть **CERO** (организация компьютерных рейтингов развлечений), которая сама присваивает играм рейтинги букв."
   ]
  },
  {
   "cell_type": "markdown",
   "id": "a4ff878b",
   "metadata": {},
   "source": [
    "### Выводы по анализу портрета пользователя каждого региона"
   ]
  },
  {
   "cell_type": "markdown",
   "id": "4cf0d507",
   "metadata": {},
   "source": [
    "Мы видим закономерное сходство между пользователями Северной Америки и Европы:\n",
    "- Предпочитаемые платформы для игр X360 (с небольшим перевесом) и PS4;\n",
    "- Любимые жанры обоих регионов `Action` (экшен), `Shooter` (шутер);\n",
    "- Игроки этих регионов реже покупают игры жанра `Strategy` (стратегия);\n",
    "- Наибольшую популярность имеют игры рейтинга **М** по оценке организации **ESRB**.\n",
    "\n",
    "И принципиальное отличие пользователей Японии:\n",
    "- Ведущим лидером среди платформ является 3DS (портативная консоль от Nintendo);\n",
    "- Самым популярным жанром игр является `Role-Playing` (ролевая игра);\n",
    "- Меньше всего игроки этих регионов покупают игры жанра `Racing` (гонки);\n",
    "- Среди предпочитаемых игр существенное большинство не имеет рейтинга  **ESRB**.\n",
    "\n",
    "Игроки выбранных регионов в равной степени реже всего покупают жанр `Puzzle` (пазлы)."
   ]
  },
  {
   "cell_type": "markdown",
   "id": "b995f02b",
   "metadata": {},
   "source": [
    "## Проверка гипотез"
   ]
  },
  {
   "cell_type": "markdown",
   "id": "54948d69",
   "metadata": {},
   "source": [
    "### Средние пользовательские рейтинги платформ Xbox One и PC одинаковые"
   ]
  },
  {
   "cell_type": "markdown",
   "id": "e44669bb",
   "metadata": {},
   "source": [
    "Проверим первую гипотезу — *Средние пользовательские рейтинги платформ Xbox One и PC одинаковые*.\n",
    "\n",
    "Для этого сформулируем нулевую и альтернативную гипотезы:\n",
    "- **Н0** — Средние пользовательские рейтинги платформ Xbox One и PC **равны**, т.е. средние значения равны. \n",
    "- **Н1** — Средние пользовательские рейтинги платформ Xbox One и PC **не равны**, т.е. средние значения не равны.\n",
    "\n",
    "Критический уровень статистической значимости `alpha` = .05"
   ]
  },
  {
   "cell_type": "code",
   "execution_count": 49,
   "id": "efb491f2",
   "metadata": {},
   "outputs": [
    {
     "name": "stdout",
     "output_type": "stream",
     "text": [
      "Средний пользовательский рейтинг платформ Xbox One 6.52\n",
      "Средний пользовательский рейтинг платформ PC 6.43\n",
      "\n",
      "p-значение:  0.5535080500643661\n",
      "Отвергнуть нулевую гипотезу нельзя\n"
     ]
    }
   ],
   "source": [
    "# удаляем значения-заглушки\n",
    "top_df = top_df[top_df['user_score'] != -1]\n",
    "\n",
    "xone = top_df[top_df['platform'] == 'XOne']['user_score'] \n",
    "pc = top_df[top_df['platform'] == 'PC']['user_score']\n",
    "\n",
    "print(f'Средний пользовательский рейтинг платформ Xbox One {round(xone.mean(),2)}')\n",
    "print(f'Средний пользовательский рейтинг платформ PC {round(pc.mean(),2)}')\n",
    "print()\n",
    "      \n",
    "results = st.ttest_ind(xone, pc)\n",
    "alpha = 0.05\n",
    "\n",
    "print('p-значение: ', results.pvalue)\n",
    "if results.pvalue < alpha:\n",
    "    print('Отвергаем нулевую гипотезу')\n",
    "else:\n",
    "    print('Отвергнуть нулевую гипотезу нельзя')"
   ]
  },
  {
   "cell_type": "markdown",
   "id": "222e7237",
   "metadata": {},
   "source": [
    "Для выбранного уровня значимости **отвергнуть нулевую гипотезу нельзя**. Можно сделать вывод, что средние пользовательские рейтинги платформ Xbox One и PC **равны**."
   ]
  },
  {
   "cell_type": "markdown",
   "id": "7747243c",
   "metadata": {},
   "source": [
    "### Средние пользовательские рейтинги жанров Action и Sports разные"
   ]
  },
  {
   "cell_type": "markdown",
   "id": "be0ee013",
   "metadata": {},
   "source": [
    "Проверим вторую гипотезу — *Средние пользовательские рейтинги жанров Action и Sports разные*.\n",
    "\n",
    "Для этого сформулируем нулевую и альтернативную гипотезы:\n",
    "- **Н0** — Средние пользовательские рейтинги жанров Action и Sports **одинаковые**, т.е. средние значения равны. \n",
    "- **Н1** — Средние пользовательские рейтинги жанров Action и Sports **разные**, т.е. средние значения не равны.\n",
    "\n",
    "Критический уровень статистической значимости `alpha` = .05"
   ]
  },
  {
   "cell_type": "code",
   "execution_count": 50,
   "id": "f86100eb",
   "metadata": {},
   "outputs": [
    {
     "name": "stdout",
     "output_type": "stream",
     "text": [
      "Средний пользовательский рейтинг жанра Action 6.83\n",
      "Средний пользовательский рейтинг жанра Sports 5.46\n",
      "\n",
      "p-значение:  3.7163089460934874e-26\n",
      "Отвергаем нулевую гипотезу\n"
     ]
    }
   ],
   "source": [
    "# удаляем значения-заглушки\n",
    "top_df = top_df[top_df['user_score'] != -1]\n",
    "\n",
    "action = top_df[top_df['genre'] == 'Action']['user_score']\n",
    "sports = top_df[top_df['genre'] == 'Sports']['user_score']\n",
    "\n",
    "print(f'Средний пользовательский рейтинг жанра Action {round(action.mean(),2)}')\n",
    "print(f'Средний пользовательский рейтинг жанра Sports {round(sports.mean(),2)}')\n",
    "print()\n",
    "\n",
    "results = st.ttest_ind(action, sports)\n",
    "alpha = 0.05\n",
    "\n",
    "print('p-значение: ', results.pvalue)\n",
    "if results.pvalue < alpha:\n",
    "    print('Отвергаем нулевую гипотезу')\n",
    "else:\n",
    "    print('Отвергнуть нулевую гипотезу нельзя')"
   ]
  },
  {
   "cell_type": "markdown",
   "id": "8c8775db",
   "metadata": {},
   "source": [
    "Для выбранного уровня значимости **отвергаем нулевую гипотезу**. Можно сделать вывод, что средние пользовательские рейтинги жанров Action и Sports **разные**."
   ]
  },
  {
   "cell_type": "markdown",
   "id": "7d8822d9",
   "metadata": {},
   "source": [
    "## Общий вывод"
   ]
  },
  {
   "cell_type": "markdown",
   "id": "c6979b3a",
   "metadata": {},
   "source": [
    "В ходе работы была проведена предобрабтка данных:\n",
    "- Исправлены ошибки в названиях;\n",
    "- Заменены пропущенные значения, объяснены возможные причины их воникновения;\n",
    "- Исправлены неверные типы данных;\n",
    "- Проведен дополнительный расчет по глобальным продажам во всех регионах.\n",
    "\n",
    "На этапе анализа мы изучили данные по играм и пользователям магазина «Стримчик» в разрезе 1980-2016 гг. Определили наиболее продаваемые игры за каждый год, посмотрели сколько всего игр выпускалось. Наибольшее количество приходится на 2008 год - было выпущено 1441 игры. После чего игры стали выпускать реже.\n",
    "\n",
    "Изучили данные по платформам игр. Определили жизненные циклы (**10 лет**) и актуальный период (**5 лет**). После чего на примере топовых платформ просмотрели как влияют оценки пользователей и критиков на продажи игр. Бесспорным лидером продаж остаются платформы PS. Так, за 2016 год `PS4` собрала порядка 70 млн. проданных копий игр. На продажи игр среди топовых платформ в значительной мере влияют отзывы критиков, а те в свою очередь во многом сходятся с отзывами пользователей. Наиболее ярковыраженная зависимость прослеживается у `PS4` и `XOne`.\n",
    "\n",
    "Изучили наиболее популярные жанры. Самыми прибыльными жанрами среди всех пользователей являются `Shooter` (шутер), `Sports` (спорт) и `Platform` (платформер). Это также потверждают наиболее продаваемые игры последних лет — все они выпущенны в этих жанрах. Причем `Action` лидирует со значительным отрывом (около 1,7 млн копий). Наиболее низкие продажи у `Puzzle` (пазлы).\n",
    "\n",
    "Составили портреты пользователей каждого региона. Во многом успешность игры определяется рынком пользователей и их культурой. Так, пользователи Северной Америки и Европы предпочитают играть на `X360` и `PS4` в экшены и шутеры с рейтингом **М** (+17). В то время как пользователи Японии отдают предпочтение играм на платформе `3DS` в жанре ролевых игр.\n",
    "\n",
    "- Первая гипотеза оказалась верна: средние пользовательские рейтинги платформ Xbox One и PC **совпадают**.\n",
    "- Вторая гипотеза не подтвердилась: средние пользовательские рейтинги жанров Action и Sports **разные**. "
   ]
  }
 ],
 "metadata": {
  "ExecuteTimeLog": [
   {
    "duration": 1203,
    "start_time": "2022-04-23T09:20:40.307Z"
   },
   {
    "duration": 5,
    "start_time": "2022-04-23T09:20:41.512Z"
   },
   {
    "duration": 158,
    "start_time": "2022-04-23T09:20:41.519Z"
   },
   {
    "duration": 95,
    "start_time": "2022-04-23T09:20:41.679Z"
   },
   {
    "duration": 5,
    "start_time": "2022-04-23T09:20:41.776Z"
   },
   {
    "duration": 14,
    "start_time": "2022-04-23T09:20:41.783Z"
   },
   {
    "duration": 25,
    "start_time": "2022-04-23T09:20:41.799Z"
   },
   {
    "duration": 23,
    "start_time": "2022-04-23T09:20:41.826Z"
   },
   {
    "duration": 14,
    "start_time": "2022-04-23T09:20:41.851Z"
   },
   {
    "duration": 41,
    "start_time": "2022-04-23T09:20:41.866Z"
   },
   {
    "duration": 18,
    "start_time": "2022-04-23T09:20:41.909Z"
   },
   {
    "duration": 9,
    "start_time": "2022-04-23T09:20:41.928Z"
   },
   {
    "duration": 10,
    "start_time": "2022-04-23T09:20:41.939Z"
   },
   {
    "duration": 16,
    "start_time": "2022-04-23T09:20:41.953Z"
   },
   {
    "duration": 10,
    "start_time": "2022-04-23T09:20:41.971Z"
   },
   {
    "duration": 5,
    "start_time": "2022-04-23T09:20:41.982Z"
   },
   {
    "duration": 6,
    "start_time": "2022-04-23T09:20:41.989Z"
   },
   {
    "duration": 5,
    "start_time": "2022-04-23T09:20:41.997Z"
   },
   {
    "duration": 11,
    "start_time": "2022-04-23T09:20:42.004Z"
   },
   {
    "duration": 7,
    "start_time": "2022-04-23T09:20:42.017Z"
   },
   {
    "duration": 7,
    "start_time": "2022-04-23T09:20:42.025Z"
   },
   {
    "duration": 33,
    "start_time": "2022-04-23T09:20:42.033Z"
   },
   {
    "duration": 18,
    "start_time": "2022-04-23T09:20:42.068Z"
   },
   {
    "duration": 4,
    "start_time": "2022-04-23T09:20:42.088Z"
   },
   {
    "duration": 79,
    "start_time": "2022-04-23T09:20:42.093Z"
   },
   {
    "duration": 5,
    "start_time": "2022-04-23T09:20:42.173Z"
   },
   {
    "duration": 391,
    "start_time": "2022-04-23T09:20:42.179Z"
   },
   {
    "duration": 4,
    "start_time": "2022-04-23T09:20:42.572Z"
   },
   {
    "duration": 33,
    "start_time": "2022-04-23T09:20:42.578Z"
   },
   {
    "duration": 369,
    "start_time": "2022-04-23T09:20:42.612Z"
   },
   {
    "duration": 6,
    "start_time": "2022-04-23T09:20:42.982Z"
   },
   {
    "duration": 156,
    "start_time": "2022-04-23T09:20:42.989Z"
   },
   {
    "duration": 50,
    "start_time": "2022-04-23T09:20:43.146Z"
   },
   {
    "duration": 5,
    "start_time": "2022-04-23T09:20:43.198Z"
   },
   {
    "duration": 311,
    "start_time": "2022-04-23T09:20:43.204Z"
   },
   {
    "duration": 392,
    "start_time": "2022-04-23T09:20:43.517Z"
   },
   {
    "duration": 3,
    "start_time": "2022-04-23T09:20:43.912Z"
   },
   {
    "duration": 334,
    "start_time": "2022-04-23T09:20:43.916Z"
   },
   {
    "duration": 799,
    "start_time": "2022-04-23T09:20:44.251Z"
   },
   {
    "duration": 155,
    "start_time": "2022-04-23T09:20:45.051Z"
   },
   {
    "duration": 5,
    "start_time": "2022-04-23T09:20:45.210Z"
   },
   {
    "duration": 265,
    "start_time": "2022-04-23T09:20:45.216Z"
   },
   {
    "duration": 354,
    "start_time": "2022-04-23T09:20:45.483Z"
   },
   {
    "duration": 348,
    "start_time": "2022-04-23T09:20:45.839Z"
   },
   {
    "duration": 430,
    "start_time": "2022-04-23T09:20:46.188Z"
   },
   {
    "duration": 341,
    "start_time": "2022-04-23T09:20:46.620Z"
   },
   {
    "duration": 14,
    "start_time": "2022-04-23T09:20:46.963Z"
   },
   {
    "duration": 13,
    "start_time": "2022-04-23T09:20:46.978Z"
   },
   {
    "duration": 6,
    "start_time": "2022-04-23T09:47:30.014Z"
   },
   {
    "duration": 5,
    "start_time": "2022-04-23T10:14:25.745Z"
   },
   {
    "duration": 103,
    "start_time": "2022-04-23T10:15:37.400Z"
   },
   {
    "duration": 57,
    "start_time": "2022-04-23T10:16:00.271Z"
   },
   {
    "duration": 71,
    "start_time": "2022-04-23T10:16:08.999Z"
   },
   {
    "duration": 62,
    "start_time": "2022-04-23T10:17:21.368Z"
   },
   {
    "duration": 156,
    "start_time": "2022-04-23T10:18:12.085Z"
   },
   {
    "duration": 64,
    "start_time": "2022-04-23T10:18:16.213Z"
   },
   {
    "duration": 67,
    "start_time": "2022-04-23T10:18:29.008Z"
   },
   {
    "duration": 168,
    "start_time": "2022-04-23T10:18:53.774Z"
   },
   {
    "duration": 5,
    "start_time": "2022-04-23T10:19:50.376Z"
   },
   {
    "duration": 5,
    "start_time": "2022-04-23T10:19:50.714Z"
   },
   {
    "duration": 112,
    "start_time": "2022-04-23T10:19:51.109Z"
   },
   {
    "duration": 77,
    "start_time": "2022-04-23T10:19:51.550Z"
   },
   {
    "duration": 5,
    "start_time": "2022-04-23T10:19:53.277Z"
   },
   {
    "duration": 4,
    "start_time": "2022-04-23T10:19:55.707Z"
   },
   {
    "duration": 13,
    "start_time": "2022-04-23T10:19:56.156Z"
   },
   {
    "duration": 12,
    "start_time": "2022-04-23T10:19:56.591Z"
   },
   {
    "duration": 15,
    "start_time": "2022-04-23T10:19:57.050Z"
   },
   {
    "duration": 10,
    "start_time": "2022-04-23T10:19:57.468Z"
   },
   {
    "duration": 16,
    "start_time": "2022-04-23T10:19:58.114Z"
   },
   {
    "duration": 9,
    "start_time": "2022-04-23T10:19:58.540Z"
   },
   {
    "duration": 10,
    "start_time": "2022-04-23T10:19:59.176Z"
   },
   {
    "duration": 7,
    "start_time": "2022-04-23T10:19:59.827Z"
   },
   {
    "duration": 7,
    "start_time": "2022-04-23T10:20:00.368Z"
   },
   {
    "duration": 5,
    "start_time": "2022-04-23T10:20:00.774Z"
   },
   {
    "duration": 4,
    "start_time": "2022-04-23T10:20:01.494Z"
   },
   {
    "duration": 5,
    "start_time": "2022-04-23T10:20:01.699Z"
   },
   {
    "duration": 10,
    "start_time": "2022-04-23T10:20:02.496Z"
   },
   {
    "duration": 7,
    "start_time": "2022-04-23T10:20:04.342Z"
   },
   {
    "duration": 4,
    "start_time": "2022-04-23T10:20:04.744Z"
   },
   {
    "duration": 5,
    "start_time": "2022-04-23T10:20:05.522Z"
   },
   {
    "duration": 14,
    "start_time": "2022-04-23T10:20:05.977Z"
   },
   {
    "duration": 5,
    "start_time": "2022-04-23T10:20:06.894Z"
   },
   {
    "duration": 61,
    "start_time": "2022-04-23T10:20:07.771Z"
   },
   {
    "duration": 5,
    "start_time": "2022-04-23T10:20:09.932Z"
   },
   {
    "duration": 171,
    "start_time": "2022-04-23T10:20:11.834Z"
   },
   {
    "duration": 368,
    "start_time": "2022-04-23T10:20:22.392Z"
   },
   {
    "duration": 2469,
    "start_time": "2022-04-23T10:21:32.433Z"
   },
   {
    "duration": 330,
    "start_time": "2022-04-23T10:23:07.001Z"
   },
   {
    "duration": 431,
    "start_time": "2022-04-23T10:24:48.334Z"
   },
   {
    "duration": 142,
    "start_time": "2022-04-23T14:21:28.796Z"
   },
   {
    "duration": 161,
    "start_time": "2022-04-23T14:48:58.560Z"
   },
   {
    "duration": 1116,
    "start_time": "2022-04-23T15:01:16.853Z"
   },
   {
    "duration": 5,
    "start_time": "2022-04-23T15:01:17.971Z"
   },
   {
    "duration": 117,
    "start_time": "2022-04-23T15:01:17.977Z"
   },
   {
    "duration": 72,
    "start_time": "2022-04-23T15:01:18.096Z"
   },
   {
    "duration": 5,
    "start_time": "2022-04-23T15:01:18.169Z"
   },
   {
    "duration": 27,
    "start_time": "2022-04-23T15:01:18.176Z"
   },
   {
    "duration": 31,
    "start_time": "2022-04-23T15:01:18.205Z"
   },
   {
    "duration": 33,
    "start_time": "2022-04-23T15:01:18.238Z"
   },
   {
    "duration": 18,
    "start_time": "2022-04-23T15:01:18.273Z"
   },
   {
    "duration": 42,
    "start_time": "2022-04-23T15:01:18.293Z"
   },
   {
    "duration": 31,
    "start_time": "2022-04-23T15:01:18.336Z"
   },
   {
    "duration": 11,
    "start_time": "2022-04-23T15:01:18.368Z"
   },
   {
    "duration": 21,
    "start_time": "2022-04-23T15:01:18.381Z"
   },
   {
    "duration": 26,
    "start_time": "2022-04-23T15:01:18.404Z"
   },
   {
    "duration": 23,
    "start_time": "2022-04-23T15:01:18.432Z"
   },
   {
    "duration": 16,
    "start_time": "2022-04-23T15:01:18.457Z"
   },
   {
    "duration": 11,
    "start_time": "2022-04-23T15:01:18.475Z"
   },
   {
    "duration": 21,
    "start_time": "2022-04-23T15:01:18.487Z"
   },
   {
    "duration": 12,
    "start_time": "2022-04-23T15:01:18.510Z"
   },
   {
    "duration": 22,
    "start_time": "2022-04-23T15:01:18.524Z"
   },
   {
    "duration": 18,
    "start_time": "2022-04-23T15:01:18.547Z"
   },
   {
    "duration": 16,
    "start_time": "2022-04-23T15:01:18.566Z"
   },
   {
    "duration": 24,
    "start_time": "2022-04-23T15:01:18.583Z"
   },
   {
    "duration": 19,
    "start_time": "2022-04-23T15:01:18.609Z"
   },
   {
    "duration": 64,
    "start_time": "2022-04-23T15:01:18.630Z"
   },
   {
    "duration": 5,
    "start_time": "2022-04-23T15:01:18.696Z"
   },
   {
    "duration": 372,
    "start_time": "2022-04-23T15:01:18.703Z"
   },
   {
    "duration": 4,
    "start_time": "2022-04-23T15:01:19.079Z"
   },
   {
    "duration": 43,
    "start_time": "2022-04-23T15:01:19.085Z"
   },
   {
    "duration": 333,
    "start_time": "2022-04-23T15:01:19.130Z"
   },
   {
    "duration": 6,
    "start_time": "2022-04-23T15:01:19.465Z"
   },
   {
    "duration": 161,
    "start_time": "2022-04-23T15:01:19.473Z"
   },
   {
    "duration": 55,
    "start_time": "2022-04-23T15:01:19.636Z"
   },
   {
    "duration": 5,
    "start_time": "2022-04-23T15:01:19.693Z"
   },
   {
    "duration": 301,
    "start_time": "2022-04-23T15:01:19.700Z"
   },
   {
    "duration": 368,
    "start_time": "2022-04-23T15:01:20.003Z"
   },
   {
    "duration": 2,
    "start_time": "2022-04-23T15:01:20.373Z"
   },
   {
    "duration": 317,
    "start_time": "2022-04-23T15:01:20.377Z"
   },
   {
    "duration": 735,
    "start_time": "2022-04-23T15:01:20.696Z"
   },
   {
    "duration": 151,
    "start_time": "2022-04-23T15:01:21.434Z"
   },
   {
    "duration": 5,
    "start_time": "2022-04-23T15:01:21.587Z"
   },
   {
    "duration": 242,
    "start_time": "2022-04-23T15:01:21.593Z"
   },
   {
    "duration": 331,
    "start_time": "2022-04-23T15:01:21.837Z"
   },
   {
    "duration": 316,
    "start_time": "2022-04-23T15:01:22.170Z"
   },
   {
    "duration": 409,
    "start_time": "2022-04-23T15:01:22.488Z"
   },
   {
    "duration": 323,
    "start_time": "2022-04-23T15:01:22.899Z"
   },
   {
    "duration": 12,
    "start_time": "2022-04-23T15:01:23.224Z"
   },
   {
    "duration": 25,
    "start_time": "2022-04-23T15:01:23.238Z"
   },
   {
    "duration": 1604,
    "start_time": "2022-04-23T15:58:00.511Z"
   },
   {
    "duration": 5,
    "start_time": "2022-04-23T15:58:02.117Z"
   },
   {
    "duration": 163,
    "start_time": "2022-04-23T15:58:02.124Z"
   },
   {
    "duration": 112,
    "start_time": "2022-04-23T15:58:02.290Z"
   },
   {
    "duration": 4,
    "start_time": "2022-04-23T15:58:02.404Z"
   },
   {
    "duration": 25,
    "start_time": "2022-04-23T15:58:02.409Z"
   },
   {
    "duration": 18,
    "start_time": "2022-04-23T15:58:02.436Z"
   },
   {
    "duration": 15,
    "start_time": "2022-04-23T15:58:02.456Z"
   },
   {
    "duration": 18,
    "start_time": "2022-04-23T15:58:02.473Z"
   },
   {
    "duration": 27,
    "start_time": "2022-04-23T15:58:02.494Z"
   },
   {
    "duration": 21,
    "start_time": "2022-04-23T15:58:02.522Z"
   },
   {
    "duration": 10,
    "start_time": "2022-04-23T15:58:02.544Z"
   },
   {
    "duration": 21,
    "start_time": "2022-04-23T15:58:02.556Z"
   },
   {
    "duration": 16,
    "start_time": "2022-04-23T15:58:02.578Z"
   },
   {
    "duration": 24,
    "start_time": "2022-04-23T15:58:02.595Z"
   },
   {
    "duration": 26,
    "start_time": "2022-04-23T15:58:02.620Z"
   },
   {
    "duration": 13,
    "start_time": "2022-04-23T15:58:02.648Z"
   },
   {
    "duration": 17,
    "start_time": "2022-04-23T15:58:02.663Z"
   },
   {
    "duration": 16,
    "start_time": "2022-04-23T15:58:02.681Z"
   },
   {
    "duration": 18,
    "start_time": "2022-04-23T15:58:02.698Z"
   },
   {
    "duration": 15,
    "start_time": "2022-04-23T15:58:02.717Z"
   },
   {
    "duration": 11,
    "start_time": "2022-04-23T15:58:02.734Z"
   },
   {
    "duration": 29,
    "start_time": "2022-04-23T15:58:02.747Z"
   },
   {
    "duration": 17,
    "start_time": "2022-04-23T15:58:02.778Z"
   },
   {
    "duration": 82,
    "start_time": "2022-04-23T15:58:02.797Z"
   },
   {
    "duration": 5,
    "start_time": "2022-04-23T15:58:02.881Z"
   },
   {
    "duration": 589,
    "start_time": "2022-04-23T15:58:02.887Z"
   },
   {
    "duration": 5,
    "start_time": "2022-04-23T15:58:03.480Z"
   },
   {
    "duration": 65,
    "start_time": "2022-04-23T15:58:03.487Z"
   },
   {
    "duration": 543,
    "start_time": "2022-04-23T15:58:03.555Z"
   },
   {
    "duration": 8,
    "start_time": "2022-04-23T15:58:04.101Z"
   },
   {
    "duration": 248,
    "start_time": "2022-04-23T15:58:04.111Z"
   },
   {
    "duration": 81,
    "start_time": "2022-04-23T15:58:04.361Z"
   },
   {
    "duration": 8,
    "start_time": "2022-04-23T15:58:04.445Z"
   },
   {
    "duration": 492,
    "start_time": "2022-04-23T15:58:04.455Z"
   },
   {
    "duration": 581,
    "start_time": "2022-04-23T15:58:04.949Z"
   },
   {
    "duration": 4,
    "start_time": "2022-04-23T15:58:05.532Z"
   },
   {
    "duration": 366,
    "start_time": "2022-04-23T15:58:05.538Z"
   },
   {
    "duration": 848,
    "start_time": "2022-04-23T15:58:05.906Z"
   },
   {
    "duration": 166,
    "start_time": "2022-04-23T15:58:06.756Z"
   },
   {
    "duration": 5,
    "start_time": "2022-04-23T15:58:06.924Z"
   },
   {
    "duration": 257,
    "start_time": "2022-04-23T15:58:06.931Z"
   },
   {
    "duration": 363,
    "start_time": "2022-04-23T15:58:07.190Z"
   },
   {
    "duration": 345,
    "start_time": "2022-04-23T15:58:07.555Z"
   },
   {
    "duration": 437,
    "start_time": "2022-04-23T15:58:07.901Z"
   },
   {
    "duration": 358,
    "start_time": "2022-04-23T15:58:08.339Z"
   },
   {
    "duration": 23,
    "start_time": "2022-04-23T15:58:08.699Z"
   },
   {
    "duration": 13,
    "start_time": "2022-04-23T15:58:08.724Z"
   },
   {
    "duration": 369,
    "start_time": "2022-04-23T16:30:16.585Z"
   },
   {
    "duration": 200,
    "start_time": "2022-04-23T16:30:56.209Z"
   },
   {
    "duration": 398,
    "start_time": "2022-04-23T16:31:01.076Z"
   },
   {
    "duration": 354,
    "start_time": "2022-04-23T16:31:08.335Z"
   },
   {
    "duration": 229,
    "start_time": "2022-04-23T16:33:29.637Z"
   },
   {
    "duration": 1020,
    "start_time": "2022-04-23T16:36:52.034Z"
   },
   {
    "duration": 748,
    "start_time": "2022-04-23T16:37:27.895Z"
   },
   {
    "duration": 149,
    "start_time": "2022-04-23T16:40:23.722Z"
   },
   {
    "duration": 179,
    "start_time": "2022-04-23T16:43:11.981Z"
   },
   {
    "duration": 201,
    "start_time": "2022-04-23T16:43:20.662Z"
   },
   {
    "duration": 113,
    "start_time": "2022-04-23T16:46:38.980Z"
   },
   {
    "duration": 129,
    "start_time": "2022-04-23T16:46:44.510Z"
   },
   {
    "duration": 157,
    "start_time": "2022-04-23T16:49:51.315Z"
   },
   {
    "duration": 7,
    "start_time": "2022-04-23T16:50:12.609Z"
   },
   {
    "duration": 147,
    "start_time": "2022-04-23T16:50:34.494Z"
   },
   {
    "duration": 6,
    "start_time": "2022-04-23T16:53:34.114Z"
   },
   {
    "duration": 301,
    "start_time": "2022-04-23T16:53:51.794Z"
   },
   {
    "duration": 723,
    "start_time": "2022-04-23T16:54:34.617Z"
   },
   {
    "duration": 157,
    "start_time": "2022-04-23T16:55:07.823Z"
   },
   {
    "duration": 6,
    "start_time": "2022-04-23T17:00:37.785Z"
   },
   {
    "duration": 346,
    "start_time": "2022-04-23T17:00:41.652Z"
   },
   {
    "duration": 524,
    "start_time": "2022-04-23T17:05:07.033Z"
   },
   {
    "duration": 554,
    "start_time": "2022-04-23T17:09:11.569Z"
   },
   {
    "duration": 535,
    "start_time": "2022-04-23T17:10:33.948Z"
   },
   {
    "duration": 351,
    "start_time": "2022-04-23T17:15:14.434Z"
   },
   {
    "duration": 13,
    "start_time": "2022-04-23T17:23:52.331Z"
   },
   {
    "duration": 12,
    "start_time": "2022-04-23T17:27:29.604Z"
   },
   {
    "duration": 185,
    "start_time": "2022-04-23T17:29:47.169Z"
   },
   {
    "duration": 1555,
    "start_time": "2022-04-23T17:40:32.419Z"
   },
   {
    "duration": 8,
    "start_time": "2022-04-23T17:40:33.977Z"
   },
   {
    "duration": 227,
    "start_time": "2022-04-23T17:40:33.987Z"
   },
   {
    "duration": 83,
    "start_time": "2022-04-23T17:40:34.216Z"
   },
   {
    "duration": 3,
    "start_time": "2022-04-23T17:40:34.301Z"
   },
   {
    "duration": 12,
    "start_time": "2022-04-23T17:40:34.323Z"
   },
   {
    "duration": 17,
    "start_time": "2022-04-23T17:40:34.336Z"
   },
   {
    "duration": 22,
    "start_time": "2022-04-23T17:40:34.355Z"
   },
   {
    "duration": 14,
    "start_time": "2022-04-23T17:40:34.378Z"
   },
   {
    "duration": 23,
    "start_time": "2022-04-23T17:40:34.395Z"
   },
   {
    "duration": 28,
    "start_time": "2022-04-23T17:40:34.420Z"
   },
   {
    "duration": 7,
    "start_time": "2022-04-23T17:40:34.450Z"
   },
   {
    "duration": 14,
    "start_time": "2022-04-23T17:40:34.459Z"
   },
   {
    "duration": 35,
    "start_time": "2022-04-23T17:40:34.475Z"
   },
   {
    "duration": 20,
    "start_time": "2022-04-23T17:40:34.511Z"
   },
   {
    "duration": 27,
    "start_time": "2022-04-23T17:40:34.532Z"
   },
   {
    "duration": 13,
    "start_time": "2022-04-23T17:40:34.561Z"
   },
   {
    "duration": 13,
    "start_time": "2022-04-23T17:40:34.575Z"
   },
   {
    "duration": 20,
    "start_time": "2022-04-23T17:40:34.590Z"
   },
   {
    "duration": 22,
    "start_time": "2022-04-23T17:40:34.611Z"
   },
   {
    "duration": 10,
    "start_time": "2022-04-23T17:40:34.634Z"
   },
   {
    "duration": 21,
    "start_time": "2022-04-23T17:40:34.645Z"
   },
   {
    "duration": 18,
    "start_time": "2022-04-23T17:40:34.667Z"
   },
   {
    "duration": 17,
    "start_time": "2022-04-23T17:40:34.686Z"
   },
   {
    "duration": 68,
    "start_time": "2022-04-23T17:40:34.705Z"
   },
   {
    "duration": 4,
    "start_time": "2022-04-23T17:40:34.775Z"
   },
   {
    "duration": 421,
    "start_time": "2022-04-23T17:40:34.780Z"
   },
   {
    "duration": 5,
    "start_time": "2022-04-23T17:40:35.206Z"
   },
   {
    "duration": 57,
    "start_time": "2022-04-23T17:40:35.212Z"
   },
   {
    "duration": 372,
    "start_time": "2022-04-23T17:40:35.270Z"
   },
   {
    "duration": 6,
    "start_time": "2022-04-23T17:40:35.643Z"
   },
   {
    "duration": 157,
    "start_time": "2022-04-23T17:40:35.650Z"
   },
   {
    "duration": 52,
    "start_time": "2022-04-23T17:40:35.809Z"
   },
   {
    "duration": 6,
    "start_time": "2022-04-23T17:40:35.862Z"
   },
   {
    "duration": 333,
    "start_time": "2022-04-23T17:40:35.870Z"
   },
   {
    "duration": 351,
    "start_time": "2022-04-23T17:40:36.205Z"
   },
   {
    "duration": 3,
    "start_time": "2022-04-23T17:40:36.557Z"
   },
   {
    "duration": 11,
    "start_time": "2022-04-23T17:40:36.561Z"
   },
   {
    "duration": 301,
    "start_time": "2022-04-23T17:40:36.573Z"
   },
   {
    "duration": 762,
    "start_time": "2022-04-23T17:40:36.876Z"
   },
   {
    "duration": 158,
    "start_time": "2022-04-23T17:40:37.639Z"
   },
   {
    "duration": 5,
    "start_time": "2022-04-23T17:40:37.799Z"
   },
   {
    "duration": 316,
    "start_time": "2022-04-23T17:40:37.806Z"
   },
   {
    "duration": 342,
    "start_time": "2022-04-23T17:40:38.125Z"
   },
   {
    "duration": 368,
    "start_time": "2022-04-23T17:40:38.469Z"
   },
   {
    "duration": 452,
    "start_time": "2022-04-23T17:40:38.839Z"
   },
   {
    "duration": 336,
    "start_time": "2022-04-23T17:40:39.292Z"
   },
   {
    "duration": 11,
    "start_time": "2022-04-23T17:40:39.630Z"
   },
   {
    "duration": 14,
    "start_time": "2022-04-23T17:40:39.642Z"
   },
   {
    "duration": 1215,
    "start_time": "2022-04-24T06:10:42.398Z"
   },
   {
    "duration": 6,
    "start_time": "2022-04-24T06:10:43.615Z"
   },
   {
    "duration": 124,
    "start_time": "2022-04-24T06:10:43.623Z"
   },
   {
    "duration": 73,
    "start_time": "2022-04-24T06:10:43.749Z"
   },
   {
    "duration": 3,
    "start_time": "2022-04-24T06:10:43.825Z"
   },
   {
    "duration": 5,
    "start_time": "2022-04-24T06:10:43.848Z"
   },
   {
    "duration": 10,
    "start_time": "2022-04-24T06:10:43.855Z"
   },
   {
    "duration": 12,
    "start_time": "2022-04-24T06:10:43.866Z"
   },
   {
    "duration": 9,
    "start_time": "2022-04-24T06:10:43.879Z"
   },
   {
    "duration": 10,
    "start_time": "2022-04-24T06:10:43.890Z"
   },
   {
    "duration": 50,
    "start_time": "2022-04-24T06:10:43.902Z"
   },
   {
    "duration": 8,
    "start_time": "2022-04-24T06:10:43.954Z"
   },
   {
    "duration": 9,
    "start_time": "2022-04-24T06:10:43.964Z"
   },
   {
    "duration": 7,
    "start_time": "2022-04-24T06:10:43.977Z"
   },
   {
    "duration": 7,
    "start_time": "2022-04-24T06:10:43.985Z"
   },
   {
    "duration": 5,
    "start_time": "2022-04-24T06:10:43.994Z"
   },
   {
    "duration": 8,
    "start_time": "2022-04-24T06:10:44.001Z"
   },
   {
    "duration": 37,
    "start_time": "2022-04-24T06:10:44.011Z"
   },
   {
    "duration": 13,
    "start_time": "2022-04-24T06:10:44.050Z"
   },
   {
    "duration": 11,
    "start_time": "2022-04-24T06:10:44.065Z"
   },
   {
    "duration": 4,
    "start_time": "2022-04-24T06:10:44.078Z"
   },
   {
    "duration": 8,
    "start_time": "2022-04-24T06:10:44.083Z"
   },
   {
    "duration": 13,
    "start_time": "2022-04-24T06:10:44.093Z"
   },
   {
    "duration": 5,
    "start_time": "2022-04-24T06:10:44.108Z"
   },
   {
    "duration": 89,
    "start_time": "2022-04-24T06:10:44.115Z"
   },
   {
    "duration": 5,
    "start_time": "2022-04-24T06:10:44.206Z"
   },
   {
    "duration": 371,
    "start_time": "2022-04-24T06:10:44.212Z"
   },
   {
    "duration": 4,
    "start_time": "2022-04-24T06:10:44.584Z"
   },
   {
    "duration": 31,
    "start_time": "2022-04-24T06:10:44.589Z"
   },
   {
    "duration": 347,
    "start_time": "2022-04-24T06:10:44.621Z"
   },
   {
    "duration": 7,
    "start_time": "2022-04-24T06:10:44.969Z"
   },
   {
    "duration": 159,
    "start_time": "2022-04-24T06:10:44.977Z"
   },
   {
    "duration": 48,
    "start_time": "2022-04-24T06:10:45.138Z"
   },
   {
    "duration": 6,
    "start_time": "2022-04-24T06:10:45.187Z"
   },
   {
    "duration": 306,
    "start_time": "2022-04-24T06:10:45.194Z"
   },
   {
    "duration": 338,
    "start_time": "2022-04-24T06:10:45.502Z"
   },
   {
    "duration": 5,
    "start_time": "2022-04-24T06:10:45.842Z"
   },
   {
    "duration": 7,
    "start_time": "2022-04-24T06:10:45.849Z"
   },
   {
    "duration": 315,
    "start_time": "2022-04-24T06:10:45.858Z"
   },
   {
    "duration": 746,
    "start_time": "2022-04-24T06:10:46.175Z"
   },
   {
    "duration": 156,
    "start_time": "2022-04-24T06:10:46.926Z"
   },
   {
    "duration": 6,
    "start_time": "2022-04-24T06:10:47.083Z"
   },
   {
    "duration": 231,
    "start_time": "2022-04-24T06:10:47.091Z"
   },
   {
    "duration": 316,
    "start_time": "2022-04-24T06:10:47.324Z"
   },
   {
    "duration": 334,
    "start_time": "2022-04-24T06:10:47.642Z"
   },
   {
    "duration": 429,
    "start_time": "2022-04-24T06:10:47.978Z"
   },
   {
    "duration": 314,
    "start_time": "2022-04-24T06:10:48.409Z"
   },
   {
    "duration": 11,
    "start_time": "2022-04-24T06:10:48.725Z"
   },
   {
    "duration": 10,
    "start_time": "2022-04-24T06:10:48.748Z"
   },
   {
    "duration": 95,
    "start_time": "2022-04-24T06:13:37.925Z"
   },
   {
    "duration": 11,
    "start_time": "2022-04-24T06:14:45.882Z"
   },
   {
    "duration": 11,
    "start_time": "2022-04-24T06:16:00.996Z"
   },
   {
    "duration": 11,
    "start_time": "2022-04-24T06:16:08.700Z"
   },
   {
    "duration": 11,
    "start_time": "2022-04-24T06:16:56.625Z"
   },
   {
    "duration": 11,
    "start_time": "2022-04-24T06:17:15.697Z"
   },
   {
    "duration": 109,
    "start_time": "2022-04-24T07:09:23.201Z"
   },
   {
    "duration": 1121,
    "start_time": "2022-04-24T07:12:35.297Z"
   },
   {
    "duration": 6,
    "start_time": "2022-04-24T07:12:36.420Z"
   },
   {
    "duration": 102,
    "start_time": "2022-04-24T07:12:36.427Z"
   },
   {
    "duration": 72,
    "start_time": "2022-04-24T07:12:36.531Z"
   },
   {
    "duration": 3,
    "start_time": "2022-04-24T07:12:36.606Z"
   },
   {
    "duration": 9,
    "start_time": "2022-04-24T07:12:36.610Z"
   },
   {
    "duration": 13,
    "start_time": "2022-04-24T07:12:36.620Z"
   },
   {
    "duration": 22,
    "start_time": "2022-04-24T07:12:36.634Z"
   },
   {
    "duration": 9,
    "start_time": "2022-04-24T07:12:36.658Z"
   },
   {
    "duration": 14,
    "start_time": "2022-04-24T07:12:36.668Z"
   },
   {
    "duration": 16,
    "start_time": "2022-04-24T07:12:36.683Z"
   },
   {
    "duration": 8,
    "start_time": "2022-04-24T07:12:36.701Z"
   },
   {
    "duration": 39,
    "start_time": "2022-04-24T07:12:36.711Z"
   },
   {
    "duration": 6,
    "start_time": "2022-04-24T07:12:36.754Z"
   },
   {
    "duration": 6,
    "start_time": "2022-04-24T07:12:36.762Z"
   },
   {
    "duration": 4,
    "start_time": "2022-04-24T07:12:36.770Z"
   },
   {
    "duration": 6,
    "start_time": "2022-04-24T07:12:36.776Z"
   },
   {
    "duration": 8,
    "start_time": "2022-04-24T07:12:36.783Z"
   },
   {
    "duration": 11,
    "start_time": "2022-04-24T07:12:36.793Z"
   },
   {
    "duration": 11,
    "start_time": "2022-04-24T07:12:36.805Z"
   },
   {
    "duration": 29,
    "start_time": "2022-04-24T07:12:36.818Z"
   },
   {
    "duration": 6,
    "start_time": "2022-04-24T07:12:36.849Z"
   },
   {
    "duration": 19,
    "start_time": "2022-04-24T07:12:36.856Z"
   },
   {
    "duration": 6,
    "start_time": "2022-04-24T07:12:36.877Z"
   },
   {
    "duration": 83,
    "start_time": "2022-04-24T07:12:36.885Z"
   },
   {
    "duration": 6,
    "start_time": "2022-04-24T07:12:36.970Z"
   },
   {
    "duration": 375,
    "start_time": "2022-04-24T07:12:36.977Z"
   },
   {
    "duration": 4,
    "start_time": "2022-04-24T07:12:37.354Z"
   },
   {
    "duration": 37,
    "start_time": "2022-04-24T07:12:37.360Z"
   },
   {
    "duration": 350,
    "start_time": "2022-04-24T07:12:37.399Z"
   },
   {
    "duration": 8,
    "start_time": "2022-04-24T07:12:37.752Z"
   },
   {
    "duration": 161,
    "start_time": "2022-04-24T07:12:37.762Z"
   },
   {
    "duration": 52,
    "start_time": "2022-04-24T07:12:37.925Z"
   },
   {
    "duration": 5,
    "start_time": "2022-04-24T07:12:37.979Z"
   },
   {
    "duration": 318,
    "start_time": "2022-04-24T07:12:37.986Z"
   },
   {
    "duration": 350,
    "start_time": "2022-04-24T07:12:38.306Z"
   },
   {
    "duration": 3,
    "start_time": "2022-04-24T07:12:38.657Z"
   },
   {
    "duration": 8,
    "start_time": "2022-04-24T07:12:38.661Z"
   },
   {
    "duration": 317,
    "start_time": "2022-04-24T07:12:38.671Z"
   },
   {
    "duration": 791,
    "start_time": "2022-04-24T07:12:38.990Z"
   },
   {
    "duration": 165,
    "start_time": "2022-04-24T07:12:39.785Z"
   },
   {
    "duration": 5,
    "start_time": "2022-04-24T07:12:39.952Z"
   },
   {
    "duration": 237,
    "start_time": "2022-04-24T07:12:39.958Z"
   },
   {
    "duration": 335,
    "start_time": "2022-04-24T07:12:40.196Z"
   },
   {
    "duration": 350,
    "start_time": "2022-04-24T07:12:40.533Z"
   },
   {
    "duration": 465,
    "start_time": "2022-04-24T07:12:40.884Z"
   },
   {
    "duration": 330,
    "start_time": "2022-04-24T07:12:41.351Z"
   },
   {
    "duration": 10,
    "start_time": "2022-04-24T07:12:41.682Z"
   },
   {
    "duration": 9,
    "start_time": "2022-04-24T07:12:41.694Z"
   },
   {
    "duration": 11,
    "start_time": "2022-04-24T07:15:22.619Z"
   },
   {
    "duration": 11,
    "start_time": "2022-04-24T07:15:48.078Z"
   },
   {
    "duration": 1137,
    "start_time": "2022-04-24T07:15:57.718Z"
   },
   {
    "duration": 5,
    "start_time": "2022-04-24T07:15:58.857Z"
   },
   {
    "duration": 96,
    "start_time": "2022-04-24T07:15:58.864Z"
   },
   {
    "duration": 123,
    "start_time": "2022-04-24T07:15:58.961Z"
   },
   {
    "duration": 4,
    "start_time": "2022-04-24T07:15:59.086Z"
   },
   {
    "duration": 13,
    "start_time": "2022-04-24T07:15:59.092Z"
   },
   {
    "duration": 30,
    "start_time": "2022-04-24T07:15:59.107Z"
   },
   {
    "duration": 25,
    "start_time": "2022-04-24T07:15:59.140Z"
   },
   {
    "duration": 14,
    "start_time": "2022-04-24T07:15:59.167Z"
   },
   {
    "duration": 13,
    "start_time": "2022-04-24T07:15:59.185Z"
   },
   {
    "duration": 18,
    "start_time": "2022-04-24T07:15:59.200Z"
   },
   {
    "duration": 31,
    "start_time": "2022-04-24T07:15:59.220Z"
   },
   {
    "duration": 12,
    "start_time": "2022-04-24T07:15:59.252Z"
   },
   {
    "duration": 7,
    "start_time": "2022-04-24T07:15:59.266Z"
   },
   {
    "duration": 9,
    "start_time": "2022-04-24T07:15:59.275Z"
   },
   {
    "duration": 9,
    "start_time": "2022-04-24T07:15:59.286Z"
   },
   {
    "duration": 4,
    "start_time": "2022-04-24T07:15:59.297Z"
   },
   {
    "duration": 5,
    "start_time": "2022-04-24T07:15:59.303Z"
   },
   {
    "duration": 41,
    "start_time": "2022-04-24T07:15:59.310Z"
   },
   {
    "duration": 7,
    "start_time": "2022-04-24T07:15:59.354Z"
   },
   {
    "duration": 5,
    "start_time": "2022-04-24T07:15:59.363Z"
   },
   {
    "duration": 8,
    "start_time": "2022-04-24T07:15:59.369Z"
   },
   {
    "duration": 16,
    "start_time": "2022-04-24T07:15:59.378Z"
   },
   {
    "duration": 6,
    "start_time": "2022-04-24T07:15:59.396Z"
   },
   {
    "duration": 100,
    "start_time": "2022-04-24T07:15:59.403Z"
   },
   {
    "duration": 5,
    "start_time": "2022-04-24T07:15:59.505Z"
   },
   {
    "duration": 573,
    "start_time": "2022-04-24T07:15:59.511Z"
   },
   {
    "duration": 5,
    "start_time": "2022-04-24T07:16:00.089Z"
   },
   {
    "duration": 64,
    "start_time": "2022-04-24T07:16:00.096Z"
   },
   {
    "duration": 541,
    "start_time": "2022-04-24T07:16:00.163Z"
   },
   {
    "duration": 9,
    "start_time": "2022-04-24T07:16:00.706Z"
   },
   {
    "duration": 236,
    "start_time": "2022-04-24T07:16:00.716Z"
   },
   {
    "duration": 71,
    "start_time": "2022-04-24T07:16:00.955Z"
   },
   {
    "duration": 20,
    "start_time": "2022-04-24T07:16:01.029Z"
   },
   {
    "duration": 493,
    "start_time": "2022-04-24T07:16:01.051Z"
   },
   {
    "duration": 366,
    "start_time": "2022-04-24T07:16:01.547Z"
   },
   {
    "duration": 3,
    "start_time": "2022-04-24T07:16:01.916Z"
   },
   {
    "duration": 7,
    "start_time": "2022-04-24T07:16:01.921Z"
   },
   {
    "duration": 323,
    "start_time": "2022-04-24T07:16:01.930Z"
   },
   {
    "duration": 788,
    "start_time": "2022-04-24T07:16:02.254Z"
   },
   {
    "duration": 161,
    "start_time": "2022-04-24T07:16:03.047Z"
   },
   {
    "duration": 6,
    "start_time": "2022-04-24T07:16:03.210Z"
   },
   {
    "duration": 357,
    "start_time": "2022-04-24T07:16:03.218Z"
   },
   {
    "duration": 507,
    "start_time": "2022-04-24T07:16:03.577Z"
   },
   {
    "duration": 535,
    "start_time": "2022-04-24T07:16:04.086Z"
   },
   {
    "duration": 690,
    "start_time": "2022-04-24T07:16:04.623Z"
   },
   {
    "duration": 510,
    "start_time": "2022-04-24T07:16:05.315Z"
   },
   {
    "duration": 24,
    "start_time": "2022-04-24T07:16:05.827Z"
   },
   {
    "duration": 13,
    "start_time": "2022-04-24T07:16:05.853Z"
   },
   {
    "duration": 10,
    "start_time": "2022-04-24T07:20:12.844Z"
   },
   {
    "duration": 1126,
    "start_time": "2022-04-24T07:20:35.246Z"
   },
   {
    "duration": 7,
    "start_time": "2022-04-24T07:20:36.374Z"
   },
   {
    "duration": 130,
    "start_time": "2022-04-24T07:20:36.382Z"
   },
   {
    "duration": 76,
    "start_time": "2022-04-24T07:20:36.514Z"
   },
   {
    "duration": 3,
    "start_time": "2022-04-24T07:20:36.593Z"
   },
   {
    "duration": 9,
    "start_time": "2022-04-24T07:20:36.598Z"
   },
   {
    "duration": 14,
    "start_time": "2022-04-24T07:20:36.609Z"
   },
   {
    "duration": 24,
    "start_time": "2022-04-24T07:20:36.625Z"
   },
   {
    "duration": 9,
    "start_time": "2022-04-24T07:20:36.651Z"
   },
   {
    "duration": 14,
    "start_time": "2022-04-24T07:20:36.662Z"
   },
   {
    "duration": 17,
    "start_time": "2022-04-24T07:20:36.677Z"
   },
   {
    "duration": 8,
    "start_time": "2022-04-24T07:20:36.696Z"
   },
   {
    "duration": 9,
    "start_time": "2022-04-24T07:20:36.706Z"
   },
   {
    "duration": 7,
    "start_time": "2022-04-24T07:20:36.747Z"
   },
   {
    "duration": 10,
    "start_time": "2022-04-24T07:20:36.756Z"
   },
   {
    "duration": 5,
    "start_time": "2022-04-24T07:20:36.767Z"
   },
   {
    "duration": 8,
    "start_time": "2022-04-24T07:20:36.773Z"
   },
   {
    "duration": 6,
    "start_time": "2022-04-24T07:20:36.783Z"
   },
   {
    "duration": 10,
    "start_time": "2022-04-24T07:20:36.790Z"
   },
   {
    "duration": 7,
    "start_time": "2022-04-24T07:20:36.802Z"
   },
   {
    "duration": 3,
    "start_time": "2022-04-24T07:20:36.811Z"
   },
   {
    "duration": 5,
    "start_time": "2022-04-24T07:20:36.848Z"
   },
   {
    "duration": 16,
    "start_time": "2022-04-24T07:20:36.854Z"
   },
   {
    "duration": 5,
    "start_time": "2022-04-24T07:20:36.871Z"
   },
   {
    "duration": 83,
    "start_time": "2022-04-24T07:20:36.878Z"
   },
   {
    "duration": 5,
    "start_time": "2022-04-24T07:20:36.963Z"
   },
   {
    "duration": 380,
    "start_time": "2022-04-24T07:20:36.969Z"
   },
   {
    "duration": 4,
    "start_time": "2022-04-24T07:20:37.351Z"
   },
   {
    "duration": 38,
    "start_time": "2022-04-24T07:20:37.356Z"
   },
   {
    "duration": 357,
    "start_time": "2022-04-24T07:20:37.395Z"
   },
   {
    "duration": 7,
    "start_time": "2022-04-24T07:20:37.755Z"
   },
   {
    "duration": 159,
    "start_time": "2022-04-24T07:20:37.763Z"
   },
   {
    "duration": 56,
    "start_time": "2022-04-24T07:20:37.924Z"
   },
   {
    "duration": 6,
    "start_time": "2022-04-24T07:20:37.981Z"
   },
   {
    "duration": 328,
    "start_time": "2022-04-24T07:20:37.988Z"
   },
   {
    "duration": 343,
    "start_time": "2022-04-24T07:20:38.318Z"
   },
   {
    "duration": 3,
    "start_time": "2022-04-24T07:20:38.663Z"
   },
   {
    "duration": 7,
    "start_time": "2022-04-24T07:20:38.668Z"
   },
   {
    "duration": 323,
    "start_time": "2022-04-24T07:20:38.676Z"
   },
   {
    "duration": 753,
    "start_time": "2022-04-24T07:20:39.001Z"
   },
   {
    "duration": 155,
    "start_time": "2022-04-24T07:20:39.758Z"
   },
   {
    "duration": 5,
    "start_time": "2022-04-24T07:20:39.915Z"
   },
   {
    "duration": 234,
    "start_time": "2022-04-24T07:20:39.921Z"
   },
   {
    "duration": 316,
    "start_time": "2022-04-24T07:20:40.157Z"
   },
   {
    "duration": 342,
    "start_time": "2022-04-24T07:20:40.475Z"
   },
   {
    "duration": 443,
    "start_time": "2022-04-24T07:20:40.819Z"
   },
   {
    "duration": 319,
    "start_time": "2022-04-24T07:20:41.264Z"
   },
   {
    "duration": 9,
    "start_time": "2022-04-24T07:20:41.584Z"
   },
   {
    "duration": 13,
    "start_time": "2022-04-24T07:20:41.595Z"
   },
   {
    "duration": 1426,
    "start_time": "2022-04-25T11:48:52.254Z"
   },
   {
    "duration": 6,
    "start_time": "2022-04-25T11:48:53.682Z"
   },
   {
    "duration": 116,
    "start_time": "2022-04-25T11:48:53.690Z"
   },
   {
    "duration": 89,
    "start_time": "2022-04-25T11:48:53.808Z"
   },
   {
    "duration": 3,
    "start_time": "2022-04-25T11:48:53.899Z"
   },
   {
    "duration": 18,
    "start_time": "2022-04-25T11:48:53.904Z"
   },
   {
    "duration": 16,
    "start_time": "2022-04-25T11:48:53.924Z"
   },
   {
    "duration": 14,
    "start_time": "2022-04-25T11:48:53.943Z"
   },
   {
    "duration": 12,
    "start_time": "2022-04-25T11:48:53.960Z"
   },
   {
    "duration": 16,
    "start_time": "2022-04-25T11:48:53.976Z"
   },
   {
    "duration": 47,
    "start_time": "2022-04-25T11:48:53.995Z"
   },
   {
    "duration": 10,
    "start_time": "2022-04-25T11:48:54.045Z"
   },
   {
    "duration": 24,
    "start_time": "2022-04-25T11:48:54.057Z"
   },
   {
    "duration": 13,
    "start_time": "2022-04-25T11:48:54.083Z"
   },
   {
    "duration": 9,
    "start_time": "2022-04-25T11:48:54.098Z"
   },
   {
    "duration": 25,
    "start_time": "2022-04-25T11:48:54.109Z"
   },
   {
    "duration": 5,
    "start_time": "2022-04-25T11:48:54.136Z"
   },
   {
    "duration": 12,
    "start_time": "2022-04-25T11:48:54.143Z"
   },
   {
    "duration": 25,
    "start_time": "2022-04-25T11:48:54.156Z"
   },
   {
    "duration": 18,
    "start_time": "2022-04-25T11:48:54.183Z"
   },
   {
    "duration": 8,
    "start_time": "2022-04-25T11:48:54.203Z"
   },
   {
    "duration": 24,
    "start_time": "2022-04-25T11:48:54.212Z"
   },
   {
    "duration": 19,
    "start_time": "2022-04-25T11:48:54.238Z"
   },
   {
    "duration": 8,
    "start_time": "2022-04-25T11:48:54.259Z"
   },
   {
    "duration": 94,
    "start_time": "2022-04-25T11:48:54.268Z"
   },
   {
    "duration": 6,
    "start_time": "2022-04-25T11:48:54.364Z"
   },
   {
    "duration": 443,
    "start_time": "2022-04-25T11:48:54.372Z"
   },
   {
    "duration": 3,
    "start_time": "2022-04-25T11:48:54.819Z"
   },
   {
    "duration": 37,
    "start_time": "2022-04-25T11:48:54.833Z"
   },
   {
    "duration": 428,
    "start_time": "2022-04-25T11:48:54.872Z"
   },
   {
    "duration": 8,
    "start_time": "2022-04-25T11:48:55.302Z"
   },
   {
    "duration": 194,
    "start_time": "2022-04-25T11:48:55.312Z"
   },
   {
    "duration": 67,
    "start_time": "2022-04-25T11:48:55.508Z"
   },
   {
    "duration": 6,
    "start_time": "2022-04-25T11:48:55.578Z"
   },
   {
    "duration": 379,
    "start_time": "2022-04-25T11:48:55.587Z"
   },
   {
    "duration": 433,
    "start_time": "2022-04-25T11:48:55.968Z"
   },
   {
    "duration": 3,
    "start_time": "2022-04-25T11:48:56.403Z"
   },
   {
    "duration": 11,
    "start_time": "2022-04-25T11:48:56.408Z"
   },
   {
    "duration": 368,
    "start_time": "2022-04-25T11:48:56.421Z"
   },
   {
    "duration": 916,
    "start_time": "2022-04-25T11:48:56.791Z"
   },
   {
    "duration": 179,
    "start_time": "2022-04-25T11:48:57.709Z"
   },
   {
    "duration": 6,
    "start_time": "2022-04-25T11:48:57.890Z"
   },
   {
    "duration": 287,
    "start_time": "2022-04-25T11:48:57.898Z"
   },
   {
    "duration": 385,
    "start_time": "2022-04-25T11:48:58.187Z"
   },
   {
    "duration": 410,
    "start_time": "2022-04-25T11:48:58.574Z"
   },
   {
    "duration": 518,
    "start_time": "2022-04-25T11:48:58.987Z"
   },
   {
    "duration": 382,
    "start_time": "2022-04-25T11:48:59.507Z"
   },
   {
    "duration": 13,
    "start_time": "2022-04-25T11:48:59.891Z"
   },
   {
    "duration": 29,
    "start_time": "2022-04-25T11:48:59.906Z"
   },
   {
    "duration": 933,
    "start_time": "2022-04-25T11:50:11.975Z"
   },
   {
    "duration": 382,
    "start_time": "2022-04-25T11:55:00.801Z"
   },
   {
    "duration": 335,
    "start_time": "2022-04-25T11:56:10.069Z"
   },
   {
    "duration": 137,
    "start_time": "2022-04-25T11:56:49.104Z"
   },
   {
    "duration": 306,
    "start_time": "2022-04-25T11:57:13.300Z"
   },
   {
    "duration": 296,
    "start_time": "2022-04-25T11:59:35.957Z"
   },
   {
    "duration": 210,
    "start_time": "2022-04-25T12:00:02.763Z"
   },
   {
    "duration": 456,
    "start_time": "2022-04-25T12:00:13.401Z"
   },
   {
    "duration": 228,
    "start_time": "2022-04-25T12:02:02.511Z"
   },
   {
    "duration": 427,
    "start_time": "2022-04-25T12:02:11.547Z"
   },
   {
    "duration": 238,
    "start_time": "2022-04-25T12:03:04.900Z"
   },
   {
    "duration": 373,
    "start_time": "2022-04-25T12:03:13.105Z"
   },
   {
    "duration": 238,
    "start_time": "2022-04-25T12:03:20.307Z"
   },
   {
    "duration": 350,
    "start_time": "2022-04-25T12:03:37.275Z"
   },
   {
    "duration": 328,
    "start_time": "2022-04-25T12:03:43.315Z"
   },
   {
    "duration": 12,
    "start_time": "2022-04-25T12:08:17.363Z"
   },
   {
    "duration": 12,
    "start_time": "2022-04-25T12:09:49.865Z"
   },
   {
    "duration": 12,
    "start_time": "2022-04-25T12:10:01.605Z"
   },
   {
    "duration": 10,
    "start_time": "2022-04-25T12:25:12.357Z"
   },
   {
    "duration": 12,
    "start_time": "2022-04-25T12:26:03.680Z"
   },
   {
    "duration": 1290,
    "start_time": "2022-04-25T12:27:49.577Z"
   },
   {
    "duration": 6,
    "start_time": "2022-04-25T12:27:50.869Z"
   },
   {
    "duration": 127,
    "start_time": "2022-04-25T12:27:50.877Z"
   },
   {
    "duration": 94,
    "start_time": "2022-04-25T12:27:51.006Z"
   },
   {
    "duration": 3,
    "start_time": "2022-04-25T12:27:51.102Z"
   },
   {
    "duration": 10,
    "start_time": "2022-04-25T12:27:51.107Z"
   },
   {
    "duration": 31,
    "start_time": "2022-04-25T12:27:51.118Z"
   },
   {
    "duration": 12,
    "start_time": "2022-04-25T12:27:51.151Z"
   },
   {
    "duration": 10,
    "start_time": "2022-04-25T12:27:51.164Z"
   },
   {
    "duration": 13,
    "start_time": "2022-04-25T12:27:51.178Z"
   },
   {
    "duration": 54,
    "start_time": "2022-04-25T12:27:51.193Z"
   },
   {
    "duration": 9,
    "start_time": "2022-04-25T12:27:51.250Z"
   },
   {
    "duration": 13,
    "start_time": "2022-04-25T12:27:51.261Z"
   },
   {
    "duration": 10,
    "start_time": "2022-04-25T12:27:51.276Z"
   },
   {
    "duration": 10,
    "start_time": "2022-04-25T12:27:51.287Z"
   },
   {
    "duration": 7,
    "start_time": "2022-04-25T12:27:51.299Z"
   },
   {
    "duration": 8,
    "start_time": "2022-04-25T12:27:51.308Z"
   },
   {
    "duration": 30,
    "start_time": "2022-04-25T12:27:51.318Z"
   },
   {
    "duration": 17,
    "start_time": "2022-04-25T12:27:51.349Z"
   },
   {
    "duration": 10,
    "start_time": "2022-04-25T12:27:51.368Z"
   },
   {
    "duration": 8,
    "start_time": "2022-04-25T12:27:51.380Z"
   },
   {
    "duration": 11,
    "start_time": "2022-04-25T12:27:51.390Z"
   },
   {
    "duration": 19,
    "start_time": "2022-04-25T12:27:51.403Z"
   },
   {
    "duration": 24,
    "start_time": "2022-04-25T12:27:51.424Z"
   },
   {
    "duration": 103,
    "start_time": "2022-04-25T12:27:51.450Z"
   },
   {
    "duration": 5,
    "start_time": "2022-04-25T12:27:51.554Z"
   },
   {
    "duration": 500,
    "start_time": "2022-04-25T12:27:51.562Z"
   },
   {
    "duration": 4,
    "start_time": "2022-04-25T12:27:52.065Z"
   },
   {
    "duration": 41,
    "start_time": "2022-04-25T12:27:52.070Z"
   },
   {
    "duration": 471,
    "start_time": "2022-04-25T12:27:52.113Z"
   },
   {
    "duration": 7,
    "start_time": "2022-04-25T12:27:52.585Z"
   },
   {
    "duration": 190,
    "start_time": "2022-04-25T12:27:52.593Z"
   },
   {
    "duration": 59,
    "start_time": "2022-04-25T12:27:52.785Z"
   },
   {
    "duration": 6,
    "start_time": "2022-04-25T12:27:52.847Z"
   },
   {
    "duration": 419,
    "start_time": "2022-04-25T12:27:52.854Z"
   },
   {
    "duration": 437,
    "start_time": "2022-04-25T12:27:53.275Z"
   },
   {
    "duration": 3,
    "start_time": "2022-04-25T12:27:53.714Z"
   },
   {
    "duration": 26,
    "start_time": "2022-04-25T12:27:53.718Z"
   },
   {
    "duration": 365,
    "start_time": "2022-04-25T12:27:53.747Z"
   },
   {
    "duration": 957,
    "start_time": "2022-04-25T12:27:54.113Z"
   },
   {
    "duration": 198,
    "start_time": "2022-04-25T12:27:55.071Z"
   },
   {
    "duration": 5,
    "start_time": "2022-04-25T12:27:55.271Z"
   },
   {
    "duration": 308,
    "start_time": "2022-04-25T12:27:55.278Z"
   },
   {
    "duration": 348,
    "start_time": "2022-04-25T12:27:55.588Z"
   },
   {
    "duration": 432,
    "start_time": "2022-04-25T12:27:55.938Z"
   },
   {
    "duration": 555,
    "start_time": "2022-04-25T12:27:56.372Z"
   },
   {
    "duration": 471,
    "start_time": "2022-04-25T12:27:56.933Z"
   },
   {
    "duration": 413,
    "start_time": "2022-04-25T12:27:57.406Z"
   },
   {
    "duration": 12,
    "start_time": "2022-04-25T12:27:57.821Z"
   },
   {
    "duration": 24,
    "start_time": "2022-04-25T12:27:57.836Z"
   },
   {
    "duration": 1481,
    "start_time": "2022-04-25T23:19:18.203Z"
   },
   {
    "duration": 6,
    "start_time": "2022-04-25T23:19:19.687Z"
   },
   {
    "duration": 162,
    "start_time": "2022-04-25T23:19:19.695Z"
   },
   {
    "duration": 107,
    "start_time": "2022-04-25T23:19:19.859Z"
   },
   {
    "duration": 4,
    "start_time": "2022-04-25T23:19:19.968Z"
   },
   {
    "duration": 11,
    "start_time": "2022-04-25T23:19:19.974Z"
   },
   {
    "duration": 12,
    "start_time": "2022-04-25T23:19:19.987Z"
   },
   {
    "duration": 33,
    "start_time": "2022-04-25T23:19:20.001Z"
   },
   {
    "duration": 11,
    "start_time": "2022-04-25T23:19:20.037Z"
   },
   {
    "duration": 17,
    "start_time": "2022-04-25T23:19:20.051Z"
   },
   {
    "duration": 22,
    "start_time": "2022-04-25T23:19:20.070Z"
   },
   {
    "duration": 8,
    "start_time": "2022-04-25T23:19:20.094Z"
   },
   {
    "duration": 36,
    "start_time": "2022-04-25T23:19:20.104Z"
   },
   {
    "duration": 6,
    "start_time": "2022-04-25T23:19:20.142Z"
   },
   {
    "duration": 8,
    "start_time": "2022-04-25T23:19:20.150Z"
   },
   {
    "duration": 10,
    "start_time": "2022-04-25T23:19:20.159Z"
   },
   {
    "duration": 8,
    "start_time": "2022-04-25T23:19:20.170Z"
   },
   {
    "duration": 6,
    "start_time": "2022-04-25T23:19:20.180Z"
   },
   {
    "duration": 12,
    "start_time": "2022-04-25T23:19:20.188Z"
   },
   {
    "duration": 10,
    "start_time": "2022-04-25T23:19:20.202Z"
   },
   {
    "duration": 4,
    "start_time": "2022-04-25T23:19:20.233Z"
   },
   {
    "duration": 11,
    "start_time": "2022-04-25T23:19:20.239Z"
   },
   {
    "duration": 18,
    "start_time": "2022-04-25T23:19:20.252Z"
   },
   {
    "duration": 6,
    "start_time": "2022-04-25T23:19:20.272Z"
   },
   {
    "duration": 93,
    "start_time": "2022-04-25T23:19:20.280Z"
   },
   {
    "duration": 5,
    "start_time": "2022-04-25T23:19:20.374Z"
   },
   {
    "duration": 445,
    "start_time": "2022-04-25T23:19:20.381Z"
   },
   {
    "duration": 5,
    "start_time": "2022-04-25T23:19:20.829Z"
   },
   {
    "duration": 38,
    "start_time": "2022-04-25T23:19:20.836Z"
   },
   {
    "duration": 424,
    "start_time": "2022-04-25T23:19:20.876Z"
   },
   {
    "duration": 6,
    "start_time": "2022-04-25T23:19:21.302Z"
   },
   {
    "duration": 182,
    "start_time": "2022-04-25T23:19:21.310Z"
   },
   {
    "duration": 64,
    "start_time": "2022-04-25T23:19:21.493Z"
   },
   {
    "duration": 5,
    "start_time": "2022-04-25T23:19:21.559Z"
   },
   {
    "duration": 376,
    "start_time": "2022-04-25T23:19:21.566Z"
   },
   {
    "duration": 422,
    "start_time": "2022-04-25T23:19:21.944Z"
   },
   {
    "duration": 3,
    "start_time": "2022-04-25T23:19:22.369Z"
   },
   {
    "duration": 9,
    "start_time": "2022-04-25T23:19:22.373Z"
   },
   {
    "duration": 367,
    "start_time": "2022-04-25T23:19:22.384Z"
   },
   {
    "duration": 884,
    "start_time": "2022-04-25T23:19:22.752Z"
   },
   {
    "duration": 177,
    "start_time": "2022-04-25T23:19:23.638Z"
   },
   {
    "duration": 6,
    "start_time": "2022-04-25T23:19:23.817Z"
   },
   {
    "duration": 283,
    "start_time": "2022-04-25T23:19:23.833Z"
   },
   {
    "duration": 409,
    "start_time": "2022-04-25T23:19:24.118Z"
   },
   {
    "duration": 388,
    "start_time": "2022-04-25T23:19:24.533Z"
   },
   {
    "duration": 525,
    "start_time": "2022-04-25T23:19:24.923Z"
   },
   {
    "duration": 424,
    "start_time": "2022-04-25T23:19:25.450Z"
   },
   {
    "duration": 383,
    "start_time": "2022-04-25T23:19:25.876Z"
   },
   {
    "duration": 10,
    "start_time": "2022-04-25T23:19:26.261Z"
   },
   {
    "duration": 15,
    "start_time": "2022-04-25T23:19:26.273Z"
   }
  ],
  "kernelspec": {
   "display_name": "Python 3 (ipykernel)",
   "language": "python",
   "name": "python3"
  },
  "language_info": {
   "codemirror_mode": {
    "name": "ipython",
    "version": 3
   },
   "file_extension": ".py",
   "mimetype": "text/x-python",
   "name": "python",
   "nbconvert_exporter": "python",
   "pygments_lexer": "ipython3",
   "version": "3.9.7"
  },
  "toc": {
   "base_numbering": 1,
   "nav_menu": {},
   "number_sections": true,
   "sideBar": true,
   "skip_h1_title": true,
   "title_cell": "Содержание",
   "title_sidebar": "Contents",
   "toc_cell": true,
   "toc_position": {
    "height": "calc(100% - 180px)",
    "left": "10px",
    "top": "150px",
    "width": "303.833px"
   },
   "toc_section_display": true,
   "toc_window_display": true
  }
 },
 "nbformat": 4,
 "nbformat_minor": 5
}
